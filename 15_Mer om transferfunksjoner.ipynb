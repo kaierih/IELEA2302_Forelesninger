{
 "cells": [
  {
   "cell_type": "code",
   "execution_count": 13,
   "metadata": {
    "slideshow": {
     "slide_type": "skip"
    }
   },
   "outputs": [],
   "source": [
    "# Generelle moduler og funksjonsbeskrivelser brukt i forelesningen\n",
    "from numpy import sin, cos, pi, exp\n",
    "import numpy as np\n",
    "import scipy.signal as sig\n",
    "import matplotlib.pyplot as plt\n",
    "from Kildekode._14_Z_transformasjon import *\n",
    "\n",
    "%matplotlib ipympl\n",
    "\n",
    "def MagnitudePlot(b, a):\n",
    "    w, Hw = sig.freqz(b, a, worN=509, whole=True)\n",
    "\n",
    "    plt.plot(w, np.abs(Hw))\n",
    "    plt.grid(True)\n",
    "    plt.ylim(ymin=0)\n",
    "    plt.xlim([0, np.pi])\n",
    "    plt.title('Amplituderespons')\n",
    "    plt.xticks(np.linspace(0, 1, 5)*np.pi, [r'$'+str(round(i,2))+'\\pi$' for i in np.linspace(0, 1, 5)])\n",
    "    plt.xlabel(r'Digital Frekvens$\\hat{\\omega}$')\n",
    "    plt.ylabel(r'$\\left|H\\left(e^{j\\hat{\\omega}}\\right)\\right|$')\n",
    "    \n",
    "def PhasePlot(b, a):\n",
    "    w, Hw = sig.freqz(b, a, worN=509, whole=True)\n",
    "\n",
    "    plt.plot(w, np.unwrap(np.angle(Hw)))\n",
    "    plt.grid(True)\n",
    "    plt.ylim([-np.pi, np.pi])\n",
    "    plt.xlim([0, np.pi])\n",
    "    plt.title('Faserespons')\n",
    "    plt.yticks(np.linspace(-1, 1, 5)*np.pi, [r'$'+str(round(i,2))+'\\pi$' for i in np.linspace(0, 1, 5)])\n",
    "    plt.xticks(np.linspace(0, 1, 5)*np.pi, [r'$'+str(round(i,2))+'\\pi$' for i in np.linspace(0, 1, 5)])\n",
    "    plt.xlabel(r'Digital Frekvens$\\hat{\\omega}$')\n",
    "    plt.ylabel(r'$\\angle H\\left(e^{j\\hat{\\omega}}\\right)$')"
   ]
  },
  {
   "cell_type": "markdown",
   "metadata": {
    "slideshow": {
     "slide_type": "slide"
    }
   },
   "source": [
    "<img src=\"NTNU_Logo.png\" align=\"left\" style=\"width: 30%\">\n",
    "<br clear=\"all\" />\n",
    "<br></br>\n",
    "\n",
    "# Mer om transferfunksjoner\n",
    "\n",
    "* **Emne IELEA2302 - Signalbehandling**\n",
    "* **Uke 15, 2021**\n",
    "* **Underviser: Kai Erik Hoff**"
   ]
  },
  {
   "cell_type": "markdown",
   "metadata": {
    "slideshow": {
     "slide_type": "slide"
    }
   },
   "source": [
    "# Tema:\n",
    "\n",
    "* Repetisjon poler og nullpunkt.\n",
    "* Invers z-transformasjon\n",
    "* Inversfiltre\n",
    "* Filtertransformasjoner\n",
    "* Kamfiltre"
   ]
  },
  {
   "cell_type": "code",
   "execution_count": null,
   "metadata": {},
   "outputs": [],
   "source": []
  },
  {
   "cell_type": "markdown",
   "metadata": {
    "slideshow": {
     "slide_type": "slide"
    }
   },
   "source": [
    "# Digitale filtre i tre domener\n",
    "* Filterkoeffisienten $b_k$ og $a_k$ sentrale for å beskrive filteret i alle tre domener.\n",
    "\n",
    "#### Tidsdomenet / $n$-domenet\n",
    "* Kalkulering av utgangssignal $y[n]$ gitt input-signal $x[n]$.\n",
    "\n",
    "#### Frekvensdomenet $H\\left(e^{j\\hat{\\omega}}\\right)$\n",
    "* Frekvensegenskaper til filteret\n",
    "\n",
    "#### Z-domenet $H(z)$\n",
    "* Pol- og Nullpunktsanalyse\n",
    "* Filterdesign"
   ]
  },
  {
   "cell_type": "markdown",
   "metadata": {
    "slideshow": {
     "slide_type": "slide"
    }
   },
   "source": [
    "# Invers Z-transformasjon\n",
    "\n",
    "* Transformasjon av et funksjonsuttrykk i z-domenet tilbake til n-domenet\n",
    "* Aktuelt for å finne f.eks. impulsresponsen $h[n]$ gitt en transferfunksjon $H(z)$\n",
    "$$Z^{-1}\\left(Hz(z)\\right) = h[n]$$\n",
    "* Involverer omregning for å uttrykke $H(z)$ som en kombinasjon av kjente transformasjonspar.\n",
    "    * Noen matematiske verktøy:\n",
    "        * Delbrøkoppspalting\n",
    "        * Polynomdivisjon\n",
    "        * Tidsforskyvning i z-planet"
   ]
  },
  {
   "cell_type": "markdown",
   "metadata": {
    "slideshow": {
     "slide_type": "slide"
    }
   },
   "source": [
    "# Vanlige Z-transformasjonspar\n",
    "<img src=\"Figurer/15_TF2/Fig1_ZtransPairs.png\" style=\"width: 80%; margin-left: 50px\" />"
   ]
  },
  {
   "cell_type": "markdown",
   "metadata": {
    "slideshow": {
     "slide_type": "slide"
    }
   },
   "source": [
    "# Z-transformasjon egenskaper\n",
    "<img src=\"Figurer/15_TF2/Fig2_ZtransProps.png\" style=\"width: 80%; margin-left: 50px\" />"
   ]
  },
  {
   "cell_type": "markdown",
   "metadata": {
    "slideshow": {
     "slide_type": "slide"
    }
   },
   "source": [
    "# Delbrøkoppspalting\n",
    "<img src=\"Figurer/15_TF2/Fig3_Delbrok.png\" style=\"width: 80%; margin-left: 50px\" />"
   ]
  },
  {
   "cell_type": "markdown",
   "metadata": {
    "slideshow": {
     "slide_type": "slide"
    }
   },
   "source": [
    "# Polynomdivisjon\n",
    "* $h[n]$ kan regnes ut sample for sample ved hjelp av polynomdivisjon.\n",
    "<img src=\"Figurer/15_TF2/Fig4_LongDivision.png\" style=\"width: 60%; margin-left: 150px\" />"
   ]
  },
  {
   "cell_type": "markdown",
   "metadata": {
    "slideshow": {
     "slide_type": "slide"
    }
   },
   "source": [
    "# Inversfiltre/Rekonstruksjonsfiltre\n",
    "\n",
    "* For et filter med transferfunksjon $H(z)$ kan det finnes et inversfilter $H^{-1}(z)= \\frac{1}{H(z)}$.\n",
    "* $H(z)$ og $ H^{-1}(z)$ i kaskade kansellerer hverandre.\n",
    "* Forutsetter at både $H(z)$ og $H^{-1}(z)$ er stabile.\n",
    "<img src=\"Figurer/15_TF2/Fig5_Reconstruction.png\" style=\"width: 60%; margin-left: 150px\" />\n",
    "* Ofte referert til som rekonstruksjonsfilter.\n",
    "* Grunnlag for konsept som ekkokansellering m.m."
   ]
  },
  {
   "cell_type": "markdown",
   "metadata": {},
   "source": [
    "## Regneeksempel 2:\n",
    "* Et lydopptak av en piano-solo utføres i et rom med ekko. Ved hjelp av akustiske målinger finner vi ut at den samplede impulsresponsen i rommet er: \n",
    "$$h[n] = \\{0.8, 0.2, 0.6, 0.15, 0.45, 0.05\\}$$\n",
    "* Finn et filter som kan motvirke ekkoet, og gjengi den originale lyden."
   ]
  },
  {
   "cell_type": "markdown",
   "metadata": {
    "slideshow": {
     "slide_type": "slide"
    }
   },
   "source": [
    "## Kodeeksempel: Frekvensrespons inversfiltre"
   ]
  },
  {
   "cell_type": "code",
   "execution_count": 16,
   "metadata": {
    "slideshow": {
     "slide_type": "fragment"
    }
   },
   "outputs": [
    {
     "data": {
      "application/vnd.jupyter.widget-view+json": {
       "model_id": "24a430871f1b40f0920d808800e52b6d",
       "version_major": 2,
       "version_minor": 0
      },
      "text/plain": [
       "Canvas(toolbar=Toolbar(toolitems=[('Home', 'Reset original view', 'home', 'home'), ('Back', 'Back to previous …"
      ]
     },
     "metadata": {},
     "output_type": "display_data"
    }
   ],
   "source": [
    "b = np.array([0.8,0.2,0.6,0.15,0.45,0.05])\n",
    "a = np.array([1])\n",
    "\n",
    "plt.close(1); plt.figure(1)\n",
    "plt.subplot(2,2,1)\n",
    "MagnitudePlot(b,a)\n",
    "plt.subplot(2,2,3)\n",
    "PhasePlot(b,a)\n",
    "plt.subplot(2,2,2)\n",
    "MagnitudePlot(a,b)\n",
    "plt.subplot(2,2,4)\n",
    "PhasePlot(a,b)\n",
    "plt.tight_layout(pad=0.4, w_pad=1.0, h_pad=1.0)"
   ]
  },
  {
   "cell_type": "markdown",
   "metadata": {
    "slideshow": {
     "slide_type": "slide"
    }
   },
   "source": [
    "# Frekvenstransformasjon\n",
    "\n",
    "* FIR filtre kan enkelt modifiseres med modulasjo ($h_{HP}[n]=h_{LP}[n]\\cdot (-1)^n$).\n",
    "    * Veldig lett når filterkoeffisientene $b_k$ korresponderer med impulsresponsen $h[n]$.\n",
    "* Tilsvarer $\\pi$ radianer rotasjon av pol- og nullpunktskartet rundt $z=0$.\n",
    "<img src=\"Figurer/15_TF2/Fig6_LP2HP.png\" style=\"width: 90%; margin-left: 50px\" />"
   ]
  },
  {
   "cell_type": "markdown",
   "metadata": {
    "slideshow": {
     "slide_type": "slide"
    }
   },
   "source": [
    "# Digital Frekvenstransformasjon\n",
    "\n",
    "<img src=\"Figurer/15_TF2/Fig7_FreqTrans1.png\" style=\"width: 90%; margin-left: 50px\" />"
   ]
  },
  {
   "cell_type": "markdown",
   "metadata": {
    "slideshow": {
     "slide_type": "slide"
    }
   },
   "source": [
    "# Digital frekvenstransformasjon\n",
    "\n",
    "<img src=\"Figurer/15_TF2/Fig8_FreqTrans2.png\" style=\"width: 90%; margin-left: 50px\" />"
   ]
  },
  {
   "cell_type": "markdown",
   "metadata": {
    "slideshow": {
     "slide_type": "slide"
    }
   },
   "source": [
    "# Båndpassfiltre\n",
    "\n",
    "* Modulasjonsegenskapen kan ikke brukes på samme måte som for IIR filter\n",
    "* Enkleste måte å lage et båndpassfilter er å kombinere høypass og lavpassfilter i kaskade.\n",
    "    - Forutsetter at både lavpassfilter og høypassfilter har et overlappende passbånd.\n",
    "<img src=\"Figurer/15_TF2/Fig9_Cascade.png\" style=\"width: 90%; margin-left: 50px\" />"
   ]
  },
  {
   "attachments": {},
   "cell_type": "markdown",
   "metadata": {
    "slideshow": {
     "slide_type": "slide"
    }
   },
   "source": [
    "# Båndstoppfiltre\n",
    "* Et båndstoppfilter kan enklest lages ved å koble to filtre i parallell.\n",
    "<img src=\"Figurer/15_TF2/Fig10_Parallel.png\" style=\"width: 90%; margin-left: 50px\" />"
   ]
  },
  {
   "cell_type": "markdown",
   "metadata": {
    "slideshow": {
     "slide_type": "slide"
    }
   },
   "source": [
    "## Kodeeksmepel 2: manuelt design av båndpassfilter\n",
    "* Bruk lavpassfilteret utregnet nedenfor til å laget et båndpassfilter."
   ]
  },
  {
   "cell_type": "code",
   "execution_count": 24,
   "metadata": {
    "slideshow": {
     "slide_type": "fragment"
    }
   },
   "outputs": [
    {
     "data": {
      "application/vnd.jupyter.widget-view+json": {
       "model_id": "f2b439d2841c4e2cb6d37fa098529934",
       "version_major": 2,
       "version_minor": 0
      },
      "text/plain": [
       "Canvas(toolbar=Toolbar(toolitems=[('Home', 'Reset original view', 'home', 'home'), ('Back', 'Back to previous …"
      ]
     },
     "metadata": {},
     "output_type": "display_data"
    },
    {
     "data": {
      "text/plain": [
       "(-80.0, 5.550170811635238)"
      ]
     },
     "execution_count": 24,
     "metadata": {},
     "output_type": "execute_result"
    }
   ],
   "source": [
    "b, a = sig.ellip(6, 1, 60, 0.7)\n",
    "plt.close(2);plt.figure(2)\n",
    "Magnitude_dB(b, a)\n",
    "plt.ylim(ymin=-80)"
   ]
  },
  {
   "cell_type": "markdown",
   "metadata": {
    "slideshow": {
     "slide_type": "slide"
    }
   },
   "source": [
    "# Kamfiltre\n",
    "\n",
    "* Filtre som kansellerer eller forsterker frekvenskomponenter ved jevne frekvensintervall.\n",
    "* FIR eksempel:\n",
    "$$ y[n] = x[n]+x[n-8]$$\n",
    "    med nullpunkt i $z= \\sqrt[8]{-1}$. \n",
    "* IIR eksempel:\n",
    "$$ y[n] = x[n] - 0.9\\cdot y[n-8]$$\n",
    "    med poler i $z=\\sqrt[8]{-0.9}$. "
   ]
  },
  {
   "cell_type": "markdown",
   "metadata": {
    "slideshow": {
     "slide_type": "slide"
    }
   },
   "source": [
    "## Kodeeksempel 3: kamfiltre"
   ]
  },
  {
   "cell_type": "code",
   "execution_count": null,
   "metadata": {
    "slideshow": {
     "slide_type": "fragment"
    }
   },
   "outputs": [],
   "source": []
  },
  {
   "cell_type": "markdown",
   "metadata": {
    "slideshow": {
     "slide_type": "slide"
    }
   },
   "source": [
    "## Regneeksempel 3: \n",
    "\n",
    "* Finn polene og nullpunktene til filteret. Er dette en type filter vi kjenner til?\n",
    "\n",
    "<img src=\"Figurer/15_TF2/Fig11_CIC.png\" style=\"width: 60%; margin-left: 50px\" />"
   ]
  },
  {
   "cell_type": "markdown",
   "metadata": {
    "slideshow": {
     "slide_type": "slide"
    }
   },
   "source": [
    "# Neste uke\n",
    "#### Tirsdag\n",
    "* Digital Forelesning\n",
    "* Tverrfaglig tema: *diskretisering av transferfunksjoner i s-planet. (Reguleringsteknikk)*  \n",
    "* Tverrfaglig tema: *Fra blokkskjema til programkode. (Datateknikk)*\n",
    "\n",
    "#### Fredag\n",
    "* Hybridforelesning i Naftadjupet\n",
    "* Tema: Repetisjon etter forespørsel"
   ]
  }
 ],
 "metadata": {
  "celltoolbar": "Slideshow",
  "kernelspec": {
   "display_name": "Python 3",
   "language": "python",
   "name": "python3"
  },
  "language_info": {
   "codemirror_mode": {
    "name": "ipython",
    "version": 3
   },
   "file_extension": ".py",
   "mimetype": "text/x-python",
   "name": "python",
   "nbconvert_exporter": "python",
   "pygments_lexer": "ipython3",
   "version": "3.8.5"
  }
 },
 "nbformat": 4,
 "nbformat_minor": 4
}
