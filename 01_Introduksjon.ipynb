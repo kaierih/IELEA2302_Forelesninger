{
 "cells": [
  {
   "cell_type": "markdown",
   "metadata": {
    "slideshow": {
     "slide_type": "slide"
    }
   },
   "source": [
    "<img src=\"NTNU_Logo.png\" align=\"left\" style=\"width: 30%\">\n",
    "<br clear=\"all\" />\n",
    "<br></br>\n",
    "\n",
    "# Introduksjon\n",
    "\n",
    "* **Emne IELEA2302 - Signalbehandling**\n",
    "* **Uke 2, 2021**\n",
    "* **Underviser: Kai Erik Hoff**\n",
    "\n"
   ]
  },
  {
   "cell_type": "markdown",
   "metadata": {
    "slideshow": {
     "slide_type": "slide"
    }
   },
   "source": [
    "# Tema for forelesningen\n",
    "\n",
    "* Om signalbehandling som fag\n",
    "* Praktisk Informasjon\n",
    "* Introduksjon til signalbehandling"
   ]
  },
  {
   "cell_type": "markdown",
   "metadata": {
    "slideshow": {
     "slide_type": "slide"
    }
   },
   "source": [
    "# Orientering om signalbehandling som fag"
   ]
  },
  {
   "cell_type": "markdown",
   "metadata": {
    "slideshow": {
     "slide_type": "slide"
    }
   },
   "source": [
    "# Hvorfor Signalbehandling?\n",
    "    \n",
    "    \n",
    "<div style=\"width: 100%;\">\n",
    "    <img src=\"Figurer/01_Introduksjon/Fig1_sensorer.png\" style=\"float: right; width: 35%\" />\n",
    "    <div style=\"width: 60%\">\n",
    "    <br>\n",
    "    <ul>\n",
    "        <li>Datamaskiner i ulike former henter og <i>digitiserer</i> input fra den fysiske verden for å utføre et utall av oppgaver:</li>\n",
    "      <ul><li>Datasyn</li>\n",
    "        <li>Digitale kontrollsystem</li>\n",
    "        <li>Trådløs kommunikasjon</li>\n",
    "        <li>Sensorsystem som radar, lidar, MRI, ultralyd osv.</li>\n",
    "        <li>Og mye mer</li></ul>\n",
    "    </ul>  \n",
    "    </div>\n",
    "</div> "
   ]
  },
  {
   "cell_type": "markdown",
   "metadata": {
    "slideshow": {
     "slide_type": "slide"
    }
   },
   "source": [
    " # Hva skal vi gjennomgå i IELEA2302 - Signalbehandling?\n",
    " \n",
    "* Introduksjon til et omfattende fagområde\n",
    "    * Vi skal gjennomgå grunnprinsippene i signalbehandling. \n",
    "    \n",
    "    * Gir et godt grunnlag til videre fordypning i f.eks. diskrét kontrollteori, datasyn eller maskinlæring.\n",
    "<br>\n",
    "\n",
    "* Signalbehandlingsteori i sammenheng med praktisk anvendelse\n",
    "    * Teoretiske prinsipp vil utforskes med prosessering av *hele* signal i form av bildefiler, lydfiler m.m. \n",
    "    \n",
    "    * Praktisk bruk involverer ofte behandling av signaler i *sanntid* med hjelp av f.eks. en mikrokontroller. "
   ]
  },
  {
   "cell_type": "markdown",
   "metadata": {
    "slideshow": {
     "slide_type": "slide"
    }
   },
   "source": [
    "# Noen anvendelser av signalbehandling\n",
    "\n",
    "<img src=\"Figurer/01_Introduksjon/Fig2_anvendelser.png\" style=\"width: 70%\" />"
   ]
  },
  {
   "cell_type": "markdown",
   "metadata": {
    "slideshow": {
     "slide_type": "slide"
    }
   },
   "source": [
    "# Hvordan arbeide med faget\n",
    "\n",
    "* Modningsfag - krever jevnt arbeid gjennom semesteret\n",
    "* Øvingene er en viktig del av faget.\n",
    "    * Dataøvingene er ikke \"bare\" programmering.\n",
    "* Fokuser på forståelse.\n",
    "    * Ikke anbefalt å støtte seg på å lære \"Kokebok-oppskrifter\". \n",
    "* Still spørsmål, og ta gjerne i bruk diskusjonstavlen på BlackBoard.\n",
    "\n",
    "\n",
    "*Faget er krevende, men er en viktig basis for mange spennende fagomroåder. Det er verdt en innsats!*"
   ]
  },
  {
   "cell_type": "markdown",
   "metadata": {
    "slideshow": {
     "slide_type": "slide"
    }
   },
   "source": [
    "# Signalbehandling og Matematikk\n",
    "\n",
    "* Emnet er i stor grad anvendt matematikk\n",
    "    * Matematiske utregninger for hånd kan være god trening, men gjør det ikke lett å se sammenhenger.\n",
    "* Mange regneoperasjoner kan løses intuitivt med en grafisk tilnærming, og kan også gi en bedre forståelse av sammenhengene.\n",
    "\n",
    "<img src=\"Figurer/01_Introduksjon/Fig3_GraphicalMath.png\" style=\"width: 80%; margin-left:100px\" />"
   ]
  },
  {
   "cell_type": "markdown",
   "metadata": {
    "slideshow": {
     "slide_type": "slide"
    }
   },
   "source": [
    "# Programmering\n",
    "\n",
    "* ***Ekstremt*** nyttig for å vise grafiske representasjoner av signal- og systemekenskaper.\n",
    "    * I dette emnet vil Python være programmeringsverktøy.\n",
    "* I forelesningene vil det tas i bruk både *programmeringseksempel* og *demoer*\n",
    "    * Programmeringseksempel for å vise hvordan utføre signalbehandlingsoperasjoner i python.\n",
    "    * Demoer for å visualisere signalbehandlingsprinsipp."
   ]
  },
  {
   "cell_type": "markdown",
   "metadata": {
    "slideshow": {
     "slide_type": "slide"
    }
   },
   "source": [
    "## Programmeringseksempel: *Sinusbølge*"
   ]
  },
  {
   "cell_type": "code",
   "execution_count": 1,
   "metadata": {
    "scrolled": false,
    "slideshow": {
     "slide_type": "fragment"
    }
   },
   "outputs": [
    {
     "data": {
      "application/vnd.jupyter.widget-view+json": {
       "model_id": "86dee88cd20348b484f664e4302227ce",
       "version_major": 2,
       "version_minor": 0
      },
      "text/plain": [
       "Canvas(toolbar=Toolbar(toolitems=[('Home', 'Reset original view', 'home', 'home'), ('Back', 'Back to previous …"
      ]
     },
     "metadata": {},
     "output_type": "display_data"
    },
    {
     "data": {
      "text/plain": [
       "[<matplotlib.lines.Line2D at 0x2454d694b20>]"
      ]
     },
     "execution_count": 1,
     "metadata": {},
     "output_type": "execute_result"
    }
   ],
   "source": [
    "import numpy as np\n",
    "import matplotlib.pyplot as plt\n",
    "# %matplotilb notebook kan også brukes, men er ikke alltid like \"up to date\".\n",
    "%matplotlib ipympl \n",
    "\n",
    "t = np.linspace(0, 1, 501)\n",
    "x_t = np.cos(6*np.pi*t)\n",
    "\n",
    "plt.figure(1, figsize=(8, 3))\n",
    "plt.figure(1)\n",
    "plt.plot(t, x_t, color='tab:orange')"
   ]
  },
  {
   "cell_type": "markdown",
   "metadata": {
    "slideshow": {
     "slide_type": "slide"
    }
   },
   "source": [
    "# Anbefalte Forkunnskaper\n",
    "\n",
    "* Matematiske metoder 2\n",
    "    * Generell algebra\n",
    "    * Komplekse tall og regneoperasjoner\n",
    "    * Fourierrekker\n",
    "        * Fourier spiller en svært sentral rolle i Signalbehandling\n",
    "        \n",
    "<br>\n",
    "<br>\n",
    "\n",
    "* I tillegg er det en betydelig overlapp med Reguleringsteknikk. \n",
    "    * Hovedforskjellen er at vi nå skal arbeide med digitale signal og system.\n"
   ]
  },
  {
   "cell_type": "markdown",
   "metadata": {
    "slideshow": {
     "slide_type": "slide"
    }
   },
   "source": [
    "# [Praktisk informasjon](https://ntnu.blackboard.com/webapps/blackboard/execute/content/blankPage?cmd=view&content_id=_1171806_1&course_id=_22548_1&mode=reset)"
   ]
  },
  {
   "cell_type": "markdown",
   "metadata": {
    "slideshow": {
     "slide_type": "slide"
    }
   },
   "source": [
    "# Introduksjon til Signalbehandling"
   ]
  },
  {
   "cell_type": "markdown",
   "metadata": {
    "slideshow": {
     "slide_type": "slide"
    }
   },
   "source": [
    "# Hvorfor er digitale signal aktuelle?\n",
    "\n",
    "* Tillater lagring og/eller videre prosessering som kompresjon, kryptering, matematisk og statistisk analyse m.m.\n",
    "* Behandling av digitale signal skjer på programvarenivå\n",
    "    * Signalbehandlingssystem kan endres og oppdateres ved behov\n",
    "    * Tillater adaptive system\n",
    "* Kostnadseffektivt\n",
    "    * Et digitalt filter på en mikrokontroller er mye billigere enn et nøysommelig kalibrert analogt filter."
   ]
  },
  {
   "cell_type": "markdown",
   "metadata": {
    "slideshow": {
     "slide_type": "fragment"
    }
   },
   "source": [
    "#### *Men:*\n",
    "* Et digitalt signal må lages ved å *digitalisere* et analogt signal."
   ]
  },
  {
   "cell_type": "markdown",
   "metadata": {
    "slideshow": {
     "slide_type": "slide"
    }
   },
   "source": [
    "# Kort om analoge signal\n",
    "\n",
    "* Genereres av f.eks. en temperatursensor.\n",
    "* Har en målbar verdi (f.eks. spenningsverdi).\n",
    "* Tidskontinuerlige\n",
    "    - Signalverdien eksisterer for alle mulige tidspunkt.\n",
    "    \n",
    "<div style=\"width: 80%;\">\n",
    "    <img src=\"Figurer/01_Introduksjon/Fig4_AnalogSig.png\" style=\"float: left; width: 60%\" />\n",
    "    <div style=\"float: right; width: 35%\">\n",
    "    <br>\n",
    "        <b>Notasjon</b>:\n",
    "        $$x(t)$$\n",
    "    <ul>\n",
    "        <li><i>Temperatursignalet i figuren er en kontinuerlig funksjon av tid</i></li>\n",
    "    </ul>  \n",
    "    </div>\n",
    "</div> "
   ]
  },
  {
   "cell_type": "markdown",
   "metadata": {
    "slideshow": {
     "slide_type": "slide"
    }
   },
   "source": [
    "# Signaleksempler - tale/lyd & bilde\n",
    "<br>\n",
    "<img src=\"Figurer/01_Introduksjon/Fig8_SigEx.png\" style=\"width: 80%; padding:10px\" />\n",
    "\n",
    "* Dette faget vil i hovedsak ta for seg 1-dimensjonale signal, typisk en fysisk verdi som varierer med tid."
   ]
  },
  {
   "cell_type": "markdown",
   "metadata": {
    "slideshow": {
     "slide_type": "slide"
    }
   },
   "source": [
    "# Digitalisering av signal\n",
    "* Signalet må representeres som en serie med måleverdier.\n",
    "* Oppnås ved å ta punktprøver ved **jevne intervall**.\n",
    "* Denne prosessen er kjent som sampling.\n",
    "\n",
    "<div style=\"width: 80%;\">\n",
    "    <img src=\"Figurer/01_Introduksjon/Fig5_DigitalSig.png\" style=\"float: left; width: 60%\" />\n",
    "    <div style=\"float: right; width: 35%\">\n",
    "    <br>\n",
    "        <b>Notasjon</b>:\n",
    "        $$x[n]$$\n",
    "    <ul>\n",
    "        <li><i>Temperatursignalet i figuren er en \"tidsdiskret\" funksjon av samplenummer. \n",
    "            </i></li>\n",
    "        $n \\in \\mathbb{Z}$\n",
    "    </ul>  \n",
    "    </div>\n",
    "</div> "
   ]
  },
  {
   "cell_type": "markdown",
   "metadata": {
    "slideshow": {
     "slide_type": "slide"
    }
   },
   "source": [
    "# Digitalisering av signal\n",
    "<br>\n",
    "<img src=\"Figurer/01_Introduksjon/Fig6_SamplingSys.png\" style=\"width: 50%; margin-left: 300px\" />\n",
    "<div style=\"width: 80%;\">\n",
    "    <img src=\"Figurer/01_Introduksjon/Fig7_SampleTable.png\" style=\"float: right; width: 50%; padding: 20px\" />\n",
    "    <div style=\"float: right; width: 45%\">\n",
    "    <br>\n",
    "    <ul>\n",
    "        <li>Digitalt signal en serie med måleverdier.</li>\n",
    "        <li>Signalverdi kun kjent akkurat i måletidspunktene.</li>\n",
    "        <li>Kan nå behandles av en datamaskin.</li>\n",
    "    </ul>  \n",
    "    </div>\n",
    "</div> "
   ]
  },
  {
   "cell_type": "markdown",
   "metadata": {
    "slideshow": {
     "slide_type": "slide"
    }
   },
   "source": [
    "# Sampleperiode $T_s$\n",
    "\n",
    "* Hovedforutsetningen for å kunne arbeide med digitale signal er at punktprøvene/samplene er tatt med jevne tidsintervall.\n",
    "* Dette tidsintervallet fra ett sampletidspunkt til neste kalles en ***sampleperiode*** $T_s$.\n",
    "<br><br>\n",
    "<img src=\"Figurer/01_Introduksjon/Fig9_Ts.png\" style=\"width: 80%; margin-left: 100px\" />"
   ]
  },
  {
   "cell_type": "markdown",
   "metadata": {
    "slideshow": {
     "slide_type": "slide"
    }
   },
   "source": [
    "# Samplingsfrekvens $f_s$\n",
    "\n",
    "* ***Samplingsfrekvens*** $f_s$ er et tall på hvor mange sampler som tas i løpet av ett sekund.\n",
    "* Relasjon til sampleperiode:\n",
    "$$f_s = \\frac{1}{T_s}$$\n",
    "* Sammenheng mellom måletidspunkt og samplenummer:\n",
    "$$t = n\\cdot T_s = \\frac{n}{f_s}$$\n",
    "$$n = \\frac{t}{T_s} = t\\cdot f_s$$\n",
    "* Sammenheng mellom analogt og digitalt signal:\n",
    "$$x[n] = x(t)|_{t = n\\cdot T_s}$$"
   ]
  },
  {
   "cell_type": "markdown",
   "metadata": {
    "slideshow": {
     "slide_type": "slide"
    }
   },
   "source": [
    "# Eksempel på grafisk modell for samplingssystem\n",
    "<br><br>\n",
    "<img src=\"Figurer/01_Introduksjon/Fig10_SampleSys.png\" style=\"width: 80%; margin-left: 100px\" />"
   ]
  },
  {
   "cell_type": "markdown",
   "metadata": {
    "slideshow": {
     "slide_type": "slide"
    }
   },
   "source": [
    "# Forslag til realisering av modell med Arduino\n",
    "<pre>\n",
    "<font color=\"#5e6d03\">#include</font> <font color=\"#005c5f\">&#34;Timer.h&#34;</font>\n",
    "\n",
    "<font color=\"#00979c\">const</font> <font color=\"#00979c\">int</font> <font color=\"#000000\">INPUT_PIN</font> <font color=\"#434f54\">=</font> <font color=\"#000000\">A0</font><font color=\"#000000\">;</font> <font color=\"#434f54\">&#47;&#47; Analog inngang</font>\n",
    "<font color=\"#00979c\">const</font> <font color=\"#00979c\">int</font> <font color=\"#000000\">T_S</font> <font color=\"#434f54\">=</font> <font color=\"#000000\">50</font><font color=\"#000000\">;</font> &nbsp;&nbsp;&nbsp;&nbsp;&nbsp;&nbsp;<font color=\"#434f54\">&#47;&#47; Sampleperiode i millisekund</font>\n",
    "\n",
    "<font color=\"#000000\">Timer</font> <font color=\"#000000\">sampleTimer</font><font color=\"#000000\">;</font>\n",
    "\n",
    "<font color=\"#00979c\">void</font> <font color=\"#5e6d03\">setup</font><font color=\"#000000\">(</font><font color=\"#000000\">)</font> <font color=\"#000000\">{</font>\n",
    " &nbsp;<font color=\"#d35400\">pinMode</font><font color=\"#000000\">(</font><font color=\"#000000\">INPUT_PIN</font><font color=\"#434f54\">,</font> <font color=\"#00979c\">INPUT</font><font color=\"#000000\">)</font><font color=\"#000000\">;</font>\n",
    "<font color=\"#000000\">}</font>\n",
    "\n",
    "<font color=\"#00979c\">void</font> <font color=\"#5e6d03\">loop</font><font color=\"#000000\">(</font><font color=\"#000000\">)</font> <font color=\"#000000\">{</font>\n",
    " &nbsp;<font color=\"#5e6d03\">if</font><font color=\"#000000\">(</font><font color=\"#000000\">sampleTimer</font><font color=\"#434f54\">.</font><font color=\"#000000\">hasExpired</font><font color=\"#000000\">(</font><font color=\"#000000\">)</font><font color=\"#000000\">)</font><font color=\"#000000\">{</font>\n",
    " &nbsp;&nbsp;&nbsp;<font color=\"#000000\">sampleTimer</font><font color=\"#434f54\">.</font><font color=\"#000000\">start</font><font color=\"#000000\">(</font><font color=\"#000000\">T_S</font><font color=\"#000000\">)</font><font color=\"#000000\">;</font>\n",
    " &nbsp;&nbsp;&nbsp;<font color=\"#00979c\">int</font> <font color=\"#000000\">new_sample</font> <font color=\"#434f54\">=</font> <font color=\"#d35400\">analogRead</font><font color=\"#000000\">(</font><font color=\"#000000\">INPUT_PIN</font><font color=\"#000000\">)</font><font color=\"#000000\">;</font>\n",
    " &nbsp;&nbsp;&nbsp;<font color=\"#95a5a6\">&#47;* -----------------------------------</font>\n",
    "<font color=\"#95a5a6\"> &nbsp;&nbsp;&nbsp;&nbsp;* Digital Signalbehandling skjer her!</font>\n",
    "<font color=\"#95a5a6\"> &nbsp;&nbsp;&nbsp;&nbsp;* -----------------------------------</font>\n",
    "<font color=\"#95a5a6\"> &nbsp;&nbsp;&nbsp;&nbsp;*&#47;</font>\n",
    " &nbsp;<font color=\"#000000\">}</font>\n",
    "<font color=\"#000000\">}</font>\n",
    "</pre>"
   ]
  },
  {
   "cell_type": "markdown",
   "metadata": {
    "slideshow": {
     "slide_type": "notes"
    }
   },
   "source": [
    "* Biblioteket `\"Timer.h\"` er fra emnet IELEA1002 - Datateknikk og bruker `millis()` til å utføre timede operasjoner.\n",
    "* Dette eksempelet er primært for å illustrere prinsippet, og har noen svakheter. \n",
    "    * Hvis prosesseringen i if-setningen på noe tidspunkt bruker mer enn 50 millisekund vil ikke sampleperioden være uniform lengre.\n",
    "* En mer robust realisering vil involvere bruk av avbruddshåndtering (Interrupt Service Routine). Dette er dog et ganske dypt kaninhull..."
   ]
  },
  {
   "cell_type": "markdown",
   "metadata": {
    "slideshow": {
     "slide_type": "slide"
    }
   },
   "source": [
    "# Regneeksempler\n",
    "\n",
    "1. Et analogt signal gitt ved funksjonen $x(t) = \\cos(2\\pi \\cdot 4 \\cdot t)$ samples med en samplingsfrekvens $f_s = 24 Hz$. Hva blir funksjonsuttrykket for det digitale signalet $x[n]$?\n",
    "2. En analog taleinnspilling er samplet med samplingsfrekvens $f_s = 8000Hz$, der første sample tas ved tidspunktet $t=0$.\n",
    "    - Hvilke sampler representerer lydopptaket i tidsintervallet $0.25s \\leq t < 0.625s$?\n",
    "    - Anta at vi bruker 16 bit på å lagre hver sample. Hvor stor lagringsplass må man ha for å lagre ett sekund med taleinnspilling."
   ]
  },
  {
   "cell_type": "markdown",
   "metadata": {
    "slideshow": {
     "slide_type": "slide"
    }
   },
   "source": [
    "# Digitale Signalbehandlingssystem\n",
    "\n",
    "* Teoretisk generell definisjon: \"Et system er noe som transformerer signal om til nye signal\"\n",
    "* Vi deler typisk opp i tre hovedbegrep:\n",
    "    - Inngangssignal $x[n]$ \n",
    "    - Utgangssignal $y[n]$ \n",
    "    - Systemet, som beskrives matematisk av forholdet mellom inngangssignalet $x[n]$ og utgangssignalet $y[n]$."
   ]
  },
  {
   "cell_type": "markdown",
   "metadata": {
    "slideshow": {
     "slide_type": "slide"
    }
   },
   "source": [
    "# \"Hjemmelekse\" til fredag\n",
    "\n",
    "1. Sjekk om du har tilgang til øvingsopplegget for dataøvinger.\n",
    "2. Svar på spørreundersøkelsen på BlackBoard dersom det er spesielle tema som ønskes gjennomgått på fredag."
   ]
  },
  {
   "cell_type": "markdown",
   "metadata": {
    "slideshow": {
     "slide_type": "slide"
    }
   },
   "source": [
    "# Neste time\n",
    "* Undervisningstimene fredag 15. januar vil være ren python-undervisning.\n",
    "    * Oppfriskning fra INGA1001\n",
    "    * Sentrale moduler for signalbehandling\n",
    "        * `numpy` for prosessering\n",
    "        * `matplotlib` for visualisering"
   ]
  },
  {
   "cell_type": "markdown",
   "metadata": {
    "slideshow": {
     "slide_type": "slide"
    }
   },
   "source": [
    "# Referansegruppe\n",
    "\n",
    "* Faget skal evalueres gjennom semesteret\n",
    "* Egen referansegruppe blant studentene må etableres\n",
    "* Møter:\n",
    "    * Semesterstart\n",
    "    * Midtsemester\n",
    "    * Etter eksamen\n",
    "* Se innsida for detaljer [her](https://innsida.ntnu.no/wiki/-/wiki/Norsk/Referansegruppe+-+for+studenter).\n",
    "* Interesserte kan ta kontakt i øvingstimen."
   ]
  },
  {
   "cell_type": "markdown",
   "metadata": {
    "slideshow": {
     "slide_type": "slide"
    }
   },
   "source": [
    "# Spørsmål?"
   ]
  }
 ],
 "metadata": {
  "celltoolbar": "Slideshow",
  "kernelspec": {
   "display_name": "Python 3",
   "language": "python",
   "name": "python3"
  },
  "language_info": {
   "codemirror_mode": {
    "name": "ipython",
    "version": 3
   },
   "file_extension": ".py",
   "mimetype": "text/x-python",
   "name": "python",
   "nbconvert_exporter": "python",
   "pygments_lexer": "ipython3",
   "version": "3.8.5"
  }
 },
 "nbformat": 4,
 "nbformat_minor": 4
}
