{
 "cells": [
  {
   "cell_type": "code",
   "execution_count": 1,
   "metadata": {
    "slideshow": {
     "slide_type": "skip"
    }
   },
   "outputs": [],
   "source": [
    "# Generelle moduler og funksjonsbeskrivelser brukt i forelesningen\n",
    "from numpy import sin, cos, pi, arctan2, exp\n",
    "import numpy as np\n",
    "import matplotlib.pyplot as plt\n",
    "from scipy.io import wavfile, loadmat                # Lydfil I/O\n",
    "from IPython.display import Video\n",
    "from Kildekode._05_Aliasing import *\n",
    "\n",
    "%matplotlib ipympl"
   ]
  },
  {
   "cell_type": "markdown",
   "metadata": {
    "slideshow": {
     "slide_type": "slide"
    }
   },
   "source": [
    "<img src=\"NTNU_Logo.png\" align=\"left\" style=\"width: 30%\">\n",
    "<br clear=\"all\" />\n",
    "<br></br>\n",
    "\n",
    "# Sampling og Aliasing\n",
    "\n",
    "* **Emne IELEA2302 - Signalbehandling**\n",
    "* **Uke 5, 2021**\n",
    "* **Underviser: Kai Erik Hoff**\n",
    "\n"
   ]
  },
  {
   "cell_type": "markdown",
   "metadata": {
    "slideshow": {
     "slide_type": "slide"
    }
   },
   "source": [
    "## Tema Tirsdag 2. Februar\n",
    "\n",
    "* Intro/Repetisjon sampling\n",
    "* Kvantisering - kort oppsummmering\n",
    "* Sampling og normalisert frekvens/vinkelfrekvens\n",
    "    * Regneeksempel 1\n",
    "* Intro til aliasing - EKG signal\n",
    "* Aliasing Demo\n",
    "* Samplingsteoremet"
   ]
  },
  {
   "cell_type": "markdown",
   "metadata": {
    "slideshow": {
     "slide_type": "slide"
    }
   },
   "source": [
    "# Repetisjon sampling"
   ]
  },
  {
   "cell_type": "markdown",
   "metadata": {
    "slideshow": {
     "slide_type": "slide"
    }
   },
   "source": [
    "# Samplingsfrekvens- og Periode\n",
    "\n",
    "* **Samplingsfrekvens:**\n",
    "    - Antall sampler av et signal som tas i løpet av ett sekund ($f_s$)\n",
    "* **Samplingsperiode:**\n",
    "    - Intervall (i sekund) mellom hver sample ($T_s$)\n",
    "    $$T_s = \\frac{1}{f_s}$$\n",
    "* Sammenheng mellom måletidspunkt og samplenummer:\n",
    "$$t = n\\cdot T_s = \\frac{n}{f_s}$$\n",
    "$$n = \\frac{t}{T_s} = t\\cdot f_s$$\n",
    "* Sammenheng mellom analogt og digitalt signal:\n",
    "$$x[n] = x(t)|_{t = n\\cdot T_s}$$"
   ]
  },
  {
   "cell_type": "markdown",
   "metadata": {
    "slideshow": {
     "slide_type": "slide"
    }
   },
   "source": [
    "# Analog-til-digital omforming\n",
    "\n",
    "* Sampling av et signal medfører at signalet vil representeres med et begrenset antall bit.\n",
    "* Vi får potensielt tap av informasjon i to former:\n",
    "    1. Hver måleverdi/sample har et begrenset antall bit til rådighet, noe som gir målefeil.\n",
    "    2. Det digitale signalet forteller ingenting om hva som foregår mellom samplene.\n",
    "\n",
    "<img src=\"Figurer/05_Sampling_og_Aliasing/Fig2_ADC.png\" style=\"width: 80%; margin-left: 100px\" />"
   ]
  },
  {
   "cell_type": "markdown",
   "metadata": {
    "slideshow": {
     "slide_type": "slide"
    }
   },
   "source": [
    "# Kvantisering og kvantiseringsfeil\n",
    "\n",
    "* Resultat av begrenset presisjon under sampling.\n",
    "* Kvantiseringsfeil kan anses ekveivalent til \"avrundigsfeil\".\n",
    "* Eksempel:\n",
    "    - En arduino har en innebygd A/D omformer med 10 bit presisjon\n",
    "    - Denne A/D omformeren opererer i spenningsområdet $0V \\leq x(t) <5V$.\n",
    "    - Dette betyr at en arduino ikke kan registrere spenningsforskjeller mindre enn:\n",
    "    $$ Q = \\frac{5V}{2^{10}} = \\frac{5V}{1024} \\approx 4.89mV$$\n",
    "* Bokstaven $ Q$ brukes her for å betegne *kvantiseringssteghøyde*."
   ]
  },
  {
   "cell_type": "markdown",
   "metadata": {
    "slideshow": {
     "slide_type": "slide"
    }
   },
   "source": [
    "# Kvantisering illustrert\n",
    "<img src=\"Figurer/05_Sampling_og_Aliasing/Fig3_Quantization.png\" style=\"width: 60%; margin-left: 100px\" />"
   ]
  },
  {
   "cell_type": "markdown",
   "metadata": {
    "slideshow": {
     "slide_type": "notes"
    }
   },
   "source": [
    "* Det er mye mer man kan si om kvantisering men det er ikke noe som vil bli tatt opp i dette emnet, da det ikke har betydning for resten av fagstoffet.\n",
    "* Det er dog nyttig å være klar over at kvantisering er et aspekt ved sampling, som kan påvirke systemoppførsel noe.\n",
    "    - I svært mange tilfeller er andre kilder til måleunøyaktighet mye mer utslagsgivende enn kvantisering uansett.\n",
    "* I utregningene videre i faget vil vi anta ideell sampling uten kvantiseringsfeil."
   ]
  },
  {
   "cell_type": "markdown",
   "metadata": {
    "slideshow": {
     "slide_type": "slide"
    }
   },
   "source": [
    "# Ideell sampling\n",
    "\n",
    "* Sampler tas av det analoge signalet $x(t)$ til presise tidspunkt $t=n\\cdot T_s$ uten kvantiseringsfeil.\n",
    "\n",
    "<img src=\"Figurer/05_Sampling_og_Aliasing/Fig4_IdealSampling.png\" style=\"width: 60%; margin-left: 100px\">\n",
    "     \n",
    "* _I resten av emnet antas at signaler samples ideelt._"
   ]
  },
  {
   "cell_type": "markdown",
   "metadata": {
    "slideshow": {
     "slide_type": "slide"
    }
   },
   "source": [
    "# Sampling av sinusformede bølger\n",
    "\n",
    "* Bruker samplingsfrekvensen for å finne uttrykk for en samplet sinusbølge.\n",
    "\n",
    "\\begin{align}\n",
    "x(t) &= \\cos(2\\pi f \\cdot t + \\phi) \\\\\n",
    "x[n] &= x(t)|_{t=n\\cdot T_s} \\\\\n",
    "&= \\cos(2\\pi f\\cdot nT_s +\\phi)\\\\\n",
    "&= \\cos\\left(2\\pi \\frac{f}{f_s}\\cdot n + \\phi\\right)\n",
    "\\end{align}\n",
    "\n",
    "* Nytt begrep: *Normalisert Vinkelfrekvens*\n",
    "    - også kalt *Digital Frekvens*\n",
    "$$\\hat{\\omega} = 2\\pi \\frac{f}{f_s}$$"
   ]
  },
  {
   "cell_type": "markdown",
   "metadata": {
    "slideshow": {
     "slide_type": "slide"
    }
   },
   "source": [
    "* Antall svingninger per sekund er ikke lengre så relevant.\n",
    "* For digitale signal er antallet svingninger mellom hver smaple mye mer interresant."
   ]
  },
  {
   "cell_type": "markdown",
   "metadata": {
    "slideshow": {
     "slide_type": "slide"
    }
   },
   "source": [
    "# Sampling av sinusformet bølge\n",
    "\n",
    "* Frekvensspekter for signalet $x(t) = \\cos(100\\pi \\cdot t)$ samplet med to ulike samplingsfrekvenser.\n",
    "\n",
    "<img src=\"Figurer/05_Sampling_og_Aliasing/Fig5_SampledSinusoids.png\" style=\"width: 60%; margin-left: 100px\">\n"
   ]
  },
  {
   "cell_type": "markdown",
   "metadata": {
    "slideshow": {
     "slide_type": "slide"
    }
   },
   "source": [
    "# Digital Periode\n",
    "\n",
    "* Periodisitet for samplede signal definert med formelen \n",
    "$$x[n] = x[n+k\\cdot N], \\ \\ \\ k\\in \\mathbb{Z}$$\n",
    "    - Der heltallet $N$ er den *digitale perioden*.\n",
    "<br>\n",
    "* For samplede sinusbølger:\n",
    "$$\\cos\\left(2\\pi \\frac{f}{f_s} \\cdot n \\right) = \\cos\\left(2\\pi \\frac{f}{f_s} \\cdot n + 2\\pi\\frac{f}{f_s}\\cdot N \\right)$$\n",
    "    - Hvis likheten holder for én verdi av $k$ så vil den holde for alle.\n",
    "    - Utnytter at sinusoider er periodiske: $\\cos(x) = \\cos(x+k\\cdot 2\\pi)$\n",
    "    \n",
    "$$ \\frac{f}{f_s}\\cdot N = M, \\ \\ \\ M \\in \\mathbb{Z}$$\n",
    "$$ \\frac{f}{f_s} = \\frac{M}{N}$$\n",
    "\n",
    "* $\\frac{f}{f_s}$ *må* være et *rasjonelt tall*"
   ]
  },
  {
   "cell_type": "markdown",
   "metadata": {
    "slideshow": {
     "slide_type": "slide"
    }
   },
   "source": [
    "## Regneeksempel 1:\n",
    "* Ete cosinussignal med frekvens $f=144Hz$ samples med en A/D omformer med samplingsfrekvens $f_s = 800Hz$. \n",
    "    - Hva er den normaliserte vinkelfrekvensen $\\hat{\\omega}$?\n",
    "    - Hva blir den digitale perioden $N$ til signalet?"
   ]
  },
  {
   "cell_type": "markdown",
   "metadata": {
    "slideshow": {
     "slide_type": "slide"
    }
   },
   "source": [
    "# Utfordringen med sampling\n",
    "\n",
    "* Vi kan bare estimere hva signalverdien er imellom samplingstidspunkt.\n",
    "\n",
    "<img src=\"Figurer/05_Sampling_og_Aliasing/Fig6_SamplingChallenge.png\" style=\"width: 60%; margin-left: 100px\">"
   ]
  },
  {
   "cell_type": "markdown",
   "metadata": {
    "slideshow": {
     "slide_type": "slide"
    }
   },
   "source": [
    "<img src=\"Figurer/05_Sampling_og_Aliasing/Fig7_EKG_Eksempel.gif\" style=\"width: 100%\">\n"
   ]
  },
  {
   "cell_type": "markdown",
   "metadata": {
    "slideshow": {
     "slide_type": "slide"
    }
   },
   "source": [
    "# Hva skal til for vellykket rekonstruksjon av samplet signal?\n",
    "\n",
    "* Med utgangspunkt i sinusbølger kan man formulere et kriterkie for vellykket rekonstruksjon:\n",
    "\n",
    "    1. Alle signal kan dekomponeres til en sum av sinusbølger.\n",
    "    2. Dersom vi kan rekonstruere alle sinusbølgene individuelt, bør rekonstruksjon av et mer komplisert signal være mulig.\n",
    "\n",
    "\n",
    "* Hvilke begrensninger har vi for sampling av sinussignal?"
   ]
  },
  {
   "cell_type": "markdown",
   "metadata": {
    "slideshow": {
     "slide_type": "slide"
    }
   },
   "source": [
    "## Interaktivt plot: sampling av sinussignal"
   ]
  },
  {
   "cell_type": "code",
   "execution_count": 2,
   "metadata": {
    "scrolled": false,
    "slideshow": {
     "slide_type": "fragment"
    }
   },
   "outputs": [
    {
     "data": {
      "application/vnd.jupyter.widget-view+json": {
       "model_id": "2887288de87d456d8377a2ba729f5147",
       "version_major": 2,
       "version_minor": 0
      },
      "text/plain": [
       "Canvas(toolbar=Toolbar(toolitems=[('Home', 'Reset original view', 'home', 'home'), ('Back', 'Back to previous …"
      ]
     },
     "metadata": {},
     "output_type": "display_data"
    },
    {
     "data": {
      "application/vnd.jupyter.widget-view+json": {
       "model_id": "4e11c2eb41cc4e02a68816f8125929b5",
       "version_major": 2,
       "version_minor": 0
      },
      "text/plain": [
       "VBox(children=(FloatSlider(value=1.0, description='Sine wave frequency (Hz):', layout=Layout(width='95%'), max…"
      ]
     },
     "metadata": {},
     "output_type": "display_data"
    },
    {
     "data": {
      "application/vnd.jupyter.widget-view+json": {
       "model_id": "e3cdb1a329024ee58ff2090e25bd8a14",
       "version_major": 2,
       "version_minor": 0
      },
      "text/plain": [
       "Output()"
      ]
     },
     "metadata": {},
     "output_type": "display_data"
    }
   ],
   "source": [
    "aliasingDemo();"
   ]
  },
  {
   "cell_type": "markdown",
   "metadata": {},
   "source": [
    "## Regneeksempel 2: \n",
    "* Hva blir det rekonstruerte signalet $\\hat{x}(t)$ når et sinusformet signal $x(t) = \\cos\\left(2\\pi \\cdot 175 \\cdot t + \\frac{\\pi}{3} \\right) samples med samplingsfrekvens $f_s = 300Hz$?"
   ]
  },
  {
   "cell_type": "markdown",
   "metadata": {
    "slideshow": {
     "slide_type": "slide"
    }
   },
   "source": [
    "# Aliasing\n",
    "\n",
    "* Når en sinusformet bølge med frekvens $f$ samples med samplingsfrekvens $f_s \\leq 2\\cdot f$, vil samplene \"se ut\" som et annet signal.\n",
    "* Dette falske signalet er kjent som en alias.\n",
    "* En alias av et signalkomponent er ofte umulig å adskille fra de delene av signalet som er samplet korrekt."
   ]
  },
  {
   "cell_type": "markdown",
   "metadata": {
    "slideshow": {
     "slide_type": "slide"
    }
   },
   "source": [
    "# Nyquist Samplingsteorem\n",
    "\n",
    "* Et analogt signal $x(t)$ som ikke inneholder frekvenskomponenter høyere enn $f_{max}$ kan rekonstrueres uten feil fra det samplede signalet $x[n] = x(n\\cdot T_s)$ *kun* hvis samplingsfrekvensen $f_s =\\frac{1}{T_s}$ er større enn $2\\cdot f_{max}$.\n",
    "\n",
    "## $$f_s > 2\\cdot f_{max} = \\text{Nyquist rate}$$"
   ]
  },
  {
   "cell_type": "markdown",
   "metadata": {
    "slideshow": {
     "slide_type": "slide"
    }
   },
   "source": [
    "# Spørsmål?"
   ]
  }
 ],
 "metadata": {
  "celltoolbar": "Slideshow",
  "kernelspec": {
   "display_name": "Python 3",
   "language": "python",
   "name": "python3"
  },
  "language_info": {
   "codemirror_mode": {
    "name": "ipython",
    "version": 3
   },
   "file_extension": ".py",
   "mimetype": "text/x-python",
   "name": "python",
   "nbconvert_exporter": "python",
   "pygments_lexer": "ipython3",
   "version": "3.8.5"
  }
 },
 "nbformat": 4,
 "nbformat_minor": 4
}
