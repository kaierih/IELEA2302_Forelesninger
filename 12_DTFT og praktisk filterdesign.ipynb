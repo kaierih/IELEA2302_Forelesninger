{
 "cells": [
  {
   "cell_type": "code",
   "execution_count": 37,
   "metadata": {
    "slideshow": {
     "slide_type": "skip"
    }
   },
   "outputs": [
    {
     "data": {
      "application/vnd.jupyter.widget-view+json": {
       "model_id": "bec81e012dc34778a85d3c2da226b462",
       "version_major": 2,
       "version_minor": 0
      },
      "text/plain": [
       "Canvas(toolbar=Toolbar(toolitems=[('Home', 'Reset original view', 'home', 'home'), ('Back', 'Back to previous …"
      ]
     },
     "metadata": {},
     "output_type": "display_data"
    }
   ],
   "source": [
    "# Generelle moduler og funksjonsbeskrivelser brukt i forelesningen\n",
    "from numpy import sin, cos, pi, exp\n",
    "import numpy as np\n",
    "import scipy.signal as sig\n",
    "import matplotlib.pyplot as plt\n",
    "from Kildekode._11_Frekvensrespons import *\n",
    "\n",
    "def displayFrequencyResponse(b, a=[1], fig_num=1):\n",
    "    w, Hw = sig.freqz(b, a)\n",
    "    H_amp = np.abs(Hw)\n",
    "    H_phase = np.unwrap(np.angle(Hw))\n",
    "    plt.close(fig_num); plt.figure(fig_num)\n",
    "    plt.subplot(2,1,1)\n",
    "    plt.plot(w, H_amp)\n",
    "    plt.grid(True)\n",
    "    plt.xticks(np.linspace(0, 1, 6)*pi, [str(round(i,2))+r'$\\pi$' for i in np.linspace(0, 1, 6)])\n",
    "    plt.xlabel(r'Digital Frekvens $\\hat{\\omega}$')\n",
    "    plt.ylabel(r'$\\left| H\\left(e^{j\\hat{\\omega}}\\right)\\right|$')\n",
    "    plt.xlim([0, pi])\n",
    "    plt.title(r'Frekvensrespons $H\\left(e^{j\\hat{\\omega}}\\right)$')\n",
    "    \n",
    "    plt.subplot(2,1,2)\n",
    "    plt.plot(w, H_phase)\n",
    "    plt.grid(True)\n",
    "    plt.xticks(np.linspace(0, 1, 6)*pi, [str(round(i,2))+r'$\\pi$' for i in np.linspace(0, 1, 6)])\n",
    "    plt.yticks(np.linspace(0, -1, 6)*pi, [str(round(i,2))+r'$\\pi$' for i in np.linspace(0, -1, 6)])\n",
    "    plt.xlabel(r'Digital Frekvens $\\hat{\\omega}$')\n",
    "    plt.ylabel(r'$\\angle H\\left(e^{j\\hat{\\omega}}\\right)$')\n",
    "    plt.xlim([0, pi])\n",
    "    plt.tight_layout(pad=0.1, w_pad=1.0, h_pad=1.0)\n",
    "\n",
    "%matplotlib ipympl"
   ]
  },
  {
   "cell_type": "markdown",
   "metadata": {
    "slideshow": {
     "slide_type": "slide"
    }
   },
   "source": [
    "<img src=\"NTNU_Logo.png\" align=\"left\" style=\"width: 30%\">\n",
    "<br clear=\"all\" />\n",
    "<br></br>\n",
    "\n",
    "# Frekvensrespons for FIR filtre\n",
    "\n",
    "* **Emne IELEA2302 - Signalbehandling**\n",
    "* **Uke 12, 2021**\n",
    "* **Relevant Pensum:**\n",
    "    * Kapittel 7 i læreboka DSP First\n",
    "* **Underviser: Kai Erik Hoff**"
   ]
  },
  {
   "cell_type": "markdown",
   "metadata": {
    "slideshow": {
     "slide_type": "slide"
    }
   },
   "source": [
    "# Tema tirsdag 23. mars\n",
    "\n",
    "* Oppsummering frekvensrespons\n",
    "* Utregning av frekvensrespons med DTFT\n",
    "* DTFT egenskaper og transformasjonspar\n",
    "* Nøkkelbegrep i filterdesign\n",
    "* Idéelle filtre\n",
    "* Vindusmetoden for tilnærming til ideelle lavpassfiltre"
   ]
  },
  {
   "cell_type": "markdown",
   "metadata": {
    "slideshow": {
     "slide_type": "slide"
    }
   },
   "source": [
    "# Grafisk fremstilling av frekvensrespons\n",
    "\n",
    "* Frekvensresponsen $H\\left(e^{j\\hat{\\omega}}\\right)$ er en *kompleks funksjon* som forteller hvordan filteret vil påvirke enhver ren sinussekvens $x[n] = A\\cdot \\cos(\\hat{\\omega}_0\\cdot n + \\phi)$.\n",
    "<img src=\"Figurer/11_Frekvensrespons/Fig3_LTI_SInusoid.png\" style=\"width: 80%; margin-left: 100px\" />\n",
    "\n",
    "* Når vi analyserer filtre er det gunstig å kunne studere skaleringen og forskyvningen hver for seg. Disse to \"komponentene\" er kjent som amplituderesponsen og faseresponsen til et filter.\n",
    "    * **Amplituderespons** $\\left|H\\left(e^{j\\hat{\\omega}}\\right)\\right|$\n",
    "        * Forteller hvor mye en sinussekvens forsterkes/dempes, gitt digital frekvens $\\hat{\\omega}$.\n",
    "    * **Faserespons** $\\angle H\\left(e^{j\\hat{\\omega}}\\right)$\n",
    "        * Forteller hvor mange radianer sinussekvensen ut av filteret er forskjøvet i forhold til inngangssignalet, gitt digital frekvens $\\hat{\\omega}$."
   ]
  },
  {
   "cell_type": "markdown",
   "metadata": {
    "slideshow": {
     "slide_type": "slide"
    }
   },
   "source": [
    "# Amplituderespons\n",
    "\n",
    "* Angir filterets skalering av sinussekvenser med digital frekvens $\\hat{\\omega}$.\n",
    "\n",
    "$$\\left|H\\left(e^{j\\hat{\\omega}}\\right)\\right| = \\frac{\\left|Y\\left(e^{j\\hat{\\omega}}\\right)\\right|}{\\left|X\\left(e^{j\\hat{\\omega}}\\right)\\right|}$$\n",
    "\n",
    "* Lik symmetri rundt $\\hat{\\omega}=0$.\n",
    "$$\\left|H\\left(e^{j\\hat{\\omega}}\\right)\\right| = \\left|H\\left(e^{-j\\hat{\\omega}}\\right)\\right|$$\n",
    "\n",
    "<img src=\"Figurer/11_Frekvensrespons/Fig4_AmpResp.png\" style=\"width: 80%; margin-left: 100px\" />"
   ]
  },
  {
   "cell_type": "markdown",
   "metadata": {
    "slideshow": {
     "slide_type": "slide"
    }
   },
   "source": [
    "# Faserespons\n",
    "* Angir forsinkelsen av bølgeformen til en sinussekvens med digital frekvens $\\hat{\\omega}$ påført av filteret.\n",
    "$$\\angle H\\left(e^{j\\hat{\\omega}}\\right) = \\angle Y\\left(e^{j\\hat{\\omega}}\\right) - \\angle X\\left(e^{j\\hat{\\omega}}\\right)$$\n",
    "* Oppgitt i radianer. En faserespons på $\\angle H\\left(e^{j\\hat{\\omega}}\\right) =  -2\\pi$ vil f.eks. tilsvare en forsinkelse på én signalperiode for signalkomponenten med frekvens $\\hat{\\omega}$.\n",
    "* Odde symmetri rundt $\\hat{\\omega}=0$:\n",
    "$$\\angle H\\left(e^{j\\hat{\\omega}}\\right) = -\\angle H\\left(e^{-j\\hat{\\omega}}\\right)$$\n",
    "\n",
    "<img src=\"Figurer/11_Frekvensrespons/Fig5_PhaseResp.png\" style=\"width: 80%; margin-left: 100px\" />"
   ]
  },
  {
   "cell_type": "markdown",
   "metadata": {
    "slideshow": {
     "slide_type": "slide"
    }
   },
   "source": [
    "## Demo: Frekvensrespons"
   ]
  },
  {
   "cell_type": "code",
   "execution_count": 20,
   "metadata": {
    "slideshow": {
     "slide_type": "fragment"
    }
   },
   "outputs": [
    {
     "data": {
      "application/vnd.jupyter.widget-view+json": {
       "model_id": "9d39205e2d1648a9b439e0d0ba8dd22b",
       "version_major": 2,
       "version_minor": 0
      },
      "text/plain": [
       "Canvas(toolbar=Toolbar(toolitems=[('Home', 'Reset original view', 'home', 'home'), ('Back', 'Back to previous …"
      ]
     },
     "metadata": {},
     "output_type": "display_data"
    },
    {
     "data": {
      "application/vnd.jupyter.widget-view+json": {
       "model_id": "f78f38377ba14ec08d55a13e14ce2064",
       "version_major": 2,
       "version_minor": 0
      },
      "text/plain": [
       "VBox(children=(FloatSlider(value=0.125, continuous_update=False, description='Digital Frekvens $\\\\hat{\\\\omega}…"
      ]
     },
     "metadata": {},
     "output_type": "display_data"
    },
    {
     "data": {
      "application/vnd.jupyter.widget-view+json": {
       "model_id": "2d61dc14f42b4ca8aecca7ec528064cf",
       "version_major": 2,
       "version_minor": 0
      },
      "text/plain": [
       "Output()"
      ]
     },
     "metadata": {},
     "output_type": "display_data"
    },
    {
     "data": {
      "text/plain": [
       "<Kildekode._11_Frekvensrespons.FreqRespDemo at 0x1b15b39a4f0>"
      ]
     },
     "execution_count": 20,
     "metadata": {},
     "output_type": "execute_result"
    }
   ],
   "source": [
    "hn = np.array([-0.25, 0.5, -0.25])\n",
    "FreqRespDemo(hn, figsize=(12,8))"
   ]
  },
  {
   "cell_type": "markdown",
   "metadata": {
    "slideshow": {
     "slide_type": "slide"
    }
   },
   "source": [
    "# Utregning av frekvensrespons\n",
    "\n",
    "* Diskrét-Tids Fouriertransformasjon (DTFT) av impulsresponesn $h[n]$ gir et *kontinuerlig* funksjonsuttrykk for filterets frekvensrespons.\n",
    "\n",
    "* Formel for *kausale* filtre:\n",
    "\n",
    "### \\begin{align}H\\left(e^{j\\hat{\\omega}}\\right) &= \\sum_{n=-\\infty}^{\\infty} h[n]\\cdot e^{-j\\hat{\\omega}\\cdot n}\\\\ &= h[0]\\cdot e^{0}+h[1]\\cdot e^{-j\\hat{\\omega}}+h[2]\\cdot e^{-j2\\hat{\\omega}}+\\ldots \\end{align}"
   ]
  },
  {
   "cell_type": "markdown",
   "metadata": {
    "slideshow": {
     "slide_type": "slide"
    }
   },
   "source": [
    "## Regneeksempel 1\n",
    "* Et FIR filter er gitt ved impulsresponsen $h[n] =-\\frac{1}{4}\\delta[n]+ \\frac{1}{2}\\delta[n-1]- \\frac{1}{4}\\delta[n-2]$\n",
    "* Finn et funksjonsuttrykk for filterets frekvensrespons $H\\left(e^{j\\hat{\\omega}}\\right)$."
   ]
  },
  {
   "cell_type": "markdown",
   "metadata": {
    "slideshow": {
     "slide_type": "slide"
    }
   },
   "source": [
    "## Demo: frekvensrespons"
   ]
  },
  {
   "cell_type": "code",
   "execution_count": null,
   "metadata": {
    "slideshow": {
     "slide_type": "fragment"
    }
   },
   "outputs": [],
   "source": [
    "hn = np.array([0.25, 0.5, 0.25])\n",
    "DTFT_demo(hn, fig_num = 6, figsize=(12,8))"
   ]
  },
  {
   "cell_type": "markdown",
   "metadata": {
    "slideshow": {
     "slide_type": "slide"
    }
   },
   "source": [
    "# DTFT relevante egenskaper\n",
    "\n",
    "|Egenskap|Tidsdomene $x[n]$|Frekvensdomene $X\\left(e^{j\\hat{\\omega}}\\right)$|\n",
    "|:--|:----------:|:-----------------------:|\n",
    "|Perdiodisistet i frekvensdomenet| | \\begin{equation}X\\left(e^{j(\\hat{\\omega}+2\\pi)}\\right)=X\\left(e^{j\\hat{\\omega}}\\right)\\end{equation} |\n",
    "|Linearitet | \\begin{equation}a\\cdot x_1[n] + b\\cdot x_2[n] \\end{equation}|\\begin{equation}a\\cdot X_1\\left(e^{j\\hat{\\omega}}\\right) +b\\cdot X_2\\left(e^{j\\hat{\\omega}}\\right)\\end{equation}|\n",
    "|Komplekskonjugert symmetri| $x[n]$ er et reelt signal. | \\begin{equation}X\\left(e^{-j\\hat{\\omega}}\\right) = X^{*}\\left(e^{j\\hat{\\omega}}\\right)\\end{equation}|\n",
    "|Tidsreversering | $x[-n]$ | \\begin{equation}X\\left(e^{-j\\hat{\\omega}}\\right)\\end{equation}|\n",
    "|Tidsforskyvning | $x[n-n_d]$ | \\begin{equation}e^{-j\\hat{\\omega}\\cdot n_d} \\cdot X\\left(e^{-j\\hat{\\omega}}\\right)\\end{equation}|\n",
    "|Frekvensforskyvning | $x[n]\\cdot e^{j\\hat{\\omega}_0\\cdot n}$ | \\begin{equation}X\\left(e^{j(\\hat{\\omega}-\\hat{\\omega}_0)}\\right)\\end{equation} | \n",
    "|Modulasjon | $x[n]\\cdot \\cos (\\hat{\\omega}_0 \\cdot n)$ | \\begin{equation}\\frac{1}{2}X\\left(e^{j(\\hat{\\omega}-\\hat{\\omega}_0)}\\right) + \\frac{1}{2}X\\left(e^{j(\\hat{\\omega}+\\hat{\\omega}_0)}\\right)\\end{equation}| \n",
    "|Konvolusjon| $x[n]*h[n]$ | \\begin{equation}X\\left(e^{j\\hat{\\omega}}\\right)\\cdot H\\left(e^{j\\hat{\\omega}}\\right)\\end{equation}|\n",
    "|Multiplikasjon | $x[n]\\cdot w[n]$ | \\begin{equation}X\\left(e^{j\\hat{\\omega}}\\right)*W\\left(e^{j\\hat{\\omega}}\\right)\\end{equation}|"
   ]
  },
  {
   "cell_type": "markdown",
   "metadata": {
    "slideshow": {
     "slide_type": "slide"
    }
   },
   "source": [
    "# DTFT transformasjonspar\n",
    "\n",
    "|Tidsdomene: $x[n]$ | Frekvensdomene: $X\\left(e^{j\\hat{\\omega}}\\right)$ |\n",
    "|:-:|:-:|\n",
    "|$\\delta[n]$|$1$|\n",
    "|$\\delta[n-n_d]$ | $e^{-j\\hat{\\omega}\\cdot n_d}$ |\n",
    "| $$u[n+M]-u[n-M]$$ | $$ \\frac{\\sin\\left(\\frac{1}{2}(2M+1)\\hat{\\omega}\\right)}{\\sin\\left(\\frac{1}{2}\\hat{\\omega}\\right)} $$|\n",
    "|$$\\frac{\\sin(\\hat{\\omega}_b\\cdot n}{\\pi \\cdot n}$$|$$\\begin{cases}1, |\\hat{\\omega}|\\leq \\hat{\\omega}_b\\\\ 0, \\hat{\\omega}_b < |\\hat{\\omega}| \\leq \\pi \\end{cases}$$|\n",
    "|$$a^n\\cdot u[n], \\ \\ (|a|<1) $$| $$\\frac{1}{1-a\\cdot e^{-j\\hat{\\omega}}}$$|"
   ]
  },
  {
   "cell_type": "markdown",
   "metadata": {
    "slideshow": {
     "slide_type": "slide"
    }
   },
   "source": [
    "# Praktisk filterdesign\n",
    "* Design av lavpass, høypass, båndpass og båndstoppfiltre.\n",
    "\n",
    "#### Premiss:\n",
    "* Vi ønsker å finne filterkoeffisisenter som på best mulig måte oppfyller ønskede filteregenskaper, samtidig som vi unngår unødvendig høy filterorden.\n",
    "    * Høyere filterorden betyr flere regneoperasjoner per sample, og høyere forsinkelse gjennom filteret."
   ]
  },
  {
   "cell_type": "markdown",
   "metadata": {
    "slideshow": {
     "slide_type": "slide"
    }
   },
   "source": [
    "# Sentrale begrep\n",
    "* **Stoppbåndsdemping:** minimum antall dB demping av signalkomponenter i stoppbåndet.\n",
    "* **Stoppbånd:** frekvensområdet der demping signalkomponenter er *minst* like stor som stoppbåndsdempingen. \n",
    "* **Passbånd rippel:** maksimal akseptabel variasjon i passbåndet.\n",
    "* **Passbånd:** frekvensområdet der amplitudeendring av signalkomponenter ikke overskrider passbånd rippel.\n",
    "* **Transisjonsbånd:** frekvensområdet mellom stoppbånd og passbånd."
   ]
  },
  {
   "cell_type": "markdown",
   "metadata": {
    "slideshow": {
     "slide_type": "slide"
    }
   },
   "source": [
    "## Illustrasjon\n",
    "<img src=\"Figurer/12_DTFT%20og%20filterdesign/Fig1_FilterParams.png\" style=\"width: 80%; margin-left: 100px\" />"
   ]
  },
  {
   "cell_type": "markdown",
   "metadata": {
    "slideshow": {
     "slide_type": "slide"
    }
   },
   "source": [
    "# Alt starter med lavpassfilter\n",
    "\n",
    "* Ved å utnytte egenskapene til *amplitudemodulasjon* og *sammensatte LTI-system* kan man lage en valgfri filtertype ved å starte med et lavpassfilter.\n",
    "    * Båndpassfilter og høypassfilter er amplitudemodulerte lavpassfilter.\n",
    "    * Båndstoppfilter er lavpassfilter og høypassfilter i parallell."
   ]
  },
  {
   "cell_type": "markdown",
   "metadata": {
    "slideshow": {
     "slide_type": "slide"
    }
   },
   "source": [
    "# Ideelle lavpassfilter\n",
    "* Et ideelt filter slipper gjennom ønskede frekvenskomponenter uten noen endring i amplitude eller fase, og fjerner alle tegn til de uønskede frekvenskomponentene.\n",
    "* Illustrasjon ideelt filter med kantfrekvens $\\hat{\\omega}_c = 0.4\\pi$:\n",
    "\n",
    "<img src=\"Figurer/12_DTFT%20og%20filterdesign/Fig2_Ideal.png\" style=\"width: 80%; margin-left: 100px\" />"
   ]
  },
  {
   "cell_type": "markdown",
   "metadata": {
    "slideshow": {
     "slide_type": "slide"
    }
   },
   "source": [
    "<img src=\"Figurer/12_DTFT%20og%20filterdesign/Slide1.png\" style=\"width: 90%; margin-left: 50px\" />"
   ]
  },
  {
   "cell_type": "markdown",
   "metadata": {
    "slideshow": {
     "slide_type": "slide"
    }
   },
   "source": [
    "# Ny trigonometrisk funksjon: $\\text{sinc}(x)$\n",
    "\n",
    "* Definisjon:\n",
    "$$\\text{sinc}(x) = \\frac{\\sin(\\pi\\cdot x)}{\\pi\\cdot x}$$\n",
    "    * Er definert for grenseverdien $x\\rightarrow 0$:\n",
    "    $$\\lim_{x\\rightarrow 0} \\frac{\\sin(\\pi\\cdot x)}{\\pi\\cdot x} = \\frac{0}{0} = 1$$\n",
    "    \n",
    "\n",
    "* I python er denne innebygd i `numpy`-modulen som [`numpy.sinc()`](https://numpy.org/doc/stable/reference/generated/numpy.sinc.html)."
   ]
  },
  {
   "cell_type": "markdown",
   "metadata": {
    "slideshow": {
     "slide_type": "slide"
    }
   },
   "source": [
    "<img src=\"Figurer/12_DTFT%20og%20filterdesign/Slide2.png\" style=\"width: 90%; margin-left: 50px\" />"
   ]
  },
  {
   "cell_type": "markdown",
   "metadata": {
    "slideshow": {
     "slide_type": "slide"
    }
   },
   "source": [
    "<img src=\"Figurer/12_DTFT%20og%20filterdesign/Slide3.png\" style=\"width: 90%; margin-left: 50px\" />"
   ]
  },
  {
   "cell_type": "markdown",
   "metadata": {
    "slideshow": {
     "slide_type": "slide"
    }
   },
   "source": [
    "## Kodeeksempel 1: \n",
    "* Finn impulsresponsen til et lavpassfilter med filterorden $M = 36$ og digital \"kantfrekvens\" $\\hat{\\omega}_c$ i $0.3\\pi$.\n",
    "* NB! \n",
    "$$\\frac{\\sin(\\hat{\\omega}_0\\cdot n)}{\\pi \\cdot n} = \\frac{\\hat{\\omega}_0}{\\pi}\\cdot \\text{sinc}\\left(\\frac{\\hat{\\omega}_0}{\\pi}\\cdot n \\right)$$"
   ]
  },
  {
   "cell_type": "code",
   "execution_count": null,
   "metadata": {
    "slideshow": {
     "slide_type": "fragment"
    }
   },
   "outputs": [],
   "source": []
  },
  {
   "cell_type": "markdown",
   "metadata": {
    "slideshow": {
     "slide_type": "slide"
    }
   },
   "source": [
    "<img src=\"Figurer/12_DTFT%20og%20filterdesign/Slide4.png\" style=\"width: 90%; margin-left: 50px\" />"
   ]
  },
  {
   "cell_type": "markdown",
   "metadata": {
    "slideshow": {
     "slide_type": "slide"
    }
   },
   "source": [
    "<img src=\"Figurer/12_DTFT%20og%20filterdesign/Slide5.png\" style=\"width: 90%; margin-left: 50px\" />"
   ]
  },
  {
   "cell_type": "markdown",
   "metadata": {
    "slideshow": {
     "slide_type": "slide"
    }
   },
   "source": [
    "<img src=\"Figurer/12_DTFT%20og%20filterdesign/Slide6.png\" style=\"width: 90%; margin-left: 50px\" />"
   ]
  },
  {
   "cell_type": "markdown",
   "metadata": {
    "slideshow": {
     "slide_type": "slide"
    }
   },
   "source": [
    "<img src=\"Figurer/12_DTFT%20og%20filterdesign/Slide7.png\" style=\"width: 90%; margin-left: 50px\" />"
   ]
  },
  {
   "cell_type": "markdown",
   "metadata": {
    "slideshow": {
     "slide_type": "slide"
    }
   },
   "source": [
    "<img src=\"Figurer/12_DTFT%20og%20filterdesign/Slide8.png\" style=\"width: 90%; margin-left: 50px\" />"
   ]
  },
  {
   "cell_type": "markdown",
   "metadata": {
    "slideshow": {
     "slide_type": "slide"
    }
   },
   "source": [
    "<img src=\"Figurer/12_DTFT%20og%20filterdesign/Slide9.png\" style=\"width: 90%; margin-left: 50px\" />"
   ]
  },
  {
   "cell_type": "markdown",
   "metadata": {
    "slideshow": {
     "slide_type": "slide"
    }
   },
   "source": [
    "<img src=\"Figurer/12_DTFT%20og%20filterdesign/Slide10.png\" style=\"width: 90%; margin-left: 50px\" />"
   ]
  },
  {
   "cell_type": "markdown",
   "metadata": {
    "slideshow": {
     "slide_type": "slide"
    }
   },
   "source": [
    "## Kodeeksempel 2:\n",
    "* Bruk en vindusfunksjon til å øke stoppbåndsdempingen i filteret fra eksempel 1."
   ]
  },
  {
   "cell_type": "code",
   "execution_count": null,
   "metadata": {
    "slideshow": {
     "slide_type": "fragment"
    }
   },
   "outputs": [],
   "source": []
  },
  {
   "cell_type": "markdown",
   "metadata": {
    "slideshow": {
     "slide_type": "slide"
    }
   },
   "source": [
    "<img src=\"Figurer/12_DTFT%20og%20filterdesign/Slide11.png\" style=\"width: 90%; margin-left: 50px\" />"
   ]
  },
  {
   "cell_type": "markdown",
   "metadata": {
    "slideshow": {
     "slide_type": "slide"
    }
   },
   "source": [
    "<img src=\"Figurer/12_DTFT%20og%20filterdesign/Slide12.png\" style=\"width: 90%; margin-left: 50px\" />"
   ]
  },
  {
   "cell_type": "markdown",
   "metadata": {
    "slideshow": {
     "slide_type": "slide"
    }
   },
   "source": [
    "# Kodeeksempel 3:\n",
    "* Lag et båndpassfilter med \"passbånd\" mellom $\\hat{\\omega}_{LP} = 0.3\\pi$ og $\\hat{\\omega}_{HP} = 0.5\\pi$ og filterorden 128."
   ]
  },
  {
   "cell_type": "code",
   "execution_count": null,
   "metadata": {
    "slideshow": {
     "slide_type": "fragment"
    }
   },
   "outputs": [],
   "source": []
  },
  {
   "cell_type": "markdown",
   "metadata": {
    "slideshow": {
     "slide_type": "slide"
    }
   },
   "source": [
    "# Andre spørsmål?"
   ]
  }
 ],
 "metadata": {
  "celltoolbar": "Slideshow",
  "kernelspec": {
   "display_name": "Python 3",
   "language": "python",
   "name": "python3"
  },
  "language_info": {
   "codemirror_mode": {
    "name": "ipython",
    "version": 3
   },
   "file_extension": ".py",
   "mimetype": "text/x-python",
   "name": "python",
   "nbconvert_exporter": "python",
   "pygments_lexer": "ipython3",
   "version": "3.8.5"
  }
 },
 "nbformat": 4,
 "nbformat_minor": 4
}
