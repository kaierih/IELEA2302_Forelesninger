{
 "cells": [
  {
   "cell_type": "markdown",
   "metadata": {},
   "source": [
    "# Oversikt over forelesningsnotat\n",
    "\n",
    "Ukenummer | Tema | Kommentar\n",
    "---|---|---\n",
    "2 | [Introduksjon](01_Introduksjon.ipynb) | Første undervisningstime - praktisk info m.m.\n",
    "2 | [Intro til Python](02_Intro%20til%20Python.ipynb) | Andre undervisningstime\n",
    "3 | [Sinussignal](03_Sinussignal.ipynb) | Tema for hele uken\n",
    "4 | [Frekvensrepresentasjon](04_Frekvensrepresentasjon.ipynb) | Oppdatert tirsdag 2. februar\n",
    "5 | [Sampling og Aliasing](05_Sampling%20og%20Aliasing.ipynb) | Oppdatert fredag 5. februar\n",
    "6 | [Diskrét Fouriertransformasjon](06_Diskrét%20Fouriertransformasjon.ipynb) | Utvides fredag 12. februar"
   ]
  }
 ],
 "metadata": {
  "kernelspec": {
   "display_name": "Python 3",
   "language": "python",
   "name": "python3"
  },
  "language_info": {
   "codemirror_mode": {
    "name": "ipython",
    "version": 3
   },
   "file_extension": ".py",
   "mimetype": "text/x-python",
   "name": "python",
   "nbconvert_exporter": "python",
   "pygments_lexer": "ipython3",
   "version": "3.8.5"
  }
 },
 "nbformat": 4,
 "nbformat_minor": 4
}
