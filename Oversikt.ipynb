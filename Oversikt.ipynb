{
 "cells": [
  {
   "cell_type": "markdown",
   "metadata": {},
   "source": [
    "# Oversikt over forelesningsnotat\n",
    "\n",
    "Kalenderuke | Tema | Kommentar\n",
    "---|---|---\n",
    "2 | [Introduksjon](01_Introduksjon.ipynb) | Første undervisningstime - praktisk info m.m.\n",
    "2 | [Intro til Python](02_Intro%20til%20Python.ipynb) | Andre undervisningstime\n",
    "3 | [Sinussignal](03_Sinussignal.ipynb) | Tema for hele uken\n",
    "4 | [Frekvensrepresentasjon](04_Frekvensrepresentasjon.ipynb) | Oppdatert tirsdag 2. februar\n",
    "5 | [Sampling og Aliasing](05_Sampling%20og%20Aliasing.ipynb) | Oppdatert fredag 5. februar\n",
    "6 | [Diskrét Fouriertransformasjon](06_Diskrét%20Fouriertransformasjon.ipynb) | Oppdatert fredag 12. februar\n",
    "7 | [Frekvensanalyse med DFT](07_Frekvensanalyse%20med%20DFT.ipynb) | oppdatert 23. februar \n",
    "8 | [Effektspekter og Spektrogram](08_Effektspekter%20og%20Spektrogram.ipynb) | Oppdatert 26. februar \n",
    "9 | [Oppsummeringsforelesning Signalanalyse](09_Oppsummeringsforelesning.ipynb) | Fredag 26. februar \n",
    "10 | [LTI-system, impulsrespons og konvolusjon](10_Digitale%20filtre%20intro.ipynb) | Oppdatert tirsdag 16. mars \n",
    "11 | [Frekvensrespons](11_Frekvensrespons.ipynb) | Oppdatert fredag 19. mars\n",
    "12 | [DTFT og praktisk filterdesign](12_DTFT%20og%20praktisk%20filterdesign.ipynb) | Ny tirsdag 23. mars\n",
    "12 | [IIR filtre introduksjon](12_IIR%20filtre%20introduksjon.ipynb) | Ny fredag 26. mars"
   ]
  }
 ],
 "metadata": {
  "kernelspec": {
   "display_name": "Python 3",
   "language": "python",
   "name": "python3"
  },
  "language_info": {
   "codemirror_mode": {
    "name": "ipython",
    "version": 3
   },
   "file_extension": ".py",
   "mimetype": "text/x-python",
   "name": "python",
   "nbconvert_exporter": "python",
   "pygments_lexer": "ipython3",
   "version": "3.8.5"
  }
 },
 "nbformat": 4,
 "nbformat_minor": 4
}
