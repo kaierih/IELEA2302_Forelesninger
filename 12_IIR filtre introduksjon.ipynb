{
 "cells": [
  {
   "cell_type": "code",
   "execution_count": 125,
   "metadata": {},
   "outputs": [],
   "source": [
    "# Generelle moduler og funksjonsbeskrivelser brukt i forelesningen\n",
    "from numpy import sin, cos, pi, exp\n",
    "import numpy as np\n",
    "import scipy.signal as sig\n",
    "import matplotlib.pyplot as plt\n",
    "from Kildekode._12_IIRFilt import *\n",
    "\n",
    "%matplotlib ipympl"
   ]
  },
  {
   "cell_type": "markdown",
   "metadata": {
    "slideshow": {
     "slide_type": "slide"
    }
   },
   "source": [
    "<img src=\"NTNU_Logo.png\" align=\"left\" style=\"width: 30%\">\n",
    "<br clear=\"all\" />\n",
    "<br></br>\n",
    "\n",
    "# IIR Filtre Introduksjon\n",
    "\n",
    "* **Emne IELEA2302 - Signalbehandling**\n",
    "* **Uke 12, 2021**\n",
    "* **Relevant Pensum:**\n",
    "    * Kapittel 10.1-10.2 i læreboka DSP First\n",
    "* **Underviser: Kai Erik Hoff**"
   ]
  },
  {
   "cell_type": "markdown",
   "metadata": {
    "slideshow": {
     "slide_type": "slide"
    }
   },
   "source": [
    "# Oppsummering FIR filtre\n",
    "\n",
    "* **FIR** - **F**inite **I**mpulse **R**esponse\n",
    "* Fellesbetegnelse for filter som kalkulerer utgangsveriden $y[n]$ *kun* basert på en lineær kombinasjon av verdiene til inngangssignalet $x[n]$ ved forskjellige sampletidspunkt.\n",
    "$$y[n] = \\sum_{k=0}^{M} b_k \\cdot x[n-k]$$\n",
    "* Impulsresponsen $h[n]$ til et FIR filter gjengir filterkoeffisientene $b_k$\n",
    "$$h[n] = \\sum_{k=0}^{M} b_k \\cdot \\delta[n-k]$$\n",
    "* Filtrereing av et signal $x[n]$ tilsvarer å utføre konvolusjon mellom signalet og impulsresponsen $h[n]$.\n",
    "$$y[n] = x[n]*h[n]$$"
   ]
  },
  {
   "cell_type": "markdown",
   "metadata": {
    "slideshow": {
     "slide_type": "slide"
    }
   },
   "source": [
    "# Oppsummering Frekvensrespons\n",
    "\n",
    "* ***Frekvensresponsen*** til et filter med impulsrespons $h[n]$ er impulsresponsens fourietransformerte:\n",
    "$$H\\left(e^{j\\hat{\\omega}} \\right) = \\text{DTFT}(h[n]) = \\sum_{n=0}^{\\infty} h[n]\\cdot e^{-j\\hat{\\omega}\\cdot n}$$\n",
    "* Gir forholdet mellom inngangssignal og utgangssignal til et filter i frekvensplanet.\n",
    "$$Y\\left(e^{j\\hat{\\omega}} \\right) = X\\left(e^{j\\hat{\\omega}} \\right)\\cdot H\\left(e^{j\\hat{\\omega}} \\right) \\leftrightarrow H\\left(e^{j\\hat{\\omega}} \\right) = \\frac{Y\\left(e^{j\\hat{\\omega}} \\right)}{X\\left(e^{j\\hat{\\omega}} \\right)}$$\n",
    "* Forteller hvordan filteret vil påvirke en hvilken som helst sinussekvens:\n",
    "\\begin{align}\n",
    "x[n] &=  A\\cdot \\cos(\\hat{\\omega}_0 \\cdot n + \\phi)\\\\\n",
    "& \\downarrow \\\\\n",
    "y[n] &= \\left| H\\left(e^{j\\hat{\\omega}} \\right)\\right| \\cdot A\\cdot \\cos\\left(\\hat{\\omega}_0 \\cdot n + \\phi + \\angle H\\left(e^{j\\hat{\\omega}} \\right)\\right)\n",
    "\\end{align}"
   ]
  },
  {
   "cell_type": "markdown",
   "metadata": {
    "slideshow": {
     "slide_type": "slide"
    }
   },
   "source": [
    "# IIR filtre\n",
    "\n",
    "* **IIR** - **I**nfinite **I**mpulse **R**esponse\n",
    "* Fellesbetegnelse for filter som kalkulerer utgangsveriden $y[n]$ basert på en lineær kombinasjon av verdiene til inngangssignalet ved foregående sampletidspunkt $x[n-k], \\ \\ k\\in \\{0, 1, 2, \\ldots\\}$ ***og*** tidligere kalkulerte verdier til utgangssignalet $y[n-k], \\ \\ k \\in \\{1, 2, \\ldots\\}$.\n",
    "\n",
    "\n",
    "* **Differanseligning:**\n",
    "$$\\sum_{k=0}^{N} a_k \\cdot y[n-k] = \\sum_{k=0}^{M} b_k \\cdot x[n-k]$$\n",
    "* **Filteralgoritme:**\n",
    "$$y[n] = \\frac{1}{a_0}\\cdot \\left(\\sum_{k=0}^{M} b_k \\cdot x[n-k] - \\sum_{k=1}^{N}a_k\\cdot  y[n-k] \\right)$$"
   ]
  },
  {
   "cell_type": "markdown",
   "metadata": {
    "slideshow": {
     "slide_type": "slide"
    }
   },
   "source": [
    "## Mellomregning differanseligning $\\rightarrow$ filteralgoritme\n",
    "\\begin{align}\n",
    "\\sum_{k=0}^{N} a_k \\cdot y[n-k] &= \\sum_{k=0}^{M} b_k \\cdot x[n-k]\\\\\n",
    "a_0\\cdot y[n]+\\sum_{k=1}^{N} a_k \\cdot y[n-k] &= \\sum_{k=0}^{M} b_k \\cdot x[n-k]\\\\\n",
    "a_0\\cdot y[n] &= \\sum_{k=0}^{M} b_k \\cdot x[n-k]-\\sum_{k=1}^{N} a_k \\cdot y[n-k]\\\\\n",
    "y[n] &=\\frac{1}{a_0}\\cdot \\left(\\sum_{k=0}^{M} b_k \\cdot x[n-k] - \\sum_{k=1}^{N}a_k\\cdot  y[n-k] \\right)\n",
    "\\end{align}"
   ]
  },
  {
   "cell_type": "markdown",
   "metadata": {
    "slideshow": {
     "slide_type": "slide"
    }
   },
   "source": [
    "# Rekursiv filterstruktur\n",
    "\n",
    "* IIR filtre omtales ofte som *rekursive* filtre ettersom utgangssignalet tilbakekobles som input.\n",
    "<img src=\"Figurer/12_IIR%20Filtre/Fig0_Recursion.png\" style=\"width: 35%; margin-left: 400px\" />\n",
    "\n",
    "* Impulsresponsen $h[n]$ for et slikt filter vil ha uendelig varighet.\n",
    "* Impulsrespons og filterkoeffisienter er ikke lengre synonyme.\n",
    "$$b_k \\neq h[n]\\big{|}_{n=k}$$"
   ]
  },
  {
   "cell_type": "markdown",
   "metadata": {
    "slideshow": {
     "slide_type": "notes"
    }
   },
   "source": [
    "* Ettersom impulsresponsen har uendelig varighet, er det ikke hensiktsmessig utføre filtrering ved å regne ut konvolusjon numerisk. Da bruker man heller filteralgoritmen, og finner utgangssamplene i kronologisk rekkefølge."
   ]
  },
  {
   "cell_type": "markdown",
   "metadata": {
    "slideshow": {
     "slide_type": "slide"
    }
   },
   "source": [
    "# Blokkskjema av filteralgoritme\n",
    "\n",
    "* Såkalt **Direkte Form I** Implementasjon:\n",
    "<img src=\"Figurer/12_IIR%20Filtre/Fig1_DF1.png\" style=\"width: 60%; margin-left: 200px\" />"
   ]
  },
  {
   "cell_type": "markdown",
   "metadata": {
    "slideshow": {
     "slide_type": "fragment"
    }
   },
   "source": [
    "* Det er *nesten alltid* ønskelig å ***normalisere*** filterkoeffisientene slik at $a_0 = 1$."
   ]
  },
  {
   "cell_type": "markdown",
   "metadata": {
    "slideshow": {
     "slide_type": "slide"
    }
   },
   "source": [
    "## Regneeksempel 1:\n",
    "\n",
    "\n",
    "<img src=\"Figurer/12_IIR%20Filtre/Fig2_DF1_ex.png\" style=\"width: 35%; margin-left: 100px\" />\n",
    "\n",
    "1. Finn *filterkoeffisientene* til filteret i figuren.\n",
    "2. Finn et uttrykk for filterets impulsrespons $h[n]$."
   ]
  },
  {
   "cell_type": "markdown",
   "metadata": {
    "slideshow": {
     "slide_type": "slide"
    }
   },
   "source": [
    "# Generell filtrering av signal i Python\n",
    "\n",
    "* Filtrering av signal med både IIR og FIR filter kan enkelt utføres med bruk av funksjonen [`lfilter()`](https://docs.scipy.org/doc/scipy/reference/generated/scipy.signal.lfilter.html) i modulen [`scipy.signal`](https://docs.scipy.org/doc/scipy/reference/tutorial/signal.html).\n",
    "* Argument:\n",
    "    * **`b`**: array med filterkoeffisienter $b_k$. \n",
    "    * **`a`**: array med filterkoeffisienter $a_k$.\n",
    "    * **`x`**: array med hele inngangssignalet $x[n]$.\n",
    "* Returverdi:\n",
    "    * **`y`**: array med utgangssignal. \n",
    "        * *NB! I motsetning til `np.convolve()` har `x` og `y` samme lengde.*"
   ]
  },
  {
   "cell_type": "markdown",
   "metadata": {
    "slideshow": {
     "slide_type": "slide"
    }
   },
   "source": [
    "## Kodeeksempel 1:\n",
    "* Bruk funksjonen `lfilter()` til å regne ut impulsresponsen for filteret i *regneeksempel 1* for sampleintervallet $-4\\leq n <60$, og vis det resulterende utgangssignalet i et stolpediagram.\n"
   ]
  },
  {
   "cell_type": "code",
   "execution_count": null,
   "metadata": {
    "slideshow": {
     "slide_type": "fragment"
    }
   },
   "outputs": [],
   "source": []
  },
  {
   "cell_type": "markdown",
   "metadata": {
    "slideshow": {
     "slide_type": "slide"
    }
   },
   "source": [
    "# Stegrespons *(sprangrespons)*\n",
    "\n",
    "* Utgangssignalet $y[n]$ for et LTI-system når inngangssignalet er en *enhetsstegfunksjon* $x[n] = u[n]$ er kjent som filterets stegrespons $s[n]$\n",
    "* Synliggjør filterets \"responstid\". \n",
    "* IIR-filtre vil som regel konvergere mot en stasjonær verdi.\n",
    "\n",
    "<img src=\"Figurer/12_IIR%20Filtre/Fig3_StepResp.png\" style=\"width: 80%; margin-left: 100px\" />"
   ]
  },
  {
   "cell_type": "markdown",
   "metadata": {
    "slideshow": {
     "slide_type": "slide"
    }
   },
   "source": [
    "# Stegrespons og impulsrespons\n",
    "\n",
    "<br>\n",
    "<div style=\"width: 100%;\">\n",
    "    <div style=\"float: left; width: 50%\">\n",
    "    <ul>\n",
    "      <li><b>Impulsrespons til stegrespons</b></li>\n",
    "        <br>\n",
    "        \\begin{align}\n",
    "        s[n] &= h[n]*u[n]\\\\\n",
    "        &= \\sum_{k=0}^{\\infty}h[k]\\cdot u[n-k]\\\\\n",
    "        &= \\sum_{k=0}^{n-1}h[k]\n",
    "        \\end{align}\n",
    "    </ul>  \n",
    "    </div>\n",
    "    <div style=\"float: right; width: 50%\">\n",
    "    <ul>\n",
    "      <li><b>Stegrespons til impulsrespons</b></li>\n",
    "        <br>\n",
    "        \\begin{align}\n",
    "        \\delta[n] &= u[n] - u[n-1]\\\\\n",
    "        & \\downarrow\\\\\n",
    "        h[n] &= s[n]-s[n-1]\n",
    "        \\end{align}\n",
    "    </ul>  \n",
    "    </div>\n",
    "</div> \n",
    "\n",
    "\n"
   ]
  },
  {
   "cell_type": "markdown",
   "metadata": {
    "slideshow": {
     "slide_type": "slide"
    }
   },
   "source": [
    "## Regneeksempel 2:\n",
    "\n",
    "* Finn stegresponsen til filteret i eksempel 1.\n",
    "* Justér filterkoeffisientene slik at stegresponsen konvergerer mot 1: $$\\lim_{n\\rightarrow \\infty} s[n] = 1$$"
   ]
  },
  {
   "cell_type": "markdown",
   "metadata": {
    "slideshow": {
     "slide_type": "slide"
    }
   },
   "source": [
    "# Frekvensrespons førsteordens IIR-filter\n",
    "\n",
    "* Vi kan fortsatt finne frekvensresponsen til ved å fouriertransformere impulsresponsen $h[n]$.\n",
    "\\begin{align}\n",
    "y[n] &= b_0 \\cdot x[n] - a_1 \\cdot y[n-1]\\\\\n",
    "&\\downarrow \\\\\n",
    "h[n] &= b_0\\cdot u[n] \\cdot (-a_1)^n \\\\\n",
    "&\\downarrow \\\\\n",
    "H\\left(e^{j\\hat{\\omega}}\\right) &= \\frac{b_0}{1+a_1\\cdot e^{-j\\hat{\\omega}}}, \\ \\ \\ |a_1| < 1\n",
    "\\end{align}\n",
    "* DTFT av geometrisk rekke gitt i tabell over vanlige fouriertransformasjonspar."
   ]
  },
  {
   "cell_type": "markdown",
   "metadata": {
    "slideshow": {
     "slide_type": "fragment"
    }
   },
   "source": [
    "* Hva skjer dersom $|a_1| \\geq 1$?"
   ]
  },
  {
   "cell_type": "code",
   "execution_count": 134,
   "metadata": {},
   "outputs": [
    {
     "data": {
      "application/vnd.jupyter.widget-view+json": {
       "model_id": "a7ff957bb7ee4a4094806f9660981f13",
       "version_major": 2,
       "version_minor": 0
      },
      "text/plain": [
       "Canvas(toolbar=Toolbar(toolitems=[('Home', 'Reset original view', 'home', 'home'), ('Back', 'Back to previous …"
      ]
     },
     "metadata": {},
     "output_type": "display_data"
    },
    {
     "data": {
      "application/vnd.jupyter.widget-view+json": {
       "model_id": "c12c9cde879c4114909826eeadcaaf19",
       "version_major": 2,
       "version_minor": 0
      },
      "text/plain": [
       "VBox(children=(FloatSlider(value=0.125, continuous_update=False, description='Digital Frekvens $\\\\hat{\\\\omega}…"
      ]
     },
     "metadata": {},
     "output_type": "display_data"
    },
    {
     "data": {
      "application/vnd.jupyter.widget-view+json": {
       "model_id": "3bfa6a09c1134d7b835fb67cc20a87d3",
       "version_major": 2,
       "version_minor": 0
      },
      "text/plain": [
       "Output()"
      ]
     },
     "metadata": {},
     "output_type": "display_data"
    }
   ],
   "source": [
    "# Frekvensresponsen til filteret i eksempel 3\n",
    "FreqRespDemo([0.1], [1, -0.9], fig_num=3);"
   ]
  },
  {
   "cell_type": "markdown",
   "metadata": {
    "slideshow": {
     "slide_type": "slide"
    }
   },
   "source": [
    "## Amplituderespons IIR og FIR filter"
   ]
  },
  {
   "cell_type": "code",
   "execution_count": 128,
   "metadata": {
    "slideshow": {
     "slide_type": "fragment"
    }
   },
   "outputs": [
    {
     "data": {
      "application/vnd.jupyter.widget-view+json": {
       "model_id": "91682f3dec584d3ba1fc266aa834dae4",
       "version_major": 2,
       "version_minor": 0
      },
      "text/plain": [
       "Canvas(toolbar=Toolbar(toolitems=[('Home', 'Reset original view', 'home', 'home'), ('Back', 'Back to previous …"
      ]
     },
     "metadata": {},
     "output_type": "display_data"
    },
    {
     "data": {
      "text/plain": [
       "<matplotlib.legend.Legend at 0x289761b9c70>"
      ]
     },
     "execution_count": 128,
     "metadata": {},
     "output_type": "execute_result"
    }
   ],
   "source": [
    "# Førsteordens IIR-filter\n",
    "w, Hw1 = sig.freqz([0.1], [1, -0.9])\n",
    "# 21-punkts middelverdifilter \n",
    "w, Hw2 = sig.freqz(np.ones(21)/21)\n",
    "\n",
    "# Vis amplituderesponsen til de to filtrene i samme figur\n",
    "plt.close(2); plt.figure(2)\n",
    "plt.plot(w, np.abs(Hw1), label=r'IIR-filter')\n",
    "plt.plot(w, np.abs(Hw2), label=r'Middelverdifilter')\n",
    "plt.grid(True)\n",
    "plt.xticks(np.linspace(0, 1, 6)*pi, [str(round(i,2))+r'$\\pi$' for i in np.linspace(0, 1, 6)])\n",
    "plt.xlabel(r'Digital Frekvens $\\hat{\\omega}$')\n",
    "plt.ylabel(r'$\\left| H\\left(e^{j\\hat{\\omega}}\\right)\\right|$')\n",
    "plt.xlim([0, pi]); plt.ylim(ymin=0)\n",
    "plt.title(r'Amplituderespons')\n",
    "plt.legend()"
   ]
  },
  {
   "cell_type": "markdown",
   "metadata": {
    "slideshow": {
     "slide_type": "slide"
    }
   },
   "source": [
    "## Regneeksempel 3: \n",
    "* Gitt høypassfilteret\n",
    "$$y[n] = x[n]-x[n-1]-0.8\\cdot y[n-1]$$\n",
    "Finn et uttrykk for frekvensresponsen, og korriger deretter filterkoeffisientene slik at $\\text{max}\\left(\\left|H\\left(e^{j\\hat{\\omega}}\\right)\\right|\\right) = 1$."
   ]
  },
  {
   "cell_type": "code",
   "execution_count": 135,
   "metadata": {
    "slideshow": {
     "slide_type": "slide"
    }
   },
   "outputs": [
    {
     "data": {
      "application/vnd.jupyter.widget-view+json": {
       "model_id": "053c105baf0a4531aad8af6e24307b31",
       "version_major": 2,
       "version_minor": 0
      },
      "text/plain": [
       "Canvas(toolbar=Toolbar(toolitems=[('Home', 'Reset original view', 'home', 'home'), ('Back', 'Back to previous …"
      ]
     },
     "metadata": {},
     "output_type": "display_data"
    },
    {
     "data": {
      "application/vnd.jupyter.widget-view+json": {
       "model_id": "5c38abeff76d4336b3c7227dab7cc351",
       "version_major": 2,
       "version_minor": 0
      },
      "text/plain": [
       "VBox(children=(FloatSlider(value=0.125, continuous_update=False, description='Digital Frekvens $\\\\hat{\\\\omega}…"
      ]
     },
     "metadata": {},
     "output_type": "display_data"
    },
    {
     "data": {
      "application/vnd.jupyter.widget-view+json": {
       "model_id": "1471ccd3b0cd40fc89bfbde155b9d7a0",
       "version_major": 2,
       "version_minor": 0
      },
      "text/plain": [
       "Output()"
      ]
     },
     "metadata": {},
     "output_type": "display_data"
    }
   ],
   "source": [
    "# Frekvensresponsen til filteret i eksempel 3\n",
    "FreqRespDemo([0.1, -0.1], [1, 0.8], fig_num=3);"
   ]
  },
  {
   "cell_type": "markdown",
   "metadata": {
    "slideshow": {
     "slide_type": "slide"
    }
   },
   "source": [
    "# Refleksjoner\n",
    "\n",
    "* Ved å lage et *rekursivt* filter, kan selv enkle førsteordens filtre produsere en langvarig impulsrespons.\n",
    "* Et IIR-filter med relativt lav filterorden kan, dersom vi velger filterkoeffisienter med omhu, oppfylle de samme kravene for amplitduerespons som et FIR filter med ***mye*** høyere filterorden.\n",
    "* Ulempen er at IIR filtre ***ikke*** har lineær faserespons i passbåndet. \n",
    "    * Konsekvensen av dette er *tidsforskyvningen* for hver av frekvenskomponentene til det filtrerte signalet gitt i antall sampler ikke vil være konstant.\n",
    "    * Dette har potensiale til å forårsake uønsket distorsjon av f.eks. et lydsignal."
   ]
  },
  {
   "cell_type": "markdown",
   "metadata": {
    "slideshow": {
     "slide_type": "fragment"
    }
   },
   "source": [
    "* For å kunne analysere IIR-filter med filterorden $>1$, trenger vi et nytt verktøy: **Z-transformen**\n",
    "    * Z-transformen kan regnes som Laplacetransformens diskréte utgave.\n",
    "    * Denne venter vi med til etter påske"
   ]
  },
  {
   "cell_type": "markdown",
   "metadata": {
    "slideshow": {
     "slide_type": "slide"
    }
   },
   "source": [
    "# God Påske! "
   ]
  }
 ],
 "metadata": {
  "celltoolbar": "Slideshow",
  "kernelspec": {
   "display_name": "Python 3",
   "language": "python",
   "name": "python3"
  },
  "language_info": {
   "codemirror_mode": {
    "name": "ipython",
    "version": 3
   },
   "file_extension": ".py",
   "mimetype": "text/x-python",
   "name": "python",
   "nbconvert_exporter": "python",
   "pygments_lexer": "ipython3",
   "version": "3.8.5"
  }
 },
 "nbformat": 4,
 "nbformat_minor": 4
}
