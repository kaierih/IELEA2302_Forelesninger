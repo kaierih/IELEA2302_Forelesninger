{
 "cells": [
  {
   "cell_type": "code",
   "execution_count": 4,
   "metadata": {},
   "outputs": [],
   "source": [
    "# Generelle moduler og funksjonsbeskrivelser brukt i forelesningen\n",
    "from numpy import sin, cos, pi, exp\n",
    "import numpy.fft as fft\n",
    "import numpy as np\n",
    "import matplotlib.pyplot as plt\n",
    "from Kildekode._07_Frekvensanalyse import *\n",
    "\n",
    "%matplotlib ipympl"
   ]
  },
  {
   "cell_type": "markdown",
   "metadata": {
    "slideshow": {
     "slide_type": "slide"
    }
   },
   "source": [
    "<img src=\"NTNU_Logo.png\" align=\"left\" style=\"width: 30%\">\n",
    "<br clear=\"all\" />\n",
    "<br></br>\n",
    "\n",
    "# Intro til Digitale Filtre\n",
    "\n",
    "* **Emne IELEA2302 - Signalbehandling**\n",
    "* **Uke 9/10, 2021**\n",
    "* **Relevant Pensum:**\n",
    "    * Kapittel 5 i læreboka DSP First\n",
    "* **Underviser: Kai Erik Hoff**"
   ]
  },
  {
   "cell_type": "markdown",
   "metadata": {
    "slideshow": {
     "slide_type": "slide"
    }
   },
   "source": [
    "# Tema:\n",
    "* Signal og System\n",
    "* Digitale Filtre - hva og hvorfor?\n",
    "* Bruk av digitale filtre\n",
    "\n",
    "#### Repetisjon\n",
    "* Eksempeloppgaver\n"
   ]
  },
  {
   "cell_type": "markdown",
   "metadata": {
    "slideshow": {
     "slide_type": "slide"
    }
   },
   "source": [
    "# Signal og System\n",
    "\n",
    "### Generell terminologi\n",
    "\n",
    "* **Signal:**\n",
    "    * En funksjon som formidler informasjon om et fenomen.\n",
    "* **System:**\n",
    "    * Tar imot inngangssignal og produserer et nytt utgangssignal\n",
    "    \n",
    "    \n",
    "* Eksempel på system:\n",
    "<img src=\"Figurer/10_Digitale Filtre Intro/Fig0_DSPSystem.png\" style=\"width: 80%; margin-left=100px\" />"
   ]
  },
  {
   "cell_type": "markdown",
   "metadata": {
    "slideshow": {
     "slide_type": "slide"
    }
   },
   "source": [
    "# LTI-system\n",
    "\n",
    "* Vi skal i hovedsak begrense oss til å snakke om system som er ***lineære*** og ***tidsinvariante***.\n",
    "    * Slike filtre omtales som ***LTI-system***\n",
    "    * Det mest sentrale kjennetegnet på LTI-system er at sinusformede inngangssignal ***alltid*** vil gi sinusformede utgangssignal.\n",
    "        * Utgangssignalet kan dog ha en annen *Amplitude* og *Fase*\n",
    "    * *Mer om disse egenskapene i neste uke*"
   ]
  },
  {
   "cell_type": "markdown",
   "metadata": {
    "slideshow": {
     "slide_type": "slide"
    }
   },
   "source": [
    "# Hva er et filter?\n",
    "* I signalbehandlingssammenheng refererer et **filter** til et system som demper uønskede frekvenskomponenter i et signal.\n",
    "\n",
    "    \n",
    "<img src=\"Figurer/10_Digitale Filtre Intro/Fig2_FiltResp.png\" style=\"width: 50%; margin-left=200px\" />"
   ]
  },
  {
   "cell_type": "markdown",
   "metadata": {
    "slideshow": {
     "slide_type": "slide"
    }
   },
   "source": [
    "# Analoge filtre\n",
    "* Fysiske elektroniske kretser.\n",
    "* Beskrives matematisk med en differensiallikning *(eller en transferfunksjon)*.\n",
    "* Eksempel: RLC-krets:\n",
    "<img src=\"Figurer/10_Digitale Filtre Intro/Fig1_AnalogFilt.png\" style=\"width: 80%; margin-left=100px\" />"
   ]
  },
  {
   "cell_type": "markdown",
   "metadata": {
    "slideshow": {
     "slide_type": "slide"
    }
   },
   "source": [
    "# Digitale Filtre\n",
    "\n",
    "* *Algoritme* for å regne ut hver sample av utgangssignalet $y[n]$\n",
    "* Eksisterer kun som programvare\n",
    "* Utgangssignalet er en ***lineær kombinasjon*** av signalverdier ved ulike tidspunkt\n",
    "* Eksempel:\n",
    "$$ y[n] = 0.25\\cdot x[n] + 0.5\\cdot x[n-1] + 0.25 \\cdot x[n-2]$$\n",
    "    * Utregning av sample nummer 5:\n",
    "    $$y[5] = 0.25\\cdot x[5] + 0.5\\cdot x[4] + 0.25 \\cdot x[3]$$\n",
    "* Krever at programmet fører en \"logg\" over tidligere signalverdier"
   ]
  },
  {
   "cell_type": "markdown",
   "metadata": {
    "slideshow": {
     "slide_type": "slide"
    }
   },
   "source": [
    "# Buksområder\n",
    "\n",
    "* Bildebehandling\n",
    "* Audioprosessering\n",
    "* Kommunikasjonssystem\n",
    "* Digitale kontrollere\n",
    "* Mye mer"
   ]
  },
  {
   "cell_type": "markdown",
   "metadata": {
    "slideshow": {
     "slide_type": "slide"
    }
   },
   "source": [
    "# Fordeler og ulemper\n",
    "\n",
    "<br>\n",
    "<div style=\"width: 100%;\">\n",
    "    <div style=\"float: left; width: 50%\">\n",
    "    <ul>\n",
    "        <b> Fordeler </b>\n",
    "        <br>\n",
    "        <li> Tillater filterresponser som ikke kan oppnås med analoge filtre </li>\n",
    "        <li> Kostnadseffektivt </li>\n",
    "        <li> Enkle å modifisere </li>\n",
    "    </ul>\n",
    "    </div>\n",
    "    <div style=\"float: right; width: 50%\">\n",
    "    <ul>\n",
    "        <b> Ulemper</b>\n",
    "        <br>\n",
    "        <li> Kan tilføre ekstra forsinkelse i systemet </li>\n",
    "        <li> Fungerer kun innenfor et frekvensbånd gitt av samplingsfrekvensen </li>\n",
    "    </ul>\n",
    "    </div>\n",
    "</div> "
   ]
  },
  {
   "cell_type": "markdown",
   "metadata": {
    "slideshow": {
     "slide_type": "slide"
    }
   },
   "source": [
    "# Differanseligning\n",
    "\n",
    "* Matematisk beskrivelse av et digitalt filter basert på ***filterkoeffisienter*** $a_k$ og $b_k$.\n",
    "* Beskriver forholdet mellom inn- og utgangssignal.\n",
    "\n",
    "### $$ \\sum_{k=0}^{N}a_k\\cdot  y[n-k] = \\sum_{k=0}^{M} b_k \\cdot x[n-k]$$\n",
    "\n",
    "* Digital filterdesign sentrerer seg rundt å finne passende verdier for filterkoeffisientene $a_k$ og $b_k$. \n",
    "    * Disse verdiene anvendes så *direkte* i filteralgoritmen uten behov for å balansere kretskomponenter."
   ]
  },
  {
   "cell_type": "markdown",
   "metadata": {
    "slideshow": {
     "slide_type": "slide"
    }
   },
   "source": [
    "# Hvordan bruke digitale filter\n",
    "\n",
    "1. Regn ut filterkoeffisientene $a_k$ og $b_k$.\n",
    "    * Her er det vanlig å bruke dataverktøy som Python eller Matlab\n",
    "    * Det finnes mange ulike fremgangsmåter avhengig av bruk\n",
    "    \n",
    "    \n",
    "2. Implementer filteralgoritmen på en digital enhet\n",
    "    * Dette kan for eksempel være i form av et program på en Arduino mikrokontroller.\n",
    "    "
   ]
  },
  {
   "cell_type": "markdown",
   "metadata": {
    "slideshow": {
     "slide_type": "slide"
    }
   },
   "source": [
    "## Eksempel: Regn ut filterparametre i Python"
   ]
  },
  {
   "cell_type": "code",
   "execution_count": 7,
   "metadata": {
    "slideshow": {
     "slide_type": "fragment"
    }
   },
   "outputs": [
    {
     "name": "stdout",
     "output_type": "stream",
     "text": [
      "b: [0.01290369 0.06451846 0.12903692 0.12903692 0.06451846 0.01290369] \n",
      "a: [ 1.         -1.47967143  1.40369177 -0.68085641  0.1918841  -0.0221299 ]\n"
     ]
    },
    {
     "data": {
      "application/vnd.jupyter.widget-view+json": {
       "model_id": "a0a86c5d28b34ad7b97e171350fcc5fe",
       "version_major": 2,
       "version_minor": 0
      },
      "text/plain": [
       "Canvas(toolbar=Toolbar(toolitems=[('Home', 'Reset original view', 'home', 'home'), ('Back', 'Back to previous …"
      ]
     },
     "metadata": {},
     "output_type": "display_data"
    },
    {
     "data": {
      "text/plain": [
       "[<matplotlib.lines.Line2D at 0x24c42f7f0a0>]"
      ]
     },
     "execution_count": 7,
     "metadata": {},
     "output_type": "execute_result"
    }
   ],
   "source": [
    "import scipy.signal as sig\n",
    "\n",
    "\n",
    "# Kode for Digitalt Fjerdeordens Butterworth Lavpassfilter\n",
    "b, a = sig.butter(N = 5,              # Filterorden\n",
    "                  Wn = 0.35,          # Digital Knekkfrekvens (x pi)\n",
    "                  btype = 'lowpass',  # Lavpassfilter\n",
    "                  output = 'ba'       # Returner filterkoeffisenter\n",
    "                  )\n",
    "\n",
    "print(\"b:\", b, \"\\na:\", a)\n",
    "\n",
    "w, H = sig.freqz(b, a)\n",
    "plt.close(1); plt.figure(1)\n",
    "plt.plot(w/pi, abs(H))"
   ]
  },
  {
   "cell_type": "markdown",
   "metadata": {
    "slideshow": {
     "slide_type": "slide"
    }
   },
   "source": [
    "## Eksempel: Implementasjon på Arduino\n",
    "<pre>\n",
    "<font color=\"#95a5a6\">&#47;* A program to read from analog input periodically, filter the input using a digital butterworth filter,</font>\n",
    "<font color=\"#95a5a6\"> &nbsp;&nbsp;&nbsp;and print the filtered signal samples to the serial monitor. *&#47;</font>\n",
    "<font color=\"#5e6d03\">#include</font> <font color=\"#005c5f\">&#34;IIR_filter.h&#34;</font> &nbsp;&nbsp;&nbsp;&nbsp;&nbsp;&nbsp;&nbsp;&nbsp;&nbsp;&nbsp;&nbsp;&nbsp;<font color=\"#434f54\">&#47;&#47; Contains IIR filter class</font>\n",
    "<font color=\"#5e6d03\">#include</font> <font color=\"#005c5f\">&#34;Timer.h&#34;</font> &nbsp;&nbsp;&nbsp;&nbsp;&nbsp;&nbsp;&nbsp;&nbsp;&nbsp;&nbsp;&nbsp;&nbsp;&nbsp;&nbsp;&nbsp;&nbsp;&nbsp;<font color=\"#434f54\">&#47;&#47; Contains Timer class</font>\n",
    "\n",
    "<font color=\"#00979c\">const</font> <font color=\"#00979c\">int</font> <font color=\"#000000\">SIG_INPUT</font> <font color=\"#434f54\">=</font> <font color=\"#000000\">A0</font><font color=\"#000000\">;</font> &nbsp;&nbsp;&nbsp;&nbsp;&nbsp;&nbsp;&nbsp;&nbsp;&nbsp;&nbsp;<font color=\"#434f54\">&#47;&#47; Signal Input Pin</font>\n",
    "<font color=\"#00979c\">const</font> <font color=\"#00979c\">int</font> <font color=\"#000000\">SIG_OUTPUT</font> <font color=\"#434f54\">=</font> <font color=\"#000000\">3</font><font color=\"#000000\">;</font> &nbsp;&nbsp;&nbsp;&nbsp;&nbsp;&nbsp;&nbsp;&nbsp;&nbsp;&nbsp;<font color=\"#434f54\">&#47;&#47; Signal Output Pin</font>\n",
    "<font color=\"#00979c\">const</font> <font color=\"#00979c\">unsigned</font> <font color=\"#00979c\">int</font> <font color=\"#000000\">T_S</font> <font color=\"#434f54\">=</font> <font color=\"#000000\">10</font><font color=\"#000000\">;</font> &nbsp;&nbsp;&nbsp;&nbsp;&nbsp;&nbsp;&nbsp;<font color=\"#434f54\">&#47;&#47; Sample period</font>\n",
    "\n",
    "<font color=\"#000000\">IIR_filter</font> <font color=\"#000000\">LP_Filt</font><font color=\"#000000\">;</font> &nbsp;&nbsp;&nbsp;&nbsp;&nbsp;&nbsp;&nbsp;&nbsp;&nbsp;&nbsp;&nbsp;&nbsp;&nbsp;&nbsp;<font color=\"#434f54\">&#47;&#47; Create a filter object</font>\n",
    "<font color=\"#000000\">Timer</font> <font color=\"#000000\">sampleTimer</font><font color=\"#000000\">;</font> &nbsp;&nbsp;&nbsp;&nbsp;&nbsp;&nbsp;&nbsp;&nbsp;&nbsp;&nbsp;&nbsp;&nbsp;&nbsp;&nbsp;&nbsp;&nbsp;&nbsp;<font color=\"#434f54\">&#47;&#47; Timer to manage sampling intervals</font>\n",
    "\n",
    "<font color=\"#00979c\">void</font> <font color=\"#5e6d03\">setup</font><font color=\"#000000\">(</font><font color=\"#000000\">)</font> <font color=\"#000000\">{</font>\n",
    " &nbsp;<font color=\"#d35400\">pinMode</font><font color=\"#000000\">(</font><font color=\"#000000\">SIG_INPUT</font><font color=\"#434f54\">,</font> <font color=\"#00979c\">INPUT</font><font color=\"#000000\">)</font><font color=\"#000000\">;</font>\n",
    " &nbsp;<font color=\"#d35400\">pinMode</font><font color=\"#000000\">(</font><font color=\"#000000\">SIG_OUTPUT</font><font color=\"#434f54\">,</font> <font color=\"#00979c\">OUTPUT</font><font color=\"#000000\">)</font><font color=\"#000000\">;</font>\n",
    "\n",
    " &nbsp;<font color=\"#95a5a6\">&#47;* Initialize myFilter object with filter coefficients and filter order as specified below *&#47;</font>\n",
    " &nbsp;<font color=\"#00979c\">float</font> <font color=\"#000000\">b</font><font color=\"#000000\">[</font><font color=\"#000000\">5</font><font color=\"#000000\">]</font> <font color=\"#434f54\">=</font> <font color=\"#000000\">{</font><font color=\"#000000\">0.03048527</font><font color=\"#434f54\">,</font> <font color=\"#000000\">0.12194108</font><font color=\"#434f54\">,</font> <font color=\"#000000\">0.18291162</font><font color=\"#434f54\">,</font> &nbsp;<font color=\"#000000\">0.12194108</font><font color=\"#434f54\">,</font> <font color=\"#000000\">0.03048527</font><font color=\"#000000\">}</font><font color=\"#000000\">;</font>\n",
    " &nbsp;<font color=\"#00979c\">float</font> <font color=\"#000000\">a</font><font color=\"#000000\">[</font><font color=\"#000000\">5</font><font color=\"#000000\">]</font> <font color=\"#434f54\">=</font> <font color=\"#000000\">{</font><font color=\"#000000\">1.</font><font color=\"#434f54\">,</font> &nbsp;&nbsp;&nbsp;&nbsp;&nbsp;&nbsp;&nbsp;<font color=\"#434f54\">-</font><font color=\"#000000\">1.17512564</font><font color=\"#434f54\">,</font> <font color=\"#000000\">0.92564873</font><font color=\"#434f54\">,</font> <font color=\"#434f54\">-</font><font color=\"#000000\">0.31042133</font><font color=\"#434f54\">,</font> <font color=\"#000000\">0.04766256</font><font color=\"#000000\">}</font><font color=\"#000000\">;</font>\n",
    " &nbsp;<font color=\"#000000\">LP_Filt</font><font color=\"#434f54\">.</font><font color=\"#000000\">initialize</font><font color=\"#000000\">(</font><font color=\"#000000\">b</font><font color=\"#434f54\">,</font> <font color=\"#000000\">a</font><font color=\"#000000\">)</font><font color=\"#000000\">;</font>\n",
    "<font color=\"#000000\">}</font>\n",
    "\n",
    "<font color=\"#00979c\">void</font> <font color=\"#5e6d03\">loop</font><font color=\"#000000\">(</font><font color=\"#000000\">)</font> <font color=\"#000000\">{</font>\n",
    " &nbsp;<font color=\"#5e6d03\">if</font> <font color=\"#000000\">(</font><font color=\"#000000\">sampleTimer</font><font color=\"#434f54\">.</font><font color=\"#000000\">hasExpired</font><font color=\"#000000\">(</font><font color=\"#000000\">)</font><font color=\"#000000\">)</font>\n",
    " &nbsp;<font color=\"#000000\">{</font>\n",
    " &nbsp;&nbsp;&nbsp;<font color=\"#000000\">sampleTimer</font><font color=\"#434f54\">.</font><font color=\"#000000\">start</font><font color=\"#000000\">(</font><font color=\"#000000\">T_S</font><font color=\"#000000\">)</font><font color=\"#000000\">;</font> &nbsp;&nbsp;&nbsp;&nbsp;&nbsp;&nbsp;&nbsp;&nbsp;&nbsp;&nbsp;&nbsp;&nbsp;&nbsp;&nbsp;&nbsp;&nbsp;&nbsp;&nbsp;&nbsp;&nbsp;&nbsp;&nbsp;&nbsp;&nbsp;&nbsp;&nbsp;&nbsp;&nbsp;\n",
    " &nbsp;&nbsp;&nbsp;<font color=\"#00979c\">float</font> <font color=\"#000000\">input_sample</font> <font color=\"#434f54\">=</font> <font color=\"#000000\">(</font><font color=\"#00979c\">float</font><font color=\"#000000\">)</font><font color=\"#d35400\">analogRead</font><font color=\"#000000\">(</font><font color=\"#000000\">SIG_INPUT</font><font color=\"#000000\">)</font><font color=\"#000000\">;</font> &nbsp;&nbsp;&nbsp;&nbsp;&nbsp;&nbsp;&nbsp;&nbsp;&nbsp;&nbsp;&nbsp;&nbsp;&nbsp;&nbsp;<font color=\"#434f54\">&#47;&#47; Get Input Sample</font>\n",
    " &nbsp;&nbsp;&nbsp;<font color=\"#00979c\">float</font> <font color=\"#000000\">output_sample</font> <font color=\"#434f54\">=</font> <font color=\"#000000\">LP_Filt</font><font color=\"#434f54\">.</font><font color=\"#000000\">filter_sample</font><font color=\"#000000\">(</font><font color=\"#000000\">input_sample</font><font color=\"#000000\">)</font><font color=\"#000000\">;</font> &nbsp;&nbsp;&nbsp;&nbsp;<font color=\"#434f54\">&#47;&#47; Filter latest input sample</font>\n",
    " &nbsp;&nbsp;&nbsp;<font color=\"#d35400\">analogWrite</font><font color=\"#000000\">(</font><font color=\"#000000\">SIG_OUTPUT</font><font color=\"#434f54\">,</font> <font color=\"#d35400\">round</font><font color=\"#000000\">(</font><font color=\"#000000\">output_sample</font><font color=\"#434f54\">&#47;</font><font color=\"#000000\">4</font><font color=\"#000000\">)</font><font color=\"#000000\">)</font><font color=\"#000000\">;</font> &nbsp;&nbsp;&nbsp;&nbsp;&nbsp;&nbsp;&nbsp;&nbsp;&nbsp;&nbsp;&nbsp;&nbsp;&nbsp;&nbsp;&nbsp;&nbsp;<font color=\"#434f54\">&#47;&#47; Set output level</font>\n",
    " &nbsp;<font color=\"#000000\">}</font>\n",
    "<font color=\"#000000\">}</font>\n",
    "\n",
    "</pre>"
   ]
  },
  {
   "cell_type": "markdown",
   "metadata": {
    "slideshow": {
     "slide_type": "slide"
    }
   },
   "source": [
    "# Planen videre:\n",
    "\n",
    "* FIR filtre \n",
    "* Frekvensrespons\n",
    "* IIR filtre\n",
    "* Transferfunksjoner\n",
    "* Poler og Nullpunkt\n",
    "* Implementasjon av filtre"
   ]
  },
  {
   "cell_type": "markdown",
   "metadata": {
    "slideshow": {
     "slide_type": "slide"
    }
   },
   "source": [
    "# Spørsmål?"
   ]
  }
 ],
 "metadata": {
  "celltoolbar": "Slideshow",
  "kernelspec": {
   "display_name": "Python 3",
   "language": "python",
   "name": "python3"
  },
  "language_info": {
   "codemirror_mode": {
    "name": "ipython",
    "version": 3
   },
   "file_extension": ".py",
   "mimetype": "text/x-python",
   "name": "python",
   "nbconvert_exporter": "python",
   "pygments_lexer": "ipython3",
   "version": "3.8.5"
  }
 },
 "nbformat": 4,
 "nbformat_minor": 4
}
