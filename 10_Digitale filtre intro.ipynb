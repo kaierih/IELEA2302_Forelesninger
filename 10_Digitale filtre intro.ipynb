{
 "cells": [
  {
   "cell_type": "code",
   "execution_count": 1,
   "metadata": {},
   "outputs": [],
   "source": [
    "# Generelle moduler og funksjonsbeskrivelser brukt i forelesningen\n",
    "from numpy import sin, cos, pi, exp\n",
    "import numpy.fft as fft\n",
    "import numpy as np\n",
    "import matplotlib.pyplot as plt\n",
    "from Kildekode._10_Konvolusjon import *\n",
    "\n",
    "%matplotlib ipympl"
   ]
  },
  {
   "cell_type": "markdown",
   "metadata": {
    "slideshow": {
     "slide_type": "slide"
    }
   },
   "source": [
    "<img src=\"NTNU_Logo.png\" align=\"left\" style=\"width: 30%\">\n",
    "<br clear=\"all\" />\n",
    "<br></br>\n",
    "\n",
    "# Digitale Filtre, Impulsrespons og Konvolusjon\n",
    "\n",
    "* **Emne IELEA2302 - Signalbehandling**\n",
    "* **Uke 9/10, 2021**\n",
    "* **Relevant Pensum:**\n",
    "    * Kapittel 5 i læreboka DSP First\n",
    "* **Underviser: Kai Erik Hoff**"
   ]
  },
  {
   "cell_type": "markdown",
   "metadata": {
    "slideshow": {
     "slide_type": "skip"
    }
   },
   "source": [
    "# Tema tirsdag 2. mars:\n",
    "* Signal og System\n",
    "* Digitale Filtre - hva og hvorfor?\n",
    "* Bruk av digitale filtre\n",
    "\n",
    "#### Repetisjon\n",
    "* Eksempeloppgaver\n"
   ]
  },
  {
   "cell_type": "markdown",
   "metadata": {
    "slideshow": {
     "slide_type": "slide"
    }
   },
   "source": [
    "# Tema fredag 12. mars:\n",
    "* Repetisjon Signal og System\n",
    "* Kausale LTI-system\n",
    "* Impulsrespons\n",
    "* FIR filtre\n",
    "* Konvolusjon\n",
    "* Sammensatte system"
   ]
  },
  {
   "cell_type": "markdown",
   "metadata": {
    "slideshow": {
     "slide_type": "slide"
    }
   },
   "source": [
    "# Signal og System\n",
    "\n",
    "### Generell terminologi\n",
    "\n",
    "* **Signal:**\n",
    "    * En funksjon som formidler informasjon om et fenomen.\n",
    "* **System:**\n",
    "    * Tar imot inngangssignal og produserer et nytt utgangssignal\n",
    "    \n",
    "    \n",
    "* Eksempel på system:\n",
    "<img src=\"Figurer/10_Digitale Filtre Intro/Fig0_DSPSystem.png\" style=\"width: 80%; margin-left=100px\" />"
   ]
  },
  {
   "cell_type": "markdown",
   "metadata": {
    "slideshow": {
     "slide_type": "skip"
    }
   },
   "source": [
    "# LTI-system\n",
    "\n",
    "* Vi skal i hovedsak begrense oss til å snakke om system som er ***lineære*** og ***tidsinvariante***.\n",
    "    * Slike filtre omtales som ***LTI-system***\n",
    "    * Det mest sentrale kjennetegnet på LTI-system er at sinusformede inngangssignal ***alltid*** vil gi sinusformede utgangssignal.\n",
    "        * Utgangssignalet kan dog ha en annen *Amplitude* og *Fase*\n",
    "    * *Mer om disse egenskapene i neste uke*"
   ]
  },
  {
   "cell_type": "markdown",
   "metadata": {
    "slideshow": {
     "slide_type": "skip"
    }
   },
   "source": [
    "# Hva er et filter?\n",
    "* I signalbehandlingssammenheng refererer et **filter** til et system som demper uønskede frekvenskomponenter i et signal.\n",
    "\n",
    "    \n",
    "<img src=\"Figurer/10_Digitale Filtre Intro/Fig2_FiltResp.png\" style=\"width: 50%; margin-left=200px\" />"
   ]
  },
  {
   "cell_type": "markdown",
   "metadata": {
    "slideshow": {
     "slide_type": "skip"
    }
   },
   "source": [
    "# Analoge filtre\n",
    "* Fysiske elektroniske kretser.\n",
    "* Beskrives matematisk med en differensiallikning *(eller en transferfunksjon)*.\n",
    "* Eksempel: RLC-krets:\n",
    "<img src=\"Figurer/10_Digitale Filtre Intro/Fig1_AnalogFilt.png\" style=\"width: 80%; margin-left=100px\" />"
   ]
  },
  {
   "cell_type": "markdown",
   "metadata": {
    "slideshow": {
     "slide_type": "slide"
    }
   },
   "source": [
    "# Digitale Filtre\n",
    "\n",
    "* *Algoritme* for å regne ut hver sample av utgangssignalet $y[n]$\n",
    "* Eksisterer kun som programvare\n",
    "* Utgangssignalet er en ***lineær kombinasjon*** av signalverdier ved ulike tidspunkt\n",
    "* Eksempel: *3-punkts middelverdifilter*\n",
    "$$ y[n] = \\frac{1}{3}\\cdot x[n] + \\frac{1}{3}\\cdot x[n-1] + \\frac{1}{3}\\cdot x[n-2]$$\n",
    "    * Utregning av sample nummer 5:\n",
    "    $$y[5] = \\frac{1}{3}\\cdot x[5] + \\frac{1}{3}\\cdot x[4] + \\frac{1}{3} \\cdot x[3]$$\n",
    "* Krever at programmet fører en \"logg\" over tidligere signalverdier"
   ]
  },
  {
   "cell_type": "markdown",
   "metadata": {
    "slideshow": {
     "slide_type": "skip"
    }
   },
   "source": [
    "# Buksområder\n",
    "\n",
    "* Bildebehandling\n",
    "* Audioprosessering\n",
    "* Kommunikasjonssystem\n",
    "* Digitale kontrollere\n",
    "* Mye mer"
   ]
  },
  {
   "cell_type": "markdown",
   "metadata": {
    "slideshow": {
     "slide_type": "skip"
    }
   },
   "source": [
    "# Fordeler og ulemper\n",
    "\n",
    "<br>\n",
    "<div style=\"width: 100%;\">\n",
    "    <div style=\"float: left; width: 50%\">\n",
    "    <ul>\n",
    "        <b> Fordeler </b>\n",
    "        <br>\n",
    "        <li> Tillater filterresponser som ikke kan oppnås med analoge filtre </li>\n",
    "        <li> Kostnadseffektivt </li>\n",
    "        <li> Enkle å modifisere </li>\n",
    "    </ul>\n",
    "    </div>\n",
    "    <div style=\"float: right; width: 50%\">\n",
    "    <ul>\n",
    "        <b> Ulemper</b>\n",
    "        <br>\n",
    "        <li> Kan tilføre ekstra forsinkelse i systemet </li>\n",
    "        <li> Fungerer kun innenfor et frekvensbånd gitt av samplingsfrekvensen </li>\n",
    "    </ul>\n",
    "    </div>\n",
    "</div> "
   ]
  },
  {
   "cell_type": "markdown",
   "metadata": {
    "slideshow": {
     "slide_type": "skip"
    }
   },
   "source": [
    "# Differanseligning\n",
    "\n",
    "* Matematisk beskrivelse av et digitalt filter basert på ***filterkoeffisienter*** $a_k$ og $b_k$.\n",
    "* Beskriver forholdet mellom inn- og utgangssignal.\n",
    "\n",
    "### $$ \\sum_{k=0}^{N}a_k\\cdot  y[n-k] = \\sum_{k=0}^{M} b_k \\cdot x[n-k]$$\n",
    "\n",
    "* Digital filterdesign sentrerer seg rundt å finne passende verdier for filterkoeffisientene $a_k$ og $b_k$. \n",
    "    * Disse verdiene anvendes så *direkte* i filteralgoritmen uten behov for å balansere kretskomponenter."
   ]
  },
  {
   "cell_type": "markdown",
   "metadata": {
    "slideshow": {
     "slide_type": "skip"
    }
   },
   "source": [
    "# Hvordan bruke digitale filter\n",
    "\n",
    "1. Regn ut filterkoeffisientene $a_k$ og $b_k$.\n",
    "    * Her er det vanlig å bruke dataverktøy som Python eller Matlab\n",
    "    * Det finnes mange ulike fremgangsmåter avhengig av bruk\n",
    "    \n",
    "    \n",
    "2. Implementer filteralgoritmen på en digital enhet\n",
    "    * Dette kan for eksempel være i form av et program på en Arduino mikrokontroller.\n",
    "    "
   ]
  },
  {
   "cell_type": "markdown",
   "metadata": {
    "slideshow": {
     "slide_type": "skip"
    }
   },
   "source": [
    "## Eksempel: Regn ut filterparametre i Python"
   ]
  },
  {
   "cell_type": "code",
   "execution_count": 2,
   "metadata": {
    "slideshow": {
     "slide_type": "skip"
    }
   },
   "outputs": [
    {
     "name": "stdout",
     "output_type": "stream",
     "text": [
      "b: [0.01290369 0.06451846 0.12903692 0.12903692 0.06451846 0.01290369] \n",
      "a: [ 1.         -1.47967143  1.40369177 -0.68085641  0.1918841  -0.0221299 ]\n"
     ]
    },
    {
     "data": {
      "application/vnd.jupyter.widget-view+json": {
       "model_id": "e04b0251c00b489dbef98bacde3a6812",
       "version_major": 2,
       "version_minor": 0
      },
      "text/plain": [
       "Canvas(toolbar=Toolbar(toolitems=[('Home', 'Reset original view', 'home', 'home'), ('Back', 'Back to previous …"
      ]
     },
     "metadata": {},
     "output_type": "display_data"
    },
    {
     "data": {
      "text/plain": [
       "[<matplotlib.lines.Line2D at 0x195f09a3ac0>]"
      ]
     },
     "execution_count": 2,
     "metadata": {},
     "output_type": "execute_result"
    }
   ],
   "source": [
    "import scipy.signal as sig\n",
    "\n",
    "\n",
    "# Kode for Digitalt Fjerdeordens Butterworth Lavpassfilter\n",
    "b, a = sig.butter(N = 5,              # Filterorden\n",
    "                  Wn = 0.35,          # Digital Knekkfrekvens (x pi)\n",
    "                  btype = 'lowpass',  # Lavpassfilter\n",
    "                  output = 'ba'       # Returner filterkoeffisenter\n",
    "                  )\n",
    "\n",
    "print(\"b:\", b, \"\\na:\", a)\n",
    "\n",
    "# Vis frekvensresponsen til filteret\n",
    "# (frekvensrespons o.l. vil utforskes i større detalj senere.)\n",
    "w, H = sig.freqz(b, a)\n",
    "plt.close(1); plt.figure(1)\n",
    "plt.plot(w/pi, abs(H))"
   ]
  },
  {
   "cell_type": "markdown",
   "metadata": {
    "slideshow": {
     "slide_type": "skip"
    }
   },
   "source": [
    "## Eksempel: Implementasjon på Arduino\n",
    "<pre>\n",
    "<font color=\"#95a5a6\">&#47;* A program to read from analog input periodically, filter the input using a digital butterworth filter,</font>\n",
    "<font color=\"#95a5a6\"> &nbsp;&nbsp;&nbsp;and print the filtered signal samples to the serial monitor. *&#47;</font>\n",
    "<font color=\"#5e6d03\">#include</font> <font color=\"#005c5f\">&#34;IIR_filter.h&#34;</font> &nbsp;&nbsp;&nbsp;&nbsp;&nbsp;&nbsp;&nbsp;&nbsp;&nbsp;&nbsp;&nbsp;&nbsp;<font color=\"#434f54\">&#47;&#47; Contains IIR filter class</font>\n",
    "<font color=\"#5e6d03\">#include</font> <font color=\"#005c5f\">&#34;Timer.h&#34;</font> &nbsp;&nbsp;&nbsp;&nbsp;&nbsp;&nbsp;&nbsp;&nbsp;&nbsp;&nbsp;&nbsp;&nbsp;&nbsp;&nbsp;&nbsp;&nbsp;&nbsp;<font color=\"#434f54\">&#47;&#47; Contains Timer class</font>\n",
    "\n",
    "<font color=\"#00979c\">const</font> <font color=\"#00979c\">int</font> <font color=\"#000000\">SIG_INPUT</font> <font color=\"#434f54\">=</font> <font color=\"#000000\">A0</font><font color=\"#000000\">;</font> &nbsp;&nbsp;&nbsp;&nbsp;&nbsp;&nbsp;&nbsp;&nbsp;&nbsp;&nbsp;<font color=\"#434f54\">&#47;&#47; Signal Input Pin</font>\n",
    "<font color=\"#00979c\">const</font> <font color=\"#00979c\">int</font> <font color=\"#000000\">SIG_OUTPUT</font> <font color=\"#434f54\">=</font> <font color=\"#000000\">3</font><font color=\"#000000\">;</font> &nbsp;&nbsp;&nbsp;&nbsp;&nbsp;&nbsp;&nbsp;&nbsp;&nbsp;&nbsp;<font color=\"#434f54\">&#47;&#47; Signal Output Pin</font>\n",
    "<font color=\"#00979c\">const</font> <font color=\"#00979c\">unsigned</font> <font color=\"#00979c\">int</font> <font color=\"#000000\">T_S</font> <font color=\"#434f54\">=</font> <font color=\"#000000\">10</font><font color=\"#000000\">;</font> &nbsp;&nbsp;&nbsp;&nbsp;&nbsp;&nbsp;&nbsp;<font color=\"#434f54\">&#47;&#47; Sample period</font>\n",
    "\n",
    "<font color=\"#000000\">IIR_filter</font> <font color=\"#000000\">LP_Filt</font><font color=\"#000000\">;</font> &nbsp;&nbsp;&nbsp;&nbsp;&nbsp;&nbsp;&nbsp;&nbsp;&nbsp;&nbsp;&nbsp;&nbsp;&nbsp;&nbsp;<font color=\"#434f54\">&#47;&#47; Create a filter object</font>\n",
    "<font color=\"#000000\">Timer</font> <font color=\"#000000\">sampleTimer</font><font color=\"#000000\">;</font> &nbsp;&nbsp;&nbsp;&nbsp;&nbsp;&nbsp;&nbsp;&nbsp;&nbsp;&nbsp;&nbsp;&nbsp;&nbsp;&nbsp;&nbsp;&nbsp;&nbsp;<font color=\"#434f54\">&#47;&#47; Timer to manage sampling intervals</font>\n",
    "\n",
    "<font color=\"#00979c\">void</font> <font color=\"#5e6d03\">setup</font><font color=\"#000000\">(</font><font color=\"#000000\">)</font> <font color=\"#000000\">{</font>\n",
    " &nbsp;<font color=\"#d35400\">pinMode</font><font color=\"#000000\">(</font><font color=\"#000000\">SIG_INPUT</font><font color=\"#434f54\">,</font> <font color=\"#00979c\">INPUT</font><font color=\"#000000\">)</font><font color=\"#000000\">;</font>\n",
    " &nbsp;<font color=\"#d35400\">pinMode</font><font color=\"#000000\">(</font><font color=\"#000000\">SIG_OUTPUT</font><font color=\"#434f54\">,</font> <font color=\"#00979c\">OUTPUT</font><font color=\"#000000\">)</font><font color=\"#000000\">;</font>\n",
    "\n",
    " &nbsp;<font color=\"#95a5a6\">&#47;* Initialize myFilter object with filter coefficients and filter order as specified below *&#47;</font>\n",
    " &nbsp;<font color=\"#00979c\">float</font> <font color=\"#000000\">b</font><font color=\"#000000\">[</font><font color=\"#000000\">5</font><font color=\"#000000\">]</font> <font color=\"#434f54\">=</font> <font color=\"#000000\">{</font><font color=\"#000000\">0.03048527</font><font color=\"#434f54\">,</font> <font color=\"#000000\">0.12194108</font><font color=\"#434f54\">,</font> <font color=\"#000000\">0.18291162</font><font color=\"#434f54\">,</font> &nbsp;<font color=\"#000000\">0.12194108</font><font color=\"#434f54\">,</font> <font color=\"#000000\">0.03048527</font><font color=\"#000000\">}</font><font color=\"#000000\">;</font>\n",
    " &nbsp;<font color=\"#00979c\">float</font> <font color=\"#000000\">a</font><font color=\"#000000\">[</font><font color=\"#000000\">5</font><font color=\"#000000\">]</font> <font color=\"#434f54\">=</font> <font color=\"#000000\">{</font><font color=\"#000000\">1.</font><font color=\"#434f54\">,</font> &nbsp;&nbsp;&nbsp;&nbsp;&nbsp;&nbsp;&nbsp;<font color=\"#434f54\">-</font><font color=\"#000000\">1.17512564</font><font color=\"#434f54\">,</font> <font color=\"#000000\">0.92564873</font><font color=\"#434f54\">,</font> <font color=\"#434f54\">-</font><font color=\"#000000\">0.31042133</font><font color=\"#434f54\">,</font> <font color=\"#000000\">0.04766256</font><font color=\"#000000\">}</font><font color=\"#000000\">;</font>\n",
    " &nbsp;<font color=\"#000000\">LP_Filt</font><font color=\"#434f54\">.</font><font color=\"#000000\">initialize</font><font color=\"#000000\">(</font><font color=\"#000000\">b</font><font color=\"#434f54\">,</font> <font color=\"#000000\">a</font><font color=\"#000000\">)</font><font color=\"#000000\">;</font>\n",
    "<font color=\"#000000\">}</font>\n",
    "\n",
    "<font color=\"#00979c\">void</font> <font color=\"#5e6d03\">loop</font><font color=\"#000000\">(</font><font color=\"#000000\">)</font> <font color=\"#000000\">{</font>\n",
    " &nbsp;<font color=\"#5e6d03\">if</font> <font color=\"#000000\">(</font><font color=\"#000000\">sampleTimer</font><font color=\"#434f54\">.</font><font color=\"#000000\">hasExpired</font><font color=\"#000000\">(</font><font color=\"#000000\">)</font><font color=\"#000000\">)</font>\n",
    " &nbsp;<font color=\"#000000\">{</font>\n",
    " &nbsp;&nbsp;&nbsp;<font color=\"#000000\">sampleTimer</font><font color=\"#434f54\">.</font><font color=\"#000000\">start</font><font color=\"#000000\">(</font><font color=\"#000000\">T_S</font><font color=\"#000000\">)</font><font color=\"#000000\">;</font> &nbsp;&nbsp;&nbsp;&nbsp;&nbsp;&nbsp;&nbsp;&nbsp;&nbsp;&nbsp;&nbsp;&nbsp;&nbsp;&nbsp;&nbsp;&nbsp;&nbsp;&nbsp;&nbsp;&nbsp;&nbsp;&nbsp;&nbsp;&nbsp;&nbsp;&nbsp;&nbsp;&nbsp;\n",
    " &nbsp;&nbsp;&nbsp;<font color=\"#00979c\">float</font> <font color=\"#000000\">input_sample</font> <font color=\"#434f54\">=</font> <font color=\"#000000\">(</font><font color=\"#00979c\">float</font><font color=\"#000000\">)</font><font color=\"#d35400\">analogRead</font><font color=\"#000000\">(</font><font color=\"#000000\">SIG_INPUT</font><font color=\"#000000\">)</font><font color=\"#000000\">;</font> &nbsp;&nbsp;&nbsp;&nbsp;&nbsp;&nbsp;&nbsp;&nbsp;&nbsp;&nbsp;&nbsp;&nbsp;&nbsp;&nbsp;<font color=\"#434f54\">&#47;&#47; Get Input Sample</font>\n",
    " &nbsp;&nbsp;&nbsp;<font color=\"#00979c\">float</font> <font color=\"#000000\">output_sample</font> <font color=\"#434f54\">=</font> <font color=\"#000000\">LP_Filt</font><font color=\"#434f54\">.</font><font color=\"#000000\">filter_sample</font><font color=\"#000000\">(</font><font color=\"#000000\">input_sample</font><font color=\"#000000\">)</font><font color=\"#000000\">;</font> &nbsp;&nbsp;&nbsp;&nbsp;<font color=\"#434f54\">&#47;&#47; Filter latest input sample</font>\n",
    " &nbsp;&nbsp;&nbsp;<font color=\"#d35400\">analogWrite</font><font color=\"#000000\">(</font><font color=\"#000000\">SIG_OUTPUT</font><font color=\"#434f54\">,</font> <font color=\"#d35400\">round</font><font color=\"#000000\">(</font><font color=\"#000000\">output_sample</font><font color=\"#434f54\">&#47;</font><font color=\"#000000\">4</font><font color=\"#000000\">)</font><font color=\"#000000\">)</font><font color=\"#000000\">;</font> &nbsp;&nbsp;&nbsp;&nbsp;&nbsp;&nbsp;&nbsp;&nbsp;&nbsp;&nbsp;&nbsp;&nbsp;&nbsp;&nbsp;&nbsp;&nbsp;<font color=\"#434f54\">&#47;&#47; Set output level</font>\n",
    " &nbsp;<font color=\"#000000\">}</font>\n",
    "<font color=\"#000000\">}</font>\n",
    "\n",
    "</pre>"
   ]
  },
  {
   "cell_type": "markdown",
   "metadata": {
    "slideshow": {
     "slide_type": "slide"
    }
   },
   "source": [
    "# Blokkskjema\n",
    "\n",
    "<img src=\"Figurer/10_Digitale Filtre Intro/Fig9_Blocks.png\" style=\"width: 80%\" />"
   ]
  },
  {
   "cell_type": "markdown",
   "metadata": {
    "slideshow": {
     "slide_type": "slide"
    }
   },
   "source": [
    "# Kausale LTI-system\n",
    "\n",
    "* Vikgige egenskaper i signalbehandling\n",
    "* Realiserbare system med stor grad av fleksibilitet"
   ]
  },
  {
   "cell_type": "markdown",
   "metadata": {
    "slideshow": {
     "slide_type": "slide"
    }
   },
   "source": [
    "# Nøkkelegenskap: Kausalitet\n",
    "* Aksjon $\\rightarrow$ Reaksjon\n",
    "* Kausale systemer avhenger kun av nåværende signalverdi og input til systemet som allerede har skjedd.\n",
    "* Absolutt nødvendig for systemer som skal operere i sanntid (f.eks. digitale kontrollere).\n",
    "    * Alle fysiske system er kausale."
   ]
  },
  {
   "cell_type": "markdown",
   "metadata": {
    "slideshow": {
     "slide_type": "fragment"
    }
   },
   "source": [
    "* Systemer som prosesserer f.eks. komplette mediefiler/datafiler kan være antikausale."
   ]
  },
  {
   "cell_type": "markdown",
   "metadata": {
    "slideshow": {
     "slide_type": "notes"
    }
   },
   "source": [
    "* Når vi arbeider med hele datafiler i øvingene mister kausalitet som begrep noe av betydningen, men dersom man skal implementere et digitalt filter på f.eks. en arduino er det helt sentralt."
   ]
  },
  {
   "cell_type": "markdown",
   "metadata": {
    "slideshow": {
     "slide_type": "slide"
    }
   },
   "source": [
    "# Kausalitet illustrert\n",
    "\n",
    "* \"Fortids-vinduet\" vokser med 1 sample for hver nye sample vi tar.\n",
    "<img src=\"Figurer/10_Digitale Filtre Intro/Fig3_Kausalitet.png\" style=\"width: 90%; margin-left=100px\" />"
   ]
  },
  {
   "cell_type": "markdown",
   "metadata": {
    "slideshow": {
     "slide_type": "subslide"
    }
   },
   "source": [
    "## Eksempel: Kausalt 3-punkts middelverdifilter\n",
    "\n",
    "* Bruker foregående sampleverdier for $x[n]$\n",
    "    - Dersom filteret opererer i sanntid, er ikke neste sampleverdi tilgjengelig før det aktuelle samplingstidspunktet.\n",
    "\n",
    "<img src=\"Figurer/10_Digitale Filtre Intro/Fig4_Kausalitet2.png\" style=\"width: 100%\" />"
   ]
  },
  {
   "cell_type": "markdown",
   "metadata": {
    "slideshow": {
     "slide_type": "subslide"
    }
   },
   "source": [
    "## 3-punkts middelverdifilter illustrert\n",
    "\n",
    "<img src=\"Figurer/10_Digitale Filtre Intro/Fig5_Kausalitet3.png\" style=\"width: 80%\" />"
   ]
  },
  {
   "cell_type": "markdown",
   "metadata": {
    "slideshow": {
     "slide_type": "slide"
    }
   },
   "source": [
    "## Eksempel: Antikausalt 3-pukts middelverdifilter\n",
    "\n",
    "<img src=\"Figurer/10_Digitale Filtre Intro/Fig6_Kausalitet4.png\" style=\"width: 100%\" />"
   ]
  },
  {
   "cell_type": "markdown",
   "metadata": {
    "slideshow": {
     "slide_type": "slide"
    }
   },
   "source": [
    "# Nøkkelegenskap: Linearitet\n",
    "\n",
    "* Et system kan regnes som lineært dersom det oppfyller to enkle krav:\n",
    "* Gitt $y[n] = F(x[n])$, der $F$ er funksjonen til systemet:\n",
    "\n",
    "    * **Additivitet:**\n",
    "    $$F(x_1[n] + x_2[n]) = F(x_1[n])+F(x_2[n])$$\n",
    "    \n",
    "    * **Homogenitet:**\n",
    "    $$F(\\alpha \\cdot x[n]) = \\alpha \\cdot F(x[n])$$"
   ]
  },
  {
   "cell_type": "markdown",
   "metadata": {
    "slideshow": {
     "slide_type": "slide"
    }
   },
   "source": [
    "## Illustrasjon av Additivet:\n",
    "\n",
    "\n",
    "<img src=\"Figurer/10_Digitale Filtre Intro/Fig7_Additivity.png\" style=\"width: 60%; margin-left: 100px%\" />"
   ]
  },
  {
   "cell_type": "markdown",
   "metadata": {
    "slideshow": {
     "slide_type": "slide"
    }
   },
   "source": [
    "# Nøkkelegenskap: Tidsinvarians\n",
    "\n",
    "\n",
    "* Gitt $y[n] = F(x[n])$, der $F$ er funksjonen til systemet:\n",
    "$$F(x[n-N]) = y[n-N]$$\n",
    "\n",
    "* Illustrasjon:\n",
    "<img src=\"Figurer/10_Digitale Filtre Intro/Fig8_TimeInv.png\" style=\"width: 80%; margin-left: 100px%\" />"
   ]
  },
  {
   "cell_type": "markdown",
   "metadata": {
    "slideshow": {
     "slide_type": "slide"
    }
   },
   "source": [
    "## Eksempler:\n",
    "* Eksempel på kausalt LTI system:\n",
    "$$y[n] = 0.5\\cdot x[n] - 0.5\\cdot x[n-1]$$\n",
    "* Eksempel på ulineært men tidsinvariant system:\n",
    "$$y[n] = x^2[n]$$\n",
    "* Eksempel på lineært men *ikke* tidsinvariant system:\n",
    "$$y[n] = x[2\\cdot n]$$"
   ]
  },
  {
   "cell_type": "markdown",
   "metadata": {
    "slideshow": {
     "slide_type": "notes"
    }
   },
   "source": [
    "1. $y[n] = 2+x[n-1]$\n",
    "2. $y[n] = n\\cdot x[n]$\n",
    "3. $y[n] = x[n]+x[n+5]$"
   ]
  },
  {
   "cell_type": "markdown",
   "metadata": {
    "slideshow": {
     "slide_type": "slide"
    }
   },
   "source": [
    "# Generell differanselikning for kausale LTI-system\n",
    "\n",
    "* ***Alle*** kausale LTI-system kan beskrives med en generell differanselikning:\n",
    "\n",
    "### $$ \\sum_{k=0}^{N}a_k\\cdot  y[n-k] = \\sum_{k=0}^{M} b_k \\cdot x[n-k]$$\n",
    "\n",
    "* $a$ og $b$ er tallrekker som inneholder de ulike koeffisientene til systemet/filteret.\n",
    "\\begin{align}\n",
    "a_k &\\in \\{a_0, a_1,\\ldots , a_N\\}\\\\\n",
    "b_k &\\in \\{b_0, b_1, \\ldots, b_M\\}\n",
    "\\end{align}"
   ]
  },
  {
   "cell_type": "markdown",
   "metadata": {
    "slideshow": {
     "slide_type": "slide"
    }
   },
   "source": [
    "# Impulsrespons\n",
    "\n",
    "* Premiss for LTI-system:\n",
    "    * *Dersom systemets reaksjon til en deltapuls $\\delta[n]$ er kjent, er det mulig å predikere hvordan systemet vil reagere på alle mulige inngangssignal.*\n",
    "* Utgangssignalet til et LTI-system gitt en impuls $\\delta[n]$ som inngangssignal kalles impulsresponsen $h[n]$ til systemet.\n",
    "\n",
    "<br>\n",
    "<br>\n",
    "<img src=\"Figurer/10_Digitale Filtre Intro/Fig10_hn.png\" style=\"width: 60%; margin-left: 200px%\" />"
   ]
  },
  {
   "cell_type": "markdown",
   "metadata": {
    "slideshow": {
     "slide_type": "slide"
    }
   },
   "source": [
    "# Repetisjon deltapuls\n",
    "* **Definisjon:**\n",
    "$$\n",
    "\\delta[n] = \n",
    "\\begin{cases}\n",
    "1, n=0\\\\\n",
    "0, n\\neq 0\n",
    "\\end{cases}\n",
    "$$\n",
    "\n",
    "* Etthvert signal kan beskrives som en *lineær kombinasjon* av deltapulser:\n",
    "\\begin{align}\n",
    "x[n] &=\\ldots + x[-1] \\cdot \\delta[n+1] + x[0]\\cdot \\delta[n] + x[1] \\cdot \\delta[n-1] + \\ldots \\\\\n",
    "&= \\sum_{k=-\\infty}^{\\infty} x[k]\\cdot \\delta[n-k]\n",
    "\\end{align}"
   ]
  },
  {
   "cell_type": "markdown",
   "metadata": {
    "slideshow": {
     "slide_type": "slide"
    }
   },
   "source": [
    "# Utregning av utgangssignal:\n",
    "\n",
    "* Impulsrespons:\n",
    "$$h[n] = F(\\delta[n])$$\n",
    "\n",
    "* Arbitrært tgangssignal $y[n]$:\n",
    "\\begin{align}\n",
    "y[n] &= F(x[n])\\\\\n",
    "     &= F\\left(\\sum_{k=-\\infty}^{\\infty} x[k]\\cdot \\delta[n-k]\\right)\\\\\n",
    "     &= \\sum_{k=-\\infty}^{\\infty} x[k]\\cdot F(\\delta[n-k])\\\\\n",
    "     &= \\sum_{k=-\\infty}^{\\infty} x[k]\\cdot h[n-k]\n",
    "\\end{align}"
   ]
  },
  {
   "cell_type": "markdown",
   "metadata": {
    "slideshow": {
     "slide_type": "slide"
    }
   },
   "source": [
    "# Konvolusjon\n",
    "\n",
    "* Utgangssignalet til et LTI-system utregnes ved å utføre ***konvolusjon*** av inngangssignalet $x[n]$ og impulsresponsen $h[n]$.\n",
    "    * Konvolusjon har en egen matematisk operator: $*$.\n",
    "\n",
    "\\begin{align}\n",
    "y[n] &= \\sum_{k=-\\infty}^{\\infty} x[k]\\cdot h[n-k]\\\\\n",
    "&= x[n]*h[n]\n",
    "\\end{align}"
   ]
  },
  {
   "cell_type": "markdown",
   "metadata": {
    "slideshow": {
     "slide_type": "slide"
    }
   },
   "source": [
    "# FIR Filtre\n",
    "\n",
    "\n",
    "* **FIR** - **F**inite **I**mpulse **R**esponse\n",
    "* Fellesbetegnelse for filter som regner ut utgangsveriden $y[n]$ *kun* med basert på en lineær kombinasjon av verdiene til inngangssignalet $x[n]$ ved forskjellige sampletidspunkt.\n",
    "\n",
    "### $$y[n] = \\sum_{k=0}^{M} b_k \\cdot x[n-k]$$\n",
    "\n",
    "* Filterordenen til et FIR filter er gitt ved konstanten $M$\n",
    "    * Avgjør hvor langt tilbake i tid et filter må \"huske\" når det regner ut den filtrerte utgangsveriden $y[n]$."
   ]
  },
  {
   "attachments": {},
   "cell_type": "markdown",
   "metadata": {
    "slideshow": {
     "slide_type": "slide"
    }
   },
   "source": [
    "# Blokkskjemarepresentasjon\n",
    "\n",
    "* Visuell fremstilling av en filteralgoritme\n",
    "* Følgende generelle form for FIR filter\n",
    "\n",
    "<img src=\"Figurer/10_Digitale Filtre Intro/Fig13_FIR_struct.png\" style=\"width: 80%\" />\n",
    "\n",
    "* Såkalt *Direkte Form* implementasjon"
   ]
  },
  {
   "cell_type": "markdown",
   "metadata": {
    "slideshow": {
     "slide_type": "slide"
    }
   },
   "source": [
    "# FIR filtre impulsrespons\n",
    "\n",
    "\\begin{align}\n",
    "h[n] &= \\sum_{k=0}^{M} b_k \\cdot \\delta[n-k]\\\\\n",
    "     &= b_0 \\cdot \\delta[n] + b_1\\cdot \\delta[n-1] + \\ldots + b_M\\cdot \\delta[n-M]\n",
    "\\end{align}\n",
    "\n",
    "* Impulsresponsen til et FIR filter er et signal som gjengir filterkoeffisientene $b_k$\n",
    "<img src=\"Figurer/10_Digitale Filtre Intro/Fig11_FIR.png\" style=\"width: 80%; margin-left: 100px%\" />"
   ]
  },
  {
   "cell_type": "markdown",
   "metadata": {
    "slideshow": {
     "slide_type": "slide"
    }
   },
   "source": [
    "## Eksempel på FIR filter: *Middelverdifilter*\n",
    "\n",
    "* Et $L$-punkts middelverdifilter rgner ut gjennomsnittsverdien av de $L$ foregående samplene til signalet $x[n]$.\n",
    "* Fungerer som et lavpassfilter ved å glatte ut momentane endringer i signalet.\n",
    "* Filterkoeffisienter:\n",
    "$$b_k = \\left[\\frac{1}{L}, \\frac{1}{L}, \\ldots, \\frac{1}{L}\\right]$$\n",
    "\n",
    "* Lite komplisert og mye brukt."
   ]
  },
  {
   "cell_type": "markdown",
   "metadata": {
    "slideshow": {
     "slide_type": "slide"
    }
   },
   "source": [
    "## Regneeksempel 1:\n",
    "\n",
    "* Finn et uttrykk for impulsresponsen $h[n]$ til et 8-punkts middelverdifilter."
   ]
  },
  {
   "cell_type": "markdown",
   "metadata": {
    "slideshow": {
     "slide_type": "slide"
    }
   },
   "source": [
    "## Demo: Filtrering av signal med konvolusjon"
   ]
  },
  {
   "cell_type": "code",
   "execution_count": 15,
   "metadata": {
    "slideshow": {
     "slide_type": "fragment"
    }
   },
   "outputs": [
    {
     "data": {
      "application/vnd.jupyter.widget-view+json": {
       "model_id": "7951ead41792434082599906dedc36be",
       "version_major": 2,
       "version_minor": 0
      },
      "text/plain": [
       "Canvas(toolbar=Toolbar(toolitems=[('Home', 'Reset original view', 'home', 'home'), ('Back', 'Back to previous …"
      ]
     },
     "metadata": {},
     "output_type": "display_data"
    },
    {
     "data": {
      "application/vnd.jupyter.widget-view+json": {
       "model_id": "efa91b925fa3420dba129d218f63f92f",
       "version_major": 2,
       "version_minor": 0
      },
      "text/plain": [
       "VBox(children=(IntSlider(value=0, description='Samplenummer $n$', layout=Layout(width='95%'), max=33, style=Sl…"
      ]
     },
     "metadata": {},
     "output_type": "display_data"
    },
    {
     "data": {
      "application/vnd.jupyter.widget-view+json": {
       "model_id": "64dc1d602fbc4f889a7091d2d4043727",
       "version_major": 2,
       "version_minor": 0
      },
      "text/plain": [
       "Output()"
      ]
     },
     "metadata": {},
     "output_type": "display_data"
    }
   ],
   "source": [
    "n = np.arange(30); xn = np.cos(pi/3*n) # Sinussekvens\n",
    "hn = np.ones(5)/5                      # 5-punkts middelverdifilter\n",
    "convolutionDemo(xn, hn, fig_num=2);    #figsize=(10,7)"
   ]
  },
  {
   "cell_type": "markdown",
   "metadata": {
    "slideshow": {
     "slide_type": "skip"
    }
   },
   "source": [
    "* Stegvis beskrivelse av konvolusjon visuelt:\n",
    "    1. Tidsreverser (flip) impulsresponsen $h[n]$ rund $n=0$\n",
    "    2. Forskyv den filppede impulsresponsen $h[-n]$ langs tidsaksen.\n",
    "    3. Utfør punktvis multiplikasjon mellom flippet og forskjøvet impulsrespons med inngangssignalet.\n",
    "    4. Summer sammen resultatet fra punkt 3.\n",
    "* Anbefaler å prøve seg frem med ulike typer signal og impulsrespons. "
   ]
  },
  {
   "cell_type": "markdown",
   "metadata": {
    "slideshow": {
     "slide_type": "slide"
    }
   },
   "source": [
    "## Observasjoner.\n",
    "\n",
    "* Lengde utgangssignal tilsvarer summen av lengden til inngangssignalet og impulsresponsen minus 1.\n",
    "$$L_y = L_x + L_h -1$$\n",
    "\n",
    "\n",
    "* Digitale filtre har en \"responstid\", og det filtrerte signalet vil ofte \"henge etter\" inngangssignalet."
   ]
  },
  {
   "cell_type": "markdown",
   "metadata": {
    "slideshow": {
     "slide_type": "slide"
    }
   },
   "source": [
    "# Utregning av konvolusjon\n",
    "\n",
    "\\begin{align}\n",
    "y[n] &= \\sum_{k=-\\infty}^{\\infty} x[k]\\cdot h[n-k]\\\\\n",
    "     &= x[0]\\cdot h[n]+x[1]\\cdot h[n-1] + x[2]\\cdot h[n-2]\\ldots \n",
    "\\end{align}\n",
    "\n",
    "1. Sett opp de ulikt forkjøvne impulsresponsene $h[n-k]$ \n",
    "2. Multipliser med hver av samplene til $x[k]$\n",
    "3. Legg sammen alle impulsresponsene.\n",
    " \n",
    "* Mest oversiktlig ved å bruke en tabell (*eksempel på neste slide*)"
   ]
  },
  {
   "cell_type": "markdown",
   "metadata": {
    "slideshow": {
     "slide_type": "slide"
    }
   },
   "source": [
    "## Regneeksempel 2:\n",
    "* Bruk konvolusjon til å finne stegresponsen $s[n]$ til et system der impulsresponsen er \n",
    "$$h[n] = \\delta[n]-\\delta[n-1]+2\\delta[n-2]-\\delta[n-3]+\\delta[n-4]$$"
   ]
  },
  {
   "cell_type": "markdown",
   "metadata": {
    "slideshow": {
     "slide_type": "slide"
    }
   },
   "source": [
    "# Konvolusjon med python\n",
    "\n",
    "* Vi bruker `numpy`-funksjonen `convolve()`."
   ]
  },
  {
   "cell_type": "code",
   "execution_count": 4,
   "metadata": {
    "slideshow": {
     "slide_type": "fragment"
    }
   },
   "outputs": [
    {
     "data": {
      "application/vnd.jupyter.widget-view+json": {
       "model_id": "ca135e95b6134cc799f476eccafb3899",
       "version_major": 2,
       "version_minor": 0
      },
      "text/plain": [
       "Canvas(toolbar=Toolbar(toolitems=[('Home', 'Reset original view', 'home', 'home'), ('Back', 'Back to previous …"
      ]
     },
     "metadata": {},
     "output_type": "display_data"
    },
    {
     "data": {
      "text/plain": [
       "<StemContainer object of 3 artists>"
      ]
     },
     "execution_count": 4,
     "metadata": {},
     "output_type": "execute_result"
    }
   ],
   "source": [
    "xn = np.ones(10) # x[n] = u[n]-u[n-10]\n",
    "hn = np.array([1, -1, 2, -1, 1]) # Fra regneeksempel 2\n",
    "yn = np.convolve(xn, hn)\n",
    "plt.close(3);plt.figure(3)\n",
    "plt.stem(yn)"
   ]
  },
  {
   "cell_type": "markdown",
   "metadata": {
    "slideshow": {
     "slide_type": "slide"
    }
   },
   "source": [
    "# Konvolusjon egenskaper\n",
    "\n",
    "1. Kommutativ \n",
    "\\begin{align}\n",
    "x[n]*y[n] &= y[n]*x[n] \\\\\n",
    "\\sum_{k=-\\infty}^{\\infty} x[k]\\cdot y[n-k] &= \\sum_{k=-\\infty}^{\\infty} y[k]\\cdot x[n-k]\n",
    "\\end{align}\n",
    "\n",
    "\n",
    "2. Assossiativ\n",
    "$$(x[n]*y[n])*v[n] = x[n]*(y[n]*v[n])$$\n",
    "\n",
    "\n",
    "3. Distributiv *(linearitet)*\n",
    "$$(x[n] + y[n])*v[n] = x[n]*v[n] + y[n]*v[n]$$\n",
    "\n",
    "\n",
    "4. Konvolusjon og fouriertransformasjon\n",
    "$$ x[n]*y[n] \\leftrightarrow X\\left(e^{j\\hat{\\omega}} \\right)\\cdot Y\\left(e^{j\\hat{\\omega}} \\right)$$"
   ]
  },
  {
   "cell_type": "markdown",
   "metadata": {
    "slideshow": {
     "slide_type": "slide"
    }
   },
   "source": [
    "<img src=\"Figurer/10_Digitale Filtre Intro/Fig12_LTI_par.png\" style=\"width: 80%\" />"
   ]
  },
  {
   "cell_type": "markdown",
   "metadata": {
    "slideshow": {
     "slide_type": "slide"
    }
   },
   "source": [
    "<img src=\"Figurer/10_Digitale Filtre Intro/Fig12_LTI_cas.png\" style=\"width: 80%\" />"
   ]
  },
  {
   "cell_type": "markdown",
   "metadata": {
    "slideshow": {
     "slide_type": "slide"
    }
   },
   "source": [
    "## Regneeksempel 3:\n",
    "* Finn impulsresponsen til det samlede systemet $h_{tot}[n]$.\n",
    "\n",
    "<img src=\"Figurer/10_Digitale Filtre Intro/Fig14_Ex3.png\" style=\"width: 70%; margin-left: 100px\" />"
   ]
  },
  {
   "cell_type": "markdown",
   "metadata": {
    "slideshow": {
     "slide_type": "slide"
    }
   },
   "source": [
    "# Oppsummering\n",
    "\n",
    "* Digitale filtre tar i bruk en lineær kombinasjon av tilgjengelige signalsampler for å regne ut en utgangsverdi $y[n]$ for hver sample.\n",
    "* *Lineære*, og *Tidsinvariante* (LTI) system tillater mye fleksibilitet med tanke på rekkefølge av operasjoner, og kan beskrives med sin *impulsrespons* $h[n]$.\n",
    "* Utgangssignalet $y[n]$ til et LTI-system utregnes ved *konvolusjon* ($y[n] = x[n]*h[n]$).\n",
    "* *Kausale* system baserer seg kun på foregående signalsampler som allerede har \"vert gjennom\" systemet ved utregning av utgangsverdi $y[n]$. \n",
    "* *Filterordenen* for et digitalt filter forteller hvor langt bak i tid systemet må huske tidligere sampler.\n",
    "* FIR filter er en undergruppe av LTI-system hvor kun impulsresponsen $h[n]$ korresponderer med filterkoeffisentene.\n",
    "    * Kun definert med filterkoeffisenter $b_k$"
   ]
  }
 ],
 "metadata": {
  "celltoolbar": "Slideshow",
  "kernelspec": {
   "display_name": "Python 3",
   "language": "python",
   "name": "python3"
  },
  "language_info": {
   "codemirror_mode": {
    "name": "ipython",
    "version": 3
   },
   "file_extension": ".py",
   "mimetype": "text/x-python",
   "name": "python",
   "nbconvert_exporter": "python",
   "pygments_lexer": "ipython3",
   "version": "3.8.5"
  }
 },
 "nbformat": 4,
 "nbformat_minor": 4
}
