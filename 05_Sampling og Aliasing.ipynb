{
 "cells": [
  {
   "cell_type": "code",
   "execution_count": 1,
   "metadata": {
    "slideshow": {
     "slide_type": "skip"
    }
   },
   "outputs": [],
   "source": [
    "# Generelle moduler og funksjonsbeskrivelser brukt i forelesningen\n",
    "from numpy import sin, cos, pi, arctan2, exp\n",
    "import numpy as np\n",
    "import matplotlib.pyplot as plt\n",
    "from scipy.io import wavfile, loadmat               \n",
    "from IPython.display import Video\n",
    "from Kildekode._05_Aliasing import *\n",
    "\n",
    "%matplotlib ipympl"
   ]
  },
  {
   "cell_type": "markdown",
   "metadata": {
    "slideshow": {
     "slide_type": "slide"
    }
   },
   "source": [
    "<img src=\"NTNU_Logo.png\" align=\"left\" style=\"width: 30%\">\n",
    "<br clear=\"all\" />\n",
    "<br></br>\n",
    "\n",
    "# Sampling og Aliasing\n",
    "\n",
    "* **Emne IELEA2302 - Signalbehandling**\n",
    "* **Uke 5, 2021**\n",
    "* **Underviser: Kai Erik Hoff**\n",
    "\n"
   ]
  },
  {
   "cell_type": "markdown",
   "metadata": {
    "slideshow": {
     "slide_type": "slide"
    }
   },
   "source": [
    "## Tema Tirsdag 2. Februar\n",
    "\n",
    "* Intro/Repetisjon sampling\n",
    "* Kvantisering - kort oppsummmering\n",
    "* Sampling og normalisert frekvens/vinkelfrekvens\n",
    "    * Regneeksempel 1\n",
    "* Intro til aliasing - EKG signal\n",
    "* Aliasing Demo\n",
    "* Samplingsteoremet"
   ]
  },
  {
   "cell_type": "markdown",
   "metadata": {
    "slideshow": {
     "slide_type": "slide"
    }
   },
   "source": [
    "# Repetisjon sampling"
   ]
  },
  {
   "cell_type": "markdown",
   "metadata": {
    "slideshow": {
     "slide_type": "slide"
    }
   },
   "source": [
    "# Samplingsfrekvens- og Periode\n",
    "\n",
    "* **Samplingsfrekvens:**\n",
    "    - Antall sampler av et signal som tas i løpet av ett sekund ($f_s$)\n",
    "* **Samplingsperiode:**\n",
    "    - Intervall (i sekund) mellom hver sample ($T_s$)\n",
    "    $$T_s = \\frac{1}{f_s}$$\n",
    "* Sammenheng mellom måletidspunkt og samplenummer:\n",
    "$$t = n\\cdot T_s = \\frac{n}{f_s}$$\n",
    "$$n = \\frac{t}{T_s} = t\\cdot f_s$$\n",
    "* Sammenheng mellom analogt og digitalt signal:\n",
    "$$x[n] = x(t)|_{t = n\\cdot T_s}$$"
   ]
  },
  {
   "cell_type": "markdown",
   "metadata": {
    "slideshow": {
     "slide_type": "slide"
    }
   },
   "source": [
    "# Analog-til-digital omforming\n",
    "\n",
    "* Sampling av et signal medfører at signalet vil representeres med et begrenset antall bit.\n",
    "* Vi får potensielt tap av informasjon i to former:\n",
    "    1. Hver måleverdi/sample har et begrenset antall bit til rådighet, noe som gir målefeil.\n",
    "    2. Det digitale signalet forteller ingenting om hva som foregår mellom samplene.\n",
    "\n",
    "<img src=\"Figurer/05_Sampling_og_Aliasing/Fig2_ADC.png\" style=\"width: 80%; margin-left: 100px\" />"
   ]
  },
  {
   "cell_type": "markdown",
   "metadata": {
    "slideshow": {
     "slide_type": "slide"
    }
   },
   "source": [
    "# Kvantisering og kvantiseringsfeil\n",
    "\n",
    "* Resultat av begrenset presisjon under sampling.\n",
    "* Kvantiseringsfeil kan anses ekveivalent til \"avrundigsfeil\".\n",
    "* Eksempel:\n",
    "    - En arduino har en innebygd A/D omformer med 10 bit presisjon\n",
    "    - Denne A/D omformeren opererer i spenningsområdet $0V \\leq x(t) <5V$.\n",
    "    - Dette betyr at en arduino ikke kan registrere spenningsforskjeller mindre enn:\n",
    "    $$ Q = \\frac{5V}{2^{10}} = \\frac{5V}{1024} \\approx 4.89mV$$\n",
    "* Bokstaven $ Q$ brukes her for å betegne *kvantiseringssteghøyde*."
   ]
  },
  {
   "cell_type": "markdown",
   "metadata": {
    "slideshow": {
     "slide_type": "slide"
    }
   },
   "source": [
    "# Kvantisering illustrert\n",
    "<img src=\"Figurer/05_Sampling_og_Aliasing/Fig3_Quantization.png\" style=\"width: 60%; margin-left: 100px\" />"
   ]
  },
  {
   "cell_type": "markdown",
   "metadata": {
    "slideshow": {
     "slide_type": "notes"
    }
   },
   "source": [
    "* Det er mye mer man kan si om kvantisering men det er ikke noe som vil bli tatt opp i dette emnet, da det ikke har betydning for resten av fagstoffet.\n",
    "* Det er dog nyttig å være klar over at kvantisering er et aspekt ved sampling, som kan påvirke systemoppførsel noe.\n",
    "    - I svært mange tilfeller er andre kilder til måleunøyaktighet mye mer utslagsgivende enn kvantisering uansett.\n",
    "* I utregningene videre i faget vil vi anta ideell sampling uten kvantiseringsfeil."
   ]
  },
  {
   "cell_type": "markdown",
   "metadata": {
    "slideshow": {
     "slide_type": "slide"
    }
   },
   "source": [
    "# Ideell sampling\n",
    "\n",
    "* Sampler tas av det analoge signalet $x(t)$ til presise tidspunkt $t=n\\cdot T_s$ uten kvantiseringsfeil.\n",
    "\n",
    "<img src=\"Figurer/05_Sampling_og_Aliasing/Fig4_IdealSampling.png\" style=\"width: 60%; margin-left: 100px\">\n",
    "     \n",
    "* _I resten av emnet antas at signaler samples ideelt._"
   ]
  },
  {
   "cell_type": "markdown",
   "metadata": {
    "slideshow": {
     "slide_type": "slide"
    }
   },
   "source": [
    "# Sampling av sinusformede bølger\n",
    "\n",
    "* Bruker samplingsfrekvensen for å finne uttrykk for en samplet sinusbølge.\n",
    "\n",
    "\\begin{align}\n",
    "x(t) &= \\cos(2\\pi f \\cdot t + \\phi) \\\\\n",
    "x[n] &= x(t)|_{t=n\\cdot T_s} \\\\\n",
    "&= \\cos(2\\pi f\\cdot nT_s +\\phi)\\\\\n",
    "&= \\cos\\left(2\\pi \\frac{f}{f_s}\\cdot n + \\phi\\right)\n",
    "\\end{align}\n",
    "\n",
    "* Nytt begrep: *Normalisert Vinkelfrekvens*\n",
    "    - også kalt *Digital Frekvens*\n",
    "$$\\hat{\\omega} = 2\\pi \\frac{f}{f_s}$$"
   ]
  },
  {
   "cell_type": "markdown",
   "metadata": {
    "slideshow": {
     "slide_type": "fragment"
    }
   },
   "source": [
    "* Antall svingninger per sekund er ikke lengre så relevant.\n",
    "* For digitale signal er antallet svingninger mellom hver smaple mye mer interresant."
   ]
  },
  {
   "cell_type": "markdown",
   "metadata": {
    "slideshow": {
     "slide_type": "slide"
    }
   },
   "source": [
    "# Sampling av sinusformet bølge\n",
    "\n",
    "* Frekvensspekter for signalet $x(t) = \\cos(100\\pi \\cdot t)$ samplet med to ulike samplingsfrekvenser.\n",
    "\n",
    "<img src=\"Figurer/05_Sampling_og_Aliasing/Fig5_SampledSinusoids.png\" style=\"width: 60%; margin-left: 100px\">\n"
   ]
  },
  {
   "cell_type": "markdown",
   "metadata": {
    "slideshow": {
     "slide_type": "slide"
    }
   },
   "source": [
    "# Digital Periode\n",
    "\n",
    "* Periodisitet for samplede signal definert med formelen \n",
    "$$x[n] = x[n+k\\cdot N], \\ \\ \\ k\\in \\mathbb{Z}$$\n",
    "    - Der heltallet $N$ er den *digitale perioden*.\n",
    "<br>\n",
    "* For samplede sinusbølger:\n",
    "$$\\cos\\left(2\\pi \\frac{f}{f_s} \\cdot n \\right) = \\cos\\left(2\\pi \\frac{f}{f_s} \\cdot n + 2\\pi\\frac{f}{f_s}\\cdot N \\right)$$\n",
    "    - Hvis likheten holder for én verdi av $k$ så vil den holde for alle.\n",
    "    - Utnytter at sinusoider er periodiske: $\\cos(x) = \\cos(x+k\\cdot 2\\pi)$\n",
    "    \n",
    "$$ \\frac{f}{f_s}\\cdot N = M, \\ \\ \\ M \\in \\mathbb{Z}$$\n",
    "$$ \\frac{f}{f_s} = \\frac{M}{N}$$\n",
    "\n",
    "* $\\frac{f}{f_s}$ *må* være et *rasjonelt tall*"
   ]
  },
  {
   "cell_type": "markdown",
   "metadata": {
    "slideshow": {
     "slide_type": "slide"
    }
   },
   "source": [
    "## Regneeksempel 1:\n",
    "* Ete cosinussignal med frekvens $f=144Hz$ samples med en A/D omformer med samplingsfrekvens $f_s = 800Hz$. \n",
    "    - Hva er den normaliserte vinkelfrekvensen $\\hat{\\omega}$?\n",
    "    - Hva blir den digitale perioden $N$ til signalet?"
   ]
  },
  {
   "cell_type": "markdown",
   "metadata": {
    "slideshow": {
     "slide_type": "slide"
    }
   },
   "source": [
    "# Utfordringen med sampling\n",
    "\n",
    "* Vi kan bare estimere hva signalverdien er imellom samplingstidspunkt.\n",
    "\n",
    "<img src=\"Figurer/05_Sampling_og_Aliasing/Fig6_SamplingChallenge.png\" style=\"width: 60%; margin-left: 100px\">"
   ]
  },
  {
   "cell_type": "markdown",
   "metadata": {
    "slideshow": {
     "slide_type": "slide"
    }
   },
   "source": [
    "<img src=\"Figurer/05_Sampling_og_Aliasing/Fig7_EKG_Eksempel.gif\" style=\"width: 100%\">\n"
   ]
  },
  {
   "cell_type": "markdown",
   "metadata": {
    "slideshow": {
     "slide_type": "slide"
    }
   },
   "source": [
    "# Hva skal til for vellykket rekonstruksjon av samplet signal?\n",
    "\n",
    "* Med utgangspunkt i sinusbølger kan man formulere et kriterkie for vellykket rekonstruksjon:\n",
    "\n",
    "    1. Alle signal kan dekomponeres til en sum av sinusbølger.\n",
    "    2. Dersom vi kan rekonstruere alle sinusbølgene individuelt, bør rekonstruksjon av et mer komplisert signal være mulig.\n",
    "\n",
    "\n",
    "* Hvilke begrensninger har vi for sampling av sinussignal?"
   ]
  },
  {
   "cell_type": "markdown",
   "metadata": {
    "slideshow": {
     "slide_type": "slide"
    }
   },
   "source": [
    "## Interaktivt plot: sampling av sinussignal"
   ]
  },
  {
   "cell_type": "code",
   "execution_count": 2,
   "metadata": {
    "scrolled": false,
    "slideshow": {
     "slide_type": "fragment"
    }
   },
   "outputs": [
    {
     "data": {
      "application/vnd.jupyter.widget-view+json": {
       "model_id": "cc96b9d468d84a9ebe6e74898f78c7d6",
       "version_major": 2,
       "version_minor": 0
      },
      "text/plain": [
       "Canvas(toolbar=Toolbar(toolitems=[('Home', 'Reset original view', 'home', 'home'), ('Back', 'Back to previous …"
      ]
     },
     "metadata": {},
     "output_type": "display_data"
    },
    {
     "data": {
      "application/vnd.jupyter.widget-view+json": {
       "model_id": "fb9579e89bde4bf8ac8c8d33b07dfe6f",
       "version_major": 2,
       "version_minor": 0
      },
      "text/plain": [
       "VBox(children=(FloatSlider(value=1.0, description='Sine wave frequency (Hz):', layout=Layout(width='95%'), max…"
      ]
     },
     "metadata": {},
     "output_type": "display_data"
    },
    {
     "data": {
      "application/vnd.jupyter.widget-view+json": {
       "model_id": "91176b68fa2e46a0a5c194923b6ea42c",
       "version_major": 2,
       "version_minor": 0
      },
      "text/plain": [
       "Output()"
      ]
     },
     "metadata": {},
     "output_type": "display_data"
    }
   ],
   "source": [
    "aliasingDemo();"
   ]
  },
  {
   "cell_type": "markdown",
   "metadata": {
    "slideshow": {
     "slide_type": "slide"
    }
   },
   "source": [
    "# Aliasing\n",
    "\n",
    "* Når en sinusformet bølge med frekvens $f$ samples med samplingsfrekvens $f_s \\leq 2\\cdot f$, vil samplene \"se ut\" som et annet signal.\n",
    "* Dette falske signalet er kjent som en alias.\n",
    "* En alias av et signalkomponent er ofte umulig å adskille fra de delene av signalet som er samplet korrekt."
   ]
  },
  {
   "cell_type": "markdown",
   "metadata": {
    "slideshow": {
     "slide_type": "slide"
    }
   },
   "source": [
    "# Nyquist Samplingsteorem\n",
    "\n",
    "* Et analogt signal $x(t)$ som ikke inneholder frekvenskomponenter høyere enn $f_{max}$ kan rekonstrueres uten feil fra det samplede signalet $x[n] = x(n\\cdot T_s)$ *kun* hvis samplingsfrekvensen $f_s =\\frac{1}{T_s}$ er større enn $2\\cdot f_{max}$.\n",
    "\n",
    "## $$f_s > 2\\cdot f_{max} = \\text{Nyquist rate}$$\n",
    "\n",
    "* Maksfrekvensen $\\frac{f_s}{2}$ er kjent som *Nyquist Frekvensen*"
   ]
  },
  {
   "cell_type": "markdown",
   "metadata": {
    "slideshow": {
     "slide_type": "slide"
    }
   },
   "source": [
    "# Normalisert vinkelfrekvens og samplingsteoremet\n",
    "\n",
    "* Aliasing ved sampling av sinusbølge forekommer når $f \\geq \\frac{f_s}{2}$. \n",
    "    * Denne \"maksfrekvensen\" tilsvarer normalisert vinkelfrekvens $\\hat{\\omega} = 2\\pi \\frac{f}{f_s}|_{f=\\frac{f_s}{2}}= \\pi$\n",
    "* Når man betrakter sinusbølger som en sum av komplekse eksponentialer definerer dette et begrenset frekvensområde i det tosidige frekvensspekteret der aliasing ikke vil forekomme.\n",
    "\n",
    "$$-\\pi < \\hat{\\omega} < \\pi$$"
   ]
  },
  {
   "cell_type": "markdown",
   "metadata": {
    "slideshow": {
     "slide_type": "slide"
    }
   },
   "source": [
    "# Komplekse eksponential og Aliasing\n",
    "\n"
   ]
  },
  {
   "cell_type": "code",
   "execution_count": 1,
   "metadata": {
    "slideshow": {
     "slide_type": "slide"
    }
   },
   "outputs": [
    {
     "ename": "NameError",
     "evalue": "name 'complexAlias' is not defined",
     "output_type": "error",
     "traceback": [
      "\u001b[1;31m---------------------------------------------------------------------------\u001b[0m",
      "\u001b[1;31mNameError\u001b[0m                                 Traceback (most recent call last)",
      "\u001b[1;32m<ipython-input-1-179976a4774b>\u001b[0m in \u001b[0;36m<module>\u001b[1;34m\u001b[0m\n\u001b[1;32m----> 1\u001b[1;33m \u001b[0mcomplexAlias\u001b[0m\u001b[1;33m(\u001b[0m\u001b[1;33m)\u001b[0m\u001b[1;33m\u001b[0m\u001b[1;33m\u001b[0m\u001b[0m\n\u001b[0m",
      "\u001b[1;31mNameError\u001b[0m: name 'complexAlias' is not defined"
     ]
    }
   ],
   "source": [
    "complexAlias()"
   ]
  },
  {
   "cell_type": "markdown",
   "metadata": {
    "slideshow": {
     "slide_type": "slide"
    }
   },
   "source": [
    "# Utregning av alias for en sinusbølge\n",
    "\n",
    "* Alle normaliserte vinkelfrekvenser utenfor intervallet $-\\pi < \\hat{\\omega} < \\pi$ vil ha en alias *i* frekvensintervallet $-\\pi < \\hat{\\omega} < \\pi$.<br><br>\n",
    "$$ \\hat{\\omega} = k\\cdot 2\\pi + \\hat{\\omega}_{alias}$$\n",
    "    - der $k$ er et heltall, og $\\hat{\\omega}_{alias}$ er alias-frekvensen i rad/sample.\n",
    "\n",
    "\n",
    "* Eksempel:\n",
    "    - En vinkelfrekvens $\\hat{\\omega}=\\frac{7\\pi}{5}$ for et diskrét komplekst eksponential $x[n] = e^{j\\hat{\\omega}\\cdot n}$ påfører altså $\\frac{7\\pi}{5}$ radianer rotasjon mellom hvar sample. \n",
    "    - En annen vinkelfrekvens $\\hat{\\omega}=-\\frac{3\\pi}{5}$ vil gi ***nøyaktig*** de samme sampleverdiene."
   ]
  },
  {
   "cell_type": "markdown",
   "metadata": {
    "slideshow": {
     "slide_type": "slide"
    }
   },
   "source": [
    "## Regneeksempel 2: \n",
    "* Hva blir det rekonstruerte signalet $\\hat{x}(t)$ når et sinusformet signal $x(t) = \\cos\\left(2\\pi \\cdot 475 \\cdot t + \\frac{\\pi}{3} \\right)$ samples med samplingsfrekvens $f_s = 300Hz$?"
   ]
  },
  {
   "cell_type": "markdown",
   "metadata": {
    "slideshow": {
     "slide_type": "slide"
    }
   },
   "source": [
    "# Sampling av båndbegrenset signal\n",
    "\n",
    "* Sampling av et båndbegrenset signal når $f_{max}<\\frac{f_s}{2}$.\n",
    "\n",
    "<img src=\"Figurer/05_Sampling_og_Aliasing/Fig9_SpectralSamling1.png\" style=\"width: 90%\">"
   ]
  },
  {
   "cell_type": "markdown",
   "metadata": {
    "slideshow": {
     "slide_type": "slide"
    }
   },
   "source": [
    "# Periodisitet i frekvensdomenet\n",
    "\n",
    "* Utvidet representasjon av et digitalt signal i frekvensdomenet gir periodisk frekvensinnhold der perioden er $2\\pi$.\n",
    "* Det båndbegrensede signalet får en serie ***spektrale kopier*** sentrert rundt $\\hat{\\omega} = k\\cdot 2\\pi$.\n",
    "* Alle mulige spektrale kopier av et digitalt signal er \"til stede\" i signalets frekvensspekter.\n",
    "    - Fourieranalyse av det digitale signalet vil gi utslag for alle disse kopiene\n",
    "\n",
    "<img src=\"Figurer/05_Sampling_og_Aliasing/Fig10_SpectralSamling2.png\" style=\"width: 90%\">"
   ]
  },
  {
   "cell_type": "markdown",
   "metadata": {
    "slideshow": {
     "slide_type": "slide"
    }
   },
   "source": [
    "# Rekonstruksjon\n",
    "\n",
    "* Rekonstruksjon tilbake til et tidskontinuerlig signal vil fjerne de spektrale kopiene.\n",
    "<img src=\"Figurer/05_Sampling_og_Aliasing/Fig11_SpectralSamling2.png\" style=\"width: 90%\">"
   ]
  },
  {
   "cell_type": "markdown",
   "metadata": {
    "slideshow": {
     "slide_type": "slide"
    }
   },
   "source": [
    "<img src=\"Figurer/05_Sampling_og_Aliasing/Fig11b_SpectralSamling3.png\" style=\"width: 90%\">"
   ]
  },
  {
   "cell_type": "markdown",
   "metadata": {
    "slideshow": {
     "slide_type": "slide"
    }
   },
   "source": [
    "# Aliasing i frekvensdomenet\n",
    "\n",
    "* Dersom samplingsfrekvensen er forl lav, vil de spektrale kopiene overlappe hverandre.\n",
    "* I de overlappende sonene vil to forskjellige frekvenskomponenter samples til samme digitale frekvens.\n",
    "<img src=\"Figurer/05_Sampling_og_Aliasing/Fig12_SpectralAliasing1.png\" style=\"width: 90%\">"
   ]
  },
  {
   "cell_type": "markdown",
   "metadata": {
    "slideshow": {
     "slide_type": "slide"
    }
   },
   "source": [
    "# Aliasing i frekvensdomenet\n",
    "\n",
    "* Alle disse verlappende frekvenskomponentene kan ha uforutsigbare konsekvenser, og enten kansellere ut hverandre eller legges sammen.\n",
    "* Rekonstruksjon av opprinnelig signal ikke gjennomførbart.\n",
    "\n",
    "<img src=\"Figurer/05_Sampling_og_Aliasing/Fig12_SpectralAliasing2.png\" style=\"width: 90%\">"
   ]
  },
  {
   "cell_type": "markdown",
   "metadata": {
    "slideshow": {
     "slide_type": "slide"
    }
   },
   "source": [
    "<img src=\"Figurer/05_Sampling_og_Aliasing/Fig14_FreqFolding1.png\" style=\"width: 100%\">"
   ]
  },
  {
   "cell_type": "markdown",
   "metadata": {
    "slideshow": {
     "slide_type": "slide"
    }
   },
   "source": [
    "# Frekvensfolding illustrert\n",
    "\n",
    "<img src=\"Figurer/05_Sampling_og_Aliasing/Fig15_FreqFolding2.png\" style=\"width: 100%\">"
   ]
  },
  {
   "cell_type": "markdown",
   "metadata": {
    "slideshow": {
     "slide_type": "notes"
    }
   },
   "source": [
    "* Læreboken har en ganske god Matlab-demo om Aliasing som kan lastes ned [her](http://dspfirst.gatech.edu/matlab/#con2dis)."
   ]
  },
  {
   "cell_type": "markdown",
   "metadata": {
    "slideshow": {
     "slide_type": "slide"
    }
   },
   "source": [
    "## Regneeksempel 3: utregning av samplet signal\n",
    "* Signalet $x(t) =\\cos\\left(2\\pi \\cdot 175 \\cdot t + \\frac{\\pi}{3} \\right) + \\cos\\left(2\\pi \\cdot 225 \\cdot t + \\frac{2\\pi}{3} \\right)$ samples med en samplingsfrekvens $f_s = 400 Hz$. \n",
    "\n",
    "    Finn et uttrykk for det samplede signalet $x[n]$."
   ]
  },
  {
   "cell_type": "markdown",
   "metadata": {
    "slideshow": {
     "slide_type": "slide"
    }
   },
   "source": [
    "### Visualisering av signalet fra regneeksempel 3:"
   ]
  },
  {
   "cell_type": "code",
   "execution_count": null,
   "metadata": {
    "slideshow": {
     "slide_type": "fragment"
    }
   },
   "outputs": [],
   "source": []
  },
  {
   "cell_type": "markdown",
   "metadata": {
    "slideshow": {
     "slide_type": "slide"
    }
   },
   "source": [
    "# Anti-aliasing filter\n",
    "* Vi trenger en måte å gardere mot mulig høyfrekvent signalinnhold utenfor Nyqist-frekvensen.\n",
    "* Et *analogt* filter i forkant av A/D omformeren kan brukes til å dempe høyfrekvent signalinnhold før sampling.\n",
    "\n",
    "<img src=\"Figurer/05_Sampling_og_Aliasing/Fig16_AntiAliasing1.png\" style=\"width: 80%; margin-left: 100px%\">"
   ]
  },
  {
   "cell_type": "markdown",
   "metadata": {
    "slideshow": {
     "slide_type": "slide"
    }
   },
   "source": [
    "# Ideelle filtre\n",
    "\n",
    "* Omtales ofte som \"brick wall\"-filter-\n",
    "* Signalkomponenter i passbåndet passerer helt uendret.\n",
    "* Signalkomponenter i stoppbåndet blokkeres 100%.\n",
    "* Kantfrekvens $f_c$ der passbåndet stopper og stoppbåndet starter.\n",
    "\n",
    "<img src=\"Figurer/05_Sampling_og_Aliasing/Fig17_AntiAliasing2.png\" style=\"width: 80%; margin-left: 100px%\">"
   ]
  },
  {
   "cell_type": "markdown",
   "metadata": {
    "slideshow": {
     "slide_type": "slide"
    }
   },
   "source": [
    "# Praktiske analoge filtre\n",
    "        \n",
    "<div style=\"width: 100%;\">\n",
    "    <img src=\"Figurer/05_Sampling_og_Aliasing/Fig18_AntiAliasing3.png\" style=\"float: right; width: 50%\" />\n",
    "    <div style=\"width: 50%\">\n",
    "    <ul>\n",
    "    <li>I praksis vil et filter velges ut i fra hvor store avvik fra det ideelle filteret man kan tillate.</li>\n",
    "    <li>Passbåndet vil alltid endre signalet <i>litt</i>.</li>\n",
    "    <ul>            \n",
    "        <li>Hvor mye kan vi tillate? </li>\n",
    "    </ul>\n",
    "    <li>Stoppbåndet vil aldri dempe <b>alt</b> signalinnhold i stoppbåndet.</li>\n",
    "    <ul>            \n",
    "        <li>Hva kan vi regne som god nok dempingsfaktor?</li>\n",
    "    </ul>\n",
    "    </ul>\n",
    "    </div>\n",
    "</div> "
   ]
  },
  {
   "cell_type": "markdown",
   "metadata": {
    "slideshow": {
     "slide_type": "slide"
    }
   },
   "source": [
    "# Oversampling\n",
    "\n",
    "* Ved å sample ved en høyere frekvens enn *Nyquist raten* $f_s = 2\\cdot f_{max}$, kan vi legge inn en \"sikkerhetsmargin\".\n",
    "* Gjør det mulig å bruke et ikke-ideelt anti-aliasing filter med gradvis \"roll-off\", og allikevel garantere at alle frekvenskomponenter som kan føre til aliasing har blitt dempet tilstrekkelig.\n",
    "* Samplingsfrekvensen kan reduseres ved en senere anledning på \"digital side\" om ønskelig."
   ]
  },
  {
   "cell_type": "markdown",
   "metadata": {
    "slideshow": {
     "slide_type": "slide"
    }
   },
   "source": [
    "## Regneeksempel 4: oversampling\n",
    "\n",
    "<div style=\"width: 110%;\">\n",
    "    <img src=\"Figurer/05_Sampling_og_Aliasing/Fig18_AntiAliasing3.png\" style=\"float: right; width: 50%\" />\n",
    "    <div style=\"width: 50%\">\n",
    "    <ul>\n",
    "        <li>Vi skal sample et signal $x(t)$, og er <i>kun</i> interessert i frekvensbåndet $0Hz\\leq f < 500Hz$. </li>\n",
    "        <li>For å unngå aliasing fra uønsket interferens i de andre frekvensområdene, benytter vi et *anti-aliasing filter* med $-3dB$ knekkfrekvens $f_c = 500Hz$ slik som vist i figuren. </li>\n",
    "        <li>Det er et krav at alle de høye frekvensene som \"foldes\" ned til frekvensbåndet $0Hz \\leq f < 500Hz$ skal være dempet minst $80dB$.\n",
    "    </ul>\n",
    "    </div>\n",
    "</div> \n",
    "\n",
    "* Hva er den laveste samplingsfrekvensen vi kan bruke og fremdeles oppfylle kravene?"
   ]
  },
  {
   "attachments": {},
   "cell_type": "markdown",
   "metadata": {},
   "source": [
    "## Løsning regneeksempel 4:\n",
    "\n",
    "<img src=\"Figurer/05_Sampling_og_Aliasing/Fig19_AntiAliasing4.png\" style=\"width: 60%; margin-left: 100px%\">\n",
    "\n",
    "* Vi kan akseptere det røde frekvensbåndet, da signalinnholdet der ikke var av interesse."
   ]
  },
  {
   "cell_type": "markdown",
   "metadata": {
    "slideshow": {
     "slide_type": "slide"
    }
   },
   "source": [
    "# Spørsmål?"
   ]
  }
 ],
 "metadata": {
  "celltoolbar": "Slideshow",
  "kernelspec": {
   "display_name": "Python 3",
   "language": "python",
   "name": "python3"
  },
  "language_info": {
   "codemirror_mode": {
    "name": "ipython",
    "version": 3
   },
   "file_extension": ".py",
   "mimetype": "text/x-python",
   "name": "python",
   "nbconvert_exporter": "python",
   "pygments_lexer": "ipython3",
   "version": "3.8.5"
  }
 },
 "nbformat": 4,
 "nbformat_minor": 4
}
