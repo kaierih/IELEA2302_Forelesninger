{
 "cells": [
  {
   "cell_type": "code",
   "execution_count": 1,
   "metadata": {
    "slideshow": {
     "slide_type": "skip"
    }
   },
   "outputs": [],
   "source": [
    "# Generelle moduler og funksjonsbeskrivelser brukt i forelesningen\n",
    "from numpy import sin, cos, pi, exp\n",
    "import numpy.fft as fft\n",
    "import numpy as np\n",
    "import matplotlib.pyplot as plt\n",
    "from Kildekode._06_DFT import *\n",
    "\n",
    "%matplotlib ipympl"
   ]
  },
  {
   "cell_type": "markdown",
   "metadata": {
    "slideshow": {
     "slide_type": "slide"
    }
   },
   "source": [
    "<img src=\"NTNU_Logo.png\" align=\"left\" style=\"width: 30%\">\n",
    "<br clear=\"all\" />\n",
    "<br></br>\n",
    "\n",
    "# Diskrét Fouriertransformasjon\n",
    "\n",
    "* **Emne IELEA2302 - Signalbehandling**\n",
    "* **Uke 6, 2021**\n",
    "* **Underviser: Kai Erik Hoff**\n"
   ]
  },
  {
   "cell_type": "markdown",
   "metadata": {
    "slideshow": {
     "slide_type": "slide"
    }
   },
   "source": [
    "# Tema\n",
    "* Intro til frekvensanalyse\n",
    "* Repetisjon Frekvensdomene-representasjon av sinusformede signal\n",
    "* Diskret Fouriertransformasjon\n",
    "    * DFT og fourierrekke-dekomposisjon - hva er forskjellig?\n",
    "    * DFT-summen\n",
    "    * Hva er en DFT-sekvens?\n",
    "* Fast Fourier Transformasjon\n",
    "* Frekvensanalyse med FFT\n",
    "* Invers Diskret Fouriertransformasjon\n",
    "    * IFFT\n",
    "* Signaloperasjoner i frekvensplanet"
   ]
  },
  {
   "cell_type": "markdown",
   "metadata": {
    "slideshow": {
     "slide_type": "slide"
    }
   },
   "source": [
    "# Frekvensanalyse\n",
    "\n",
    "* Frekvensanalyse innebærer å transformere et signal $x(t)$ fra tidsdomenet til frekvendomenet.\n",
    "<img src=\"Figurer/06_DFT/Fig1_Frekvensanalyse.png\" style=\"width: 80%; margin-left: 100px\" />"
   ]
  },
  {
   "cell_type": "markdown",
   "metadata": {
    "slideshow": {
     "slide_type": "skip"
    }
   },
   "source": [
    "# Eksempel på Bruksområde\n",
    "\n",
    "* Kartlegging av interferens\n",
    "\n",
    "<img src=\"Figurer/06_DFT/Fig2_Interferens.jpg\" style=\"width: 70%; margin-left: 100px\" />"
   ]
  },
  {
   "cell_type": "markdown",
   "metadata": {
    "slideshow": {
     "slide_type": "skip"
    }
   },
   "source": [
    "## Repetisjon frekvensrepresentasjon\n",
    "\n",
    "* Kartlegging av amplitude og fase til alle frekvenskomponentene som utgjør et signal $x(t)$.\n",
    "* Fouriertransformasjon produserer et komplekst uttrykk $X\\left(e^{j\\omega}\\right)$, gitt som funksjon av vinkelfrekvens $\\omega$.\n",
    "    - Amplituden til en frekvenskomponent med vinkelfrekvens $\\omega$ er gitt ved $\\left| X\\left(e^{j\\omega}\\right)\\right|$.\n",
    "    - Fasen til en frekvenskomponent med vinkelfrekvens $\\omega$ er gitt ved $\\angle X\\left(e^{j\\omega}\\right)$."
   ]
  },
  {
   "cell_type": "markdown",
   "metadata": {
    "slideshow": {
     "slide_type": "slide"
    }
   },
   "source": [
    "## Interaktivt plot: frekvensrepresentasjon av sinusbølge"
   ]
  },
  {
   "cell_type": "code",
   "execution_count": 2,
   "metadata": {
    "slideshow": {
     "slide_type": "fragment"
    }
   },
   "outputs": [
    {
     "data": {
      "application/vnd.jupyter.widget-view+json": {
       "model_id": "4cdffe07832d410e9a783e90bbdffead",
       "version_major": 2,
       "version_minor": 0
      },
      "text/plain": [
       "Canvas(toolbar=Toolbar(toolitems=[('Home', 'Reset original view', 'home', 'home'), ('Back', 'Back to previous …"
      ]
     },
     "metadata": {},
     "output_type": "display_data"
    },
    {
     "data": {
      "application/vnd.jupyter.widget-view+json": {
       "model_id": "d96b277300704ffca30c898fe3e58caa",
       "version_major": 2,
       "version_minor": 0
      },
      "text/plain": [
       "VBox(children=(HBox(children=(FloatSlider(value=1.0, description='$A$', layout=Layout(width='95%'), max=1.0), …"
      ]
     },
     "metadata": {},
     "output_type": "display_data"
    },
    {
     "data": {
      "application/vnd.jupyter.widget-view+json": {
       "model_id": "0920fa961a5c4d0289100f4206cee3c6",
       "version_major": 2,
       "version_minor": 0
      },
      "text/plain": [
       "Output()"
      ]
     },
     "metadata": {},
     "output_type": "display_data"
    }
   ],
   "source": [
    "SinusoidSpectrumDemo();"
   ]
  },
  {
   "cell_type": "markdown",
   "metadata": {
    "slideshow": {
     "slide_type": "skip"
    }
   },
   "source": [
    "# Frekvensanalyse av digitale signal\n",
    "* Fouriertransformasjon danner grunnlaget for frekvensanalyse.\n",
    "* Nødvendig å finne en matematisk analyse som utføres numerisk.\n",
    "    - Endelig antall datapunkt\n",
    "    - Digitale signal\n",
    "* Ved å utføre frekvensanalyse av et digitalt signal får vi informasjon om frekvensinnholdet for frekvensintervallet $-\\frac{f_s}{2} \\leq f \\leq \\frac{f_s}{2}$. \n",
    "    - For digitale signal tilsvarer dette et intervall $-\\pi \\leq \\hat{\\omega} \\leq \\pi$."
   ]
  },
  {
   "cell_type": "markdown",
   "metadata": {
    "slideshow": {
     "slide_type": "skip"
    }
   },
   "source": [
    "# Ulike Fouriertransformasjoner\n",
    "\n",
    "<img src=\"Figurer/06_DFT/Fig3_FourierTransforms.png\" style=\"width: 80%; margin-left: 100px\" />"
   ]
  },
  {
   "cell_type": "markdown",
   "metadata": {
    "slideshow": {
     "slide_type": "skip"
    }
   },
   "source": [
    "## Fourierrekke-dekomposisjon oppsummert\n",
    "\n",
    "1. Observer et signal over et tidsvindu $T_0$.\n",
    "2. Bruk frekvensforskyvning til å plukke ut sinusbølgene som fullfører 1, 2, 3, 4, 5 osv... fulle perioder i løpet av tidsintervallet $T_0$.\n",
    "3. Fortsetter i det uendelige."
   ]
  },
  {
   "cell_type": "markdown",
   "metadata": {
    "slideshow": {
     "slide_type": "skip"
    }
   },
   "source": [
    "* Vi kan gjøre *nesten* det samme med digitale signal."
   ]
  },
  {
   "cell_type": "markdown",
   "metadata": {
    "slideshow": {
     "slide_type": "skip"
    }
   },
   "source": [
    "# Diskret Fouriertransformasjon\n",
    "\n",
    "1. Samle opp et signal over et sampleintervall $N$.\n",
    "2. Bruk frekvensforskyvning til å plukke ut sinussekvensene som fullfører 1, 2, 3, 4, 5 osv.. fulle perioder i løpet av et sampleintervall $N$.\n",
    "3. Fortsett så lenge frekvenskomponentene har "
   ]
  },
  {
   "cell_type": "markdown",
   "metadata": {
    "slideshow": {
     "slide_type": "slide"
    }
   },
   "source": [
    "# Diskret Fouriertransformasjon\n",
    "\n",
    "* Formel:\n",
    "## $$X[k] = \\sum_{n=0}^{N-1}x[n]\\cdot e^{-j\\cdot 2\\pi \\frac{kn}{N}} $$\n",
    "\n",
    "* Ligner på fourierrekke-dekomposisjon.\n",
    "* Dekomponerer et digitalt signal basert på et sample-intervall $N$.\n",
    "* Gir en sekvens med komplekse amplituder for frekvensene\n",
    "$$\\hat{\\omega}_k = \\frac{2\\pi k}{N}$$\n",
    "* Sekvensen $X[k]$ vil være periodisk over $N$ sampler."
   ]
  },
  {
   "cell_type": "markdown",
   "metadata": {
    "slideshow": {
     "slide_type": "slide"
    }
   },
   "source": [
    "# DFT-sekvensen\n",
    "\n",
    "* Vi regner kun ut for heltallsverdier av $k \\in \\{0, 1, \\ldots, N-1\\}$.\n",
    "    * Negative frekvenskomponenter representeres med aliasene i frekvensintervallet $\\pi<\\hat{\\omega}_k < 2\\pi$.\n",
    "    \n",
    "<img src=\"Figurer/06_DFT/Fig4_DFT_1.png\" style=\"width: 100%\" />"
   ]
  },
  {
   "cell_type": "markdown",
   "metadata": {
    "slideshow": {
     "slide_type": "skip"
    }
   },
   "source": [
    "## Regneeksempel 1\n",
    "\n",
    "* Tabellen angir 4 sampler av signalet $x[n]$.\n",
    "\n",
    "|n|0|1|2|3|\n",
    "|--- |---|---|---|---|\n",
    "|x\\[n\\]|2|1|0|1|\n",
    "\n",
    "* Utfør 4-punkts DFT av signalsamplene til $x[n]$."
   ]
  },
  {
   "cell_type": "markdown",
   "metadata": {
    "slideshow": {
     "slide_type": "slide"
    }
   },
   "source": [
    "# Oppløsningsbåndbredde\n",
    "* Avstanden i frekvensplanet mellom hver utregnet frekvenskomponent $\\Delta\\hat{\\omega}$.\n",
    "* Omvendt proporsjonal med vinduslengden $N$, altså antallet signalsampler som brukes til å regne ut DFT.\n",
    "$$\\Delta \\hat{\\omega} = \\frac{2\\pi}{N}$$\n",
    "* For signal samplet med samplingsfrekvens $f_s$, vil oppløsningsbåndbredden være:\n",
    "$$\\Delta f = \\Delta \\hat{\\omega} \\cdot \\frac{f_s}{2\\pi} = \\frac{f_s}{N}$$"
   ]
  },
  {
   "cell_type": "markdown",
   "metadata": {
    "slideshow": {
     "slide_type": "slide"
    }
   },
   "source": [
    "# Indeksverdi $k$\n",
    "\n",
    "* DFT gir en endelig rekke \"frekvenssampler\", altså sampler av signalet i frekvensplan.\n",
    "* Hver frekvenssample har en indeksverdi $k$.\n",
    "* Vi kan regne ut frekvensen til den aktuelle komponenten ved å ta utgangspunkt i indeksverdien $k$.\n",
    "* For en $N$-punkts DFT:\n",
    "\n",
    "$$\\hat{\\omega}_k = k\\cdot \\Delta \\hat{\\omega} = k\\cdot \\frac{2\\pi}{N}$$\n",
    "\n",
    "\n",
    "$$f_k = k\\cdot \\Delta f = k\\cdot \\frac{f_s}{N}$$"
   ]
  },
  {
   "cell_type": "markdown",
   "metadata": {
    "slideshow": {
     "slide_type": "slide"
    }
   },
   "source": [
    "# DFT Egenskaper\n",
    "\n",
    "* Periodisk over $N$ sampler.\n",
    "$$X[k] = X[k+l\\cdot N], \\ \\ \\ l \\in \\mathbb{Z}$$\n",
    "* Komplekskonjugert symmetri.\n",
    "$$X[k] = X[-k]^* = X[N-k]^*$$\n",
    "\n",
    "* DC-komponent:\n",
    "    - Tilsvarer $X[0]$.\n",
    "    - Fase enten $0$ eller $\\pi$.\n",
    "* Midtpunkt $\\left( k=\\frac{N}{2} \\right)$\n",
    "    - Tilsvarer nøyaktig 2 sampler per periode/svingning av sinuskomponenten.\n",
    "    - Fase lik $0$ eller $\\pi$."
   ]
  },
  {
   "cell_type": "markdown",
   "metadata": {
    "slideshow": {
     "slide_type": "skip"
    }
   },
   "source": [
    "# Tolkning av DFT: Amplitude\n",
    "* Relasjon mellom $|X[k]|$ og amplitude på sinuskomponent\n",
    "\n",
    "<img src=\"Figurer/06_DFT/Fig5_DFT_2.png\" style=\"width: 100%\" />"
   ]
  },
  {
   "cell_type": "markdown",
   "metadata": {
    "slideshow": {
     "slide_type": "skip"
    }
   },
   "source": [
    "# Tolkning av DFT: Fase\n",
    "* Relasjon mellom $\\angle X[k]$ og fase på sinuskomponent\n",
    "\n",
    "<img src=\"Figurer/06_DFT/Fig6_DFT_3.png\" style=\"width: 100%\" />"
   ]
  },
  {
   "cell_type": "markdown",
   "metadata": {
    "slideshow": {
     "slide_type": "slide"
    }
   },
   "source": [
    "## DFT av sinussekvens"
   ]
  },
  {
   "cell_type": "code",
   "execution_count": 3,
   "metadata": {
    "scrolled": false,
    "slideshow": {
     "slide_type": "fragment"
    }
   },
   "outputs": [
    {
     "data": {
      "application/vnd.jupyter.widget-view+json": {
       "model_id": "f1d079c961c54562936c82ba90babddb",
       "version_major": 2,
       "version_minor": 0
      },
      "text/plain": [
       "Canvas(toolbar=Toolbar(toolitems=[('Home', 'Reset original view', 'home', 'home'), ('Back', 'Back to previous …"
      ]
     },
     "metadata": {},
     "output_type": "display_data"
    },
    {
     "data": {
      "application/vnd.jupyter.widget-view+json": {
       "model_id": "f162054a30dc416e9779c13df894bddd",
       "version_major": 2,
       "version_minor": 0
      },
      "text/plain": [
       "HBox(children=(VBox(children=(FloatSlider(value=1.0, continuous_update=False, description='Ampltiude $A$:', la…"
      ]
     },
     "metadata": {},
     "output_type": "display_data"
    },
    {
     "data": {
      "application/vnd.jupyter.widget-view+json": {
       "model_id": "70a3fed280b041bab4b58238990e7d95",
       "version_major": 2,
       "version_minor": 0
      },
      "text/plain": [
       "Output()"
      ]
     },
     "metadata": {},
     "output_type": "display_data"
    }
   ],
   "source": [
    "DFT_Demo();"
   ]
  },
  {
   "cell_type": "markdown",
   "metadata": {
    "slideshow": {
     "slide_type": "slide"
    }
   },
   "source": [
    "## Regneeksempel 2\n",
    "\n",
    "Formelen nedenfor angir DFT av $N=16$ sampler for en sinussekvens $x[n]$.\n",
    "\n",
    "$$ X[k]= \n",
    "\\begin{cases}\n",
    " 4\\sqrt{3} -j4, \\ \\ & k = 3\\\\\n",
    " 4\\sqrt{3} +j4, \\ \\ & k = 13\\\\\n",
    " 0, & \\text{ellers}\n",
    "\\end{cases}\n",
    "$$\n",
    "\n",
    "Finn Normalisert Vinkelfrekvens $\\hat{\\omega}$, Amplitude $A$ og Fase $\\phi$ for sinussekvensen $x[n]$."
   ]
  },
  {
   "cell_type": "markdown",
   "metadata": {
    "slideshow": {
     "slide_type": "slide"
    }
   },
   "source": [
    "# Fast Fourier Transform (FFT)\n",
    "\n",
    "* Effektiv algoritme for utregning av DFT\n",
    "    - I Python finnes ingen \"vanlig\" DFT funksjon. Resultatet er nøyaktig det samme med FFT.\n",
    "    - FFT-funksjonen i `numpy`: `numpy.fft.fft()`"
   ]
  },
  {
   "cell_type": "code",
   "execution_count": 10,
   "metadata": {
    "slideshow": {
     "slide_type": "fragment"
    }
   },
   "outputs": [
    {
     "name": "stdout",
     "output_type": "stream",
     "text": [
      "[4. 2. 0. 2.]\n"
     ]
    }
   ],
   "source": [
    "from numpy.fft import fft\n",
    "\n",
    "xn = np.array([2, 1, 0, 1])\n",
    "Xk = fft(xn)\n",
    "\n",
    "if sum(abs(np.imag(Xk)))>1e-10:\n",
    "    print(\"Imaginary part is non-zero\")\n",
    "else:\n",
    "    print(np.real(Xk))"
   ]
  },
  {
   "cell_type": "markdown",
   "metadata": {
    "slideshow": {
     "slide_type": "slide"
    }
   },
   "source": [
    "## Kodeeksempel: Frekvensanalyse med FFT\n",
    "* Vi har lastet inn signalet `x2_n` med samplingsfrekvens `f_s` fra datafila `06_DFT_data.mat`.\n",
    "* Bruk FFT til å finne ampitudespekteret til signalet $x(t)$, og lag et plot av tosidig amplitudespekter der x-aksen viser frekvens (i Hz)."
   ]
  },
  {
   "cell_type": "code",
   "execution_count": 21,
   "metadata": {
    "slideshow": {
     "slide_type": "fragment"
    }
   },
   "outputs": [
    {
     "data": {
      "application/vnd.jupyter.widget-view+json": {
       "model_id": "ef74cf400d7e4dea89d3ec4e46e960d5",
       "version_major": 2,
       "version_minor": 0
      },
      "text/plain": [
       "Canvas(toolbar=Toolbar(toolitems=[('Home', 'Reset original view', 'home', 'home'), ('Back', 'Back to previous …"
      ]
     },
     "metadata": {},
     "output_type": "display_data"
    },
    {
     "name": "stdout",
     "output_type": "stream",
     "text": [
      "380\n"
     ]
    },
    {
     "data": {
      "text/plain": [
       "Text(0, 0.5, 'Amplitude')"
      ]
     },
     "execution_count": 21,
     "metadata": {},
     "output_type": "execute_result"
    }
   ],
   "source": [
    "from scipy.io import loadmat\n",
    "\n",
    "fileData = loadmat('Datafiler/06_DFT/06_DFT_data.mat', squeeze_me=True)\n",
    "x2_n = fileData['x2_n']\n",
    "f_s = fileData['f_s']\n",
    "\n",
    "N = len(x2_n)\n",
    "n = np.arange(N)\n",
    "t = n/f_s\n",
    "\n",
    "# Vis signalpot over tid\n",
    "plt.close(1); plt.figure(1, figsize=(12,8));\n",
    "plt.subplot(2,1,1);\n",
    "plt.stem(t, x2_n, markerfmt='.')\n",
    "plt.grid(True)\n",
    "print(f_s)\n",
    "\n",
    "# Regn ut |X[k]|\n",
    "Xk = fft(x2_n)\n",
    "Xk = np.fft.fftshift(Xk)\n",
    "Xk_amp = abs(Xk)\n",
    "k = np.arange(int(-N/2), int(N/2))\n",
    "f_k = k/N*f_s\n",
    "\n",
    "# Plot Amplitudespekter i ny sub-figur\n",
    "plt.subplot(2,1,2)\n",
    "plt.stem(f_k, Xk_amp, markerfmt='.')\n",
    "plt.grid(True)\n",
    "plt.xlabel(\"Frekvens (Hz)\")\n",
    "plt.ylabel(\"Amplitude\")"
   ]
  },
  {
   "cell_type": "markdown",
   "metadata": {
    "slideshow": {
     "slide_type": "slide"
    }
   },
   "source": [
    "# Invers DFT\n",
    "\n",
    "* Invers Diskret Fouriertransformasjon vil produsere et tidsdomene-signal $x[n]$ fra en DFT-sekvens $X[k]$.\n",
    "* Matematisk form:\n",
    "## $$x[n] = \\frac{1}{N}\\cdot \\sum_{k=0}^{N-1}X[k] \\cdot e^{j\\frac{2\\pi k n}{N}} $$\n",
    "\n",
    "* Beskriver $x[n]$ som en sum av komplekse eksponential $e^{j\\hat{\\omega}_k n}$.\n",
    "* Dersom DFT overholder komplekskonjugert symmetri vil de komplekse eksponentialen *alltid* ha en komplekskonjugert \"tvilling\"\n",
    "    * Resultatet kan dermed omskrives til en sum av sinussekvenser"
   ]
  },
  {
   "cell_type": "markdown",
   "metadata": {
    "slideshow": {
     "slide_type": "slide"
    }
   },
   "source": [
    "## Regneeksempel 3:\n",
    "* Bruk IDFT til å finne et funksjonsuttrykk for $x[n]$ når \n",
    "\n",
    "$$ X[k]= \n",
    "\\begin{cases}\n",
    " 4\\sqrt{3} -j4, \\ \\ & k = 3\\\\\n",
    " 4\\sqrt{3} +j4, \\ \\ & k = 13\\\\\n",
    " 0, & \\text{ellers}\n",
    "\\end{cases}\n",
    "$$"
   ]
  },
  {
   "cell_type": "markdown",
   "metadata": {
    "slideshow": {
     "slide_type": "slide"
    }
   },
   "source": [
    "# IFFT\n",
    "\n",
    "* Invers diskret fouriertransformasjon kan utregnes i python ved hjelp av funksjonen `numpy.fft.ifft()`."
   ]
  },
  {
   "cell_type": "code",
   "execution_count": 26,
   "metadata": {
    "slideshow": {
     "slide_type": "fragment"
    }
   },
   "outputs": [
    {
     "data": {
      "application/vnd.jupyter.widget-view+json": {
       "model_id": "1c8d1ca2709e45d487a0b6df26374390",
       "version_major": 2,
       "version_minor": 0
      },
      "text/plain": [
       "Canvas(toolbar=Toolbar(toolitems=[('Home', 'Reset original view', 'home', 'home'), ('Back', 'Back to previous …"
      ]
     },
     "metadata": {},
     "output_type": "display_data"
    },
    {
     "data": {
      "text/plain": [
       "<StemContainer object of 3 artists>"
      ]
     },
     "execution_count": 26,
     "metadata": {},
     "output_type": "execute_result"
    }
   ],
   "source": [
    "from numpy.fft import ifft\n",
    "\n",
    "Xk = np.zeros(16)*1j\n",
    "Xk[3]=4*np.sqrt(3)-4j\n",
    "Xk[13]=4*np.sqrt(3)+4j\n",
    "\n",
    "xn = ifft(Xk)\n",
    "\n",
    "plt.close(2);plt.figure(2)\n",
    "plt.stem(np.arange(16), np.real(xn))"
   ]
  },
  {
   "cell_type": "markdown",
   "metadata": {
    "slideshow": {
     "slide_type": "slide"
    }
   },
   "source": [
    "# Signaloperasjoner i frekvensdomenet\n",
    "\n",
    "* I mange situasjoner kan det være fordelaktig å transformere et signal til frekvensdomenet før man prosesserer videre.\n",
    "    * Spesielt gunstig i situasjoner hvor det er klart definert hva som skal skje med hver frekvenskomponent.\n",
    "* IDFT kan brukes etterpå til å transformere tilbake til tidsdomenet etter prosessering.\n",
    "\n",
    "<img src=\"Figurer/06_DFT/Fig8_Freq_operations2.png\" style=\"width: 80%\" />"
   ]
  },
  {
   "cell_type": "markdown",
   "metadata": {
    "slideshow": {
     "slide_type": "slide"
    }
   },
   "source": [
    "<img src=\"Figurer/06_DFT/Fig7_Freq_operations.png\" style=\"width: 100%\" />"
   ]
  },
  {
   "cell_type": "markdown",
   "metadata": {
    "slideshow": {
     "slide_type": "slide"
    }
   },
   "source": [
    "## Kodeeksempel: Filtrering med FFT\n",
    "\n",
    "* Bruk `fft` og `ifft` til å filtrere vekk alle frekvenskomponenter i signalet `x2_n` fra datafila `06_DFT_data.mat` med frekvens $f > \\frac{f_s}{4}$."
   ]
  },
  {
   "cell_type": "code",
   "execution_count": 31,
   "metadata": {
    "slideshow": {
     "slide_type": "fragment"
    }
   },
   "outputs": [
    {
     "data": {
      "application/vnd.jupyter.widget-view+json": {
       "model_id": "9717e1970b4a47aabd682837303d7ac9",
       "version_major": 2,
       "version_minor": 0
      },
      "text/plain": [
       "Canvas(toolbar=Toolbar(toolitems=[('Home', 'Reset original view', 'home', 'home'), ('Back', 'Back to previous …"
      ]
     },
     "metadata": {},
     "output_type": "display_data"
    },
    {
     "data": {
      "text/plain": [
       "<StemContainer object of 3 artists>"
      ]
     },
     "execution_count": 31,
     "metadata": {},
     "output_type": "execute_result"
    }
   ],
   "source": [
    "Xk = fft(x2_n)\n",
    "Yk = Xk\n",
    "Yk[int(N/16):int(N-N/16)]=0\n",
    "yn = np.real(ifft(Yk))\n",
    "\n",
    "plt.close(4);plt.figure(4); \n",
    "plt.stem(n, yn, markerfmt='.')\n"
   ]
  },
  {
   "cell_type": "markdown",
   "metadata": {
    "slideshow": {
     "slide_type": "slide"
    }
   },
   "source": [
    "# Oppsummering\n",
    "* DFT regner i realiteten ut et gitt antall av Fourierrekke-koeffisientene for et utsnitt av et samplet signal.\n",
    "    * Samme antagelser som ligger til grunn for fourierrekke-dekomposisjon er også gjeldende her.\n",
    "* DFT er en fullstendig dekomponering, som vil si at et digitalt signal $x[n]$ kan rekonstrueres ut ifra DFT-sekvensen $X[k]$."
   ]
  },
  {
   "cell_type": "markdown",
   "metadata": {
    "slideshow": {
     "slide_type": "fragment"
    }
   },
   "source": [
    "* Til ettertanke:\n",
    "    * Hva skjer når vi utfører frekvensanalyse på et signal som *ikke* er periodisk over vinduslengden *N* sampler?"
   ]
  },
  {
   "cell_type": "markdown",
   "metadata": {
    "slideshow": {
     "slide_type": "slide"
    }
   },
   "source": [
    "## Spørsmål?"
   ]
  }
 ],
 "metadata": {
  "celltoolbar": "Slideshow",
  "kernelspec": {
   "display_name": "Python 3",
   "language": "python",
   "name": "python3"
  },
  "language_info": {
   "codemirror_mode": {
    "name": "ipython",
    "version": 3
   },
   "file_extension": ".py",
   "mimetype": "text/x-python",
   "name": "python",
   "nbconvert_exporter": "python",
   "pygments_lexer": "ipython3",
   "version": "3.8.5"
  }
 },
 "nbformat": 4,
 "nbformat_minor": 4
}
