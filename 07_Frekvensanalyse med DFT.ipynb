{
 "cells": [
  {
   "cell_type": "code",
   "execution_count": 1,
   "metadata": {
    "slideshow": {
     "slide_type": "skip"
    }
   },
   "outputs": [],
   "source": [
    "# Generelle moduler og funksjonsbeskrivelser brukt i forelesningen\n",
    "from numpy import sin, cos, pi, exp\n",
    "import numpy.fft as fft\n",
    "import numpy as np\n",
    "import matplotlib.pyplot as plt\n",
    "from Kildekode._07_Frekvensanalyse import *\n",
    "\n",
    "%matplotlib ipympl"
   ]
  },
  {
   "cell_type": "markdown",
   "metadata": {
    "slideshow": {
     "slide_type": "slide"
    }
   },
   "source": [
    "<img src=\"NTNU_Logo.png\" align=\"left\" style=\"width: 30%\">\n",
    "<br clear=\"all\" />\n",
    "<br></br>\n",
    "\n",
    "# Frekvensanalyse med DFT\n",
    "\n",
    "* **Emne IELEA2302 - Signalbehandling**\n",
    "* **Uke 7, 2021**\n",
    "* **Underviser: Kai Erik Hoff**"
   ]
  },
  {
   "cell_type": "markdown",
   "metadata": {
    "slideshow": {
     "slide_type": "slide"
    }
   },
   "source": [
    "# Tema tirsdag 16. februar\n",
    "\n",
    "* Repetisjon IDFT\n",
    "* Repetisjon Signaloperasjner i Frekvensdomenet\n",
    "* Spektral Lekkasje\n",
    "* Vindusfunksjoner \n",
    "* Zero Padding"
   ]
  },
  {
   "cell_type": "markdown",
   "metadata": {
    "slideshow": {
     "slide_type": "slide"
    }
   },
   "source": [
    "# Fouriertransformens \"svakhet\"\n",
    "\n",
    "* Vi har så langt sett på Diskrét Fouriertransformasjon som en utgave av fourierrekke-dekomposisjon for digitale signal.\n",
    "    * Så langt har alle eksempelsignalene vært signaler som kun er sammensatt av frekvenskomponenter som er periodiske over vinduslengden $N$. \n",
    "    * At et signal er periodisk over $N$ sampler betyr at det kun består av frekvenskomponenter med frekvens $\\hat{\\omega} = 2\\pi\\frac{k}{N}, \\ \\ \\ k \\in \\mathbb{Z}$.\n",
    "  \n",
    "  \n",
    "* Er dette en rimelig antagelse for signal fra den \"virkelige verden\"?"
   ]
  },
  {
   "cell_type": "markdown",
   "metadata": {
    "slideshow": {
     "slide_type": "slide"
    }
   },
   "source": [
    "## Kodeeksempel 1:\n",
    "\n",
    "* Generer $N=32$ sampler av det digitale signalet $x[n] = \\cos\\left(\\frac{\\pi}{10} \\cdot n\\right)$, og regn ut signalvinduets DFT-sekvens $X[k]$.\n",
    "* Vis amplitudespekteret $\\left| X[k]\\right|$ som et stolpediagram."
   ]
  },
  {
   "cell_type": "code",
   "execution_count": null,
   "metadata": {
    "slideshow": {
     "slide_type": "fragment"
    }
   },
   "outputs": [],
   "source": []
  },
  {
   "cell_type": "markdown",
   "metadata": {
    "slideshow": {
     "slide_type": "slide"
    }
   },
   "source": [
    "# Spektral lekkasje\n",
    "\n",
    "* DFT av $N$ sampler fra et signal $x[n]$ vil i realiteten finne en måte å dekomponere akkurat disse $N$ samplene til $x[n]$ i $N$ frekvenskomponenter med digital frekens $\\hat{\\omega}_k = \\Delta \\hat{\\omega}\\cdot k = 2\\pi \\frac{k}{N}$.\n",
    "* Dersom signalet $x[n]$ inneholder frekvenskomponenter med frekvens $\\hat{\\omega} \\notin \\hat{\\omega}_k$, vil vi få spektral lekkasje.\n",
    "    * Vi vil få utslag i en rekke frevkenser $\\hat{\\omega}_k$ som kompenserer for frekvenskomponenten som ikke er \"på lista\".\n",
    "    * Størst utslag vil finne sted der $\\hat{\\omega}_k$ er nærmest $\\hat{\\omega}$."
   ]
  },
  {
   "cell_type": "markdown",
   "metadata": {
    "slideshow": {
     "slide_type": "fragment"
    }
   },
   "source": [
    "* *Årsaken til at dette skjer blir tydelig når vi forsøker å rekonstruere den analoge bølgeformen til $x(t)$ med utgangspunkt i DFT-sekvensen $X[n]$.*"
   ]
  },
  {
   "cell_type": "markdown",
   "metadata": {
    "slideshow": {
     "slide_type": "notes"
    }
   },
   "source": [
    "* Rekonstruksjon av analogt signal kan utføres ved å anse $X[k]$ som fourierrekke-koeffisienter $a_k=A_k\\cdot e^{j\\phi_k}$ for $0\\leq k \\leq \\frac{N}{2}$, og generere et analogt signal med følgende formel:\n",
    "$$x(t) = X[0] + 2\\cdot \\sum_{k=1}^{N/2} |X[k]| \\cdot \\cos\\left(2\\pi \\frac{k\\cdot f_s}{N}\\cdot t + \\angle X[k]\\right)$$"
   ]
  },
  {
   "cell_type": "markdown",
   "metadata": {
    "slideshow": {
     "slide_type": "slide"
    }
   },
   "source": [
    "## Signalrekonstruksjon illustrert \n",
    "\n",
    "* *Bruker for enkelhets skyld $f_s = N = 32$ for eksempelet*\n",
    "\n",
    "<img src=\"Figurer/07_Frekvensanalyse/Fig1_SpecLeakTimeDomain.png\" style=\"width: 80%; margin-left: 100px\" />"
   ]
  },
  {
   "cell_type": "markdown",
   "metadata": {
    "slideshow": {
     "slide_type": "slide"
    }
   },
   "source": [
    "# Refleksjoner\n",
    "* En $N$-punkts DFT av et signal $x[n]$ gir frekvensinnholdet til et \"hypotetisk\" signal som ***er*** periodisk over vinduslengden på $N$ sampler uavhengig av om det relle signalet $x[n]$ er periodisk over dette sampleintervallet.\n",
    "* Hvorvidt spektral lekkasje oppstår avhengig av hvor stor foskjell det er mellom det \"hypotetiske\" signalet og det reelle singalet."
   ]
  },
  {
   "cell_type": "markdown",
   "metadata": {
    "slideshow": {
     "slide_type": "slide"
    }
   },
   "source": [
    "## Regneeksempel 1:\n",
    "* Et signal $x(t) = \\cos(2\\pi\\cdot 1500 \\cdot t)$ samples med samplingsfrekvens $f_s = 4000Hz$. Et utsnitt med lengde $N=256$ sampler brukes deretter til å regne ut en DFT-sekvens $X[k]$ som vil være utgangspuntet til å utføre frekvensanalyse av signalet. For hvilken verdi $k$ finner vi elementet $X[k]$ med størst absoluttverid?"
   ]
  },
  {
   "cell_type": "markdown",
   "metadata": {
    "slideshow": {
     "slide_type": "slide"
    }
   },
   "source": [
    "## Demo spektral lekkasje"
   ]
  },
  {
   "cell_type": "code",
   "execution_count": 3,
   "metadata": {
    "slideshow": {
     "slide_type": "fragment"
    }
   },
   "outputs": [
    {
     "data": {
      "application/vnd.jupyter.widget-view+json": {
       "model_id": "30e8a91d44e94ee8aad17bf0e9558269",
       "version_major": 2,
       "version_minor": 0
      },
      "text/plain": [
       "Canvas(toolbar=Toolbar(toolitems=[('Home', 'Reset original view', 'home', 'home'), ('Back', 'Back to previous …"
      ]
     },
     "metadata": {},
     "output_type": "display_data"
    },
    {
     "data": {
      "application/vnd.jupyter.widget-view+json": {
       "model_id": "c06e606dc9224dd2aa7a11b5394e59eb",
       "version_major": 2,
       "version_minor": 0
      },
      "text/plain": [
       "HBox(children=(VBox(children=(FloatSlider(value=0.2, continuous_update=False, description='Digital Frekvens $\\…"
      ]
     },
     "metadata": {},
     "output_type": "display_data"
    },
    {
     "data": {
      "application/vnd.jupyter.widget-view+json": {
       "model_id": "88f4b80fb85f41a984944a719b2d02d0",
       "version_major": 2,
       "version_minor": 0
      },
      "text/plain": [
       "Output()"
      ]
     },
     "metadata": {},
     "output_type": "display_data"
    }
   ],
   "source": [
    "SpectralLeakageDemo(figsize=(8,4)); # Figurstørrelsen kan endres for å tilpasse dokumentvisning."
   ]
  },
  {
   "cell_type": "markdown",
   "metadata": {
    "slideshow": {
     "slide_type": "slide"
    }
   },
   "source": [
    "# Vindusfunksjoner\n",
    "\n",
    "* En ***vindusfunksjon*** er et nyttig verktøy for å redusere konsekvensene av spektral lekkasje.\n",
    "    * Med en spesiell manipulasjon av signalutklippet fra $x[n]$ *før* utregning av DFT, kan vi endre frekvensinnholdet i ønsket retning.\n",
    "    * Vindusfunksjonen vil påføre en vekting av hver sample $x[n]$ avhengig av sampleverdien $n$.\n",
    "    * Samplene nære \"kantene\" på vinduet vil krympes, slik at differansen mellom $x[0]$ og $x[N-1]$ blir minimal. \n",
    "    * Dette fjerner kunstige \"sprang\" i det hypotetiske periodiske signalet vi *faktisk* finner frekvensinnholdet til."
   ]
  },
  {
   "cell_type": "markdown",
   "metadata": {
    "slideshow": {
     "slide_type": "slide"
    }
   },
   "source": [
    "# Eksempel: hann vindu\n",
    "\n",
    "### $$ w[n] = \\begin{cases}\n",
    "0.5 - 0.5 \\cos \\left( 2\\pi \\frac{n}{N-1} \\right) \\ \\ ,& 0 \\leq n <N \\\\\n",
    "0, & \\text{Otherwise}\n",
    "\\end{cases}$$\n",
    "\n",
    "<img src=\"Figurer/07_Frekvensanalyse/Fig2_HannWindow.png\" style=\"width: 80%; margin-left: 100px\" />"
   ]
  },
  {
   "cell_type": "markdown",
   "metadata": {
    "slideshow": {
     "slide_type": "slide"
    }
   },
   "source": [
    "## Kodeeksempel 2:\n",
    "* Generer $N=32$ sampler av det digitale signalet $x[n] = \\cos\\left(\\frac{\\pi}{10} \\cdot n\\right)$, og regn ut signalvinduets DFT-sekvens $X[k]$.\n",
    "* Utfør vekting av signalet $x[n]$ med en hann vindusfunksjon, regn ut DFT, og vis amplitudespekteret $\\left| X[k]\\right|$ som et stolpediagram."
   ]
  },
  {
   "cell_type": "code",
   "execution_count": null,
   "metadata": {
    "slideshow": {
     "slide_type": "fragment"
    }
   },
   "outputs": [],
   "source": []
  },
  {
   "cell_type": "markdown",
   "metadata": {
    "slideshow": {
     "slide_type": "slide"
    }
   },
   "source": [
    "# Zero padding\n",
    "* Metode for å få flere frekvenssampler uten å øke vinduslengden.\n",
    "* \"padder\" signalet med nullsampler bak signalutklippet.\n",
    "    * Dersom man bruker vindusfunksjon, gjøres dette *før* zero padding.\n",
    "* Vi regner så ut DFT av det nye utvidede signalet.\n",
    "\n",
    "<img src=\"Figurer/07_Frekvensanalyse/Fig3_ZeroPadding.jpg\" style=\"width: 80%; margin-left: 100px\" />"
   ]
  },
  {
   "cell_type": "markdown",
   "metadata": {
    "slideshow": {
     "slide_type": "slide"
    }
   },
   "source": [
    "## Kodeeksempel 3:\n",
    "* Bruk zero padding til å øke doble antallet frekvenssampler DFT-sekvensen i forrige eksempel vi produsere."
   ]
  },
  {
   "cell_type": "code",
   "execution_count": null,
   "metadata": {
    "slideshow": {
     "slide_type": "fragment"
    }
   },
   "outputs": [],
   "source": []
  },
  {
   "cell_type": "markdown",
   "metadata": {
    "slideshow": {
     "slide_type": "slide"
    }
   },
   "source": [
    "# Neste time:\n",
    "\n",
    "* Vi ser nærmer på hva en vindusfunksjon gjør med frekvensinnholdet til et signal.\n",
    "* Nytt konsept: Diskret-Tids Fouriertransformasjon (DTFT).\n",
    "    * Vindusfunksjoer i frekvensdomenet.\n",
    "    * DTFT Egenskaper"
   ]
  }
 ],
 "metadata": {
  "celltoolbar": "Slideshow",
  "kernelspec": {
   "display_name": "Python 3",
   "language": "python",
   "name": "python3"
  },
  "language_info": {
   "codemirror_mode": {
    "name": "ipython",
    "version": 3
   },
   "file_extension": ".py",
   "mimetype": "text/x-python",
   "name": "python",
   "nbconvert_exporter": "python",
   "pygments_lexer": "ipython3",
   "version": "3.8.5"
  }
 },
 "nbformat": 4,
 "nbformat_minor": 4
}
