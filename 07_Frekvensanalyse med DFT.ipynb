{
 "cells": [
  {
   "cell_type": "code",
   "execution_count": 7,
   "metadata": {
    "slideshow": {
     "slide_type": "skip"
    }
   },
   "outputs": [],
   "source": [
    "# Generelle moduler og funksjonsbeskrivelser brukt i forelesningen\n",
    "from numpy import sin, cos, pi, exp\n",
    "import numpy.fft as fft\n",
    "import numpy as np\n",
    "import matplotlib.pyplot as plt\n",
    "from IPython.display import Video\n",
    "from scipy.io import wavfile\n",
    "from Kildekode._07_Frekvensanalyse import *\n",
    "\n",
    "%matplotlib ipympl"
   ]
  },
  {
   "cell_type": "markdown",
   "metadata": {
    "slideshow": {
     "slide_type": "slide"
    }
   },
   "source": [
    "<img src=\"NTNU_Logo.png\" align=\"left\" style=\"width: 30%\">\n",
    "<br clear=\"all\" />\n",
    "<br></br>\n",
    "\n",
    "# Frekvensanalyse med DFT\n",
    "\n",
    "* **Emne IELEA2302 - Signalbehandling**\n",
    "* **Uke 7, 2021**\n",
    "* **Underviser: Kai Erik Hoff**"
   ]
  },
  {
   "cell_type": "markdown",
   "metadata": {
    "slideshow": {
     "slide_type": "skip"
    }
   },
   "source": [
    "# Tema tirsdag 16. februar\n",
    "\n",
    "* Repetisjon IDFT\n",
    "* Repetisjon Signaloperasjner i Frekvensdomenet\n",
    "* Spektral Lekkasje\n",
    "* Vindusfunksjoner \n",
    "* Zero Padding"
   ]
  },
  {
   "cell_type": "markdown",
   "metadata": {
    "slideshow": {
     "slide_type": "slide"
    }
   },
   "source": [
    "# Tema fredag 19. februar\n",
    "\n",
    "* Repetisjon Spektral Lekkasje\n",
    "* Repetisjon Vindusfunksjoner \n",
    "* Zero Padding\n",
    "* Diskret Tids Fouriertransformasjon\n",
    "* Vindusfunksjoner i Frekvensplanet\n",
    "* Effektspekter"
   ]
  },
  {
   "cell_type": "markdown",
   "metadata": {
    "slideshow": {
     "slide_type": "skip"
    }
   },
   "source": [
    "# Fouriertransformens \"svakhet\"\n",
    "\n",
    "* Vi har så langt sett på Diskrét Fouriertransformasjon som en utgave av fourierrekke-dekomposisjon for digitale signal.\n",
    "    * Så langt har alle eksempelsignalene vært signaler som kun er sammensatt av frekvenskomponenter som er periodiske over vinduslengden $N$. \n",
    "    * At et signal er periodisk over $N$ sampler betyr at det kun består av frekvenskomponenter med frekvens $\\hat{\\omega} = 2\\pi\\frac{k}{N}, \\ \\ \\ k \\in \\mathbb{Z}$.\n",
    "  \n",
    "  \n",
    "* Er dette en rimelig antagelse for signal fra den \"virkelige verden\"?"
   ]
  },
  {
   "cell_type": "markdown",
   "metadata": {
    "slideshow": {
     "slide_type": "skip"
    }
   },
   "source": [
    "## Kodeeksempel 1:\n",
    "\n",
    "* Generer $N=32$ sampler av det digitale signalet $x[n] = \\cos\\left(\\frac{\\pi}{10} \\cdot n\\right)$, og regn ut signalvinduets DFT-sekvens $X[k]$.\n",
    "* Vis amplitudespekteret $\\left| X[k]\\right|$ som et stolpediagram."
   ]
  },
  {
   "cell_type": "code",
   "execution_count": 4,
   "metadata": {
    "slideshow": {
     "slide_type": "skip"
    }
   },
   "outputs": [
    {
     "data": {
      "application/vnd.jupyter.widget-view+json": {
       "model_id": "2ca169b60eae48e5bac1b440dbf5c542",
       "version_major": 2,
       "version_minor": 0
      },
      "text/plain": [
       "Canvas(toolbar=Toolbar(toolitems=[('Home', 'Reset original view', 'home', 'home'), ('Back', 'Back to previous …"
      ]
     },
     "metadata": {},
     "output_type": "display_data"
    },
    {
     "data": {
      "text/plain": [
       "<StemContainer object of 3 artists>"
      ]
     },
     "execution_count": 4,
     "metadata": {},
     "output_type": "execute_result"
    }
   ],
   "source": [
    "N =32\n",
    "n = np.arange(N)\n",
    "xn = cos(pi/10*n)\n",
    "Xk = np.fft.fft(xn)\n",
    "plt.close(1);plt.figure(1)\n",
    "plt.stem(n, np.abs(Xk))"
   ]
  },
  {
   "cell_type": "markdown",
   "metadata": {
    "slideshow": {
     "slide_type": "skip"
    }
   },
   "source": [
    "# Spektral lekkasje\n",
    "\n",
    "* DFT av $N$ sampler fra et signal $x[n]$ vil i realiteten finne en måte å dekomponere akkurat disse $N$ samplene til $x[n]$ i $N$ frekvenskomponenter med digital frekens $\\hat{\\omega}_k = \\Delta \\hat{\\omega}\\cdot k = 2\\pi \\frac{k}{N}$.\n",
    "* Dersom signalet $x[n]$ inneholder frekvenskomponenter med frekvens $\\hat{\\omega} \\notin \\hat{\\omega}_k$, vil vi få spektral lekkasje.\n",
    "    * Vi vil få utslag i en rekke frevkenser $\\hat{\\omega}_k$ som kompenserer for frekvenskomponenten som ikke er \"på lista\".\n",
    "    * Størst utslag vil finne sted der $\\hat{\\omega}_k$ er nærmest $\\hat{\\omega}$."
   ]
  },
  {
   "cell_type": "markdown",
   "metadata": {
    "slideshow": {
     "slide_type": "skip"
    }
   },
   "source": [
    "* *Årsaken til at dette skjer blir tydelig når vi forsøker å rekonstruere den analoge bølgeformen til $x(t)$ med utgangspunkt i DFT-sekvensen $X[n]$.*"
   ]
  },
  {
   "cell_type": "markdown",
   "metadata": {
    "slideshow": {
     "slide_type": "notes"
    }
   },
   "source": [
    "* Rekonstruksjon av analogt signal kan utføres ved å anse $X[k]$ som fourierrekke-koeffisienter $a_k=A_k\\cdot e^{j\\phi_k}$ for $0\\leq k \\leq \\frac{N}{2}$, og generere et analogt signal med følgende formel:\n",
    "$$x(t) = X[0] + 2\\cdot \\sum_{k=1}^{N/2} |X[k]| \\cdot \\cos\\left(2\\pi \\frac{k\\cdot f_s}{N}\\cdot t + \\angle X[k]\\right)$$"
   ]
  },
  {
   "cell_type": "markdown",
   "metadata": {
    "slideshow": {
     "slide_type": "skip"
    }
   },
   "source": [
    "## Signalrekonstruksjon illustrert \n",
    "\n",
    "* *Bruker for enkelhets skyld $f_s = N = 32$ for eksempelet*\n",
    "\n",
    "<img src=\"Figurer/07_Frekvensanalyse/Fig1_SpecLeakTimeDomain.png\" style=\"width: 80%; margin-left: 100px\" />"
   ]
  },
  {
   "cell_type": "markdown",
   "metadata": {
    "slideshow": {
     "slide_type": "skip"
    }
   },
   "source": [
    "# Refleksjoner\n",
    "* En $N$-punkts DFT av et signal $x[n]$ gir frekvensinnholdet til et \"hypotetisk\" signal som ***er*** periodisk over vinduslengden på $N$ sampler uavhengig av om det relle signalet $x[n]$ er periodisk over dette sampleintervallet.\n",
    "* Hvorvidt spektral lekkasje oppstår avhengig av hvor stor foskjell det er mellom det \"hypotetiske\" signalet og det reelle singalet."
   ]
  },
  {
   "cell_type": "markdown",
   "metadata": {
    "slideshow": {
     "slide_type": "skip"
    }
   },
   "source": [
    "## Regneeksempel 1:\n",
    "* Et signal $x(t) = \\cos(2\\pi\\cdot 570 \\cdot t)$ samples med samplingsfrekvens $f_s = 4000Hz$. Et utsnitt med lengde $N=256$ sampler brukes deretter til å regne ut en DFT-sekvens $X[k]$ som vil være utgangspuntet til å utføre frekvensanalyse av signalet. For hvilken verdi $k$ finner vi elementet $X[k]$ med størst absoluttverid?"
   ]
  },
  {
   "cell_type": "markdown",
   "metadata": {
    "slideshow": {
     "slide_type": "slide"
    }
   },
   "source": [
    "## Demo spektral lekkasje"
   ]
  },
  {
   "cell_type": "code",
   "execution_count": 8,
   "metadata": {
    "slideshow": {
     "slide_type": "fragment"
    }
   },
   "outputs": [
    {
     "data": {
      "application/vnd.jupyter.widget-view+json": {
       "model_id": "21bda0d4e6ee4023bfaa20f575e7f3b7",
       "version_major": 2,
       "version_minor": 0
      },
      "text/plain": [
       "Canvas(toolbar=Toolbar(toolitems=[('Home', 'Reset original view', 'home', 'home'), ('Back', 'Back to previous …"
      ]
     },
     "metadata": {},
     "output_type": "display_data"
    },
    {
     "data": {
      "application/vnd.jupyter.widget-view+json": {
       "model_id": "8d2a52e67fb24563b0670e1946a256d4",
       "version_major": 2,
       "version_minor": 0
      },
      "text/plain": [
       "HBox(children=(VBox(children=(FloatSlider(value=0.2, continuous_update=False, description='Digital Frekvens $\\…"
      ]
     },
     "metadata": {},
     "output_type": "display_data"
    },
    {
     "data": {
      "application/vnd.jupyter.widget-view+json": {
       "model_id": "63cd2c22d6a5407db386810282cb36fa",
       "version_major": 2,
       "version_minor": 0
      },
      "text/plain": [
       "Output()"
      ]
     },
     "metadata": {},
     "output_type": "display_data"
    }
   ],
   "source": [
    "SpectralLeakageDemo(figsize=(12,6)); # Figurstørrelsen kan endres for å tilpasse dokumentvisning."
   ]
  },
  {
   "cell_type": "markdown",
   "metadata": {
    "slideshow": {
     "slide_type": "slide"
    }
   },
   "source": [
    "# Vindusfunksjoner\n",
    "\n",
    "* En ***vindusfunksjon*** er et nyttig verktøy for å redusere konsekvensene av spektral lekkasje.\n",
    "    * Med en spesiell manipulasjon av signalutklippet fra $x[n]$ *før* utregning av DFT, kan vi endre frekvensinnholdet i ønsket retning.\n",
    "    * Vindusfunksjonen vil påføre en vekting av hver sample $x[n]$ avhengig av sampleverdien $n$.\n",
    "    * Samplene nære \"kantene\" på vinduet vil krympes, slik at differansen mellom $x[0]$ og $x[N-1]$ blir minimal. \n",
    "    * Dette fjerner kunstige \"sprang\" i det hypotetiske periodiske signalet vi *faktisk* finner frekvensinnholdet til."
   ]
  },
  {
   "cell_type": "markdown",
   "metadata": {
    "slideshow": {
     "slide_type": "slide"
    }
   },
   "source": [
    "# Eksempel: hann vindu\n",
    "\n",
    "### $$ w[n] = \\begin{cases}\n",
    "0.5 - 0.5 \\cos \\left( 2\\pi \\frac{n}{N-1} \\right) \\ \\ ,& 0 \\leq n <N \\\\\n",
    "0, & \\text{Otherwise}\n",
    "\\end{cases}$$\n",
    "\n",
    "<img src=\"Figurer/07_Frekvensanalyse/Fig2_HannWindow.png\" style=\"width: 80%; margin-left: 100px\" />"
   ]
  },
  {
   "cell_type": "markdown",
   "metadata": {
    "slideshow": {
     "slide_type": "slide"
    }
   },
   "source": [
    "## Kodeeksempel 2:\n",
    "* Generer $N=32$ sampler av det digitale signalet $x[n] = \\cos\\left(\\frac{\\pi}{10} \\cdot n\\right)$, og regn ut signalvinduets DFT-sekvens $X[k]$.\n",
    "* Utfør vekting av signalet $x[n]$ med en hann vindusfunksjon, regn ut DFT, og vis amplitudespekteret $\\left| X[k]\\right|$ som et stolpediagram."
   ]
  },
  {
   "cell_type": "code",
   "execution_count": null,
   "metadata": {
    "slideshow": {
     "slide_type": "fragment"
    }
   },
   "outputs": [],
   "source": [
    "N =32\n",
    "n = np.arange(N)\n",
    "x_n = cos(pi/10*n)\n",
    "w_n = 0.5 - 0.5*cos(2*pi * n /(N-1))\n",
    "xw_n = x_n*w_n\n",
    "\n",
    "Xw_k = np.fft.fft(xw_n)\n",
    "plt.close(5); plt.figure(5)\n",
    "plt.stem(n, np.abs(Xw_k), label='Med Hann vindu')\n",
    "plt.stem(n, np.abs(np.fft.fft(x_n)), markerfmt='x', label='Uten vindusfunksjon')\n",
    "plt.legend()"
   ]
  },
  {
   "cell_type": "markdown",
   "metadata": {
    "slideshow": {
     "slide_type": "slide"
    }
   },
   "source": [
    "# Zero padding\n",
    "* Metode for å få flere frekvenssampler uten å øke vinduslengden.\n",
    "* \"padder\" signalet med nullsampler bak signalutklippet.\n",
    "    * Dersom man bruker vindusfunksjon, gjøres dette *før* zero padding.\n",
    "* Vi regner så ut DFT av det nye utvidede signalet.\n",
    "\n",
    "<img src=\"Figurer/07_Frekvensanalyse/Fig3_ZeroPadding.jpg\" style=\"width: 80%; margin-left: 100px\" />"
   ]
  },
  {
   "cell_type": "markdown",
   "metadata": {
    "slideshow": {
     "slide_type": "slide"
    }
   },
   "source": [
    "## Kodeeksempel 3:\n",
    "1. Bruk zero padding til å øke doble antallet frekvenssampler DFT-sekvensen i forrige eksempel vi produsere.\n",
    "2. Gjør justeringer slik at figuren viser tosidig frekvensspekter der x-aksen viser *Digital Frekvens*"
   ]
  },
  {
   "cell_type": "code",
   "execution_count": null,
   "metadata": {
    "slideshow": {
     "slide_type": "fragment"
    }
   },
   "outputs": [],
   "source": []
  },
  {
   "cell_type": "markdown",
   "metadata": {
    "slideshow": {
     "slide_type": "slide"
    }
   },
   "source": [
    "# Diskret-tids Fouriertransformasjon (DTFT)\n",
    "\n",
    "* Matematisk Transformasjon for å finne et ***kontinuerlig funksjonsuttrykk*** for frekvensinnholdet til et digitalt signal $x[n]$.\n",
    "    * Forteller ***alt*** frekvensinnholdet til et signal i frekvensdomenet, ikke bare et endelig antall sampler.\n",
    "\n",
    "<img src=\"Figurer/07_Frekvensanalyse/Fig4_DTFT1.png\" style=\"width: 80%; margin-left: 100px\" />"
   ]
  },
  {
   "cell_type": "markdown",
   "metadata": {
    "slideshow": {
     "slide_type": "slide"
    }
   },
   "source": [
    "# Diskret-tids Fouriertransformasjon\n",
    "\n",
    "* Formel:\n",
    "### $$X\\left(e^{j\\hat{\\omega}}\\right) = \\sum_{n=-\\infty}^{\\infty} x[n]\\cdot e^{-j\\hat{\\omega}\\cdot n}$$\n",
    "\n",
    "* $X\\left(e^{j\\hat{\\omega}}\\right)$ er et *kontinuerlig* funksjonsuttrykk.\n",
    "    * Regner ut frekvensinnholdet for et digitalt signal $x[n]$.\n",
    "    * Forutsetter at signalet $x[n]$ kan beskrives som et matematisk funksjonsuttrykk.\n",
    "    \n",
    "    \n",
    "* Samme grunnprinsipp som for FT, DFT; frekvensforskyv ved hjelp av frekvensmiksing, og regn ut areal/sum."
   ]
  },
  {
   "cell_type": "markdown",
   "metadata": {
    "slideshow": {
     "slide_type": "slide"
    }
   },
   "source": [
    "# Invers DTFT\n",
    "* Formel:\n",
    "$$ x[n] = \\frac{1}{2\\pi} \\int_{-\\pi}^{\\pi}\\left(e^{j\\hat{\\omega}}\\right)\\cdot e^{j\\hat{\\omega}\\cdot n}$$\n",
    "\n",
    "* Ettersom $X\\left(e^{j\\hat{\\omega}}\\right)$ er *kontinuerlig*, bruker vi her et *integral*.\n",
    "    * Deler på $2\\pi$ ettersom \"frekvens-spennet\" er $-\\pi < \\hat{\\omega} < \\pi$.\n",
    "\n"
   ]
  },
  {
   "cell_type": "markdown",
   "metadata": {
    "slideshow": {
     "slide_type": "slide"
    }
   },
   "source": [
    "# Sentrale matematiske funksjonsuttrykk\n",
    "* Vi må først definere et par elementere funksjonsuttrykk\n",
    "    * Impulsfunksjon\n",
    "    * Enhetsstegfunksjon"
   ]
  },
  {
   "cell_type": "markdown",
   "metadata": {
    "slideshow": {
     "slide_type": "slide"
    }
   },
   "source": [
    "# Dirac's Deltapuls\n",
    "\n",
    "<img src=\"Figurer/07_Frekvensanalyse/Fig5_deltapuls.png\" style=\"width: 85%; margin-left: 50px\" />"
   ]
  },
  {
   "cell_type": "markdown",
   "metadata": {
    "slideshow": {
     "slide_type": "slide"
    }
   },
   "source": [
    "# Signal som funksjon av deltapulser\n",
    "\n",
    "* Digitale signal kan skrives som en funksjon av deltapulser med ulik tidsforskyvning.\n",
    "* Eksempel: $X[n] = \\{1, 2, 3, -3, 0, 3\\}$ kan besrkrives matematisk med følgende funksjon.\n",
    "$$x[n] = \\delta[n] + 2\\delta[n-1] + 3\\delta[n-2]-2\\delta[n-3]+2\\delta[n-5]$$\n",
    "\n",
    "<img src=\"Figurer/07_Frekvensanalyse/Fig7_eksempelsignal.png\" style=\"width: 80%; margin-left: 100px\" />"
   ]
  },
  {
   "cell_type": "markdown",
   "metadata": {
    "slideshow": {
     "slide_type": "slide"
    }
   },
   "source": [
    "# Enhetsstegfunksjon\n",
    "\n",
    "<img src=\"Figurer/07_Frekvensanalyse/Fig6_stegfunksjon.png\" style=\"width: 85%; margin-left: 50px\" />"
   ]
  },
  {
   "cell_type": "markdown",
   "metadata": {
    "slideshow": {
     "slide_type": "slide"
    }
   },
   "source": [
    "# Utsnintt av sinussignal\n",
    "* Vi kan skrive et utsnitt med lengde $N$ av et sinussignal matematisk som punktvis multiplikasjon av sinussignalet med en ***rektangulær vindusfunksjon***.\n",
    "<img src=\"Figurer/07_Frekvensanalyse/Fig8_Sinusutklipp.png\" style=\"width: 100%\" />"
   ]
  },
  {
   "cell_type": "markdown",
   "metadata": {
    "slideshow": {
     "slide_type": "slide"
    }
   },
   "source": [
    "# Hva skjer med frekvensinnholdet?\n",
    "\n",
    "* Vi vil vite hva frekvensinnholdet er for signalet $x_w[n]$ for *alle* frekvenser $-\\pi <\\hat{\\omega} < \\pi$. \n",
    "* Første steg er å finne frekvensinnholdet for de to komponentene $x[n]$ og $w_r[n]$ individuelt.\n",
    "\n",
    "<img src=\"Figurer/07_Frekvensanalyse/Fig9_SineWinFourier.png\" style=\"width: 85%; margin-left: 50px\" />"
   ]
  },
  {
   "cell_type": "markdown",
   "metadata": {
    "slideshow": {
     "slide_type": "slide"
    }
   },
   "source": [
    "# Sinussignal Frekvensinnhold\n",
    "\n",
    "<img src=\"Figurer/07_Frekvensanalyse/Fig10_SineSpect.png\" style=\"width: 85%; margin-left: 50px\" />"
   ]
  },
  {
   "cell_type": "markdown",
   "metadata": {
    "slideshow": {
     "slide_type": "slide"
    }
   },
   "source": [
    "# Rektangulært Vindu Frekvensinnhold\n",
    "<img src=\"Figurer/07_Frekvensanalyse/Fig11_RectSpect.png\" style=\"width: 85%; margin-left: 50px\" />"
   ]
  },
  {
   "cell_type": "markdown",
   "metadata": {
    "slideshow": {
     "slide_type": "slide"
    }
   },
   "source": [
    "## Regneeksempel 2: DTFT av rekgangulært vindu\n",
    "\n",
    "* Regn ut $W_r\\left(e^{j\\hat{\\omega}} \\right)$ for den rektangulære vindusfunksjonen $w_r = u[n]-u[n-4]$."
   ]
  },
  {
   "cell_type": "markdown",
   "metadata": {
    "slideshow": {
     "slide_type": "slide"
    }
   },
   "source": [
    "## DTFT animasjon"
   ]
  },
  {
   "cell_type": "code",
   "execution_count": null,
   "metadata": {
    "slideshow": {
     "slide_type": "fragment"
    }
   },
   "outputs": [],
   "source": [
    "Video(\"Figurer/07_Frekvensanalyse/DTFT.mp4\", embed=True, width=1000)"
   ]
  },
  {
   "cell_type": "markdown",
   "metadata": {
    "slideshow": {
     "slide_type": "slide"
    }
   },
   "source": [
    "# DTFT av rektangulært vindu\n",
    "* Rektangulært vindu har et generelt uttrykk for DTFT.\n",
    "\n",
    "<img src=\"Figurer/07_Frekvensanalyse/Fig12_TransformPair.png\" style=\"width: 85%; margin-left: 50px\" />"
   ]
  },
  {
   "cell_type": "markdown",
   "metadata": {
    "slideshow": {
     "slide_type": "slide"
    }
   },
   "source": [
    "# Tilbakeblikk: Amplitudemodulasjon\n",
    "\n",
    "* Som vi utforsket i dataøving 1, vil multiplikasjon med en sinusbølge/sinussekvens resultere i *frekvensforskyvning*.\n",
    "    * Matematisk formulering av denne relasjonen:\n",
    "    \n",
    "| Tidsdomene: $x[n]$ | Frekvensdomene: $X\\left(e^{j\\hat{\\omega}}\\right)$ |\n",
    "|:-:|:-:|\n",
    "| $$w[n]\\cdot cos(\\hat{\\omega}_0\\cdot n)$$ | $$\\frac{1}{2}\\left(W\\left(e^{j(\\hat{\\omega}-\\hat{\\omega}_0}\\right)+W\\left(e^{j(\\hat{\\omega}+\\hat{\\omega}_0}\\right)\\right)$$|\n",
    "\n",
    "<img src=\"Figurer/07_Frekvensanalyse/Fig13_WindowModulation.png\" style=\"width: 100%\" />\n",
    "\n",
    "$$\\cos(\\hat{\\omega}_0\\cdot n) = \\frac{1}{2}e^{j\\hat{\\omega}_0n} + \\frac{1}{2}e^{-j\\hat{\\omega}_0n}$$"
   ]
  },
  {
   "cell_type": "markdown",
   "metadata": {
    "slideshow": {
     "slide_type": "slide"
    }
   },
   "source": [
    "# DTFT av sinusbølge-utklipp\n",
    "* DTFT av signalutsnittet $x_w[n] = \\cos(\\hat{\\omega}_0\\cdot n)\\cdot w_r[n]$ vil være summen av to frekvensforskjøvne kopier av $W_r\\left(e^{j\\hat{\\omega}}\\right)$.\n",
    "\n",
    "$$X_w\\left(e^{j\\hat{\\omega}}\\right) = \\frac{1}{2}\\left(W_r\\left(e^{j(\\hat{\\omega}-\\hat{\\omega}_0}\\right)+W_r\\left(e^{j(\\hat{\\omega}+\\hat{\\omega}_0}\\right)\\right)$$\n",
    "\n",
    "<img src=\"Figurer/07_Frekvensanalyse/Fig14_SineDTFT.png\" style=\"width: 60%; margin-left: 100px\" />"
   ]
  },
  {
   "cell_type": "markdown",
   "metadata": {
    "slideshow": {
     "slide_type": "slide"
    }
   },
   "source": [
    "# DFT er sampling av DTFT\n",
    "* Eksempel:\n",
    "    16-punkts DFT tilsvarer å ta 16 sampler langs kurven til DTFT-kurven $X_w\\left(e^{j\\hat{\\omega}}\\right)$.\n",
    "<img src=\"Figurer/07_Frekvensanalyse/Fig15_SineDFT.png\" style=\"width: 60%; margin-left: 100px\" />"
   ]
  },
  {
   "cell_type": "markdown",
   "metadata": {
    "slideshow": {
     "slide_type": "slide"
    }
   },
   "source": [
    "# Hvordan motvirkes spektral lekkasje?\n",
    "\n",
    "* Idealet for frekvensinnholdet av en vindusfunksjon $w_I[n]$ er en deltapuls $W_I\\left(e^{j\\hat{\\omega}}\\right) = \\delta(\\hat{\\omega})$\n",
    "<img src=\"Figurer/07_Frekvensanalyse/Fig16_IdealWindow.png\" style=\"width: 60%; margin-left: 100px\" />\n",
    "* Dette er ikke mulig å oppnå uten et uendelig langt vindu.\n",
    "    * Men vi kan finne noe som nærmer seg."
   ]
  },
  {
   "cell_type": "markdown",
   "metadata": {
    "slideshow": {
     "slide_type": "slide"
    }
   },
   "source": [
    "## Analsye av vindusfunksjoner"
   ]
  },
  {
   "cell_type": "code",
   "execution_count": null,
   "metadata": {
    "slideshow": {
     "slide_type": "fragment"
    }
   },
   "outputs": [],
   "source": [
    "from scipy.signal import get_window\n",
    "def PlotWindow(N, window_name):\n",
    "    DTFT_res = 1000\n",
    "    n = np.arange(N)\n",
    "    w_n = get_window(window=window_name, Nx=N)\n",
    "    \n",
    "    plt.subplot(2,1,1)\n",
    "    plt.stem(n, w_n, markerfmt='.')\n",
    "    \n",
    "    omega = np.linspace(-pi, pi, DTFT_res)\n",
    "    W_k = np.fft.fft(w_n, DTFT_res)\n",
    "    W_k = np.fft.fftshift(W_k)\n",
    "    \n",
    "    plt.subplot(2,1,2)\n",
    "    plt.plot(omega, 20*np.log10(np.abs(W_k)))\n",
    "    plt.xlim([-pi, pi])\n",
    "    ymax = round((20*np.log10(sum(w_n))+10)/20)*20\n",
    "    plt.ylim(ymax=ymax, ymin=ymax-100)\n",
    "    plt.grid(True)"
   ]
  },
  {
   "cell_type": "code",
   "execution_count": null,
   "metadata": {
    "scrolled": false,
    "slideshow": {
     "slide_type": "slide"
    }
   },
   "outputs": [],
   "source": [
    "plt.close(6); plt.figure(6, figsize=(10,8))\n",
    "PlotWindow(32, 'hamming')"
   ]
  },
  {
   "cell_type": "markdown",
   "metadata": {
    "slideshow": {
     "slide_type": "slide"
    }
   },
   "source": [
    "# Effektspekter\n",
    "\n",
    "<img src=\"Figurer/07_Frekvensanalyse/Fig17_PSD1.png\" style=\"width: 80%; margin-left=100px\" />"
   ]
  },
  {
   "cell_type": "markdown",
   "metadata": {
    "slideshow": {
     "slide_type": "slide"
    }
   },
   "source": [
    "# Signalenergi og effekt\n",
    "<img src=\"Figurer/07_Frekvensanalyse/Fig18_PSD2.png\" style=\"width: 80%; margin-left=100px\" />"
   ]
  },
  {
   "cell_type": "markdown",
   "metadata": {
    "slideshow": {
     "slide_type": "slide"
    }
   },
   "source": [
    "# Periodogram\n",
    "<img src=\"Figurer/07_Frekvensanalyse/Fig19_PSD4.png\" style=\"width: 80%; margin-left=100px\" />"
   ]
  },
  {
   "cell_type": "markdown",
   "metadata": {
    "slideshow": {
     "slide_type": "slide"
    }
   },
   "source": [
    "## Kodeeksempel: frekvensanalyse av lydsignal\n",
    "\n",
    "* Regn ut effektspekteret til et utsnitt av signalet `orca.wav` som starter i $t=0.25s$.\n",
    "    * Vi velger passende vinduslengde selv."
   ]
  },
  {
   "cell_type": "code",
   "execution_count": null,
   "metadata": {
    "slideshow": {
     "slide_type": "fragment"
    }
   },
   "outputs": [],
   "source": [
    "fs, data = wavfile.read(r'Datafiler/04_Frekvensrepresentasjon/orca.wav') # les audiofilen 'orca.wav' og lagre til variablene 'fs' og 'data'\n",
    "xn = data/0x8000\n",
    "sig_len = len(xn)\n",
    "n = np.arange(sig_len)\n",
    "t = n/fs\n",
    "plt.close(7); plt.figure(7, figsize=(10,3))\n",
    "plt.plot(t, xn)"
   ]
  }
 ],
 "metadata": {
  "celltoolbar": "Slideshow",
  "kernelspec": {
   "display_name": "Python 3",
   "language": "python",
   "name": "python3"
  },
  "language_info": {
   "codemirror_mode": {
    "name": "ipython",
    "version": 3
   },
   "file_extension": ".py",
   "mimetype": "text/x-python",
   "name": "python",
   "nbconvert_exporter": "python",
   "pygments_lexer": "ipython3",
   "version": "3.8.5"
  }
 },
 "nbformat": 4,
 "nbformat_minor": 4
}
