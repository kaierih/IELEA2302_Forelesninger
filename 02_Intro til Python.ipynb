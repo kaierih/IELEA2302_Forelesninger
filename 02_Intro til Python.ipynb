{
 "cells": [
  {
   "cell_type": "markdown",
   "metadata": {
    "slideshow": {
     "slide_type": "slide"
    }
   },
   "source": [
    "<img src=\"NTNU_Logo.png\" align=\"left\" style=\"width: 30%\">\n",
    "<br clear=\"all\" />\n",
    "<br></br>\n",
    "\n",
    "# Intro til Python\n",
    "\n",
    "* **Emne IELEA2302 - Signalbehandling**\n",
    "* **Uke 2, 2021**\n",
    "    * *Fredag*\n",
    "* **Underviser: Kai Erik Hoff**\n"
   ]
  },
  {
   "cell_type": "markdown",
   "metadata": {
    "slideshow": {
     "slide_type": "slide"
    }
   },
   "source": [
    "# Tema\n",
    "\n",
    "* Oppfriskning python syntaks og operatorer\n",
    "* Lister\n",
    "* Numpy ndarray\n",
    "* Innebygde funksjoner i numpy\n"
   ]
  },
  {
   "cell_type": "markdown",
   "metadata": {
    "slideshow": {
     "slide_type": "slide"
    }
   },
   "source": [
    "# Python syntaks nøkkelpunkt\n",
    "\n",
    "* Ingen semikolon ved linjeslutt. Interpreteren tolker linjeskift.\n",
    "    * *Det er lov å dele opp lange funksjonskall etc. over flere linjer.*\n",
    "* \"whitespace\" og kolon (`:`) brukes til å definere skop i programmet.\n",
    "\n",
    "#### Eksempel:"
   ]
  },
  {
   "cell_type": "code",
   "execution_count": null,
   "metadata": {
    "slideshow": {
     "slide_type": "fragment"
    }
   },
   "outputs": [],
   "source": [
    "def factorial(x):\n",
    "    y = 1\n",
    "    for i in range(x, 0, -1):\n",
    "        y *= i\n",
    "    return y\n",
    "\n",
    "print(factorial(8))"
   ]
  },
  {
   "cell_type": "markdown",
   "metadata": {
    "slideshow": {
     "slide_type": "slide"
    }
   },
   "source": [
    "# Operatorer *(og rekkefølge)*\n",
    "\n",
    "Operasjon | Python-operator | Prioritet | Kommentar\n",
    "---|---|---|---\n",
    "Parantes | () | 1 | Alle operasjoner innenfor en parantes utføres _før_ de som står utenfor.\n",
    "Funksjonskall | f(x, y, z,...) | 2 | Funksjoner som f.eks. `math.sqrt(x)`.\n",
    "Potensregning | ** | 3 | For å regne ut potensuttrykk av typen $x^y$.\n",
    "Multiplikasjon | * | 4 | Stjernetegn for vanlig multiplikasjon $x\\cdot y$\n",
    "Divisjon | / | 4 | Skråstrek for vanlig divisjon $\\frac{x}{y}$\n",
    "Heltallsdivisjon | // | 4 | Tilsvarer `int(x/y)`. Runder ned.\n",
    "Modulo | % | 4 | Rest etter heltallsdivisjon. Tilsvarer `x - int(x/y)*y`.\n",
    "Addisjon | + | 5 | Plusstegn for vanlig addisjon $x+y$.\n",
    "Subtraksjon | - | 5 | Minustegn for vanlig subtraksjon $x - y$."
   ]
  },
  {
   "cell_type": "markdown",
   "metadata": {
    "slideshow": {
     "slide_type": "slide"
    }
   },
   "source": [
    "# Tilordning og Sammensatte Operatorer\n",
    "\n",
    "Operasjon | Python-operator | Eksempel på bruk | Kommentar\n",
    "---|---|---|---\n",
    "Tilordning | `=` | `x=a` | Tilordning av verdi `a` til variabel `x`.\n",
    "Inkrement | `+=` | `x+=a` | Tilsvarer `x = x + a`.\n",
    "Dekrement | `-=` | `x-=a` | Tilsvarer `x = x - a`.\n",
    "Multiplikasjon med tilordning | `*=` | `x*=a` | Tilsvarer `x = x*a`.\n",
    "Divisjon med tilordning | `/=` | `x/=a` | Tilsvarer `x = x/a`.\n",
    "Heltallsdivisjon med tilordning | `//=` | `x//=a` | Tilsvarer `x = x//a`.\n",
    "Modulo med tilordning | `%=` | `x%=a` | Tilsvarer `x = x%a`.\n",
    "Eksponent med tilordning | `**=` | `x**=a` | Tilsvarer `x = x**a`.\n"
   ]
  },
  {
   "cell_type": "markdown",
   "metadata": {
    "slideshow": {
     "slide_type": "slide"
    }
   },
   "source": [
    "# Sekvenser\n",
    "\n",
    "* **Sekvens:** et objekt som inneholder flere dataenheter\n",
    "    * Enhetene lagres i sekvens (etter hverandre)\n",
    "* Python har en rekke ulike sekvenstyper\n",
    "    * Noen \"Standardtyper\":\n",
    "        * Liste `list`\n",
    "        * Tekststreng `str`\n",
    "    * Sentralt for Signalbehandling:\n",
    "        * Nympy sin array `numpy.ndarray` \n",
    "    * Annet:\n",
    "        * Iterable (range)\n",
    "        * Tuple\n",
    "        * osv.."
   ]
  },
  {
   "cell_type": "markdown",
   "metadata": {
    "slideshow": {
     "slide_type": "notes"
    }
   },
   "source": [
    "* Digitale signal er, når alt kommer til alt, bare en sekvens med tall.\n",
    "    * Sekvenstyper er dermed en naturlig måte for python (eller andre programmeringsspråk) å håndtere et digitalt signal på."
   ]
  },
  {
   "cell_type": "markdown",
   "metadata": {
    "slideshow": {
     "slide_type": "slide"
    }
   },
   "source": [
    "## Lister\n",
    "* Python sin \"default\" sekvenstype.\n",
    "* Opprettelse av liste i Python gjøres på formen:\n",
    "```python\n",
    "variabelnavn = [element1, element2, element3, …]\n",
    "```\n",
    "* Her er et eksempel på en liste i Python:\n",
    "```python\n",
    "liste = [’Ole’, ’Dole’, ’Doffen’]\n",
    "```\n",
    "* Veldig fleksibel.\n",
    "    * Det er mulig å blande datatyper for enhetene i listen.\n",
    "    * Man kan gjøre endringer på listens lengde underveis."
   ]
  },
  {
   "cell_type": "markdown",
   "metadata": {
    "slideshow": {
     "slide_type": "slide"
    }
   },
   "source": [
    "## Eksempel:"
   ]
  },
  {
   "cell_type": "code",
   "execution_count": null,
   "metadata": {
    "slideshow": {
     "slide_type": "fragment"
    }
   },
   "outputs": [],
   "source": []
  },
  {
   "cell_type": "markdown",
   "metadata": {
    "slideshow": {
     "slide_type": "slide"
    }
   },
   "source": [
    "# Generering av lister med tallverdier\n",
    "* Vi bruker funksjonene `list()` og `range()` når vi ønsker en liste unifromt med stigende/synkende tallverdier.\n",
    "* For å opprette en liste som følger en matematisk formel, kan vi bruke en litt spesiell anvendelse av for-løkken.\n",
    "```python\n",
    "[f_av_i for i in [verdi1, verdi2, osv..]]\n",
    "```"
   ]
  },
  {
   "cell_type": "markdown",
   "metadata": {
    "slideshow": {
     "slide_type": "slide"
    }
   },
   "source": [
    "## Eksempel:"
   ]
  },
  {
   "cell_type": "code",
   "execution_count": null,
   "metadata": {
    "slideshow": {
     "slide_type": "fragment"
    }
   },
   "outputs": [],
   "source": []
  },
  {
   "cell_type": "markdown",
   "metadata": {
    "slideshow": {
     "slide_type": "slide"
    }
   },
   "source": [
    "# Repetisjon og sammenslåing\n",
    "\n",
    "* Operatorene `*` og `+` brukes til repetisjon og sammenslåing av lister."
   ]
  },
  {
   "cell_type": "code",
   "execution_count": null,
   "metadata": {
    "slideshow": {
     "slide_type": "fragment"
    }
   },
   "outputs": [],
   "source": [
    "x = [1, 2, 3, 4]\n",
    "y = x*6 # Repetisjon av listen x\n",
    "print(y)\n",
    "\n",
    "y = [5]\n",
    "z = x + y # Slå sammen listene x og y\n",
    "print(z)"
   ]
  },
  {
   "cell_type": "markdown",
   "metadata": {
    "slideshow": {
     "slide_type": "slide"
    }
   },
   "source": [
    "# Indeksering\n",
    "\n",
    "* **Indeks:** et tall som spesifiserer et elements posisjon i en liste\n",
    "    * Gir tilgang til de enkelte elementer i listen\n",
    "    * Indeksen til det første elementet er 0, det andre 1, og det n-te elementet er $n-1$.\n",
    "    * Negative indekser identifiserer posisjone relativt til listens slutt.\n",
    "    ![](Figurer/02_Pythonkurs/01_Indeksillustrasjon.png)"
   ]
  },
  {
   "cell_type": "markdown",
   "metadata": {
    "slideshow": {
     "slide_type": "slide"
    }
   },
   "source": [
    "# Bruk av indeksering\n",
    "\n",
    "* For å få tak i innholdet for et bestemt element i en liste, skriver man variabelnavnet, firkantparantes og indeks-nummeret til elementetm f.eks: `x = liste[3]`\n",
    "* På samme måte kan enkelt-elementer overskrives med å indeksere et bestemt element, f.eks: `liste[3] = 99`"
   ]
  },
  {
   "cell_type": "code",
   "execution_count": null,
   "metadata": {
    "slideshow": {
     "slide_type": "fragment"
    }
   },
   "outputs": [],
   "source": [
    "from random import randint\n",
    "liste = [randint(0, 9) for i in range(10)]\n",
    "print(\"Liste: \", liste)\n",
    "print(\"verdien i posisjon 3 er: \", liste[3])\n",
    "liste[3] = 12\n",
    "print(\"Listen er nå: \", liste)"
   ]
  },
  {
   "cell_type": "markdown",
   "metadata": {
    "slideshow": {
     "slide_type": "slide"
    }
   },
   "source": [
    "# Liste-\"slicing\"\n",
    "\n",
    "* **Slice:** en \"sub-liste\" av enheter som er tatt fra en sekvens. \n",
    "    * Slicing format: `liste[start:stopp:steg]`\n",
    "    * Resultatet er en liste som inneholder kopier av elementer med indekser fra`start` fram til (men ikke inkludert) `stopp`, hvor intervallet mellom hver av indeksene er `steg`.\n",
    "        * Indeksene tilsvarer elementene i `range(start, stopp, steg)`\n",
    "        * Hvis `start` ikke er spesifisert, brukes `0` som startindeks\n",
    "        * Hvis `stopp` ikke er spesifisert, brukes `len(list)` som sluttindeks\n",
    "        * Hvis `steg` ikke er spesifisert, brukes `1` som stegintervall.\n",
    "    * Slicing-uttrykk kan inneholde stegverdier og negative indekser, som er relative til listens slutt   "
   ]
  },
  {
   "cell_type": "code",
   "execution_count": null,
   "metadata": {
    "slideshow": {
     "slide_type": "fragment"
    }
   },
   "outputs": [],
   "source": [
    "xList = list(range(0, 21))\n",
    "yList = xList[:]\n",
    "print(yList)"
   ]
  },
  {
   "cell_type": "markdown",
   "metadata": {
    "slideshow": {
     "slide_type": "slide"
    }
   },
   "source": [
    "## Kodeeksempel: \n",
    "\n",
    "* Fullfør funksjonen `reverser(liste)` som returnerer listen `liste` der elementene nå er i motsatt rekkefølge. \n",
    "    * Funksjonen skal oppnå dette med bruk av *slicing*"
   ]
  },
  {
   "cell_type": "code",
   "execution_count": null,
   "metadata": {
    "slideshow": {
     "slide_type": "fragment"
    }
   },
   "outputs": [],
   "source": [
    "def reverser(liste):\n",
    "    #--------------------\n",
    "    # Skriv noe her\n",
    "    #--------------------\n",
    "    return nyListe\n",
    "\n",
    "xListe = list(range(22))\n",
    "yListe = reverser(xListe)\n",
    "print(yListe)"
   ]
  },
  {
   "cell_type": "markdown",
   "metadata": {
    "slideshow": {
     "slide_type": "slide"
    }
   },
   "source": [
    "# Metoder\n",
    "\n",
    "* Spesielle funksjoner som er \"bakt inn\" i definisjonen av en datatype/klasse.\n",
    "* Lister har en rekke innebgyde metoder du kan lese om [her](https://docs.python.org/3/tutorial/datastructures.html#more-on-lists). \n",
    "* Noen ofte brukte metoder er:\n",
    "    * `append(x)`: Legger til et element `x` på slutten av lista.\n",
    "    * `insert(indeks, x)`: Setter inn element `x` i indeks `indeks`. Alle elementer etter `indeks` blir forskjøvet.\n",
    "    * `pop(indeks)`: Fjern element i posisjon `indeks` fra lista, og returner verdien.\n",
    "    * `index(x)`: Returner posisjonen til den første instansen av verdien `x` i lista."
   ]
  },
  {
   "cell_type": "markdown",
   "metadata": {
    "slideshow": {
     "slide_type": "slide"
    }
   },
   "source": [
    "# Hvorfor bruke numpy?\n",
    "\n",
    "* Å bruke lister til å håndtere digitale signal vil ha noen begrensninger:\n",
    "    * Vi har i grunn ikke behov for å \"blande\" datatyper i liste-elementene.\n",
    "    * Tungvindt å gjøre elementvise regneoperasjoner.\n",
    "    * Prosesseringstiden er høy. Dette vil merkes på store signal (f.eks. en musikkfil).\n",
    "\n",
    "* Numpy er et bibliotek med funksjoner og variabeltyper som fasiliterer numeriske utregninger med tidvis store datasett.\n",
    "* Variabeltypen `numpy.ndarray` er sentral for hele modulen. Dette er en listelignende variabeltype med innebygd støtte for enkle utregninger av matematiske formler, matriseoperasjoner etc."
   ]
  },
  {
   "cell_type": "markdown",
   "metadata": {
    "slideshow": {
     "slide_type": "slide"
    }
   },
   "source": [
    "# Om `ndarray`\n",
    "\n",
    "* Sekvenstype spesielt tilpasset numeriske utregnigner.\n",
    "* Tillater bruk av de vanlige aritmetiske operatorene til å gjøre beregninger på *hvert element* i listen.\n",
    "* Størrelsen på en `ndarray` er statisk, og kan ikke endres. Skal du legge til en ny verdi på slutten av arrayen må du lage en helt ny array. \n",
    "* Det er heller ikke mulig å \"blande\" datatyper."
   ]
  },
  {
   "cell_type": "markdown",
   "metadata": {},
   "source": [
    "# Å opprette en array\n",
    "* Begynn med å importere modulen:\n",
    "```python\n",
    "import numpy as np\n",
    "```\n",
    "* Alternativ 1 er å konvertere fra liste til array med funksjonen `np.array()`\n",
    "```python\n",
    "x = np.array([2, 1, 4, 0])\n",
    "```\n",
    "* Alternativ 2 er å bruke numpy-funksjoner som lager arrays:\n",
    "```python\n",
    "np.arange(start, stop, step)\n",
    "np.linspace(start, stop, n_of_steps)\n",
    "np.zeros(N)\n",
    "```"
   ]
  },
  {
   "cell_type": "markdown",
   "metadata": {
    "slideshow": {
     "slide_type": "slide"
    }
   },
   "source": [
    "## `arange(start, stop, step)`:\n",
    "* Fungerer veldig likt standard-funksjonen range, men returnerer en array.\n",
    "* Returnert array er tall i rekkefølge f.o.m. `start`, med intervall `step` mellom hver verdi helt til man når max-verdien `stop`. Siste verdi i array vil være mindre enn `stop`\n",
    "* Eksempel på kjøring:\n",
    "```python\n",
    "np.arange(10,2,-1)\n",
    "```\n",
    "    Gir `[10, 8, 6, 4]`\n",
    "    \n"
   ]
  },
  {
   "cell_type": "markdown",
   "metadata": {
    "slideshow": {
     "slide_type": "slide"
    }
   },
   "source": [
    "## `linspace(start, stop, n_of_steps)`:\n",
    "* Returnerer en array med lengde `n_of_steps`, der verdiene følger intervallet fra `start` til `stop`.\n",
    "* Siste verdi i array vil være `stop` i motsetning til `arange()`\n",
    "* Intervallet mellom hver verdi vil være: `(stop-start)/(n_of_steps-1)`\n",
    "* Man kan ekskludere verdien `stop` ved å sette parameteren `endpoint=false`\n",
    "* Eksempel på kjøring:\n",
    "```python\n",
    "np.linspace(10, 2, 4, endpoint=False)\n",
    "```\n",
    "    Gir `[10., 8., 6., 4.]`\n",
    "    \n",
    "* Numpy-dokumentasjonen anbefaler å bruke `linspace()` hvis man skal generere en array med flyttall."
   ]
  },
  {
   "cell_type": "markdown",
   "metadata": {
    "slideshow": {
     "slide_type": "slide"
    }
   },
   "source": [
    "## Kodeeksempel:"
   ]
  },
  {
   "cell_type": "code",
   "execution_count": null,
   "metadata": {
    "slideshow": {
     "slide_type": "fragment"
    }
   },
   "outputs": [],
   "source": []
  },
  {
   "cell_type": "markdown",
   "metadata": {
    "slideshow": {
     "slide_type": "slide"
    }
   },
   "source": [
    "# Behandling av hvert element i en array\n",
    "\n",
    "* Dersom en skal regne ut en rekke verdier for en funksjon $f(x)$, gjøres det typisk i 2 steg.\n",
    "    1. Generer alle de interessante verdiene av variabelen $x$.\n",
    "    2. Disse videre som utgangspunkt til å regne ut funksjonferdiene $f(x)$.\n",
    "\n",
    "* Med lister må dette utføres med en for-løkke:\n",
    "```python\n",
    "f_x = [x**2 for x in range(10)]\n",
    "```\n",
    "* Med Numpy blir prosessen både enklere og mer intuitiv, så snart vi får laget et array med x-verdier:\n",
    "```python\n",
    "x = np.arange(10)\n",
    "f_x = x**2\n",
    "```"
   ]
  },
  {
   "cell_type": "markdown",
   "metadata": {
    "slideshow": {
     "slide_type": "slide"
    }
   },
   "source": [
    "## Kodeeksempel: \n",
    "* Regn ut de ti første tallene i rekken $x_n = 2^n$"
   ]
  },
  {
   "cell_type": "code",
   "execution_count": null,
   "metadata": {
    "slideshow": {
     "slide_type": "fragment"
    }
   },
   "outputs": [],
   "source": []
  },
  {
   "cell_type": "markdown",
   "metadata": {
    "slideshow": {
     "slide_type": "slide"
    }
   },
   "source": [
    "# Regneoperasjoner med arrays:\n",
    "\n",
    "```python\n",
    "A = np.array([[1, 0],\n",
    "              [1, 2]])\n",
    "```\n",
    "\n",
    "|**Med Numpy** | **I matematikken** |**Med Numpy** | **I matematikken**|\n",
    "|---|---|---|---|\n",
    "|`A + 5` | $$ \\begin{bmatrix} 1+5 & 0+5 \\\\ 1+5 & 2+5 \\end{bmatrix} = \\begin{bmatrix} 6 & 5 \\\\ 6 & 7 \\end{bmatrix} $$| `A - 5` | $$ \\begin{bmatrix} 1-5 & 0-5 \\\\ 1-5 & 2-5 \\end{bmatrix} = \\begin{bmatrix} -4 & -5 \\\\ -4 & -3 \\end{bmatrix} $$\n",
    "|`A * 5` | $$ \\begin{bmatrix} 1\\cdot5 & 0\\cdot5 \\\\ 1\\cdot5 & 2\\cdot5 \\end{bmatrix} = \\begin{bmatrix} 10& 0 \\\\ 10 & 20 \\end{bmatrix} $$|`A @ A` | $$ \\begin{bmatrix} 1 & 0 \\\\ 1 & 2 \\end{bmatrix} \\cdot \\begin{bmatrix} 1 & 0 \\\\ 1 & 2 \\end{bmatrix} = \\begin{bmatrix} 1 & 0 \\\\ 3 & 4 \\end{bmatrix} $$|\n",
    "|`A / 5` | $$ \\begin{bmatrix} \\frac{1}{5} & \\frac{0}{5} \\\\ \\frac{1}{5} & \\frac{2}{5} \\end{bmatrix} = \\begin{bmatrix} 0.2 & 0.0 \\\\ 0.2 & 0.4 \\end{bmatrix} $$|`5 / A` | $$ \\begin{bmatrix} \\frac{5}{1} & \\frac{5}{0} \\\\ \\frac{5}{1} & \\frac{5}{2} \\end{bmatrix} = \\begin{bmatrix} 5.0 & \\infty \\\\ 5.0 & 2.5 \\end{bmatrix} $$|\n",
    "|`A ** 2` | $$ \\begin{bmatrix} 1^2 & 0^2 \\\\ 1^2 & 2^2 \\end{bmatrix} = \\begin{bmatrix} 1 & 0 \\\\ 1 & 4 \\end{bmatrix} $$|`2 ** A` | $$ \\begin{bmatrix} 2^1 & 2^0 \\\\ 2^1 & 2^2 \\end{bmatrix} = \\begin{bmatrix} 2 & 1 \\\\ 2 & 4 \\end{bmatrix} $$|\n",
    "|`A ** A` | $$ \\begin{bmatrix} 1^1 & 0^0 \\\\ 1^1 & 2^2 \\end{bmatrix} = \\begin{bmatrix} 1 & 0 \\\\ 1 & 4 \\end{bmatrix} $$|`A + A` | $$ \\begin{bmatrix} 1+1 & 0+0 \\\\ 1+1 & 2+2 \\end{bmatrix} = \\begin{bmatrix} 2 & 0 \\\\ 2 & 4 \\end{bmatrix} $$|\n"
   ]
  },
  {
   "cell_type": "markdown",
   "metadata": {
    "slideshow": {
     "slide_type": "slide"
    }
   },
   "source": [
    "## Kodeeksempel:\n",
    "* Generer arrayer x og y som representerer x/y koordinatene til 51 punkt langs kurven til funksjonen $y=\\frac{x^3}{3} + 2\\cdot x^2 -8\\cdot x -12$ i intervallet $-3 \\leq x \\leq 3$"
   ]
  },
  {
   "cell_type": "code",
   "execution_count": null,
   "metadata": {
    "slideshow": {
     "slide_type": "fragment"
    }
   },
   "outputs": [],
   "source": []
  },
  {
   "cell_type": "markdown",
   "metadata": {
    "slideshow": {
     "slide_type": "slide"
    }
   },
   "source": [
    "# Noen matematiske funksjoner:\n",
    "\n",
    "* Numpy har også egne array-kompatible funksjoner for alle de vanlige matematiske operasjonene.\n",
    "    * Det skal ikke være nødvendig å importere `math` i tillegg til `numpy`.\n",
    "\n",
    "```python\n",
    "A = np.array([[1, 0],\n",
    "              [1, 2]])\n",
    "```\n",
    "\n",
    "|**Med Numpy** | **I Matematikken**|\n",
    "|---|---|\n",
    "|`np.cos(A)`| $$ \\begin{bmatrix} \\cos(1) & \\cos(0) \\\\ \\cos(1) & \\cos(2) \\end{bmatrix}$$\n",
    "|`np.sin(A)`| $$ \\begin{bmatrix} \\sin(1) & \\sin(0) \\\\ \\sin(1) & \\sin(2) \\end{bmatrix}$$\n",
    "|`np.exp(A)`| $$ \\begin{bmatrix} e^1 & e^0 \\\\ e^1 & e^2 \\end{bmatrix}$$\n",
    "|`np.log10(A)`| $$ \\begin{bmatrix} \\log_{10}(1) & \\log_{10}(0) \\\\ \\log_{10}(1) & \\log_{10}(2) \\end{bmatrix}$$"
   ]
  },
  {
   "cell_type": "markdown",
   "metadata": {
    "slideshow": {
     "slide_type": "slide"
    }
   },
   "source": [
    "## Kodeeksempel\n",
    "* Signalet $x(t)$ er gitt ved funksjonsuttrykket $x(t) = e^{-0.2t}\\cdot \\cos\\left(20\\pi \\cdot t \\right)$. Generer en array `xt` med signalverdiene $x(t)$ for 500 verdier av $t$  i intervallet $0 \\leq t < 2$."
   ]
  },
  {
   "cell_type": "code",
   "execution_count": null,
   "metadata": {
    "slideshow": {
     "slide_type": "fragment"
    }
   },
   "outputs": [],
   "source": []
  },
  {
   "cell_type": "markdown",
   "metadata": {
    "slideshow": {
     "slide_type": "fragment"
    }
   },
   "source": [
    "* Den mest fornuftige måten å representere slike lange arrays på er å lage en grafisk fremstilling.\n",
    "* Det er her `matplotlib` kommer inn i bildet."
   ]
  },
  {
   "cell_type": "markdown",
   "metadata": {
    "slideshow": {
     "slide_type": "slide"
    }
   },
   "source": [
    "# Hva er matplotlib?\n",
    "\n",
    "* Bibliotek for visualisering av data, matematiske funksjonsuttrykk og mye mer.\n",
    "* Svært nyttig for å visualisere tidvis vanskelige konsepter.\n",
    "* Vi får tilgang til modulen ved å importere `matplotlib.pyplot`"
   ]
  },
  {
   "cell_type": "code",
   "execution_count": null,
   "metadata": {
    "slideshow": {
     "slide_type": "fragment"
    }
   },
   "outputs": [],
   "source": [
    "import numpy as np\n",
    "import matplotlib.pyplot as plt\n",
    "%matplotlib ipympl\n",
    "\n",
    "x = np.outer(np.linspace(-2, 2, 101), np.ones(101))\n",
    "y = x.copy().T # transpose\n",
    "z = x + 1j*y\n",
    "Hz = (z+1)/(z-0.9)\n",
    "\n",
    "fig = plt.figure(figsize=(8,8))\n",
    "ax = plt.axes(projection='3d')\n",
    "\n",
    "ax.plot_surface(x, y, 20*np.log10(abs(Hz)),cmap='viridis', edgecolor='none');\n",
    "ax.set_title('Surface plot')\n",
    "plt.show()"
   ]
  },
  {
   "cell_type": "markdown",
   "metadata": {
    "slideshow": {
     "slide_type": "slide"
    }
   },
   "source": [
    "# Oppsett i Jupyter Notebook\n",
    "\n",
    "* Matplotlib har nærmest ubegrensede muligheter for å konfigurere bakgrunn, figurstil osv..\n",
    "    * Her er det lett å rote seg litt bort, og vi kommer i hovedsak til å holde oss til \"the basics\".\n",
    "* Vi bruker \"default\"-stilen for plot, men integrert i Jypyter Notebook. Dette kan gjøres ved å kjøre følgende linje:\n",
    "```python\n",
    "%matplotlib ipympl\n",
    "```\n",
    "* Figurene vil nå være interaktive, slik at man kan endre størrelse, zoome inn og ut på figuren osv."
   ]
  },
  {
   "cell_type": "markdown",
   "metadata": {
    "slideshow": {
     "slide_type": "slide"
    }
   },
   "source": [
    "# Funksjonen `plot()`\n",
    "\n",
    "* Brukes til å plotte en graf basert på x- og y- koordinater.\n",
    "* Skrivemåte: `plot(x, y)` (`x` og `y` er sekvenser med tall)\n",
    "    * Krav: x og y må ha like mange element\n",
    "    * Koordinatene til det første punktet på grafen er `x[0], y[0]`, så `x[1], y[1]` osv... \n",
    "    * `x` og `y` angir altså en serie med punkt på et kartesisk koordinatsystem. Grafen lages ved å tegne strek fra punkt til punkt.\n",
    "* *P.S. Dersom man skal opprette en ny figur må man kalle funksjonen `figure()` før man begynner å plotte* "
   ]
  },
  {
   "cell_type": "markdown",
   "metadata": {
    "slideshow": {
     "slide_type": "slide"
    }
   },
   "source": [
    "# \"Pynting\" på figuren\n",
    "* `title()` Gi figuren en tittel\n",
    "* `xlabel()` Gi x-aksen et navn\n",
    "* `ylabe()` Gi y-aksen et navn\n",
    "* `grid(True/False)` Aktiver/deaktiver rutenett\n",
    "* `xlim() / ylim()` Avgrensing av x- og y-akse"
   ]
  },
  {
   "cell_type": "code",
   "execution_count": null,
   "metadata": {
    "slideshow": {
     "slide_type": "fragment"
    }
   },
   "outputs": [],
   "source": []
  },
  {
   "cell_type": "markdown",
   "metadata": {
    "slideshow": {
     "slide_type": "slide"
    }
   },
   "source": [
    "# Andre funksjoner for figurer\n",
    "* `figure()` Åpne en ny figur\n",
    "    * Du kan angi størrelsen på figuren med parameteren `figsize`: `plt.figure(1, figsize=(20,20))`\n",
    "* `bar()` Lag et søylediagram\n",
    "* `scatter()` Plot kun punktene\n",
    "* `stem()` Stolpediagram\n",
    "* `loglog()` Tegn en graf med logaritmiske x- og y-akser\n",
    "* `semilogx()` Tegn en graf med logaritmisk x-akse\n",
    "* `semilogy()` Tegn en graf med logaritmisk y-akse"
   ]
  },
  {
   "cell_type": "markdown",
   "metadata": {
    "slideshow": {
     "slide_type": "slide"
    }
   },
   "source": [
    "## Eksempel: Logaritmiske akser"
   ]
  },
  {
   "cell_type": "code",
   "execution_count": null,
   "metadata": {
    "slideshow": {
     "slide_type": "fragment"
    }
   },
   "outputs": [],
   "source": []
  },
  {
   "cell_type": "markdown",
   "metadata": {
    "slideshow": {
     "slide_type": "slide"
    }
   },
   "source": [
    "## Eksempel: Tegn en likesidet trekant"
   ]
  },
  {
   "cell_type": "code",
   "execution_count": null,
   "metadata": {
    "slideshow": {
     "slide_type": "fragment"
    }
   },
   "outputs": [],
   "source": []
  },
  {
   "cell_type": "markdown",
   "metadata": {
    "slideshow": {
     "slide_type": "slide"
    }
   },
   "source": [
    "# Subplot\n",
    "* Brukes når du vil lage to adskilte grafer i samme figur.\n",
    "* Funksjonen `subplot(rows, cols, pos)` vil dele opp figuren i et rutenett, og \"aktiverer\" de(n) ruten(e) angitt i `pos`.\n",
    "* Ved å f.eks. skrive `plt.subplot(2,3,5)`, vil \"hovedfiguren\" deles opp på følgende vis:\n",
    "| |  |  |\n",
    "| --- | --- | --- |\n",
    "| 1 | 2 | 3 |\n",
    "| 4 | [5] | 6 |"
   ]
  },
  {
   "cell_type": "code",
   "execution_count": null,
   "metadata": {
    "slideshow": {
     "slide_type": "slide"
    }
   },
   "outputs": [],
   "source": [
    "# Kodeeksempel"
   ]
  },
  {
   "cell_type": "markdown",
   "metadata": {
    "slideshow": {
     "slide_type": "slide"
    }
   },
   "source": [
    "# Labels\n",
    "* Når man har mange grafer i samme figur, kan det være nyttig å gi de merkelapper.\n",
    "* Funksjonen `plot()` har et valgfritt agument `label` som kan benyttes til å gi kurven et navn.\n",
    "* Funksjonen `legend()` kan deretter brukes for å vise merkelappen, justere posisjon etc."
   ]
  },
  {
   "cell_type": "code",
   "execution_count": null,
   "metadata": {
    "slideshow": {
     "slide_type": "slide"
    }
   },
   "outputs": [],
   "source": [
    "# Kodeeksempel"
   ]
  }
 ],
 "metadata": {
  "celltoolbar": "Slideshow",
  "kernelspec": {
   "display_name": "Python 3",
   "language": "python",
   "name": "python3"
  },
  "language_info": {
   "codemirror_mode": {
    "name": "ipython",
    "version": 3
   },
   "file_extension": ".py",
   "mimetype": "text/x-python",
   "name": "python",
   "nbconvert_exporter": "python",
   "pygments_lexer": "ipython3",
   "version": "3.8.5"
  }
 },
 "nbformat": 4,
 "nbformat_minor": 4
}
