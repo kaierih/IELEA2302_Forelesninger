{
 "cells": [
  {
   "cell_type": "markdown",
   "metadata": {
    "slideshow": {
     "slide_type": "slide"
    }
   },
   "source": [
    "<img src=\"NTNU_Logo.png\" align=\"left\" style=\"width: 30%\">\n",
    "<br clear=\"all\" />\n",
    "<br></br>\n",
    "\n",
    "# Oppsummeringsforelesning\n",
    "\n",
    "* **Emne IELEA2302 - Signalbehandling**\n",
    "* **Uke 8, 2021**\n",
    "* **Underviser: Kai Erik Hoff**"
   ]
  },
  {
   "cell_type": "markdown",
   "metadata": {
    "slideshow": {
     "slide_type": "slide"
    }
   },
   "source": [
    "# Semesterprøve fredag 5. mars\n",
    "\n",
    "* Tid: 09:00 - 11:00\n",
    "\n",
    "* Teoriospørsmål\n",
    "    * Ikke fullstendig ulikt teoriøvingene.\n",
    "    * *Advarsel: ikke ignorér dataøvingene*\n",
    "* Spørsmål løsbare ved utregning / resonnering\n",
    "    * Ikke nødvendig å bruke python/Matlab som hjelpemiddel\n",
    "* Teller 20% av sluttkarakter."
   ]
  },
  {
   "cell_type": "markdown",
   "metadata": {
    "slideshow": {
     "slide_type": "slide"
    }
   },
   "source": [
    "# Aktuelle tema i del 1: Signalanalyse\n",
    "\n",
    "* Sinussignal og deres egenskaper\n",
    "* Signalspektrum\n",
    "* Sampling og Aliasing\n",
    "* Diskrét Fouriertransformasjon\n",
    "* Frekvensanalyse med DFT"
   ]
  },
  {
   "cell_type": "markdown",
   "metadata": {
    "slideshow": {
     "slide_type": "slide"
    }
   },
   "source": [
    "# Sinussignal og deres egenskaper\n",
    "* Frekvens, amplitude & fase\n",
    "* Sinussignal på eulerform (vektorrepresentasjon)\n",
    "* Positiv og negativ frekvens\n",
    "* Vektoraddisjonsprinsippet"
   ]
  },
  {
   "cell_type": "markdown",
   "metadata": {
    "slideshow": {
     "slide_type": "slide"
    }
   },
   "source": [
    "# Signalspektrum\n",
    "* Frekvensspekter som konsept\n",
    "* Fourierrekke-dekomposisjon\n",
    "* Ulike operasjoner i tid- og frekvensdomenet\n",
    "    * Amplitudemodulasjon\n",
    "    * Tidsforskyvning\n",
    "    * Skalering\n",
    "    * etc."
   ]
  },
  {
   "cell_type": "markdown",
   "metadata": {
    "slideshow": {
     "slide_type": "slide"
    }
   },
   "source": [
    "# Sampling og Aliasing\n",
    "* Samplingsteoremet\n",
    "* Frekvensinnholdet til digitale signal\n",
    "* Aliasing og frekvensfolding\n",
    "    * Spektrale kopier\n",
    "* Anti-aliasing filter"
   ]
  },
  {
   "cell_type": "markdown",
   "metadata": {
    "slideshow": {
     "slide_type": "slide"
    }
   },
   "source": [
    "# Diskrét Fouriertransformasjon\n",
    "* Fra digitalt signal til diskrét frekvensinformasjon (DFT)\n",
    "* Fra diskrét frekvensinformasjon til digitalt signal (IDFT)\n",
    "* Tolkning av en DFT-sekvens (f.eks. $X[k]$)\n",
    "* Signalbehandlingsoperasjoner utført i frekvensplanet"
   ]
  },
  {
   "cell_type": "markdown",
   "metadata": {
    "slideshow": {
     "slide_type": "slide"
    }
   },
   "source": [
    "# Frekvensanalyse med DFT\n",
    "* Spektral lekkasje\n",
    "* Vindusfunksjoner\n",
    "* Diskret-Tids Fouriertransformasjon\n",
    "* Zero-padding\n",
    "* Effektspekter\n",
    "* Spektrogram"
   ]
  }
 ],
 "metadata": {
  "celltoolbar": "Slideshow",
  "kernelspec": {
   "display_name": "Python 3",
   "language": "python",
   "name": "python3"
  },
  "language_info": {
   "codemirror_mode": {
    "name": "ipython",
    "version": 3
   },
   "file_extension": ".py",
   "mimetype": "text/x-python",
   "name": "python",
   "nbconvert_exporter": "python",
   "pygments_lexer": "ipython3",
   "version": "3.8.5"
  }
 },
 "nbformat": 4,
 "nbformat_minor": 4
}
