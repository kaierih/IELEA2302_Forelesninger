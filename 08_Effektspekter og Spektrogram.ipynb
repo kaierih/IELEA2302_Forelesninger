{
 "cells": [
  {
   "cell_type": "code",
   "execution_count": null,
   "metadata": {
    "slideshow": {
     "slide_type": "skip"
    }
   },
   "outputs": [],
   "source": [
    "# Generelle moduler og funksjonsbeskrivelser brukt i forelesningen\n",
    "from numpy import sin, cos, pi, exp\n",
    "import numpy.fft as fft\n",
    "import numpy as np\n",
    "import matplotlib.pyplot as plt\n",
    "from IPython.display import Video\n",
    "from scipy.io import wavfile\n",
    "from Kildekode._07_Frekvensanalyse import *\n",
    "\n",
    "%matplotlib ipympl"
   ]
  },
  {
   "cell_type": "markdown",
   "metadata": {
    "slideshow": {
     "slide_type": "slide"
    }
   },
   "source": [
    "<img src=\"NTNU_Logo.png\" align=\"left\" style=\"width: 30%\">\n",
    "<br clear=\"all\" />\n",
    "<br></br>\n",
    "\n",
    "# Effektspekter og Spektrogram\n",
    "\n",
    "* **Emne IELEA2302 - Signalbehandling**\n",
    "* **Uke 8, 2021**\n",
    "* **Underviser: Kai Erik Hoff**"
   ]
  },
  {
   "cell_type": "markdown",
   "metadata": {
    "slideshow": {
     "slide_type": "slide"
    }
   },
   "source": [
    "# Tema:\n",
    "* Signalenergi og effekt\n",
    "* Effektspekter intro\n",
    "* Periodogram - et enkelt estimat for effektspekter\n",
    "* Decibelskala\n",
    "* Spektrogram\n",
    "* Overlappende signalsegment"
   ]
  },
  {
   "cell_type": "markdown",
   "metadata": {
    "slideshow": {
     "slide_type": "slide"
    }
   },
   "source": [
    "# Signalenergi og effekt\n",
    "<img src=\"Figurer/07_Frekvensanalyse/Fig18_PSD2.png\" style=\"width: 80%; margin-left=100px\" />"
   ]
  },
  {
   "cell_type": "markdown",
   "metadata": {
    "slideshow": {
     "slide_type": "slide"
    }
   },
   "source": [
    "# Effektspekter\n",
    "\n",
    "<img src=\"Figurer/07_Frekvensanalyse/Fig17_PSD1.png\" style=\"width: 80%; margin-left=100px\" />"
   ]
  },
  {
   "cell_type": "markdown",
   "metadata": {
    "slideshow": {
     "slide_type": "slide"
    }
   },
   "source": [
    "# Periodogram\n",
    "<img src=\"Figurer/07_Frekvensanalyse/Fig19_PSD4.png\" style=\"width: 80%; margin-left=100px\" />"
   ]
  },
  {
   "cell_type": "markdown",
   "metadata": {
    "slideshow": {
     "slide_type": "slide"
    }
   },
   "source": [
    "# Decibelskala\n",
    "* Oftest aktuelt å studere frekvensinnhold i logaritmisk skala.\n",
    "    * Differanse på 10 dB betyr en forskjell i ***signaleffekt*** med en faktor på 10.\n",
    "   \n",
    "$$ \\text{Effekt} (dB) = 10\\cdot \\log_{10}\\left( \\text{Effekt} \\right) = 20\\cdot \\log \\left( \\text{Amplitude} \\right) $$"
   ]
  },
  {
   "cell_type": "markdown",
   "metadata": {
    "slideshow": {
     "slide_type": "slide"
    }
   },
   "source": [
    "## Kodeeksempel: frekvensanalyse av lydsignal\n",
    "\n",
    "* Regn ut effektspekteret til et utsnitt av signalet `orca.wav` som starter i $t=0.25s$.\n",
    "    * Vi velger passende vinduslengde selv."
   ]
  },
  {
   "cell_type": "code",
   "execution_count": null,
   "metadata": {
    "slideshow": {
     "slide_type": "fragment"
    }
   },
   "outputs": [],
   "source": [
    "fs, data = wavfile.read(r'Datafiler/04_Frekvensrepresentasjon/orca.wav') # les audiofilen 'orca.wav' og lagre til variablene 'fs' og 'data'\n",
    "xn = data/0x8000\n",
    "sig_len = len(xn)\n",
    "n = np.arange(sig_len)\n",
    "t = n/fs\n",
    "plt.close(7); plt.figure(7, figsize=(10,3))\n",
    "plt.plot(t, xn)"
   ]
  },
  {
   "cell_type": "markdown",
   "metadata": {
    "slideshow": {
     "slide_type": "slide"
    }
   },
   "source": [
    "# Ikke-stasjonære signal\n",
    "\n",
    "* Begrep for signal der frekvensinnholdet varierer over tid\n",
    "* De fleste signal varierer i komposisjon over tid. \n",
    "* Å utføre frekvensanalyse av hele signalet gjør at vi ikke kan fortelle noe om *når* de forskjellige frekvenskomponentene oppstår.\n",
    "* Foreslått løsning:\n",
    "    1. Del opp signalet i mindre segment\n",
    "    2. Foreta frekvensanalyse av hvert segment for seg selv\n",
    "    3. Kombiner frekvensinformasjonen fra alle segmentene til en 2-dimensjonal oversikt over hvilke frekvenskomponenter som forekommer, og når de er tilstede.\n"
   ]
  },
  {
   "cell_type": "markdown",
   "metadata": {
    "slideshow": {
     "slide_type": "slide"
    }
   },
   "source": [
    "# Spektrogram\n",
    "\n",
    "<img src=\"Figurer/08_Effektspekter_Spektrogram/Fig1_Spektrogram.png\" style=\"width: 80%; margin-left=100px\" />"
   ]
  },
  {
   "cell_type": "markdown",
   "metadata": {
    "slideshow": {
     "slide_type": "slide"
    }
   },
   "source": [
    "# Utfordringer\n",
    "\n",
    "* Oppløsningen i frekvensdomenet er proporsjonal med vinduslengden $N$.\n",
    "* Presisjon i tidsdomenet er invers proporsjonal med vinduslengden $N$.\n",
    "\n",
    "\n",
    "* Vi må med andre ord identifisere en vinduslengde som gir god nok oppløsning i frekvensdomenet, samtidig som vi har korte nok vinduslengder til at variasjoner i frekvensinnhold vil fanges opp."
   ]
  },
  {
   "cell_type": "markdown",
   "metadata": {
    "slideshow": {
     "slide_type": "fragment"
    }
   },
   "source": [
    "* Det er allikevel noen triks vi kan ta i bruk for å få det meste ut av situasjonen.\n",
    "    * Zero Padding og Vindusfunksjoner er to av de."
   ]
  },
  {
   "cell_type": "markdown",
   "metadata": {
    "slideshow": {
     "slide_type": "slide"
    }
   },
   "source": [
    "# Overlappende signalvindu\n",
    "\n",
    "* Vi kan øke oppløsining i tidsaksen ved å \"gjenbruke\" en andel av de foregående vinduene.\n",
    "    * 50% overlapping er vanlig\n",
    "        * Gevinsten ved å bruke overlapping avtar desto større andel av vinduet som er \"gjenbrukt informasjon\"\n",
    "\n",
    "\n",
    "<img src=\"Figurer/08_Effektspekter_Spektrogram/Fig2_Spektrogram2.png\" style=\"width: 80%; margin-left=100px\" />"
   ]
  },
  {
   "cell_type": "markdown",
   "metadata": {
    "slideshow": {
     "slide_type": "slide"
    }
   },
   "source": [
    "## Regneeksempel 1:\n",
    "* Et signalopptak har en lengde på $L=40\\ 000$ sampler. Det er ønskelig å generere et spektrogram der vinduslengden brukt i til frekvensanalye er $N=1\\ 000$ sampler, og for å øke antallet \"frames\" i spektrogramemet benytter vi $50%$ overlapping av signalvinduene.\n",
    "    * For hvor mange individuelle tidsintervall vil vi få utregnet spektralinnhold? Sagt på en annen måte: hva blir det totale antallet signalvindu vi henter fra signalet?"
   ]
  },
  {
   "cell_type": "markdown",
   "metadata": {
    "slideshow": {
     "slide_type": "slide"
    }
   },
   "source": [
    "## Kodeeksempel: Spektrogram\n",
    "* Lag et spektrogram som viser frekvensinnholdet til lydfilen `\"orca.wav\"` over tid.\n",
    "    * Studer hvordan de ulike parametrene påvirker det utregnede spektrogrammet."
   ]
  },
  {
   "cell_type": "code",
   "execution_count": null,
   "metadata": {
    "slideshow": {
     "slide_type": "fragment"
    }
   },
   "outputs": [],
   "source": [
    "fs, data = wavfile.read(r'Datafiler/04_Frekvensrepresentasjon/orca.wav') # les audiofilen 'orca.wav' og lagre til variablene 'fs' og 'data'\n",
    "xn = data/0x8000"
   ]
  },
  {
   "cell_type": "markdown",
   "metadata": {
    "slideshow": {
     "slide_type": "slide"
    }
   },
   "source": [
    "# Spørsmål?"
   ]
  }
 ],
 "metadata": {
  "celltoolbar": "Slideshow",
  "kernelspec": {
   "display_name": "Python 3",
   "language": "python",
   "name": "python3"
  },
  "language_info": {
   "codemirror_mode": {
    "name": "ipython",
    "version": 3
   },
   "file_extension": ".py",
   "mimetype": "text/x-python",
   "name": "python",
   "nbconvert_exporter": "python",
   "pygments_lexer": "ipython3",
   "version": "3.8.5"
  }
 },
 "nbformat": 4,
 "nbformat_minor": 4
}
