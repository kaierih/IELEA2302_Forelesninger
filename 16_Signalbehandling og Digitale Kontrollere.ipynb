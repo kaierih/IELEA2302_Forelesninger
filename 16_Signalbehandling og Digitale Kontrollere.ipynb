{
 "cells": [
  {
   "cell_type": "code",
   "execution_count": 1,
   "metadata": {
    "slideshow": {
     "slide_type": "skip"
    }
   },
   "outputs": [],
   "source": [
    "# Generelle moduler og funksjonsbeskrivelser brukt i forelesningen\n",
    "from numpy import sin, cos, pi, exp\n",
    "import numpy as np\n",
    "import scipy.signal as sig\n",
    "import matplotlib.pyplot as plt\n",
    "\n",
    "%matplotlib ipympl"
   ]
  },
  {
   "cell_type": "markdown",
   "metadata": {
    "slideshow": {
     "slide_type": "slide"
    }
   },
   "source": [
    "<img src=\"NTNU_Logo.png\" align=\"left\" style=\"width: 30%\">\n",
    "<br clear=\"all\" />\n",
    "<br></br>\n",
    "\n",
    "# Signalbehandling og Digitale Kontrollere\n",
    "\n",
    "* **Emne IELEA2302 - Signalbehandling**\n",
    "* **Uke 16, 2021**\n",
    "* **Relevant Pensummateriell:**\n",
    "    * *Filterstrukturer: delkapittel 10-4 i boka*\n",
    "    * *Avbildning av transferfunksjoner inngår ikke i pensum*\n",
    "* **Underviser: Kai Erik Hoff**"
   ]
  },
  {
   "cell_type": "markdown",
   "metadata": {
    "slideshow": {
     "slide_type": "slide"
    }
   },
   "source": [
    "# Tema:\n",
    "* Diskretisering av tidskontinuerlige modeller\n",
    "    * Kontrollteori som anvendelsesområde for Digitale Filtre\n",
    "    * Poler og nullpunkt i s-planet og z-planet\n",
    "    * Impulsinvarians - en metode for systemavbildning i z-planet\n",
    "* Implementasjon av filtermodeller\n",
    "    * Direkte Form 1\n",
    "    * Direkte Form 2\n",
    "    * Transponert Direkte Form\n",
    "* Oppsummering digitale filtre"
   ]
  },
  {
   "cell_type": "markdown",
   "metadata": {
    "slideshow": {
     "slide_type": "slide"
    }
   },
   "source": [
    "# Motivasjon\n",
    "\n",
    "* Implementasjon av en regulator vil svært ofte bruke en datamaskin som opererer med diskréte sampleverdier.\n",
    "* Vi trenger å finne et *Digitalt Filter* som kan realisere en ønsket regulator med f.eks. transferfunksjon $G_c(s)$.\n",
    "<img src=\"Figurer/16_DigitalKontroller/Fig1_sloyfe.png\" style=\"width: 60%; margin-left: 200px\" />"
   ]
  },
  {
   "cell_type": "markdown",
   "metadata": {
    "slideshow": {
     "slide_type": "notes"
    }
   },
   "source": [
    "* Figuren har opphav fra et annet emne, og bruker noe annen notasjon. Fra og med neste slide bruker vi \"vanlig\" signalbehandlingsnotasjon."
   ]
  },
  {
   "cell_type": "markdown",
   "metadata": {
    "slideshow": {
     "slide_type": "slide"
    }
   },
   "source": [
    "# Poler i S-planet\n",
    "* Én pol $s=p$ i s-planet representerer et førseordens filter / system.\n",
    "    * Transferfunksjon: $H(s) = \\frac{1}{s-p}$\n",
    "    * Impulsrespons: $h(t) = e^{p\\cdot t} \\cdot u(t)$\n",
    "<img src=\"Figurer/16_DigitalKontroller/Fig2_Spole.png\" style=\"width: 80%\" />"
   ]
  },
  {
   "cell_type": "markdown",
   "metadata": {
    "slideshow": {
     "slide_type": "slide"
    }
   },
   "source": [
    "# Poler i Z-planet\n",
    "* Én pol $z=\\hat{p}$ i Z-planet representerer et førsteordens IIR-filter.\n",
    "    * Transferfunksjon: $H(z) = \\frac{z}{z-\\hat{p}}$\n",
    "    * Impulsrespons: $h[n] = u[n] \\cdot \\hat{p}\\ ^n$\n",
    "<img src=\"Figurer/16_DigitalKontroller/Fig3_Zpole.png\" style=\"width: 80%\" />"
   ]
  },
  {
   "cell_type": "markdown",
   "metadata": {
    "slideshow": {
     "slide_type": "slide"
    }
   },
   "source": [
    "# Nullpunkt\n",
    "* Et nullpunkt $z=z_k$ i Z-planet representerer et førsteordens FIR filter.\n",
    "    * Transferfunksjon $H(z) = 1-z_k\\cdot z^{-1}$ \n",
    "    * Impulsrespons $h[n] = \\delta[n] - z_k\\cdot \\delta[n-1]$.\n",
    "    * Ikke realiserbar med fysisk system!"
   ]
  },
  {
   "cell_type": "markdown",
   "metadata": {
    "slideshow": {
     "slide_type": "fragment"
    }
   },
   "source": [
    "* Ingen åpenbar relasjon mellom nullpunkt i s-planet og nullpunkt i z-planet."
   ]
  },
  {
   "cell_type": "markdown",
   "metadata": {
    "slideshow": {
     "slide_type": "slide"
    }
   },
   "source": [
    "# Impulsinvariantmetoden\n",
    "\n",
    "* Vi kan diskretisere et tidskontinuerlig system med impulsrespons $h(t)$ ved å finne et digitalt filter der impulsresponsen er $h[n] = h(n\\cdot T_s)$.\n",
    "\n",
    "\n",
    "<img src=\"Figurer/16_DigitalKontroller/Fig4_ImpulseInvariant.png\" style=\"width: 70%; margin-left: 200px\" />\n",
    "\n",
    "* Antagelsen er at lik impulsrespons betyr like filteregenskaper, ihvertfall for frekvenser $f \\ll \\frac{f_s}{2}$.\n",
    "* Vi må for øvrig skalere med $T_s$ for at diskrét konvolusjon skal gi samme resultat som tidskontinuerlig konvolusjon.\n",
    "$$ h[n] = T_s \\cdot h(n\\cdot T_s)$$"
   ]
  },
  {
   "cell_type": "markdown",
   "metadata": {
    "slideshow": {
     "slide_type": "slide"
    }
   },
   "source": [
    "# Førsteordenssystem\n",
    "\n",
    "* Sampling av impulsresponsen $h(t) = e^{p\\cdot t}\\cdot u(t)$:\n",
    "\\begin{align}\n",
    "h[n] &= T_s\\cdot h(n\\cdot T_s) \\\\\n",
    "&= T_s \\cdot e^{p\\cdot n \\cdot T_s} \\cdot u[n] \\\\\n",
    "&= T_s \\cdot \\left(e^{p\\cdot T_s} \\right) ^n \\cdot u[n]\n",
    "\\end{align}\n",
    "* Utregning av transferfunksjon $H(z) =  \\textbf{Z}(h[n])$:\n",
    "\\begin{align}\n",
    "H(z) &= \\textbf{Z}(h[n])\\\\\n",
    "&=  \\textbf{Z}\\left(T_s \\cdot \\left(e^{p\\cdot T_s} \\right)^n \\cdot u[n]\\right)\\\\\n",
    "&= T_s\\cdot \\frac{z}{z-e^{p\\cdot T_s}}\n",
    "\\end{align}\n",
    "* Avbildning av poler fra s-planet til z-planet:\n",
    "$$\\hat{p} = e^{p \\cdot T_s}$$"
   ]
  },
  {
   "cell_type": "markdown",
   "metadata": {
    "slideshow": {
     "slide_type": "slide"
    }
   },
   "source": [
    "# Generelt prinsipp\n",
    "* Vi antar at $H(s)$ med bruk av delbrøkoppspalting kan skrives som en sum av førsteordenssystem:\n",
    "$$H(s) = \\sum_{k=1}^N \\frac{c_k}{s-p_k}$$\n",
    "* Da vil vi finne et tidsdiskrét system der $h[n] = T_s\\cdot h(n\\cdot T_s)$ ved å summere sammen et sett med førsteordens IIR-filter med poler i $z= e^{p_k\\cdot T_s}$:\n",
    "$$H(z) = T_s \\cdot \\sum_{k=1}^N \\frac{c_k}{z-e^{p_k\\cdot T_s}}$$"
   ]
  },
  {
   "cell_type": "markdown",
   "metadata": {
    "slideshow": {
     "slide_type": "slide"
    }
   },
   "source": [
    "## Regneeksempel:\n",
    "* Bruk impulsinvariantmetoden til å designe et digitalt filter for transferfunksjonen $H(s) = \\frac{s+0.5}{s^2+s+9.25}$. Maskinvaren som det digitale filteret skal implementeres på opererer med samplingsfrekvens $f_s = 100$ sampler/sekund."
   ]
  },
  {
   "cell_type": "markdown",
   "metadata": {
    "slideshow": {
     "slide_type": "slide"
    }
   },
   "source": [
    "## Kodeeksempel\n",
    "* Sammenlign bode-plot fra $H(s)$ og $H(z)$ i forrige eksempel."
   ]
  },
  {
   "cell_type": "code",
   "execution_count": 3,
   "metadata": {
    "scrolled": false,
    "slideshow": {
     "slide_type": "fragment"
    }
   },
   "outputs": [
    {
     "data": {
      "application/vnd.jupyter.widget-view+json": {
       "model_id": "8905a2a9117a411c89ab93fa798b5756",
       "version_major": 2,
       "version_minor": 0
      },
      "text/plain": [
       "Canvas(toolbar=Toolbar(toolitems=[('Home', 'Reset original view', 'home', 'home'), ('Back', 'Back to previous …"
      ]
     },
     "metadata": {},
     "output_type": "display_data"
    },
    {
     "name": "stdout",
     "output_type": "stream",
     "text": [
      "b: [0.01, -0.009945647571577095]\n",
      "a: [1, -1.9891295143154188, 0.9900498337491681]\n"
     ]
    }
   ],
   "source": [
    "# Koeffisienter H(s)\n",
    "b_t = [1, 0.5]\n",
    "a_t = [1, 1, 9.25]\n",
    "\n",
    "# Sampleperiode\n",
    "T_s = 0.01\n",
    "\n",
    "# Koeffisienter H(z)\n",
    "b_n = [T_s, \n",
    "       -cos(3*T_s)*exp(-0.5*T_s)*T_s]\n",
    "a_n = [1, \n",
    "       -2*exp(-0.5*T_s)*cos(3*T_s), \n",
    "       exp(-T_s)]\n",
    "\n",
    "\n",
    "# Regn ut arrays til bode-diagram\n",
    "sys_cont = sig.TransferFunction(b_t, a_t)\n",
    "w1, mag1, phase1 = sys_cont.bode(w = 2*pi*np.logspace(-2, np.log10(1/T_s/2)+1, 501))\n",
    "\n",
    "sys_disc = sig.TransferFunction(b_n, a_n, dt=T_s)\n",
    "w2, mag2, phase2 = sys_disc.bode(w = 2*pi*np.logspace(-2, np.log10(1/T_s/2), 501)*T_s)\n",
    "\n",
    "# Lag figur\n",
    "plt.close(1); plt.figure(1)\n",
    "\n",
    "plt.subplot(2,1,1)\n",
    "plt.grid(True)\n",
    "plt.semilogx(w1/2/pi, mag1, label=r'$|H(s)|$')\n",
    "plt.semilogx(w2/2/pi, mag2, label=r'$|H(z)|$')\n",
    "plt.ylabel(r'Magnitude (dB)')\n",
    "plt.legend()\n",
    "plt.plot([1/T_s/2, 1/T_s/2], [0, 0], 'C3:')[0].set_ydata([-1000, 1000])\n",
    "plt.subplot(2,1,2)\n",
    "plt.semilogx(w1/2/pi, phase1, label=r'$\\angle H(s)$')\n",
    "plt.semilogx(w2/2/pi, phase2, label=r'$\\angle H(z)$')\n",
    "plt.ylabel(r'Phase (degrees)')\n",
    "plt.xlabel(r'Frequency (Hz)')\n",
    "\n",
    "plt.legend()\n",
    "plt.plot([1/T_s/2, 1/T_s/2], [0, 0], 'C3:')[0].set_ydata([-1000, 1000])\n",
    "plt.grid(True)\n",
    "\n",
    "# Skriv ut digitale filterkoeffisienter\n",
    "print('b:', b_n)\n",
    "print('a:', a_n)\n"
   ]
  },
  {
   "cell_type": "markdown",
   "metadata": {
    "slideshow": {
     "slide_type": "slide"
    }
   },
   "source": [
    "# Filterimplementasjon\n",
    "#### Premiss:\n",
    "* Vi tar utgangspunkt i at vi har identifisert alle de ønskede filterkoeffisientene $b_k$ og $a_k$.\n",
    "    * Vi bruker koeffisientverdiene $b_k$ og $a_k$ fra forrige regneeksempel.\n",
    "\n",
    "#### Utfordring:\n",
    "* For å implementere filteret må vi kunne skrive et program som utfører beregningene i filteralgoritmen.\n",
    "    * Det er ønskelig å unngå unødvendig bruk av systemressurser."
   ]
  },
  {
   "cell_type": "markdown",
   "metadata": {
    "slideshow": {
     "slide_type": "slide"
    }
   },
   "source": [
    "## Filtre i Arduino C\n",
    "\n",
    "* Begynner med globale variabler for filterorden $N$, samt koeffisienter $b_k$ og $a_k$:\n",
    "\n",
    "<pre>\n",
    "<font color=\"#00979c\">const</font> <font color=\"#00979c\">int</font> <font color=\"#000000\">N</font> <font color=\"#434f54\">=</font> <font color=\"#000000\">2</font><font color=\"#000000\">;</font> <font color=\"#434f54\">&#47;&#47; Filter order</font>\n",
    "<font color=\"#00979c\">const</font> <font color=\"#00979c\">float</font> <font color=\"#000000\">b</font><font color=\"#000000\">[</font><font color=\"#000000\">N</font><font color=\"#434f54\">+</font><font color=\"#000000\">1</font><font color=\"#000000\">]</font> <font color=\"#434f54\">=</font> <font color=\"#000000\">{</font><font color=\"#000000\">0.01</font><font color=\"#434f54\">,</font> <font color=\"#434f54\">-</font><font color=\"#000000\">0.009945647571577095</font><font color=\"#434f54\">,</font> <font color=\"#000000\">0.0</font><font color=\"#000000\">}</font><font color=\"#000000\">;</font> <font color=\"#434f54\">&#47;&#47; Coefficients b</font>\n",
    "<font color=\"#00979c\">const</font> <font color=\"#00979c\">float</font> <font color=\"#000000\">a</font><font color=\"#000000\">[</font><font color=\"#000000\">N</font><font color=\"#434f54\">+</font><font color=\"#000000\">1</font><font color=\"#000000\">]</font> <font color=\"#434f54\">=</font> <font color=\"#000000\">{</font><font color=\"#000000\">1.0</font><font color=\"#434f54\">,</font> <font color=\"#434f54\">-</font><font color=\"#000000\">1.9891295143154188</font><font color=\"#434f54\">,</font> <font color=\"#000000\">0.9900498337491681</font><font color=\"#000000\">}</font><font color=\"#000000\">;</font> <font color=\"#434f54\">&#47;&#47; Coefficients a</font>\n",
    "</pre>\n",
    "\n",
    "* Neste steg er å lage en funkjson som kan ta én sample av inngangssignalet $x[n]$ som inngangsparameter, og regne ut korresponderende utgangsverdi $y[n]$."
   ]
  },
  {
   "cell_type": "markdown",
   "metadata": {
    "slideshow": {
     "slide_type": "slide"
    }
   },
   "source": [
    "# Blokkskjema\n",
    "\n",
    "* Grafisk representasjon av ulike typer filteralgoritmer.\n",
    "    * Vi antar i alle eksempler at filteret er normalisert slik at $a_0 = 1$\n",
    "* Noen forskjellige filteralgoritmer / filterstrukturer:\n",
    "    * Direkte Form 1 (DF1)\n",
    "    * Direkte Form 2 (DF2)\n",
    "    * Transponert Direkte Form (TDF)\n",
    "    "
   ]
  },
  {
   "cell_type": "markdown",
   "metadata": {
    "slideshow": {
     "slide_type": "slide"
    }
   },
   "source": [
    "# Direkte Form 1\n",
    "<img src=\"Figurer/16_DigitalKontroller/Fig5_DF1.png\" style=\"width: 60%; margin-left: 200px\" />\n",
    "\n",
    "* Alt utregnes i ett steg:\n",
    "$$y[n] = \\sum_{k=0}^{M} b_k \\cdot x[n-k] - \\sum_{k=1}^{N} a_k \\cdot y[n-k]$$\n",
    "* Krever $M + N$ antall sampler lagret i \"buffer\"."
   ]
  },
  {
   "cell_type": "markdown",
   "metadata": {
    "slideshow": {
     "slide_type": "slide"
    }
   },
   "source": [
    "## Arduino C implementasjon\n",
    "\n",
    "<pre>\n",
    "<font color=\"#00979c\">float</font> <font color=\"#000000\">xnk</font><font color=\"#000000\">[</font><font color=\"#000000\">N</font><font color=\"#000000\">]</font> <font color=\"#000000\">{</font><font color=\"#000000\">}</font><font color=\"#000000\">;</font>\n",
    "<font color=\"#00979c\">float</font> <font color=\"#000000\">ynk</font><font color=\"#000000\">[</font><font color=\"#000000\">N</font><font color=\"#000000\">]</font> <font color=\"#000000\">{</font><font color=\"#000000\">}</font><font color=\"#000000\">;</font>\n",
    "\n",
    "<font color=\"#00979c\">float</font> <font color=\"#000000\">filter_DF1</font><font color=\"#000000\">(</font><font color=\"#00979c\">float</font> <font color=\"#000000\">x</font><font color=\"#000000\">)</font>\n",
    "<font color=\"#000000\">{</font>\n",
    " &nbsp;<font color=\"#95a5a6\">&#47;* Calculate output using difference equation directly:</font>\n",
    "<font color=\"#95a5a6\"> &nbsp;&nbsp;* y[n] = b0*x[n] + b1*x[n_1] - a1*y[n-1] + ...</font>\n",
    "<font color=\"#95a5a6\"> &nbsp;&nbsp;*&#47;</font>\n",
    " &nbsp;<font color=\"#00979c\">float</font> <font color=\"#000000\">y</font> <font color=\"#434f54\">=</font> <font color=\"#000000\">b</font><font color=\"#000000\">[</font><font color=\"#000000\">0</font><font color=\"#000000\">]</font><font color=\"#434f54\">*</font><font color=\"#000000\">x</font><font color=\"#000000\">;</font>\n",
    " &nbsp;<font color=\"#5e6d03\">for</font><font color=\"#000000\">(</font><font color=\"#00979c\">int</font> <font color=\"#000000\">i</font><font color=\"#434f54\">=</font><font color=\"#000000\">0</font><font color=\"#000000\">;</font> <font color=\"#000000\">i</font><font color=\"#434f54\">&lt;</font><font color=\"#000000\">N</font><font color=\"#000000\">;</font> <font color=\"#000000\">i</font><font color=\"#434f54\">++</font><font color=\"#000000\">)</font>\n",
    " &nbsp;<font color=\"#000000\">{</font>\n",
    " &nbsp;&nbsp;&nbsp;<font color=\"#000000\">y</font> <font color=\"#434f54\">+=</font> <font color=\"#000000\">b</font><font color=\"#000000\">[</font><font color=\"#000000\">i</font><font color=\"#434f54\">+</font><font color=\"#000000\">1</font><font color=\"#000000\">]</font><font color=\"#434f54\">*</font><font color=\"#000000\">xnk</font><font color=\"#000000\">[</font><font color=\"#000000\">i</font><font color=\"#000000\">]</font> <font color=\"#434f54\">-</font> <font color=\"#000000\">a</font><font color=\"#000000\">[</font><font color=\"#000000\">i</font><font color=\"#434f54\">+</font><font color=\"#000000\">1</font><font color=\"#000000\">]</font><font color=\"#434f54\">*</font><font color=\"#000000\">ynk</font><font color=\"#000000\">[</font><font color=\"#000000\">i</font><font color=\"#000000\">]</font><font color=\"#000000\">;</font>\n",
    " &nbsp;<font color=\"#000000\">}</font>\n",
    " &nbsp;<font color=\"#95a5a6\">&#47;* &#34;Roll&#34; the buffers containing x[n-k] and y[n-k] one</font>\n",
    "<font color=\"#95a5a6\"> &nbsp;&nbsp;* step. This can and should be avoided using a sample </font>\n",
    "<font color=\"#95a5a6\"> &nbsp;&nbsp;* counter variable.</font>\n",
    "<font color=\"#95a5a6\"> &nbsp;&nbsp;*&#47;</font>\n",
    " &nbsp;<font color=\"#5e6d03\">for</font><font color=\"#000000\">(</font><font color=\"#00979c\">int</font> <font color=\"#000000\">i</font><font color=\"#434f54\">=</font><font color=\"#000000\">N</font><font color=\"#434f54\">-</font><font color=\"#000000\">1</font><font color=\"#000000\">;</font> <font color=\"#000000\">i</font><font color=\"#434f54\">&gt;</font><font color=\"#000000\">0</font><font color=\"#000000\">;</font> <font color=\"#000000\">i</font><font color=\"#434f54\">--</font><font color=\"#000000\">)</font>\n",
    " &nbsp;<font color=\"#000000\">{</font>\n",
    " &nbsp;&nbsp;&nbsp;<font color=\"#000000\">xnk</font><font color=\"#000000\">[</font><font color=\"#000000\">i</font><font color=\"#000000\">]</font> <font color=\"#434f54\">=</font> <font color=\"#000000\">xnk</font><font color=\"#000000\">[</font><font color=\"#000000\">i</font><font color=\"#434f54\">-</font><font color=\"#000000\">1</font><font color=\"#000000\">]</font><font color=\"#000000\">;</font>\n",
    " &nbsp;&nbsp;&nbsp;<font color=\"#000000\">ynk</font><font color=\"#000000\">[</font><font color=\"#000000\">i</font><font color=\"#000000\">]</font> <font color=\"#434f54\">=</font> <font color=\"#000000\">ynk</font><font color=\"#000000\">[</font><font color=\"#000000\">i</font><font color=\"#434f54\">-</font><font color=\"#000000\">1</font><font color=\"#000000\">]</font><font color=\"#000000\">;</font>\n",
    " &nbsp;<font color=\"#000000\">}</font>\n",
    " &nbsp;<font color=\"#5e6d03\">return</font> <font color=\"#000000\">y</font><font color=\"#000000\">;</font>\n",
    "<font color=\"#000000\">}</font>\n",
    "</pre>"
   ]
  },
  {
   "cell_type": "markdown",
   "metadata": {
    "slideshow": {
     "slide_type": "slide"
    }
   },
   "source": [
    "# Direkte Form 2\n",
    "<img src=\"Figurer/16_DigitalKontroller/Fig6_DF2_int.png\" style=\"width: 60%; margin-left: 200px\" />\n",
    "\n",
    "* Deler opp filteret fra DF1 i én rekursiv, og én ikke-rekursiv del.\n",
    "* Ettersom dette er LTI-system, kan man enkelt bytte om på rekkefølgen.\n",
    "* $y_1[n]$ og $x_2[n]$ er samme signal.\n"
   ]
  },
  {
   "cell_type": "markdown",
   "metadata": {
    "slideshow": {
     "slide_type": "slide"
    }
   },
   "source": [
    "# Direkte Form 2\n",
    "<img src=\"Figurer/16_DigitalKontroller/Fig7_DF2.png\" style=\"width: 50%; margin-left: 200px\" />\n",
    "\n",
    "* Utregnes i to steg:\n",
    "\\begin{align}\n",
    "w[n] &= x[n] - \\sum_{k=1}^{N} a_k \\cdot y[n-k]\\\\\n",
    "y[n] &= \\sum_{k=0}^{M} b_k \\cdot w[n-k]\n",
    "\\end{align}\n",
    "* Krever kun $\\text{max}(M, N)$ antall sampler lagret i \"buffer\"."
   ]
  },
  {
   "cell_type": "markdown",
   "metadata": {
    "slideshow": {
     "slide_type": "slide"
    }
   },
   "source": [
    "## Arduino C implementasjon\n",
    "<pre>\n",
    "<font color=\"#00979c\">float</font> <font color=\"#000000\">wnk</font><font color=\"#000000\">[</font><font color=\"#000000\">N</font><font color=\"#000000\">]</font> <font color=\"#000000\">{</font><font color=\"#000000\">}</font><font color=\"#000000\">;</font>\n",
    "\n",
    "<font color=\"#00979c\">float</font> <font color=\"#000000\">filter_DF2</font><font color=\"#000000\">(</font><font color=\"#00979c\">float</font> <font color=\"#000000\">x</font><font color=\"#000000\">)</font>\n",
    "<font color=\"#000000\">{</font>\n",
    " &nbsp;<font color=\"#95a5a6\">&#47;* Calculate intermediary output in first section</font>\n",
    "<font color=\"#95a5a6\"> &nbsp;&nbsp;* w[n] = x[n] -a1*w[n-1] + a2*x[n-2] +...</font>\n",
    "<font color=\"#95a5a6\"> &nbsp;&nbsp;*&#47;</font>\n",
    " &nbsp;<font color=\"#00979c\">float</font> <font color=\"#000000\">w</font> <font color=\"#434f54\">=</font> <font color=\"#000000\">x</font><font color=\"#000000\">;</font>\n",
    " &nbsp;<font color=\"#5e6d03\">for</font><font color=\"#000000\">(</font><font color=\"#00979c\">int</font> <font color=\"#000000\">i</font><font color=\"#434f54\">=</font><font color=\"#000000\">0</font><font color=\"#000000\">;</font> <font color=\"#000000\">i</font><font color=\"#434f54\">&lt;</font><font color=\"#000000\">N</font><font color=\"#000000\">;</font> <font color=\"#000000\">i</font><font color=\"#434f54\">++</font><font color=\"#000000\">)</font>\n",
    " &nbsp;<font color=\"#000000\">{</font>\n",
    " &nbsp;&nbsp;&nbsp;<font color=\"#000000\">w</font> <font color=\"#434f54\">-=</font> <font color=\"#000000\">a</font><font color=\"#000000\">[</font><font color=\"#000000\">i</font><font color=\"#434f54\">+</font><font color=\"#000000\">1</font><font color=\"#000000\">]</font><font color=\"#434f54\">*</font><font color=\"#000000\">wnk</font><font color=\"#000000\">[</font><font color=\"#000000\">i</font><font color=\"#000000\">]</font><font color=\"#000000\">;</font>\n",
    " &nbsp;<font color=\"#000000\">}</font>\n",
    " &nbsp;<font color=\"#95a5a6\">&#47;* Calculate final output in second section</font>\n",
    "<font color=\"#95a5a6\"> &nbsp;&nbsp;* y[n] = b0*w[n] + b1*w[n-1] + b2*w[n-2] +...</font>\n",
    "<font color=\"#95a5a6\"> &nbsp;&nbsp;*&#47;</font>\n",
    " &nbsp;<font color=\"#00979c\">float</font> <font color=\"#000000\">y</font> <font color=\"#434f54\">=</font> <font color=\"#000000\">w</font><font color=\"#434f54\">*</font><font color=\"#000000\">b</font><font color=\"#000000\">[</font><font color=\"#000000\">0</font><font color=\"#000000\">]</font><font color=\"#000000\">;</font>\n",
    " &nbsp;<font color=\"#5e6d03\">for</font><font color=\"#000000\">(</font><font color=\"#00979c\">int</font> <font color=\"#000000\">i</font><font color=\"#434f54\">=</font><font color=\"#000000\">0</font><font color=\"#000000\">;</font> <font color=\"#000000\">i</font><font color=\"#434f54\">&lt;</font><font color=\"#000000\">N</font><font color=\"#000000\">;</font> <font color=\"#000000\">i</font><font color=\"#434f54\">++</font><font color=\"#000000\">)</font>\n",
    " &nbsp;<font color=\"#000000\">{</font>\n",
    " &nbsp;&nbsp;&nbsp;<font color=\"#000000\">y</font> <font color=\"#434f54\">+=</font> <font color=\"#000000\">b</font><font color=\"#000000\">[</font><font color=\"#000000\">i</font><font color=\"#434f54\">+</font><font color=\"#000000\">1</font><font color=\"#000000\">]</font><font color=\"#434f54\">*</font><font color=\"#000000\">wnk</font><font color=\"#000000\">[</font><font color=\"#000000\">i</font><font color=\"#000000\">]</font><font color=\"#000000\">;</font>\n",
    " &nbsp;<font color=\"#000000\">}</font>\n",
    " &nbsp;<font color=\"#95a5a6\">&#47;* &#34;Roll&#34; the buffer containing w[n-k] one</font>\n",
    "<font color=\"#95a5a6\"> &nbsp;&nbsp;* step. This can and should be avoided using a sample </font>\n",
    "<font color=\"#95a5a6\"> &nbsp;&nbsp;* counter variable.</font>\n",
    "<font color=\"#95a5a6\"> &nbsp;&nbsp;*&#47;</font>\n",
    " &nbsp;<font color=\"#5e6d03\">for</font><font color=\"#000000\">(</font><font color=\"#00979c\">int</font> <font color=\"#000000\">i</font><font color=\"#434f54\">=</font><font color=\"#000000\">N</font><font color=\"#434f54\">-</font><font color=\"#000000\">1</font><font color=\"#000000\">;</font> <font color=\"#000000\">i</font><font color=\"#434f54\">&gt;</font><font color=\"#000000\">0</font><font color=\"#000000\">;</font> <font color=\"#000000\">i</font><font color=\"#434f54\">--</font><font color=\"#000000\">)</font>\n",
    " &nbsp;<font color=\"#000000\">{</font>\n",
    " &nbsp;&nbsp;&nbsp;<font color=\"#000000\">wnk</font><font color=\"#000000\">[</font><font color=\"#000000\">i</font><font color=\"#000000\">]</font> <font color=\"#434f54\">=</font> <font color=\"#000000\">wnk</font><font color=\"#000000\">[</font><font color=\"#000000\">i</font><font color=\"#434f54\">-</font><font color=\"#000000\">1</font><font color=\"#000000\">]</font><font color=\"#000000\">;</font>\n",
    " &nbsp;<font color=\"#000000\">}</font>\n",
    " &nbsp;<font color=\"#5e6d03\">return</font> <font color=\"#000000\">y</font><font color=\"#000000\">;</font>\n",
    "<font color=\"#000000\">}</font>\n",
    "</pre>"
   ]
  },
  {
   "cell_type": "markdown",
   "metadata": {
    "slideshow": {
     "slide_type": "slide"
    }
   },
   "source": [
    "# Transponert Direkte Form\n",
    "<img src=\"Figurer/16_DigitalKontroller/Fig8_TDF.png\" style=\"width: 50%; margin-left: 200px\" />\n",
    "\n",
    "* Ligner på Direkte Form 1, men tidsforsinkelsen skjer etter addisjon.\n",
    "    * \"halvferdige\" utgangsverdier ligger i buffer.\n",
    "* Krever kun $\\text{max}(M, N)$ antall sampler lagret i buffer.\n"
   ]
  },
  {
   "cell_type": "markdown",
   "metadata": {
    "slideshow": {
     "slide_type": "slide"
    }
   },
   "source": [
    "## Transponert direkte form utledning:\n",
    "\\begin{align}\n",
    "y[n] &= b_0\\cdot x[n] + v_1[n-1]\\\\\n",
    " &= b_0\\cdot x[n] + b_1\\cdot x[n-1] - a_1 \\cdot y[n-1] + v_2[n-2]\\\\\n",
    " &= b_0\\cdot x[n] + b_1\\cdot x[n-1] - a_1 \\cdot y[n-1] + b_2\\cdot x[n-2] - a_2 \\cdot y[n-2] + v_3[n-3]\\\\\n",
    " &\\vdots\n",
    "\\end{align}"
   ]
  },
  {
   "cell_type": "markdown",
   "metadata": {
    "slideshow": {
     "slide_type": "slide"
    }
   },
   "source": [
    "## Arduino C implementasjon\n",
    "<pre>\n",
    "<font color=\"#00979c\">float</font> <font color=\"#000000\">vk</font><font color=\"#000000\">[</font><font color=\"#000000\">N</font><font color=\"#000000\">]</font> <font color=\"#000000\">{</font><font color=\"#000000\">}</font><font color=\"#000000\">;</font>\n",
    "\n",
    "<font color=\"#00979c\">float</font> <font color=\"#000000\">filter_TDF</font><font color=\"#000000\">(</font><font color=\"#00979c\">float</font> <font color=\"#000000\">x</font><font color=\"#000000\">)</font>\n",
    "<font color=\"#000000\">{</font>\n",
    " &nbsp;<font color=\"#95a5a6\">&#47;* Calculate Output y[n]: *&#47;</font>\n",
    " &nbsp;<font color=\"#00979c\">float</font> <font color=\"#000000\">y</font> <font color=\"#434f54\">=</font> <font color=\"#000000\">b</font><font color=\"#000000\">[</font><font color=\"#000000\">0</font><font color=\"#000000\">]</font><font color=\"#434f54\">*</font><font color=\"#000000\">x</font> <font color=\"#434f54\">+</font> <font color=\"#000000\">vk</font><font color=\"#000000\">[</font><font color=\"#000000\">0</font><font color=\"#000000\">]</font><font color=\"#000000\">;</font>\n",
    " &nbsp;<font color=\"#95a5a6\">&#47;* Update partial output signals v_k[n]:</font>\n",
    "<font color=\"#95a5a6\"> &nbsp;&nbsp;*&#47;</font>\n",
    " &nbsp;<font color=\"#5e6d03\">for</font><font color=\"#000000\">(</font><font color=\"#00979c\">int</font> <font color=\"#000000\">i</font><font color=\"#434f54\">=</font><font color=\"#000000\">1</font><font color=\"#000000\">;</font> <font color=\"#000000\">i</font><font color=\"#434f54\">&lt;</font><font color=\"#000000\">N</font><font color=\"#000000\">;</font> <font color=\"#000000\">i</font><font color=\"#434f54\">++</font><font color=\"#000000\">)</font>\n",
    " &nbsp;<font color=\"#000000\">{</font>\n",
    " &nbsp;&nbsp;&nbsp;<font color=\"#000000\">vk</font><font color=\"#000000\">[</font><font color=\"#000000\">i</font> <font color=\"#434f54\">-</font> <font color=\"#000000\">1</font><font color=\"#000000\">]</font> <font color=\"#434f54\">=</font> <font color=\"#000000\">x</font> <font color=\"#434f54\">*</font> <font color=\"#000000\">b</font><font color=\"#000000\">[</font><font color=\"#000000\">i</font><font color=\"#000000\">]</font> <font color=\"#434f54\">-</font> <font color=\"#000000\">y</font> <font color=\"#434f54\">*</font> <font color=\"#000000\">a</font><font color=\"#000000\">[</font><font color=\"#000000\">i</font><font color=\"#000000\">]</font> <font color=\"#434f54\">+</font> <font color=\"#000000\">vk</font><font color=\"#000000\">[</font><font color=\"#000000\">i</font><font color=\"#000000\">]</font><font color=\"#000000\">;</font>\n",
    " &nbsp;<font color=\"#000000\">}</font>\n",
    " &nbsp;<font color=\"#000000\">vk</font><font color=\"#000000\">[</font><font color=\"#000000\">N</font><font color=\"#434f54\">-</font><font color=\"#000000\">1</font><font color=\"#000000\">]</font> <font color=\"#434f54\">=</font> <font color=\"#000000\">x</font> <font color=\"#434f54\">*</font> <font color=\"#000000\">b</font><font color=\"#000000\">[</font><font color=\"#000000\">N</font><font color=\"#000000\">]</font> <font color=\"#434f54\">-</font> <font color=\"#000000\">y</font> <font color=\"#434f54\">*</font> <font color=\"#000000\">a</font><font color=\"#000000\">[</font><font color=\"#000000\">N</font><font color=\"#000000\">]</font><font color=\"#000000\">;</font>\n",
    " &nbsp;<font color=\"#95a5a6\">&#47;* Return output sample value: *&#47;</font>\n",
    " &nbsp;<font color=\"#5e6d03\">return</font> <font color=\"#000000\">y</font><font color=\"#000000\">;</font>\n",
    "<font color=\"#000000\">}</font>\n",
    "</pre>"
   ]
  },
  {
   "cell_type": "markdown",
   "metadata": {
    "slideshow": {
     "slide_type": "slide"
    }
   },
   "source": [
    "# Oppsummering Digitale Filtre\n",
    "\n",
    "* LTI-systemer og Differanseligningen\n",
    "* Impulsrespons og Konvolusjon\n",
    "* Frekvensrespons\n",
    "* Z-transformasjon, poler og nullpunkt"
   ]
  }
 ],
 "metadata": {
  "celltoolbar": "Slideshow",
  "kernelspec": {
   "display_name": "Python 3",
   "language": "python",
   "name": "python3"
  },
  "language_info": {
   "codemirror_mode": {
    "name": "ipython",
    "version": 3
   },
   "file_extension": ".py",
   "mimetype": "text/x-python",
   "name": "python",
   "nbconvert_exporter": "python",
   "pygments_lexer": "ipython3",
   "version": "3.8.5"
  }
 },
 "nbformat": 4,
 "nbformat_minor": 4
}
