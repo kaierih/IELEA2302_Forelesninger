{
 "cells": [
  {
   "cell_type": "code",
   "execution_count": 1,
   "metadata": {
    "slideshow": {
     "slide_type": "slide"
    }
   },
   "outputs": [],
   "source": [
    "# Generelle moduler og funksjonsbeskrivelser brukt i forelesningen\n",
    "from numpy import sin, cos, pi, exp\n",
    "import numpy.fft as fft\n",
    "import numpy as np\n",
    "import matplotlib.pyplot as plt\n",
    "from Kildekode._11_Frekvensrespons import *\n",
    "\n",
    "%matplotlib ipympl"
   ]
  },
  {
   "cell_type": "markdown",
   "metadata": {
    "slideshow": {
     "slide_type": "slide"
    }
   },
   "source": [
    "<img src=\"NTNU_Logo.png\" align=\"left\" style=\"width: 30%\">\n",
    "<br clear=\"all\" />\n",
    "<br></br>\n",
    "\n",
    "# Frekvensrespons for FIR filtre\n",
    "\n",
    "* **Emne IELEA2302 - Signalbehandling**\n",
    "* **Uke 11, 2021**\n",
    "* **Relevant Pensum:**\n",
    "    * Kapittel 6 i læreboka DSP First\n",
    "* **Underviser: Kai Erik Hoff**"
   ]
  },
  {
   "cell_type": "markdown",
   "metadata": {
    "slideshow": {
     "slide_type": "slide"
    }
   },
   "source": [
    "# Tema fredag 19. mars\n",
    "\n",
    "* LTI-system og Sinussekvenser\n",
    "* Hva er frekvensrespons?\n",
    "* Amplituderespons\n",
    "* Faserespons\n",
    "* Presentasjon og tolking av frekvensrespons\n",
    "* Transformasjon av filtre"
   ]
  },
  {
   "cell_type": "markdown",
   "metadata": {
    "slideshow": {
     "slide_type": "slide"
    }
   },
   "source": [
    "# LTI-system og sinussekvenser\n",
    "\n",
    "* Sinussignal inn $\\rightarrow$ sinussignal ut.\n",
    "    * Både inngangssignal og utgangssignal vil ha samme frekvens.\n",
    "* Gitt inngangssignalet\n",
    "$$x[n] = \\cos\\left(\\hat{\\omega}_0\\cdot n\\right)$$\n",
    "så vil utgangssignalet\n",
    "$$y[n] = A\\cdot \\cos\\left(\\hat{\\omega}_0\\cdot n +\\phi\\right)$$\n",
    "    * Vi ønsker en enkel måte å finne ut hva den nye amplituden $A$ og fasen $\\phi$ vil være."
   ]
  },
  {
   "cell_type": "markdown",
   "metadata": {
    "slideshow": {
     "slide_type": "slide"
    }
   },
   "source": [
    "# FIR Filtrering av en sinussekvens\n",
    "\n",
    "* Utgangssignalet er en vektet sum av foregående inngangssampler:\n",
    "$$y[n] = \\sum_{k=0}^{M} b_k\\cdot x[n-k]$$\n",
    "    * Dette betyr at en sample fra inngangssignalet $x[n]$ som er $M$ sampler \"gammelt\" vil fortsatt påvirke utregnet utgangsverdi $y[n]$.\n",
    "    * Utgangssignalet vil derfor \"henge etter\".\n",
    "    \n",
    "<img src=\"Figurer/11_Frekvensrespons/Fig1_Sine_ex1.png\" style=\"width: 60%; margin-left: 100px\" />"
   ]
  },
  {
   "cell_type": "markdown",
   "metadata": {
    "slideshow": {
     "slide_type": "slide"
    }
   },
   "source": [
    "# Filtrert sinussekvens utledet\n",
    "* Inngangssignal fra figur på forrige slide:\n",
    "$$x[n] = \\sin \\left(\\frac{2\\pi}{16} \\cdot n\\right)$$\n",
    "* Resulterende utgangssignal:\n",
    "\\begin{align}\n",
    "y[n] &= 0.925\\cdot \\sin \\left(\\frac{2\\pi}{16} \\cdot (n-2) \\right)\\\\\n",
    "&= 0.925\\cdot \\sin \\left(\\frac{2\\pi}{16} \\cdot n -\\frac{2\\pi}{16}\\cdot 2 \\right)\\\\\n",
    "&= 0.925\\cdot \\sin \\left(\\frac{\\pi}{8} \\cdot n -\\frac{\\pi}{4} \\right)\n",
    "\\end{align}"
   ]
  },
  {
   "cell_type": "markdown",
   "metadata": {
    "slideshow": {
     "slide_type": "slide"
    }
   },
   "source": [
    "## Regneeksempel 1:\n",
    "* Et FIR filter er gitt ved impulsresponsen $h[n] =\\frac{1}{4}\\delta[n]+ \\frac{1}{2}\\delta[n-1]+ \\frac{1}{4}\\delta[n-2]$\n",
    "* Filteret brukes til å filtrere et signal $x[n] = \\cos\\left(\\frac{\\pi}{2}\\cdot n\\right)$.\n",
    "* Finn et uttrykk for utgangssignalet $y[n]$."
   ]
  },
  {
   "cell_type": "markdown",
   "metadata": {
    "slideshow": {
     "slide_type": "slide"
    }
   },
   "source": [
    "# Generell utledning for sinussekvenser\n",
    "\n",
    "\\begin{align}\n",
    "y[n] &= h[n]*x[n], \\ \\ \\ x[n] = \\cos(\\hat{\\omega}\\cdot n)\\\\\n",
    "&= h[n]*\\cos(\\hat{\\omega}\\cdot n)\\\\\n",
    "&= \\sum_{k=-\\infty}^{\\infty}h[k]\\cdot \\cos(\\hat{\\omega}\\cdot (n-k))\\\\\n",
    "&= \\sum_{k=-\\infty}^{\\infty}h[k]\\cdot \\cos(\\hat{\\omega}\\cdot n-\\hat{\\omega}\\cdot k)\\\\\n",
    "&= A\\cos(\\hat{\\omega}\\cdot n + \\phi)\n",
    "\\end{align}\n",
    "\n",
    "\n",
    "$$\\text{hvor vektoraddisjonsprinsippet gir:}$$\n",
    "\n",
    "\n",
    "\n",
    "$$ A\\cdot e^{j\\phi} = \\sum_{k=-\\infty}^{\\infty}h[k]\\cdot e^{-j\\hat{\\omega}\\cdot k} = DTFT(h[n])= H\\left(e^{j\\hat{\\omega}} \\right)$$\n"
   ]
  },
  {
   "cell_type": "markdown",
   "metadata": {
    "slideshow": {
     "slide_type": "slide"
    }
   },
   "source": [
    "# Filtrering av signal i frekvensplanet\n",
    "\n",
    "* Et signal kan filtreres i frekvensplanet ved å *multiplisere* signalets *fouriertransform* med en *funkskjon* som vil manipulere *amplituden* og *fasen* til hver av frekvenskomponentene i signalet.\n",
    "    * Fasejustering bestemmes av funksjonens vinkel i det komplekse plan.\n",
    "    * Amplitudejustering bestemmes av funksjonens absoluttverdi i det komplekse plan.\n",
    "    * Slik filtrering har vi f.eks. utført med hjelp av FFT.\n",
    "\n",
    "<img src=\"Figurer/11_Frekvensrespons/Fig2_FourierFilt.png\" style=\"width: 80%; margin-left: 100px\" />"
   ]
  },
  {
   "cell_type": "markdown",
   "metadata": {
    "slideshow": {
     "slide_type": "slide"
    }
   },
   "source": [
    "# Digital Filtrering og fouriertransformasjon\n",
    "\n",
    "$$x[n]*h[n] \\stackrel{\\mathrm{DTFT}}{\\longleftrightarrow} X\\left(e^{j\\hat{\\omega}}\\right)\\cdot H \\left(e^{j\\hat{\\omega}}\\right)$$ \n",
    "\n",
    "* *Konvolusjon* mellom et signal $x[n]$ og en impulsrespons $h[n]$ vil ha nøyaktig samme innvirkning på signalet som å multiplisere det fouriertransformerte signalet $X\\left(e^{j\\hat{\\omega}}\\right)$ med ***frekvensresponsen*** $H\\left(e^{j\\hat{\\omega}}\\right)$.\n",
    "    * Alternativt forklart: istedenfor å transformere signalet $x[n]$ til frekvensplanet for å utføre filtrering, transformerer vi nå heller \"filtreringsfunksjonen\" $H\\left(e^{j\\hat{\\omega}}\\right)$ til tidsplanet.\n",
    "    * Ettersom filtrering i frekvensdomenet er en multiplikasjonsoperasjon, vil filterets egenskaper være lett å tyde ut ifra frekvensresponsen $H\\left(e^{j\\hat{\\omega}}\\right)$."
   ]
  },
  {
   "cell_type": "markdown",
   "metadata": {
    "slideshow": {
     "slide_type": "slide"
    }
   },
   "source": [
    "# Grafisk fremstilling av frekvensrespons\n",
    "\n",
    "* Frekvensresponsen $H\\left(e^{j\\hat{\\omega}}\\right)$ er en *kompleks funksjon* som forteller hvordan filteret vil påvirke enhver ren sinussekvens $x[n] = A\\cdot \\cos(\\hat{\\omega}_0\\cdot n + \\phi)$.\n",
    "<img src=\"Figurer/11_Frekvensrespons/Fig3_LTI_SInusoid.png\" style=\"width: 80%; margin-left: 100px\" />\n",
    "\n",
    "* Når vi analyserer filtre er det gunstig å kunne studere skaleringen og forskyvningen hver for seg. Disse to \"komponentene\" er kjent som amplituderesponsen og faseresponsen til et filter.\n",
    "    * **Amplituderespons** $\\left|H\\left(e^{j\\hat{\\omega}}\\right)\\right|$\n",
    "        * Forteller hvor mye en sinussekvens forsterkes/dempes, gitt digital frekvens $\\hat{\\omega}$.\n",
    "    * **Faserespons** $\\angle H\\left(e^{j\\hat{\\omega}}\\right)$\n",
    "        * Forteller hvor mange radianer sinussekvensen ut av filteret er forskjøvet i forhold til inngangssignalet, gitt digital frekvens $\\hat{\\omega}$."
   ]
  },
  {
   "cell_type": "markdown",
   "metadata": {
    "slideshow": {
     "slide_type": "slide"
    }
   },
   "source": [
    "# Amplituderespons\n",
    "\n",
    "<img src=\"Figurer/11_Frekvensrespons/Fig4_AmpResp.png\" style=\"width: 80%; margin-left: 100px\" />"
   ]
  },
  {
   "cell_type": "markdown",
   "metadata": {},
   "source": [
    "# Faserespons\n",
    "<img src=\"Figurer/11_Frekvensrespons/Fig5_PhaseResp.png\" style=\"width: 80%; margin-left: 100px\" />"
   ]
  },
  {
   "cell_type": "markdown",
   "metadata": {
    "slideshow": {
     "slide_type": "slide"
    }
   },
   "source": [
    "## Demo: Frekvensrespons"
   ]
  },
  {
   "cell_type": "code",
   "execution_count": 2,
   "metadata": {
    "slideshow": {
     "slide_type": "fragment"
    }
   },
   "outputs": [
    {
     "data": {
      "application/vnd.jupyter.widget-view+json": {
       "model_id": "411a963dd06442a189c899e4e29c2ec0",
       "version_major": 2,
       "version_minor": 0
      },
      "text/plain": [
       "Canvas(toolbar=Toolbar(toolitems=[('Home', 'Reset original view', 'home', 'home'), ('Back', 'Back to previous …"
      ]
     },
     "metadata": {},
     "output_type": "display_data"
    },
    {
     "data": {
      "application/vnd.jupyter.widget-view+json": {
       "model_id": "e14f562d18f04004b25b7b9955d21d70",
       "version_major": 2,
       "version_minor": 0
      },
      "text/plain": [
       "VBox(children=(FloatSlider(value=0.125, continuous_update=False, description='Digital Frekvens $\\\\hat{\\\\omega}…"
      ]
     },
     "metadata": {},
     "output_type": "display_data"
    },
    {
     "data": {
      "application/vnd.jupyter.widget-view+json": {
       "model_id": "cb38fb66a93144668f17c1f358a5c3b7",
       "version_major": 2,
       "version_minor": 0
      },
      "text/plain": [
       "Output()"
      ]
     },
     "metadata": {},
     "output_type": "display_data"
    },
    {
     "data": {
      "text/plain": [
       "<Kildekode._11_Frekvensrespons.FreqRespDemo at 0x228e1b525e0>"
      ]
     },
     "execution_count": 2,
     "metadata": {},
     "output_type": "execute_result"
    }
   ],
   "source": [
    "hn = np.array([0.25, 0.5, 0.25])\n",
    "FreqRespDemo(hn)"
   ]
  },
  {
   "cell_type": "markdown",
   "metadata": {
    "slideshow": {
     "slide_type": "slide"
    }
   },
   "source": [
    "## Frekvensrespons i Python\n",
    "\n",
    "* Kan regnes ut numerisk med funkskjonen [`freqz()`](https://docs.scipy.org/doc/scipy/reference/generated/scipy.signal.freqz.html). \n",
    "    * `freqz()` er ikke ulik `fft()`, men gir litt flere valgmuligheter.\n",
    "* **Argument:**\n",
    "    * `b`: Filterkoeffisienter $b_k$\n",
    "    * `a`: Filterkoeffisienter $a_k$ (*dersom relevant*)\n",
    "    * `worN`: Antall datapunkter (*512 dersom annet ikke spesifisert*) \n",
    "* **Returverdier:**\n",
    "    * `w`: Array med digitale frekvenser lineært fordelt mellom $0$ og $\\pi$.\n",
    "    * `Hw`: Array med filterresponser for frekvensene i `w`."
   ]
  },
  {
   "cell_type": "markdown",
   "metadata": {
    "slideshow": {
     "slide_type": "slide"
    }
   },
   "source": [
    "## Kodeeksempel:\n",
    "* Regn ut og presenter frekvensresponsen til et filter med impulsrespons \n",
    "$$h[n] = \\frac{1}{16}\\cdot \\delta[n] + \\frac{1}{4}\\cdot \\delta[n-1] + \\frac{3}{6}\\cdot \\delta[n-2] + \\frac{1}{4}\\cdot \\delta[n-3] + \\frac{1}{16}\\cdot \\delta[n-4]$$"
   ]
  },
  {
   "cell_type": "code",
   "execution_count": 3,
   "metadata": {
    "slideshow": {
     "slide_type": "fragment"
    }
   },
   "outputs": [
    {
     "data": {
      "application/vnd.jupyter.widget-view+json": {
       "model_id": "82443c1fbc95457f8186ce69d862448e",
       "version_major": 2,
       "version_minor": 0
      },
      "text/plain": [
       "Canvas(toolbar=Toolbar(toolitems=[('Home', 'Reset original view', 'home', 'home'), ('Back', 'Back to previous …"
      ]
     },
     "metadata": {},
     "output_type": "display_data"
    },
    {
     "data": {
      "text/plain": [
       "<Figure size 640x480 with 0 Axes>"
      ]
     },
     "execution_count": 3,
     "metadata": {},
     "output_type": "execute_result"
    }
   ],
   "source": [
    "hn = np.array([1/16, 1/4, 3/8, 1/4, 1/16])\n",
    "plt.close(2); plt.figure(2)\n"
   ]
  },
  {
   "cell_type": "markdown",
   "metadata": {
    "slideshow": {
     "slide_type": "slide"
    }
   },
   "source": [
    "## Regneeksempel 2:\n",
    "\n",
    "<img src=\"Figurer/11_Frekvensrespons/Fig6_Example2.png\" style=\"height: 90%; margin-left: 100px\" />"
   ]
  },
  {
   "cell_type": "markdown",
   "metadata": {
    "slideshow": {
     "slide_type": "slide"
    }
   },
   "source": [
    "# Transformasjon av filtre\n",
    "\n",
    "* FIR filtre er svært enkle å gjøre endringer på, ettersom vi kan justere hver sample i impulsresponsen individuelt.\n",
    "* Ettersom filterets frekvensrespons og impulsresponsens frekvensinnhold er det samme, er det en rekke verktøy vi kan ta i bruk for å gjøre endringer på filteregenskaper.\n",
    "    * Noen av de mest aktuelle er *Amplitudemodulasjon* og *Vindusfunksjoner*.\n",
    "        * Disse begrepene har vi arbeidet med i `Dataøving 1` og `Dataøving 3`"
   ]
  },
  {
   "cell_type": "markdown",
   "metadata": {
    "slideshow": {
     "slide_type": "slide"
    }
   },
   "source": [
    "## Kodeksempel 2:\n",
    "1. Ta utgangspunkt i et 32-punkts middelverdifilter, og lag et båndpassfilter ved bruk av *Amplitudemodulasjon*.\n",
    "    * Passbåndet skal ha senterfrekvens $\\hat{\\omega}_{BP} = \\frac{3\\pi}{4}$.\n",
    "2. Bruk en *Vindusfunksjon* til å øke \"stoppbåndsdempingen\" til filteret."
   ]
  },
  {
   "cell_type": "code",
   "execution_count": null,
   "metadata": {
    "slideshow": {
     "slide_type": "fragment"
    }
   },
   "outputs": [],
   "source": []
  },
  {
   "cell_type": "markdown",
   "metadata": {
    "slideshow": {
     "slide_type": "slide"
    }
   },
   "source": [
    "# Lavpassfilter $\\rightarrow$ Båndpassfilter\n",
    "\n",
    "* Et lavpassfilter kan konverteres til et båndpassfilter ved å \"mikse\" impulsresponsen med en sinussekvens.\n",
    "    \\begin{align}\n",
    "    h_{BP}[n] &= 2\\cdot h_{LP}[n]\\cdot \\cos(\\hat{\\omega}_{BP}\\cdot n)\\\\\n",
    "    &= h_{LP}[n]\\cdot \\left(e^{j\\hat{\\omega}_{BP}\\cdot n}+e^{-j\\hat{\\omega}_{BP}\\cdot n}\\right)\n",
    "    \\end{align}\n",
    "    * $\\hat{\\omega}_{BP}$ vil da være senterfrekvensen til passbåndet.\n",
    "    * Sinussekvensen vi mikser med har amplitude 2 slik at amplituden til positivt og negativt frekvensforskjøvet signalinnhold holder seg lik."
   ]
  },
  {
   "cell_type": "markdown",
   "metadata": {
    "slideshow": {
     "slide_type": "slide"
    }
   },
   "source": [
    "# Utregning av frekvensrespons\n",
    "\n",
    "* Diskrét-Tids Fouriertransformasjon (DTFT) av impulsresponesn $h[n]$ gir et *kontinuerlig* funksjonsuttrykk for filterets frekvensrespons.\n",
    "\n",
    "* Formel for *kausale* filtre:\n",
    "\n",
    "### \\begin{align}H\\left(e^{j\\hat{\\omega}}\\right) &= \\sum_{n=-\\infty}^{\\infty} h[n]\\cdot e^{-j\\hat{\\omega}\\cdot n}\\\\ &= h[0]\\cdot e^{0}+h[1]\\cdot e^{-j\\hat{\\omega}}+h[2]\\cdot e^{-j2\\hat{\\omega}}+\\ldots \\end{align}"
   ]
  },
  {
   "cell_type": "markdown",
   "metadata": {
    "slideshow": {
     "slide_type": "slide"
    }
   },
   "source": [
    "## Regneeksempel 3\n",
    "* Et FIR filter er gitt ved impulsresponsen $h[n] =\\frac{1}{4}\\delta[n]+ \\frac{1}{2}\\delta[n-1]+ \\frac{1}{4}\\delta[n-2]$\n",
    "* Finn et funksjonsuttrykk for filterets frekvensrespons $H\\left(e^{j\\hat{\\omega}}\\right)$."
   ]
  },
  {
   "cell_type": "markdown",
   "metadata": {
    "slideshow": {
     "slide_type": "slide"
    }
   },
   "source": [
    "## Demo: frekvensrespons"
   ]
  },
  {
   "cell_type": "code",
   "execution_count": 4,
   "metadata": {
    "slideshow": {
     "slide_type": "slide"
    }
   },
   "outputs": [
    {
     "data": {
      "application/vnd.jupyter.widget-view+json": {
       "model_id": "2053f5675db04a9092deb0118b7e9105",
       "version_major": 2,
       "version_minor": 0
      },
      "text/plain": [
       "Canvas(toolbar=Toolbar(toolitems=[('Home', 'Reset original view', 'home', 'home'), ('Back', 'Back to previous …"
      ]
     },
     "metadata": {},
     "output_type": "display_data"
    },
    {
     "data": {
      "application/vnd.jupyter.widget-view+json": {
       "model_id": "6fe361c8235c4a709ddd493e3ab4da4d",
       "version_major": 2,
       "version_minor": 0
      },
      "text/plain": [
       "HBox(children=(FloatSlider(value=0.0, description='Digital Frekvens $\\\\hat{\\\\omega}\\\\ (\\\\times \\\\pi)$:', layou…"
      ]
     },
     "metadata": {},
     "output_type": "display_data"
    },
    {
     "data": {
      "application/vnd.jupyter.widget-view+json": {
       "model_id": "1e6fac1dea024b3aa072bdc0af50f9f7",
       "version_major": 2,
       "version_minor": 0
      },
      "text/plain": [
       "Output()"
      ]
     },
     "metadata": {},
     "output_type": "display_data"
    },
    {
     "data": {
      "text/plain": [
       "<Kildekode._11_Frekvensrespons.DTFT_demo at 0x228e53d9fa0>"
      ]
     },
     "execution_count": 4,
     "metadata": {},
     "output_type": "execute_result"
    }
   ],
   "source": [
    "hn = np.array([0.25, 0.5, 0.25])\n",
    "DTFT_demo(hn, fig_num = 6, figsize=(12,8))"
   ]
  },
  {
   "cell_type": "markdown",
   "metadata": {
    "slideshow": {
     "slide_type": "slide"
    }
   },
   "source": [
    "# DTFT egenskaper\n",
    "\n",
    "<img src=\"Figurer/11_Frekvensrespons/Fig7_DTFTProperties.png\" style=\"height: 90%; margin-left: 100px\" />"
   ]
  },
  {
   "cell_type": "markdown",
   "metadata": {
    "slideshow": {
     "slide_type": "slide"
    }
   },
   "source": [
    "# DTFT transformasjonspar\n",
    "<img src=\"Figurer/11_Frekvensrespons/Fig8_TransformPairs.png\" style=\"height: 90%; margin-left: 100px\" />"
   ]
  }
 ],
 "metadata": {
  "celltoolbar": "Slideshow",
  "kernelspec": {
   "display_name": "Python 3",
   "language": "python",
   "name": "python3"
  },
  "language_info": {
   "codemirror_mode": {
    "name": "ipython",
    "version": 3
   },
   "file_extension": ".py",
   "mimetype": "text/x-python",
   "name": "python",
   "nbconvert_exporter": "python",
   "pygments_lexer": "ipython3",
   "version": "3.8.5"
  }
 },
 "nbformat": 4,
 "nbformat_minor": 4
}
