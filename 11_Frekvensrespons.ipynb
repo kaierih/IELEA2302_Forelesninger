{
 "cells": [
  {
   "cell_type": "code",
   "execution_count": 1,
   "metadata": {
    "slideshow": {
     "slide_type": "slide"
    }
   },
   "outputs": [],
   "source": [
    "# Generelle moduler og funksjonsbeskrivelser brukt i forelesningen\n",
    "from numpy import sin, cos, pi, exp\n",
    "import numpy.fft as fft\n",
    "import numpy as np\n",
    "import matplotlib.pyplot as plt\n",
    "from Kildekode._11_Frekvensrespons import *\n",
    "\n",
    "%matplotlib ipympl"
   ]
  },
  {
   "cell_type": "markdown",
   "metadata": {
    "slideshow": {
     "slide_type": "slide"
    }
   },
   "source": [
    "<img src=\"NTNU_Logo.png\" align=\"left\" style=\"width: 30%\">\n",
    "<br clear=\"all\" />\n",
    "<br></br>\n",
    "\n",
    "# Frekvensrespons for FIR filtre\n",
    "\n",
    "* **Emne IELEA2302 - Signalbehandling**\n",
    "* **Uke 11, 2021**\n",
    "* **Relevant Pensum:**\n",
    "    * Kapittel 6 i læreboka DSP First\n",
    "* **Underviser: Kai Erik Hoff**"
   ]
  },
  {
   "cell_type": "markdown",
   "metadata": {
    "slideshow": {
     "slide_type": "slide"
    }
   },
   "source": [
    "# Tema tirsdag 16. mars\n",
    "\n",
    "* LTI-system og Sinussekvenser\n",
    "* Hva er frekvensrespons?\n",
    "* Utregning av frekvensrespons\n",
    "* Amplituderespons\n",
    "* Faserespons"
   ]
  },
  {
   "cell_type": "markdown",
   "metadata": {
    "slideshow": {
     "slide_type": "slide"
    }
   },
   "source": [
    "# LTI-system og sinussekvenser\n",
    "\n",
    "* Sinussignal inn $\\rightarrow$ sinussignal ut.\n",
    "    * Både inngangssignal og utgangssignal vil ha samme frekvens.\n",
    "* Gitt inngangssignalet\n",
    "$$x[n] = \\cos\\left(\\hat{\\omega}_0\\cdot n\\right)$$\n",
    "så vil utgangssignalet\n",
    "$$y[n] = A\\cdot \\cos\\left(\\hat{\\omega}_0\\cdot n +\\phi\\right)$$\n",
    "    * Vi ønsker en enkel måte å finne ut hva den nye amplituden $A$ og fasen $\\phi$ vil være."
   ]
  },
  {
   "cell_type": "markdown",
   "metadata": {
    "slideshow": {
     "slide_type": "slide"
    }
   },
   "source": [
    "# FIR Filtrering av en sinussekvens\n",
    "\n",
    "* Utgangssignalet er en vektet sum av foregående inngangssampler:\n",
    "$$y[n] = \\sum_{k=0}^{M} b_k\\cdot x[n-k]$$\n",
    "    * Dette betyr at en sample fra inngangssignalet $x[n]$ som er $M$ sampler \"gammelt\" vil fortsatt påvirke utregnet utgangsverdi $y[n]$.\n",
    "    * Utgangssignalet vil derfor \"henge etter\".\n",
    "    \n",
    "<img src=\"Figurer/11_Frekvensrespons/Fig1_Sine_ex1.png\" style=\"width: 60%; margin-left: 100px\" />"
   ]
  },
  {
   "cell_type": "markdown",
   "metadata": {
    "slideshow": {
     "slide_type": "slide"
    }
   },
   "source": [
    "# Filtrert sinussekvens utledet\n",
    "* Inngangssignal fra figur på forrige slide:\n",
    "$$x[n] = \\sin \\left(\\frac{2\\pi}{16} \\cdot n\\right)$$\n",
    "* Resulterende utgangssignal:\n",
    "\\begin{align}\n",
    "y[n] &= 0.925\\cdot \\sin \\left(\\frac{2\\pi}{16} \\cdot (n-2) \\right)\\\\\n",
    "&= 0.925\\cdot \\sin \\left(\\frac{2\\pi}{16} \\cdot n -\\frac{2\\pi}{16}\\cdot 2 \\right)\\\\\n",
    "&= 0.925\\cdot \\sin \\left(\\frac{\\pi}{8} \\cdot n -\\frac{\\pi}{4} \\right)\n",
    "\\end{align}"
   ]
  },
  {
   "cell_type": "markdown",
   "metadata": {
    "slideshow": {
     "slide_type": "slide"
    }
   },
   "source": [
    "## Regneeksempel 1:\n",
    "* Et FIR filter er gitt ved impulsresponsen $h[n] =\\frac{1}{4}\\delta[n]+ \\frac{1}{2}\\delta[n-1]+ \\frac{1}{4}\\delta[n-2]$\n",
    "* Filteret brukes til å filtrere et signal $x[n] = \\cos\\left(\\frac{\\pi}{2}\\cdot n\\right)$.\n",
    "* Finn et uttrykk for utgangssignalet $y[n]$."
   ]
  },
  {
   "cell_type": "markdown",
   "metadata": {
    "slideshow": {
     "slide_type": "slide"
    }
   },
   "source": [
    "# Generell utledning for sinussekvenser\n",
    "\n",
    "\\begin{align}\n",
    "y[n] &= h[n]*x[n], \\ \\ \\ x[n] = \\cos(\\hat{\\omega}\\cdot n)\\\\\n",
    "&= h[n]*\\cos(\\hat{\\omega}\\cdot n)\\\\\n",
    "&= \\sum_{k=-\\infty}^{\\infty}h[k]\\cdot \\cos(\\hat{\\omega}\\cdot (n-k))\\\\\n",
    "&= \\sum_{k=-\\infty}^{\\infty}h[k]\\cdot \\cos(\\hat{\\omega}\\cdot n-\\hat{\\omega}\\cdot k)\\\\\n",
    "&= A\\cos(\\hat{\\omega}\\cdot n + \\phi)\n",
    "\\end{align}\n",
    "\n",
    "\n",
    "$$\\text{hvor vektoraddisjonsprinsippet gir:}$$\n",
    "\n",
    "\n",
    "\n",
    "$$ A\\cdot e^{j\\phi} = \\sum_{k=-\\infty}^{\\infty}h[k]\\cdot e^{-j\\hat{\\omega}\\cdot k} = DTFT(h[n])= H\\left(e^{j\\hat{\\omega}} \\right)$$\n"
   ]
  },
  {
   "cell_type": "markdown",
   "metadata": {
    "slideshow": {
     "slide_type": "slide"
    }
   },
   "source": [
    "# Filtrering av signal i frekvensplanet\n",
    "\n",
    "* Et signal kan filtreres i frekvensplanet ved å *multiplisere* signalets *fouriertransform* med en *funkskjon* som vil manipulere *amplituden* og *fasen* til hver av frekvenskomponentene i signalet.\n",
    "    * Fasejustering bestemmes av funksjonens vinkel i det komplekse plan.\n",
    "    * Amplitudejustering bestemmes av funksjonens absoluttverdi i det komplekse plan.\n",
    "    * Slik filtrering har vi f.eks. utført med hjelp av FFT.\n",
    "\n",
    "[Figur]"
   ]
  },
  {
   "cell_type": "markdown",
   "metadata": {
    "slideshow": {
     "slide_type": "slide"
    }
   },
   "source": [
    "# Digital Filtrering og fouriertransformasjon\n",
    "\n",
    "$$x[n]*h[n] \\stackrel{\\mathrm{DTFT}}{\\longleftrightarrow} X\\left(e^{j\\hat{\\omega}}\\right)\\cdot H \\left(e^{j\\hat{\\omega}}\\right)$$ \n",
    "\n",
    "* *Konvolusjon* mellom et signal $x[n]$ og en impulsrespons $h[n]$ vil ha nøyaktig samme innvirkning på signalet som å multiplisere det fouriertransformerte signalet $X\\left(e^{j\\hat{\\omega}}\\right)$ med ***frekvensresponsen*** $H\\left(e^{j\\hat{\\omega}}\\right)$.\n",
    "    * Alternativt forklart: istedenfor å transformere signalet $x[n]$ til frekvensplanet for å utføre filtrering, transformerer vi nå heller \"filtreringsfunksjonen\" $H\\left(e^{j\\hat{\\omega}}\\right)$ til tidsplanet."
   ]
  },
  {
   "cell_type": "markdown",
   "metadata": {
    "slideshow": {
     "slide_type": "slide"
    }
   },
   "source": [
    "## Demo: Frekvensrespons"
   ]
  },
  {
   "cell_type": "code",
   "execution_count": 5,
   "metadata": {
    "slideshow": {
     "slide_type": "fragment"
    }
   },
   "outputs": [
    {
     "data": {
      "application/vnd.jupyter.widget-view+json": {
       "model_id": "48c4dfcd882c4fa5a11e5b5879bb1ae0",
       "version_major": 2,
       "version_minor": 0
      },
      "text/plain": [
       "Canvas(toolbar=Toolbar(toolitems=[('Home', 'Reset original view', 'home', 'home'), ('Back', 'Back to previous …"
      ]
     },
     "metadata": {},
     "output_type": "display_data"
    },
    {
     "data": {
      "application/vnd.jupyter.widget-view+json": {
       "model_id": "a5b9376ab9704796b950a9a04d6a8200",
       "version_major": 2,
       "version_minor": 0
      },
      "text/plain": [
       "VBox(children=(FloatSlider(value=0.125, continuous_update=False, description='Digital Frekvens $\\\\hat{\\\\omega}…"
      ]
     },
     "metadata": {},
     "output_type": "display_data"
    },
    {
     "data": {
      "application/vnd.jupyter.widget-view+json": {
       "model_id": "0da1b99c72f44add998d605549007d52",
       "version_major": 2,
       "version_minor": 0
      },
      "text/plain": [
       "Output()"
      ]
     },
     "metadata": {},
     "output_type": "display_data"
    },
    {
     "data": {
      "text/plain": [
       "<Kildekode._11_Frekvensrespons.FreqRespDemo at 0x24a5d5c0910>"
      ]
     },
     "execution_count": 5,
     "metadata": {},
     "output_type": "execute_result"
    }
   ],
   "source": [
    "hn = np.array([0.25, 0.5, 0.25])\n",
    "FreqRespDemo(hn)"
   ]
  },
  {
   "cell_type": "markdown",
   "metadata": {
    "slideshow": {
     "slide_type": "slide"
    }
   },
   "source": [
    "## Frekvensrespons i Python\n"
   ]
  },
  {
   "cell_type": "markdown",
   "metadata": {
    "slideshow": {
     "slide_type": "slide"
    }
   },
   "source": [
    "## Regneeksempel 2\n",
    "* Et FIR filter er gitt ved impulsresponsen $h[n] =\\frac{1}{4}\\delta[n]+ \\frac{1}{2}\\delta[n-1]+ \\frac{1}{4}\\delta[n-2]$\n",
    "* Finn et funksjonsuttrykk for filterets frekvensrespons $H\\left(e^{j\\hat{\\omega}}\\right)$."
   ]
  }
 ],
 "metadata": {
  "celltoolbar": "Slideshow",
  "kernelspec": {
   "display_name": "Python 3",
   "language": "python",
   "name": "python3"
  },
  "language_info": {
   "codemirror_mode": {
    "name": "ipython",
    "version": 3
   },
   "file_extension": ".py",
   "mimetype": "text/x-python",
   "name": "python",
   "nbconvert_exporter": "python",
   "pygments_lexer": "ipython3",
   "version": "3.8.5"
  }
 },
 "nbformat": 4,
 "nbformat_minor": 4
}
