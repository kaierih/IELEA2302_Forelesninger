{
 "cells": [
  {
   "cell_type": "code",
   "execution_count": 11,
   "metadata": {
    "slideshow": {
     "slide_type": "skip"
    }
   },
   "outputs": [],
   "source": [
    "# Generelle moduler og funksjonsbeskrivelser brukt i forelesningen\n",
    "from numpy import sin, cos, pi, arctan2, exp\n",
    "import numpy as np\n",
    "import matplotlib.pyplot as plt\n",
    "from Kildekode._03_Sinussignal import *\n",
    "\n",
    "%matplotlib ipympl"
   ]
  },
  {
   "cell_type": "markdown",
   "metadata": {
    "slideshow": {
     "slide_type": "slide"
    }
   },
   "source": [
    "<img src=\"NTNU_Logo.png\" align=\"left\" style=\"width: 30%\">\n",
    "<br clear=\"all\" />\n",
    "<br></br>\n",
    "\n",
    "# Sinussignal\n",
    "\n",
    "* **Emne IELEA2302 - Signalbehandling**\n",
    "* **Uke 3, 2021**\n",
    "* **Underviser: Kai Erik Hoff**\n",
    "\n"
   ]
  },
  {
   "cell_type": "markdown",
   "metadata": {
    "slideshow": {
     "slide_type": "slide"
    }
   },
   "source": [
    "# Tema\n",
    "* Egenskaper til sinussignal\n",
    "    - Amplitude\n",
    "    - Frekvens\n",
    "    - Fase og tidsforskyvning\n",
    "* Sinuser, og deres relasjon til mer kompliserte signal\n",
    "* Komplekse tall oppfriskning\n",
    "    - Addisjon, subtraksjon, multiplikasjon og divisjon med komplekse tall\n",
    "* Dekomponering av sinuser i komplekse eksponentialer\n",
    "* Summering av sinusbølger ved hjelp av vektoraddisjon"
   ]
  },
  {
   "cell_type": "markdown",
   "metadata": {
    "slideshow": {
     "slide_type": "slide"
    }
   },
   "source": [
    "## Signalegenskaper\n",
    "\n",
    "\n",
    "<div style=\"width: 100%;\">\n",
    "    <img src=\"Figurer/03_Sinussignal/Fig1_signaleksempel.png\" style=\"float: right; width: 35%\" />\n",
    "    <div style=\"width: 60%\">\n",
    "    <br>\n",
    "    <ul>\n",
    "      <li>Et <i>signal</i> er en målbar informasjonsbærende funksjon</li>\n",
    "      <ul><li>Produsert av en sensor, antenne e.l.</li></ul>\n",
    "      <li>1-Dimensjonale signal hovedfokus for dette faget</li>\n",
    "      <ul><li>Én mengde (f.eks. spenning) er gitt som en funksjon av tid.</li></ul>\n",
    "      <li>Bilder er et eksempel på en annen type signal.</li>\n",
    "      <ul><li>Regnes som 2-dimensjonale da signalverdien (lysintensitet) varierer med x- og y-koordinatene i bildet.</li></ul>\n",
    "    </ul>  \n",
    "    </div>\n",
    "</div> "
   ]
  },
  {
   "cell_type": "markdown",
   "metadata": {
    "slideshow": {
     "slide_type": "slide"
    }
   },
   "source": [
    "## Sinusbølger - *signalbehandlingens \"elementærpartikkel\"*\n",
    "* Rene bølgeformer - regnes som å kun inneholde én frekvens.\n",
    "* Kan beskrives matematisk med funksjonsuttrykket\n",
    "$$x(t) = A\\cdot \\cos\\left(\\omega\\cdot t + \\phi \\right)$$\n",
    "    - $A$ er bølgens *Amplitude*\n",
    "    - $\\omega$ er bølgens *Vinkelfrekvens* (rad/s:)\n",
    "        - Relasjon til frekvens $f$(Hz): $\\ \\ \\omega = 2\\pi \\cdot f$\n",
    "    - $\\phi$ er bølgens *fase*\n",
    "\n",
    "<img src=\"Figurer/03_Sinussignal/Fig2_sinusbølge.png\" style=\"width: 100%\" />"
   ]
  },
  {
   "cell_type": "markdown",
   "metadata": {
    "slideshow": {
     "slide_type": "slide"
    }
   },
   "source": [
    "## Python-demo: *sinusbølge* \n",
    "$$x(t) = A\\cdot \\cos(2\\pi \\cdot f \\cdot t + \\phi )$$"
   ]
  },
  {
   "cell_type": "code",
   "execution_count": 2,
   "metadata": {
    "scrolled": false,
    "slideshow": {
     "slide_type": "fragment"
    }
   },
   "outputs": [
    {
     "data": {
      "application/vnd.jupyter.widget-view+json": {
       "model_id": "0bc695ef67354551bdf03553e8e1e5ca",
       "version_major": 2,
       "version_minor": 0
      },
      "text/plain": [
       "Canvas(toolbar=Toolbar(toolitems=[('Home', 'Reset original view', 'home', 'home'), ('Back', 'Back to previous …"
      ]
     },
     "metadata": {},
     "output_type": "display_data"
    },
    {
     "data": {
      "application/vnd.jupyter.widget-view+json": {
       "model_id": "9a089947f70f4361acacadcc82383ce9",
       "version_major": 2,
       "version_minor": 0
      },
      "text/plain": [
       "VBox(children=(HBox(children=(FloatSlider(value=1.0, description='$A$', layout=Layout(width='95%'), max=2.0), …"
      ]
     },
     "metadata": {},
     "output_type": "display_data"
    },
    {
     "data": {
      "application/vnd.jupyter.widget-view+json": {
       "model_id": "afa586cb17814158bbe1060ff23cdcb7",
       "version_major": 2,
       "version_minor": 0
      },
      "text/plain": [
       "Output()"
      ]
     },
     "metadata": {},
     "output_type": "display_data"
    }
   ],
   "source": [
    "demo1();"
   ]
  },
  {
   "cell_type": "markdown",
   "metadata": {
    "slideshow": {
     "slide_type": "slide"
    }
   },
   "source": [
    "# Tidsforskyvning og fase\n",
    "* Tidsforskyvning av signal: $y(t) = x(t+\\tau_\\phi)$\n",
    "    - Vi substituerer altså $t$ med $t+\\tau_\\phi$.\n",
    "* For sinusbølger $x(t) = \\cos\\left(\\omega\\cdot t\\right)$:\n",
    "$$\\begin{align}\n",
    "x(t+\\tau_\\phi) &= \\cos\\left(\\omega\\cdot (t+\\tau_\\phi)\\right)\\\\\n",
    "&= \\cos\\left(\\omega\\cdot t+\\omega\\cdot\\tau_\\phi\\right) \\\\ \\\\\n",
    "\\phi &= \\omega\\cdot\\tau_\\phi \n",
    "\\end{align}$$"
   ]
  },
  {
   "cell_type": "markdown",
   "metadata": {
    "slideshow": {
     "slide_type": "fragment"
    }
   },
   "source": [
    "* Positiv fase betyr altså at bølgeformen \"starter tidligere\" \n",
    "    - bølgeformen forskyves langs tidsaksen i *negativ* retning\n",
    "* Omvendt for negativ fase"
   ]
  },
  {
   "cell_type": "markdown",
   "metadata": {
    "slideshow": {
     "slide_type": "slide"
    }
   },
   "source": [
    "## Regneeksempel 1:\n",
    "Figuren nedenfor viser en sinusbølge.\n",
    "\n",
    "<img src=\"Figurer/03_Sinussignal/Fig3_sinusbølge.png\" style=\"width: 90%\" />\n",
    "\n",
    "* Finn amplitude, frekvens og fase for sinusbølgen, og skriv uttrykket på formen $x(t) = A\\cdot \\cos\\left( 2\\pi\\cdot f\\cdot t + \\phi \\right)$.\n",
    "    * _Løses i OneNote_"
   ]
  },
  {
   "cell_type": "markdown",
   "metadata": {
    "slideshow": {
     "slide_type": "slide"
    }
   },
   "source": [
    "## Periodisitet\n",
    "* Sinusbølger er periodiske. \n",
    "    * Det vil si at dersom du tidsforskyver et signal med et heltalls antall perioder, så vil du få samme signal:\n",
    "$$ x(t-T) = x(t)$$\n",
    "     _der $T$ er signalperioden._\n",
    "*  Faseleddet til en sinusbølge vil ***alltid*** kunne omregnes til intervallet $-\\pi \\leq \\phi \\leq \\pi$.\n",
    "\n",
    "$$\\cos(x) = \\cos(x + k \\cdot 2\\pi), \\ \\ \\ k\\in \\mathbb{Z}$$"
   ]
  },
  {
   "cell_type": "code",
   "execution_count": 3,
   "metadata": {
    "slideshow": {
     "slide_type": "fragment"
    }
   },
   "outputs": [
    {
     "data": {
      "application/vnd.jupyter.widget-view+json": {
       "model_id": "4e812462ad2543e88eaea8f0b43714eb",
       "version_major": 2,
       "version_minor": 0
      },
      "text/plain": [
       "Canvas(toolbar=Toolbar(toolitems=[('Home', 'Reset original view', 'home', 'home'), ('Back', 'Back to previous …"
      ]
     },
     "metadata": {},
     "output_type": "display_data"
    }
   ],
   "source": [
    "t = np.linspace(0, 2, 501)\n",
    "x_t= cos(2*pi*1.5*t)\n",
    "y_t= cos(2*pi*1.5*t + 2*pi)\n",
    "\n",
    "plt.figure(figsize=(10,6))\n",
    "plt.plot(t, x_t, linewidth=3)\n",
    "plt.plot(t, y_t, 'r:', linewidth=3)\n",
    "plt.grid(True)"
   ]
  },
  {
   "cell_type": "markdown",
   "metadata": {
    "slideshow": {
     "slide_type": "slide"
    }
   },
   "source": [
    "## Noen andre egenskaper\n",
    "* Ekvivalens:\n",
    "$$\\sin\\left(x\\right) = \\cos\\left(x - \\frac{\\pi}{2}\\right)$$\n",
    "* Cosinus er en like funksjon:\n",
    "$$\\cos\\left(-x\\right) = \\cos\\left(x\\right)$$\n",
    "* Sinus er en odde funksjon:\n",
    "$$-\\sin\\left(-x\\right) = \\sin\\left(x\\right)$$\n",
    "\n",
    "<img src=\"Figurer/03_Sinussignal/Fig4_sinVcos.png\" style=\"width: 100%\" />"
   ]
  },
  {
   "cell_type": "markdown",
   "metadata": {
    "slideshow": {
     "slide_type": "slide"
    }
   },
   "source": [
    "## Hvorfor Sinusoider?\n",
    "* Få signaler vi møter i virkeligheten vil være rene sinussignal.\n",
    "\n",
    "Men\n",
    "\n",
    "* Sinusbølger danner grunnlaget for å beskrive oppførselen til både signal og system.\n",
    "\n",
    "\n",
    "* ***Alle*** periodiske signal kan dekomponeres til en sum av rene sinussignal. \n",
    "    - Et signal som er periodisk over tidsintervallet $T$, vil kunne beskrives med formelen\n",
    "$$x(t) = A_0 + 2\\cdot \\sum_{k=1}^{\\infty} A_k \\cdot \\cos\\left(\\frac{2\\pi k}{T}+\\phi_k\\right)$$\n",
    "    _der $A_k$ og $\\phi_k$ til sammen utgjør **fourierrekke-koeffisientene**._"
   ]
  },
  {
   "cell_type": "markdown",
   "metadata": {
    "slideshow": {
     "slide_type": "fragment"
    }
   },
   "source": [
    "* Et sinusformet inngangssignal til et lineært system vil produsere et sinusformet utgangssignal."
   ]
  },
  {
   "cell_type": "markdown",
   "metadata": {
    "slideshow": {
     "slide_type": "slide"
    }
   },
   "source": [
    "## Klassisk eksempel: firkantpuls (*demo*)\n",
    "$$ x(t) = \\frac{4}{\\pi}\\left(\\sin(2\\pi\\cdot f\\cdot t)+\\frac{1}{3}\\sin(2\\pi\\cdot 3f\\cdot t)+\\frac{1}{5}\\sin(2\\pi\\cdot 5f\\cdot t) + \\ldots\\right)$$"
   ]
  },
  {
   "cell_type": "code",
   "execution_count": 4,
   "metadata": {
    "scrolled": false,
    "slideshow": {
     "slide_type": "fragment"
    }
   },
   "outputs": [
    {
     "data": {
      "application/vnd.jupyter.widget-view+json": {
       "model_id": "ca5737d41dca4a25b4d87982159e60bd",
       "version_major": 2,
       "version_minor": 0
      },
      "text/plain": [
       "Canvas(toolbar=Toolbar(toolitems=[('Home', 'Reset original view', 'home', 'home'), ('Back', 'Back to previous …"
      ]
     },
     "metadata": {},
     "output_type": "display_data"
    },
    {
     "data": {
      "application/vnd.jupyter.widget-view+json": {
       "model_id": "48942ff4c02a453b813f542887161ac6",
       "version_major": 2,
       "version_minor": 0
      },
      "text/plain": [
       "VBox(children=(HBox(children=(FloatSlider(value=1.0, description='$N$', layout=Layout(width='95%'), max=31.0, …"
      ]
     },
     "metadata": {},
     "output_type": "display_data"
    },
    {
     "data": {
      "application/vnd.jupyter.widget-view+json": {
       "model_id": "3a5814fc37bf46d1a688cd4633e92383",
       "version_major": 2,
       "version_minor": 0
      },
      "text/plain": [
       "Output()"
      ]
     },
     "metadata": {},
     "output_type": "display_data"
    }
   ],
   "source": [
    "demo2();"
   ]
  },
  {
   "cell_type": "markdown",
   "metadata": {
    "slideshow": {
     "slide_type": "slide"
    }
   },
   "source": [
    "## Signaleksempel: EKG\n",
    "* 1 sekund utrag av et EKG-signal (elektrisk aktivitet i hjertet)\n",
    "\n",
    "<img src=\"Figurer/03_Sinussignal/Fig5_EKG.png\" align=\"center\" style=\"width: 70%\" />"
   ]
  },
  {
   "cell_type": "markdown",
   "metadata": {
    "slideshow": {
     "slide_type": "slide"
    }
   },
   "source": [
    "<img src=\"Figurer/03_Sinussignal/Fig6_EKG_decomp.png\" style=\"width: 100%\" />"
   ]
  },
  {
   "cell_type": "markdown",
   "metadata": {
    "slideshow": {
     "slide_type": "notes"
    }
   },
   "source": [
    "* Dekomponering av et signal i sine sinusbølge-komponenter er grunnsteinen i frekvensanalyse.\n",
    "* Hvis et signal er en sum av sinusbølger, bør det da være mulig å manipulere egenskapene til hver individuelle sinuskomponent.\n",
    "    - Dette kan vi f.eks. gjøre med et filter."
   ]
  },
  {
   "cell_type": "markdown",
   "metadata": {
    "slideshow": {
     "slide_type": "slide"
    }
   },
   "source": [
    "# Sinuser og komplekse tall\n",
    "\n",
    "* En sinusbølge med frekvens $f_k$ har ***to*** ytterlige parametre:\n",
    "    - Amplitude: Hvor kraftig er sinusbølgen med akkurat denne frekvensen $f_k$?\n",
    "    - Fase: For hvilken verdie av $t$ \"starter\" sinusbølgen med frekvens $f_k$?\n",
    "    \n",
    "    \n",
    "* En fullstendig kartlegging av frekvensinnholdet til et signal må fnne sted i **2 dimensjoner**\n",
    "\n",
    "* Komplekse tall og funksjoner må tas i bruk"
   ]
  },
  {
   "cell_type": "markdown",
   "metadata": {
    "slideshow": {
     "slide_type": "slide"
    }
   },
   "source": [
    "<div style=\"width: 100%;\">\n",
    "    <img src=\"Figurer/03_Sinussignal/Fig7_xkcd_eipi.png\" style=\"float: right; width: 50%\" />\n",
    "    <div style=\"width: 30%\">\n",
    "        <br>\n",
    "    <h1>Komplekse tall:</h1>\n",
    "        <h2><i>Oppfriskning</i></h2>\n",
    "    </div>\n",
    "</div> "
   ]
  },
  {
   "cell_type": "markdown",
   "metadata": {
    "slideshow": {
     "slide_type": "notes"
    }
   },
   "source": [
    "* Dersom du har 3.14 minutter å avse, finnes en youtube-video med en veldig god forklaring på dette [her](https://www.youtube.com/watch?v=v0YEaeIClKY&vl=en)."
   ]
  },
  {
   "cell_type": "markdown",
   "metadata": {
    "slideshow": {
     "slide_type": "slide"
    }
   },
   "source": [
    "## Kompleske tall\n",
    "\n",
    "* Består av reelle og imaginære komponenter\n",
    "* Imaginær *enhet* definert som løsningen på følgende ligning:\n",
    "$$z = \\sqrt{-1} = j$$\n",
    "* Komplekse tall notasjon:\n",
    "$$z = x + j\\cdot y $$\n",
    "\n",
    "\n",
    "<img src=\"Figurer/03_Sinussignal/Fig08_compNum.png\" style=\"width: 70%\" />"
   ]
  },
  {
   "cell_type": "markdown",
   "metadata": {
    "slideshow": {
     "slide_type": "slide"
    }
   },
   "source": [
    "# Komplekse tall som vektorer\n",
    "\n",
    "<img src=\"Figurer/03_Sinussignal/Fig09_compVect.jpg\" style=\"width: 90%\" />"
   ]
  },
  {
   "cell_type": "markdown",
   "metadata": {
    "slideshow": {
     "slide_type": "slide"
    }
   },
   "source": [
    "## Komplekse tall i python\n",
    "\n",
    "* Bokstaven `j` kan benyttes til å designere en numerisk verdi som imaginær."
   ]
  },
  {
   "cell_type": "code",
   "execution_count": 5,
   "metadata": {
    "slideshow": {
     "slide_type": "fragment"
    }
   },
   "outputs": [
    {
     "name": "stdout",
     "output_type": "stream",
     "text": [
      "(3+4j)\n"
     ]
    }
   ],
   "source": [
    "z = 3 + 4j\n",
    "print(z)"
   ]
  },
  {
   "cell_type": "markdown",
   "metadata": {
    "slideshow": {
     "slide_type": "slide"
    }
   },
   "source": [
    "## Polarform\n",
    "\n",
    "\n",
    "<div style=\"width: 100%;\">\n",
    "    <img src=\"Figurer/03_Sinussignal/Fig10_polarform.jpg\" style=\"float: right; width: 35%\" />\n",
    "    <div style=\"width: 65%\">\n",
    "    <br>\n",
    "    <ul>\n",
    "      <li>Vektorform</li>\n",
    "      <ul><li>Lengde = $r$</li>\n",
    "          <li>Vinkel = $\\theta$ </li></ul>\n",
    "      <li>Vanlige verdier</li>\n",
    "      <ul><li>$j$ har vinkelen $\\theta = \\frac{\\pi}{2}$</li>\n",
    "        <li>$-1$ har vinkelen $\\theta = \\pi$</li>\n",
    "        <li>$-j$ har vinkelen $\\theta = \\frac{3\\pi}{2}$</li>\n",
    "        <li>$-j$kan også sies å ha vinkelen $\\theta = -\\frac{\\pi}{2}$</li>\n",
    "          <ul><li><i>Ulik rotasjonsretning, men samme destinasjon. </i></li></ul>\n",
    "      </ul>\n",
    "    </ul>  \n",
    "    </div>\n",
    "</div> "
   ]
  },
  {
   "cell_type": "markdown",
   "metadata": {
    "slideshow": {
     "slide_type": "slide"
    }
   },
   "source": [
    "## Polarform $\\leftrightarrow$ Kartesisk form\n",
    "\n",
    "\n",
    "<div style=\"width: 100%;\">\n",
    "    <img src=\"Figurer/03_Sinussignal/Fig11_sq2pol.jpg\" style=\"float: right; width: 40%\" />\n",
    "    <div style=\"width: 60%\">\n",
    "    <br>\n",
    "    <ul>\n",
    "      <li>Polarform fra kartesisk form:</li>\n",
    "      </ul>\n",
    "       $$r = \\sqrt{x^2+y^2}$$\n",
    "       $$\\theta = \\arctan \\left(\\frac{y}{x}\\right)$$\n",
    "        <ul><li>Kartesisk form fra polarform:</li></ul>\n",
    "       $$ x = r\\cdot \\cos(\\theta)$$\n",
    "       $$ y = r\\cdot \\sin(\\theta)$$\n",
    "    </div>\n",
    "</div> "
   ]
  },
  {
   "cell_type": "markdown",
   "metadata": {
    "slideshow": {
     "slide_type": "slide"
    }
   },
   "source": [
    "## Eulers formel\n",
    "* Matematisk notasjon for komplekse tall på polarform:\n",
    "$$r\\cdot e^{j\\theta} = r\\cdot \\cos(\\theta) + j\\cdot r\\cdot \\sin(\\theta)$$"
   ]
  },
  {
   "cell_type": "markdown",
   "metadata": {
    "slideshow": {
     "slide_type": "slide"
    }
   },
   "source": [
    "## Polarform i Python\n",
    "\n",
    "* Modulen `numpy` har en rekke nyttige funksjoner: `abs()`, `angle()`, `real()` og `imag()`.\n",
    "* Andre nyttige trigonometriske funksjoner i `numpy`: `cos()`, `sin()`, `hypot()`, `arctan2()` og `exp()`."
   ]
  },
  {
   "cell_type": "code",
   "execution_count": 6,
   "metadata": {
    "slideshow": {
     "slide_type": "fragment"
    }
   },
   "outputs": [
    {
     "name": "stdout",
     "output_type": "stream",
     "text": [
      "Vinkel i radianer:  -2.5535900500422257\n",
      "\n",
      "Komplekst tall z =  (-2-3j)\n",
      "Polarkoordinat r:  3.605551275463989\n",
      "Vinkel i grader:  -123.69006752597977\n",
      "\n",
      "Nytt tall z = 3*e^(j0.75*pi)\n",
      "Reell del:  -2.1213203435596424\n",
      "Imaginær del:  2.121320343559643\n"
     ]
    }
   ],
   "source": [
    "# Kartesisk form\n",
    "\n",
    "x = -2\n",
    "y = -3\n",
    "# Trigonometrisk funksjon arctan2() kan brukes til å regne ut tan^-1\n",
    "# (bruk denne istedenfor arctan(), da den ikke håndterer fortegn på noen bra måte.)\n",
    "print(\"Vinkel i radianer: \", arctan2(x,y))\n",
    "\n",
    "# Komplekst tall på kartesisk form\n",
    "z1 = x + 1j*y\n",
    "print(\"\\nKomplekst tall z = \", z1)\n",
    "print(\"Polarkoordinat r: \", abs(z1))\n",
    "print(\"Vinkel i grader: \", np.angle(z1)/pi*180)\n",
    "\n",
    "# Komplekst tall på Polarform: ,\n",
    "print(\"\\nNytt tall z = 3*e^(j0.75*pi)\")\n",
    "z2 = 3*exp(3j*pi/4)\n",
    "print(\"Reell del: \", np.real(z2))\n",
    "print(\"Imaginær del: \", np.imag(z2))"
   ]
  },
  {
   "cell_type": "markdown",
   "metadata": {
    "slideshow": {
     "slide_type": "slide"
    }
   },
   "source": [
    "## Komplekse tall på polarform (*demo*):"
   ]
  },
  {
   "cell_type": "code",
   "execution_count": 27,
   "metadata": {
    "slideshow": {
     "slide_type": "fragment"
    }
   },
   "outputs": [
    {
     "data": {
      "application/vnd.jupyter.widget-view+json": {
       "model_id": "e84dc7f23c024f79912e4148407bb7e9",
       "version_major": 2,
       "version_minor": 0
      },
      "text/plain": [
       "Canvas(toolbar=Toolbar(toolitems=[('Home', 'Reset original view', 'home', 'home'), ('Back', 'Back to previous …"
      ]
     },
     "metadata": {},
     "output_type": "display_data"
    },
    {
     "data": {
      "application/vnd.jupyter.widget-view+json": {
       "model_id": "6fb3cf20535648f1891c7a7d4a1bc094",
       "version_major": 2,
       "version_minor": 0
      },
      "text/plain": [
       "VBox(children=(HBox(children=(FloatSlider(value=1.0, description='$r$', layout=Layout(width='95%'), max=1.3, m…"
      ]
     },
     "metadata": {},
     "output_type": "display_data"
    },
    {
     "data": {
      "application/vnd.jupyter.widget-view+json": {
       "model_id": "8ad32812b241425581d562510c47737d",
       "version_major": 2,
       "version_minor": 0
      },
      "text/plain": [
       "Output()"
      ]
     },
     "metadata": {},
     "output_type": "display_data"
    }
   ],
   "source": [
    "demo3();"
   ]
  },
  {
   "cell_type": "markdown",
   "metadata": {
    "slideshow": {
     "slide_type": "slide"
    }
   },
   "source": [
    "## Regneeksempel 2: Omskriving av vinkler\n",
    "\n",
    "* Finn en måte å skrive om det komplekse tallet\n",
    "$$z = 5.3\\cdot e^{j \\frac{27}{5}\\pi}$$\n",
    "    Slik at vinkelen $\\phi$ er i intervallet $-\\pi \\leq \\phi \\leq \\pi$."
   ]
  },
  {
   "cell_type": "markdown",
   "metadata": {
    "slideshow": {
     "slide_type": "slide"
    }
   },
   "source": [
    "## Kompleks addisjon (vektoraddisjon)\n",
    "* Enklest å regne ut på _kartesisk form_.\n",
    "    - For å legge sammen to komplekse tall på polarform er det ofte mest hensiktsmessig å skrive om til kartesisk form.\n",
    "    \n",
    "<img src=\"Figurer/03_Sinussignal/Fig12_compAdd.jpg\" style=\"width: 80%\" />"
   ]
  },
  {
   "cell_type": "markdown",
   "metadata": {
    "slideshow": {
     "slide_type": "slide"
    }
   },
   "source": [
    "## Kompleks subtraksjon\n",
    "* Benytter vektoraddisjon\n",
    "* Negativ vektor peker i motsatt retning\n",
    "\n",
    "<img src=\"Figurer/03_Sinussignal/Fig13_compSub.jpg\" style=\"width: 80%\" />"
   ]
  },
  {
   "cell_type": "markdown",
   "metadata": {
    "slideshow": {
     "slide_type": "slide"
    }
   },
   "source": [
    "## Kompleks multiplikasjon\n",
    "\n",
    "* Enklest å regne ut på polarform\n",
    "* Skalerer og roterer en vektor\n",
    "\n",
    "<img src=\"Figurer/03_Sinussignal/Fig14_compMult.jpg\" style=\"width: 80%\" />"
   ]
  },
  {
   "cell_type": "markdown",
   "metadata": {
    "slideshow": {
     "slide_type": "slide"
    }
   },
   "source": [
    "## Kompleks Potensregning\n",
    "\n",
    "* Påfører skalering og rotasjon avhengig av eksponent\n",
    "\n",
    "<img src=\"Figurer/03_Sinussignal/Fig15_compExp.jpg\" style=\"width: 80%\" />"
   ]
  },
  {
   "cell_type": "markdown",
   "metadata": {
    "slideshow": {
     "slide_type": "slide"
    }
   },
   "source": [
    "## Kompleks Divisjon\n",
    "\n",
    "* På polarform:\n",
    "    - finn den inverterte av neveneren: $\\frac{1}{z} = r^{-1}\\cdot e^{-j\\theta}$\n",
    "    - Skalér og roter vektor som med multiplikasjon.\n",
    "\n",
    "<img src=\"Figurer/03_Sinussignal/Fig16_compDiv.jpg\" style=\"width: 80%\" />"
   ]
  },
  {
   "cell_type": "markdown",
   "metadata": {
    "slideshow": {
     "slide_type": "slide"
    }
   },
   "source": [
    "## Regneeksempel 3: Kompleks divisjon\n",
    "\n",
    "* Utfør følgende komplekse divisjon, og skriv svaret på polarform.\n",
    "\n",
    "$$\\frac{\\sqrt{12}+j2}{1-j\\sqrt{3}}$$\n",
    "* _Løses i OneNote_"
   ]
  },
  {
   "cell_type": "markdown",
   "metadata": {
    "slideshow": {
     "slide_type": "slide"
    }
   },
   "source": [
    "## Komplekskonjugering\n",
    "\n",
    "<div style=\"width: 100%;\">\n",
    "    <img src=\"Figurer/03_Sinussignal/Fig17_compConj.jpg\" style=\"float: right; width: 40%\" />\n",
    "    <div style=\"width: 60%\">\n",
    "    <ul>\n",
    "      <li>\"Speiling\" av kompleks vektor over x-aksen</li>\n",
    "      <li>På kartesisk form:</li>\n",
    "      <ul><li>$z = x+jy$</li>\n",
    "          <li>$z^{*} = x-jy$ </li></ul>\n",
    "      <li>På polarform:</li>\n",
    "      <ul><li>$z = r\\cdot e^{j\\theta}$</li>\n",
    "          <li>$z^{*} = r\\cdot e^{-j\\theta}$ </li></ul>\n",
    "      <li>Nyttige egenskaper:</li>\n",
    "      <ul><li>$\\mathfrak{R}(z) = \\frac{1}{2}\\left(z+z^{*}\\right)$</li>\n",
    "          <li>$\\mathfrak{I}(z) = \\frac{1}{2}\\left(z-z^{*}\\right)$</li>\n",
    "          <li>$\\left| z\\right| ^{2} = z\\cdot z^{*}$ </li>\n",
    "        </ul>\n",
    "    </ul>  \n",
    "    </div>\n",
    "</div> "
   ]
  },
  {
   "cell_type": "markdown",
   "metadata": {
    "slideshow": {
     "slide_type": "slide"
    }
   },
   "source": [
    "## Komplekse tall på enhetssirkelen\n",
    "\n",
    "* Komplekse tall som ligger på enhetssirkelen har absoluttverdi lik 1.\n",
    "* Å opphøye med en eksponent vil *kun* påføre rotasjon.\n",
    "\n",
    "#### Kodeeksempel:"
   ]
  },
  {
   "cell_type": "code",
   "execution_count": 25,
   "metadata": {
    "scrolled": false,
    "slideshow": {
     "slide_type": "fragment"
    }
   },
   "outputs": [
    {
     "data": {
      "application/vnd.jupyter.widget-view+json": {
       "model_id": "a27d75a768e7436a9518edce23bf1823",
       "version_major": 2,
       "version_minor": 0
      },
      "text/plain": [
       "Canvas(toolbar=Toolbar(toolitems=[('Home', 'Reset original view', 'home', 'home'), ('Back', 'Back to previous …"
      ]
     },
     "metadata": {},
     "output_type": "display_data"
    }
   ],
   "source": [
    "z = 1*np.exp(2j*pi/8)\n",
    "n = np.arange(0, 8)\n",
    "\n",
    "unitCircle = exp(2j*pi*np.linspace(0, 1, 501))\n",
    "\n",
    "z_n = z**n\n",
    "\n",
    "\n",
    "\n",
    "plt.close(12)\n",
    "plt.figure(12)\n",
    "plt.plot(np.real(unitCircle), np.imag(unitCircle), 'r:')\n",
    "\n",
    "plt.scatter(np.real(z_n), np.imag(z_n))\n",
    "plt.axis([-1.1, 1.1, -1.1, 1.1])\n",
    "\n",
    "plt.grid(True)"
   ]
  },
  {
   "cell_type": "markdown",
   "metadata": {
    "slideshow": {
     "slide_type": "slide"
    }
   },
   "source": [
    "<img src=\"Figurer/03_Sinussignal/Kontrollspm.png\" style=\"width: 60%; margin-left: 100px\" />"
   ]
  },
  {
   "cell_type": "markdown",
   "metadata": {
    "slideshow": {
     "slide_type": "slide"
    }
   },
   "source": [
    "## Komplekse eksponentialer\n",
    "## $$e^{j\\omega t} = \\cos(\\omega t) + j\\sin(\\omega t)$$\n",
    "    \n",
    "    \n",
    "    \n",
    "<div style=\"width: 100%;\">\n",
    "    <img src=\"Figurer/03_Sinussignal/Fig18_compRot.jpg\" style=\"float: right; width: 40%\" />\n",
    "    <div style=\"width: 60%\">\n",
    "    <ul>\n",
    "        <br>\n",
    "      <li>Visualiseres som en roterende vektor</li>\n",
    "      <ul><li>Vektoren har konstant lengde</li>\n",
    "          <li>Vinkelen $\\theta$ varierer som funksjon av $t$ </li>\n",
    "          $$\\theta = \\omega\\cdot t$$ \n",
    "          <li>Vinkelfrekvensen $\\omega$ angir <i>rotasjonshastigheten</i>.\n",
    "        </ul>\n",
    "    </ul>  \n",
    "    </div>\n",
    "</div> "
   ]
  },
  {
   "cell_type": "markdown",
   "metadata": {
    "slideshow": {
     "slide_type": "slide"
    }
   },
   "source": [
    "## Sinusbølger og komplekse eksponentialer\n",
    "\n",
    "<div style=\"width: 80%;\">\n",
    "    <img src=\"Figurer/03_Sinussignal/Fig18_rePhasor.gif\" style=\"float: right; width: 30%\" />\n",
    "    <div style=\"width: 60%\">\n",
    "    <ul>\n",
    "      <br>\n",
    "      <li>Cosinus er den relle delen av en roterende vektor.</li>\n",
    "        $$\\cos(\\omega t) = \\mathfrak{R}\\left(e^{j\\omega t}\\right)$$\n",
    "      <li>Sinusinus er den imaginære delen av en roterende vektor.</li>\n",
    "        $$\\sin(\\omega t) = \\mathfrak{I}\\left(e^{j\\omega t}\\right)$$\n",
    "    </ul>  \n",
    "    </div>\n",
    "</div> "
   ]
  },
  {
   "cell_type": "markdown",
   "metadata": {
    "slideshow": {
     "slide_type": "slide"
    }
   },
   "source": [
    "## Sinusbølger som sum av komplekse eksponentialer\n",
    "\n",
    "<div style=\"width: 80%;\">\n",
    "    <img src=\"Figurer/03_Sinussignal/Fig19_phasorSum.gif\" style=\"float: right; width: 30%\" />\n",
    "    <div style=\"width: 60%\">\n",
    "    <ul>\n",
    "      <br>\n",
    "      <li>Dekomponering av sinussignal til sum av roterende komplekskonjugerte vektorer:</li>\n",
    "        $$\\cos(\\omega t) = \\frac{e^{j\\omega t}+e^{-j\\omega t}}{2}$$\n",
    "        $$\\sin(\\omega t) = \\frac{e^{j\\omega t}-e^{-j\\omega t}}{2j}$$\n",
    "        <li><b><u>Eulers formel</u></b></li>\n",
    "        <br>\n",
    "        <li><i>All frekvensanalyse av signal bygger på denne matematiske dekomponeringen.</i></li>\n",
    "       </ul>  \n",
    "    </div>\n",
    "</div> "
   ]
  },
  {
   "cell_type": "markdown",
   "metadata": {
    "slideshow": {
     "slide_type": "slide"
    }
   },
   "source": [
    "## Negativ frekvens\n",
    "\n",
    "* Matematisk frekensanalyse bryter opp signaler i komplekse eksponentialer.\n",
    "* Frekvensen til komplekse eksponentialer avgjør hastigheten på den komplekse vektorenes rotasjon.\n",
    "    - Denne rotasjonen har en *retnign*.\n",
    "    - Vektorer som roterer *mot* klokken har *positiv* frekvens.\n",
    "    - Vektorer som roterer *med* klokken har *negativ* frekvens.\n",
    "* I Signalbehandling har frekvens altså en *retning*. Og negative frekvenser er dermed, rent matematisk, noe som eksisterer.\n",
    "* Et sinussignal med frekvens $100Hz$, kan dermed sies å ha frekvensinnhold to frekvenser: $f = \\pm 100Hz$."
   ]
  },
  {
   "cell_type": "markdown",
   "metadata": {
    "slideshow": {
     "slide_type": "slide"
    }
   },
   "source": [
    "## Frekvensinnholdet til en sinusbølge\n",
    "\n",
    "<br>\n",
    "\n",
    "<img src=\"Figurer/03_Sinussignal/Fig20_sineSpect.png\" style=\"width: 100%\" />\n",
    "\n",
    "<br>\n",
    "\n",
    "* Legg merke til at hver av frekvenskomponentene har halve amplituden til sinusbølgen."
   ]
  },
  {
   "cell_type": "markdown",
   "metadata": {
    "slideshow": {
     "slide_type": "slide"
    }
   },
   "source": [
    "## Komplekse eksponentialer og faseledd\n",
    "\n",
    "* Generell sinusbølge:\n",
    "$$x(t) = A\\cdot \\cos(\\omega t + \\phi)$$\n",
    "\n",
    "<br>\n",
    "\n",
    "* Omregnet til komplekse eksponentialer blir dette:\n",
    "$$\\begin{align}\n",
    "x(t) &= \\mathfrak{R}\\left(A\\cdot e^{j(\\omega t + \\phi)}\\right)\\\\\n",
    "&= \\mathfrak{R}\\left(Ae^{j\\phi} \\cdot e^{j\\omega t} \\right) \n",
    "\\end{align}$$\n",
    "\n",
    "\n",
    "* Sinusbølgens *amplitude* og *fase* er representert med den *komplekse amplituden* $a = Ae^{j\\phi}$"
   ]
  },
  {
   "cell_type": "markdown",
   "metadata": {
    "slideshow": {
     "slide_type": "slide"
    }
   },
   "source": [
    "## Sum av sinusbølger med lik frekvens\n",
    "\n",
    "* Når to eller flere sinusbølger med lik frekvens summeres, blir resultatet én sinusbølge med en ny amplitude og fase.\n",
    "\n",
    "<img src=\"Figurer/03_Sinussignal/Fig21_sineSum.jpg\" style=\"width: 90%\" />"
   ]
  },
  {
   "cell_type": "markdown",
   "metadata": {
    "slideshow": {
     "slide_type": "slide"
    }
   },
   "source": [
    "## Sum av sinusbølger med vektoraddisjon\n",
    "\n",
    "* Problem:\n",
    "#### $$\\sum_{k=1}^{N}A_k \\cdot \\cos\\left(\\omega_0 \\cdot t + \\phi_k \\right) = A\\cdot \\cos \\left(\\omega_0 \\cdot t + \\phi \\right)$$\n",
    "Vi vil finne $A$ og $\\phi$.\n",
    "\n",
    "* Behandler sinusbølgene som komplekse eksponentialer med kompleks amplitude.\n",
    "    * En sinusbølges amplitude og fase er kan representeres med én kompleks verdi, eller \"kompleks amplitude\".\n",
    "    * Finner den samlede amplituden og fasen ved å legge sammen de komplekse amplitudene.\n",
    "    \n",
    "$$A = \\left|A_1e^{j\\phi_1} + A_2e^{j\\phi_2}+\\cdots\\right|$$\n",
    "$$\\phi = \\angle \\left( A_1e^{j\\phi_1} + A_2e^{j\\phi_2}+\\cdots\\right) $$"
   ]
  },
  {
   "cell_type": "markdown",
   "metadata": {
    "slideshow": {
     "slide_type": "slide"
    }
   },
   "source": [
    "## Pythondemo: *sum av sinusbølger*"
   ]
  },
  {
   "cell_type": "code",
   "execution_count": 26,
   "metadata": {
    "scrolled": false,
    "slideshow": {
     "slide_type": "fragment"
    }
   },
   "outputs": [
    {
     "data": {
      "application/vnd.jupyter.widget-view+json": {
       "model_id": "50623d438e484e70b3ef4fdd2e3bca12",
       "version_major": 2,
       "version_minor": 0
      },
      "text/plain": [
       "Canvas(toolbar=Toolbar(toolitems=[('Home', 'Reset original view', 'home', 'home'), ('Back', 'Back to previous …"
      ]
     },
     "metadata": {},
     "output_type": "display_data"
    },
    {
     "data": {
      "application/vnd.jupyter.widget-view+json": {
       "model_id": "d79d3095c5fc46308cdd56065318515e",
       "version_major": 2,
       "version_minor": 0
      },
      "text/plain": [
       "VBox(children=(HBox(children=(FloatSlider(value=1.0, description='$A_1$', layout=Layout(width='95%'), max=1.0)…"
      ]
     },
     "metadata": {},
     "output_type": "display_data"
    },
    {
     "data": {
      "application/vnd.jupyter.widget-view+json": {
       "model_id": "e939d1b52b3b4b41b2af009f108f7c88",
       "version_major": 2,
       "version_minor": 0
      },
      "text/plain": [
       "Output()"
      ]
     },
     "metadata": {},
     "output_type": "display_data"
    }
   ],
   "source": [
    "demo4();"
   ]
  },
  {
   "cell_type": "markdown",
   "metadata": {
    "slideshow": {
     "slide_type": "slide"
    }
   },
   "source": [
    "## Regneregel\n",
    "\n",
    "<img src=\"Figurer/03_Sinussignal/Fig22_sineSumRule.jpg\" style=\"width: 100%\" />"
   ]
  },
  {
   "cell_type": "markdown",
   "metadata": {
    "slideshow": {
     "slide_type": "slide"
    }
   },
   "source": [
    "## Regneeksempel 4: Vektoraddisjonsprinsippet\n",
    "* Git følgende sum av sinusbølger:\n",
    "$$x(t) = \\cos\\left(\\omega_0t\\right)+\\cos\\left(\\omega_0t + \\frac{\\pi}{2}\\right)+2\\cdot\\cos\\left(\\omega_0t+\\pi\\right)+\\cos\\left(\\omega_0t + \\frac{3\\pi}{2}\\right)$$\n",
    "    Bruk vektoraddisjon til å finne en beskrivelse av signalet $x(t)$ med kun ett cosinusuttrykk."
   ]
  },
  {
   "cell_type": "markdown",
   "metadata": {
    "slideshow": {
     "slide_type": "slide"
    }
   },
   "source": [
    "# Vektoraddisjonsprinsippet: Matematisk Bevis\n",
    "\n",
    "$$\n",
    "\\begin{align}\n",
    "\\sum_{k=1}^{N}A_k \\cdot \\cos(\\omega_0 + \\phi_k) &= \\sum_{k=1}^{N}\\mathfrak{R}\\left\\{A_k\\cdot e^{j(\\omega_0t+\\phi_k)} \\right\\}\\\\\n",
    "&=\\mathfrak{R}\\left\\{\\sum_{k=1}^{N}A_k\\cdot e^{j\\omega_0t}\\cdot e^{j\\phi_k}\\right\\}\\\\\n",
    "&=\\mathfrak{R}\\left\\{\\left(\\sum_{k=1}^{N}A_k\\cdot e^{j\\phi_k}\\right)\\cdot e^{j\\omega_0t}\\right\\}\\\\ \\\\\n",
    "&=\\mathfrak{R}\\left\\{\\left(A\\cdot e^{j\\phi}\\right) \\cdot e^{j\\omega_0t}\\right\\}\\\\ \\\\\n",
    "&= A\\cdot \\cos(\\omega_0t+\\phi)\n",
    "\\end{align}\n",
    "$$"
   ]
  },
  {
   "cell_type": "markdown",
   "metadata": {
    "slideshow": {
     "slide_type": "slide"
    }
   },
   "source": [
    "# Sum av komplekse eksponentialer med ulik frekvens\n",
    "\n",
    "<div style=\"width: 80%;\">\n",
    "    <img src=\"Figurer/03_Sinussignal/Fig23_PhasorSum2.gif\" style=\"float: left; width: 30%\" />\n",
    "    <img src=\"Figurer/03_Sinussignal/Fig24_PhasorSum3.gif\" style=\"float: right; width: 30%\" />\n",
    "</div> "
   ]
  },
  {
   "cell_type": "markdown",
   "metadata": {
    "slideshow": {
     "slide_type": "slide"
    }
   },
   "source": [
    "# Sum av komplekse eksponentialer med ulik frekvens\n",
    "\n",
    "* Regnestykker på formen\n",
    "$$z(t) = A_0\\cdot e^{j\\omega_0t} + A_1\\cdot e^{j\\omega_1t}+\\cdots$$\n",
    "    Vil dukke opp i ulike tema gjennom hele semesteret.\n",
    "    \n",
    "* Fouriértransformasjon av digitale signal f.eks. innebærer å løse et slikt uttrykk.\n",
    "\n",
    "<br>\n",
    "\n",
    "* Vi skal se på et enkelt regneeksempel...."
   ]
  },
  {
   "cell_type": "markdown",
   "metadata": {
    "slideshow": {
     "slide_type": "slide"
    }
   },
   "source": [
    "## Regneeksempel 5: Sum av komplekse eksponentialer med ulik frekvens.\n",
    "* Skriv funksjonsuttrykket nedenfor på enklest mulig form:\n",
    "$$0.5+e^{j\\frac{\\pi}{6}t} + 0.5\\cdot e^{j\\frac{\\pi}{3}t}$$\n",
    "    * Her må vi kombinere flere av regnereglene vi har lært denne uken."
   ]
  },
  {
   "cell_type": "markdown",
   "metadata": {
    "slideshow": {
     "slide_type": "slide"
    }
   },
   "source": [
    "## Pythondemo: $x(t) = 0.5+e^{j\\frac{\\pi}{6}t} + 0.5\\cdot e^{j\\frac{\\pi}{3}t}, \\ \\ \\ 0\\leq t \\leq 12$"
   ]
  },
  {
   "cell_type": "code",
   "execution_count": 30,
   "metadata": {
    "scrolled": false,
    "slideshow": {
     "slide_type": "fragment"
    }
   },
   "outputs": [
    {
     "data": {
      "application/vnd.jupyter.widget-view+json": {
       "model_id": "c53de99bb9674a329e621ab832cdb799",
       "version_major": 2,
       "version_minor": 0
      },
      "text/plain": [
       "Canvas(toolbar=Toolbar(toolitems=[('Home', 'Reset original view', 'home', 'home'), ('Back', 'Back to previous …"
      ]
     },
     "metadata": {},
     "output_type": "display_data"
    },
    {
     "data": {
      "application/vnd.jupyter.widget-view+json": {
       "model_id": "8baab49c73c045ddb0cc76b29977f598",
       "version_major": 2,
       "version_minor": 0
      },
      "text/plain": [
       "VBox(children=(HBox(children=(FloatSlider(value=0.0, description='$Tid\\\\ \\\\ \\\\ t$', layout=Layout(width='95%')…"
      ]
     },
     "metadata": {},
     "output_type": "display_data"
    },
    {
     "data": {
      "application/vnd.jupyter.widget-view+json": {
       "model_id": "4cb3ab403911475da1de352a329e7948",
       "version_major": 2,
       "version_minor": 0
      },
      "text/plain": [
       "Output()"
      ]
     },
     "metadata": {},
     "output_type": "display_data"
    }
   ],
   "source": [
    "A = [0.5, 1, 0.5]; omega = [-pi/6, 0, pi/6]; T =  12;\n",
    "demo5(A, omega, T);"
   ]
  },
  {
   "cell_type": "markdown",
   "metadata": {
    "slideshow": {
     "slide_type": "slide"
    }
   },
   "source": [
    "# Oppsummering\n",
    "\n",
    "* Egenskapene til sinusbølger, og hvorfor de er relevante.\n",
    "* Relasjon mellom sinusbølger og komplekse eksponentialer.\n",
    "    * Positiv og negativ frekvens.\n",
    "* Representasjon av en sinusbølge sin amplitude og fase med en kompleks vektor.\n",
    "* Addisjon av sinusbøler med lik frekvens med bruk av vektoraddisjons-medoden."
   ]
  },
  {
   "cell_type": "markdown",
   "metadata": {
    "slideshow": {
     "slide_type": "slide"
    }
   },
   "source": [
    "# Spørsmål?"
   ]
  }
 ],
 "metadata": {
  "celltoolbar": "Slideshow",
  "kernelspec": {
   "display_name": "Python 3",
   "language": "python",
   "name": "python3"
  },
  "language_info": {
   "codemirror_mode": {
    "name": "ipython",
    "version": 3
   },
   "file_extension": ".py",
   "mimetype": "text/x-python",
   "name": "python",
   "nbconvert_exporter": "python",
   "pygments_lexer": "ipython3",
   "version": "3.8.5"
  }
 },
 "nbformat": 4,
 "nbformat_minor": 4
}
