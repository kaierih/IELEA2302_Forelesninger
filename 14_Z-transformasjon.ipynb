{
 "cells": [
  {
   "cell_type": "code",
   "execution_count": 1,
   "metadata": {
    "slideshow": {
     "slide_type": "skip"
    }
   },
   "outputs": [],
   "source": [
    "# Generelle moduler og funksjonsbeskrivelser brukt i forelesningen\n",
    "from numpy import sin, cos, pi, exp\n",
    "import numpy as np\n",
    "import scipy.signal as sig\n",
    "import matplotlib.pyplot as plt\n",
    "from Kildekode._12_IIRFilt import *\n",
    "from Kildekode._14_Z_transformasjon import *\n",
    "\n",
    "%matplotlib ipympl"
   ]
  },
  {
   "cell_type": "markdown",
   "metadata": {
    "slideshow": {
     "slide_type": "slide"
    }
   },
   "source": [
    "<img src=\"NTNU_Logo.png\" align=\"left\" style=\"width: 30%\">\n",
    "<br clear=\"all\" />\n",
    "<br></br>\n",
    "\n",
    "# Z-transformasjon\n",
    "\n",
    "* **Emne IELEA2302 - Signalbehandling**\n",
    "* **Uke 14, 2021**\n",
    "* **Underviser: Kai Erik Hoff**"
   ]
  },
  {
   "cell_type": "markdown",
   "metadata": {
    "slideshow": {
     "slide_type": "skip"
    }
   },
   "source": [
    "## Tema Tirsdag 6. april:\n",
    "* Repetisjon IIR-filtre\n",
    "* Fra differanseligning til frekvensrespons\n",
    "* z-transformasjon\n",
    "    * Fourier og laplace (for kontekst)\n",
    "    * Z-transformasjon\n",
    "    * Z-planet\n",
    "* Transferfunksjon $H(z)$"
   ]
  },
  {
   "cell_type": "markdown",
   "metadata": {
    "slideshow": {
     "slide_type": "skip"
    }
   },
   "source": [
    "# Tema Fredag 9. april:\n",
    "* Repetisjon z-transformasjon\n",
    "* Repetisjon Transferfunksjon\n",
    "* Poler og nullpunkt\n",
    "* Pol- og nullpunktskart\n",
    "* Poler, nullpunkt og frekvensrespons (filterform)"
   ]
  },
  {
   "cell_type": "markdown",
   "metadata": {
    "slideshow": {
     "slide_type": "slide"
    }
   },
   "source": [
    "# Tema Tirsdag 13. april:\n",
    "\n",
    "* Repetisjon transferfunksjon, poler og nullpunkt\n",
    "* Fortsettele poler, nullpunkt og frekvensrespons (filterform)\n",
    "* Stabilitet\n",
    "* Quiz"
   ]
  },
  {
   "cell_type": "markdown",
   "metadata": {
    "slideshow": {
     "slide_type": "skip"
    }
   },
   "source": [
    "## Repetisjon IIR filtre\n",
    "\n",
    "* **IIR** - **I**nfinite **I**mpulse **R**esponse\n",
    "* Fellesbetegnelse for filter som kalkulerer utgangsveriden $y[n]$ basert på en lineær kombinasjon av verdiene til inngangssignalet ved foregående sampletidspunkt $x[n-k], \\ \\ k\\in \\{0, 1, 2, \\ldots\\}$ ***og*** tidligere kalkulerte verdier til utgangssignalet $y[n-k], \\ \\ k \\in \\{1, 2, \\ldots\\}$.\n",
    "\n",
    "\n",
    "* **Differanseligning:**\n",
    "$$\\sum_{k=0}^{N} a_k \\cdot y[n-k] = \\sum_{k=0}^{M} b_k \\cdot x[n-k]$$\n",
    "* **Filteralgoritme:**\n",
    "$$y[n] = \\frac{1}{a_0}\\cdot \\left(\\sum_{k=0}^{M} b_k \\cdot x[n-k] - \\sum_{k=1}^{N}a_k\\cdot  y[n-k] \\right)$$"
   ]
  },
  {
   "cell_type": "markdown",
   "metadata": {
    "slideshow": {
     "slide_type": "skip"
    }
   },
   "source": [
    "## Repetisjon Rekursiv filterstruktur\n",
    "\n",
    "* IIR filtre omtales ofte som *rekursive* filtre ettersom utgangssignalet tilbakekobles som input.\n",
    "<img src=\"Figurer/12_IIR%20Filtre/Fig0_Recursion.png\" style=\"width: 35%; margin-left: 400px\" />\n",
    "\n",
    "* Impulsresponsen $h[n]$ for et slikt filter vil ha uendelig varighet.\n",
    "* Impulsrespons og filterkoeffisienter er ikke lengre synonyme.\n",
    "$$b_k \\neq h[n]\\big{|}_{n=k}$$"
   ]
  },
  {
   "cell_type": "markdown",
   "metadata": {
    "slideshow": {
     "slide_type": "skip"
    }
   },
   "source": [
    "## Repetisjon IIR filtre\n",
    "\n",
    "* Ved å lage et *rekursivt* filter, kan selv enkle førsteordens filtre produsere en langvarig impulsrespons.\n",
    "* Et IIR-filter med relativt lav filterorden kan, dersom vi velger filterkoeffisienter med omhu, oppfylle de samme kravene for amplitduerespons som et FIR filter med ***mye*** høyere filterorden.\n",
    "* Ulempen er at IIR filtre ***ikke*** har lineær faserespons i passbåndet. \n",
    "    * Konsekvensen av dette er *tidsforskyvningen* for hver av frekvenskomponentene til det filtrerte signalet gitt i antall sampler ikke vil være konstant.\n",
    "    * Dette har potensiale til å forårsake uønsket distorsjon av f.eks. et lydsignal."
   ]
  },
  {
   "cell_type": "markdown",
   "metadata": {
    "slideshow": {
     "slide_type": "skip"
    }
   },
   "source": [
    "## Impulsrespons førsteordens IIR-filter\n",
    "\n",
    "* Eksempel:\n",
    "$$y[n] = x[n] + 0.9\\cdot y[n-1]$$\n",
    "* Ettersom et IIR-filter tar i bruk tidligere utgangsverdier får vi en *geometrisk rekke*:\n",
    "|$$n$$|$$x[n]=\\delta[n]$$|$$y[n]=h[n]$$|\n",
    "|:-:|:-:|:-:|\n",
    "|0|1|$$y[0] = 1 + 0.9\\cdot 0 = 1$$|\n",
    "|1|0|$$y[1] = 0 + 0.9\\cdot 1 = 0.9$$|\n",
    "|2|0|$$y[2] = 0 + 0.9\\cdot 0.9 = 0.81$$|\n",
    "|3|0|$$y[3] = 0 + 0.9\\cdot 0.81 = 0.9^3$$|\n",
    "|4|0|$$y[3] = 0 + 0.9\\cdot 0.9^3 = 0.9^4$$|\n",
    "|$$\\ldots$$|$$\\ldots$$|$$\\ldots$$|\n",
    "\n",
    "$$h[n] = u[n] \\cdot 0.9^n$$"
   ]
  },
  {
   "cell_type": "markdown",
   "metadata": {
    "slideshow": {
     "slide_type": "skip"
    }
   },
   "source": [
    "## Repetisjon Regneeksempel 3: \n",
    "* Gitt høypassfilteret\n",
    "$$y[n] = x[n]-x[n-1]-0.8\\cdot y[n-1]$$\n",
    "Finn et uttrykk for frekvensresponsen, og korriger deretter filterkoeffisientene slik at $\\text{max}\\left(\\left|H\\left(e^{j\\hat{\\omega}}\\right)\\right|\\right) = 1$."
   ]
  },
  {
   "cell_type": "code",
   "execution_count": 2,
   "metadata": {
    "slideshow": {
     "slide_type": "skip"
    }
   },
   "outputs": [
    {
     "data": {
      "application/vnd.jupyter.widget-view+json": {
       "model_id": "ad997f00dee2440783943add87b38184",
       "version_major": 2,
       "version_minor": 0
      },
      "text/plain": [
       "Canvas(toolbar=Toolbar(toolitems=[('Home', 'Reset original view', 'home', 'home'), ('Back', 'Back to previous …"
      ]
     },
     "metadata": {},
     "output_type": "display_data"
    },
    {
     "data": {
      "application/vnd.jupyter.widget-view+json": {
       "model_id": "8ed3aa611a3c4362a4f3e03f2e68ef3c",
       "version_major": 2,
       "version_minor": 0
      },
      "text/plain": [
       "VBox(children=(FloatSlider(value=0.125, continuous_update=False, description='Digital Frekvens $\\\\hat{\\\\omega}…"
      ]
     },
     "metadata": {},
     "output_type": "display_data"
    },
    {
     "data": {
      "application/vnd.jupyter.widget-view+json": {
       "model_id": "27d136949d97448db0d490383a24eb71",
       "version_major": 2,
       "version_minor": 0
      },
      "text/plain": [
       "Output()"
      ]
     },
     "metadata": {},
     "output_type": "display_data"
    }
   ],
   "source": [
    "# Frekvensresponsen til filteret i eksempel 3\n",
    "FreqRespDemo([0.1, -0.1], [1, 0.8], fig_num=1);"
   ]
  },
  {
   "cell_type": "markdown",
   "metadata": {
    "slideshow": {
     "slide_type": "skip"
    }
   },
   "source": [
    "# Tidsforskyvning i frekvensplanet\n",
    "\n",
    "* En sentral egenskap for utregning av frekvensrespons til digitale filtre er tidsforskyving\n",
    "* Vi vet at:\n",
    "<br>\n",
    "\n",
    "\n",
    "\\begin{align}\n",
    "DTFT(\\alpha\\cdot x[n-D]) &= \\alpha \\cdot  X\\left(e^{j\\hat{\\omega}}\\right) \\cdot e^{-j\\hat{\\omega}\\cdot D}\\\\\n",
    "&\\text{ettersom}\\\\\n",
    "x[n-D] &= x[n]*\\delta[n-D]\\\\\n",
    "&\\text{og}\\\\\n",
    "DTFT(\\delta[n-D]) &=e^{-j\\hat{\\omega}\\cdot D}\n",
    "\\end{align}\n",
    "\n",
    "* Dermed kan vi fouriertransformere begge sidene av differanseligningen til et filter."
   ]
  },
  {
   "cell_type": "markdown",
   "metadata": {
    "slideshow": {
     "slide_type": "skip"
    }
   },
   "source": [
    "# Frekvensrespons via differanseligning\n",
    "\n",
    "\n",
    "\n",
    "\\begin{align}\n",
    "DTFT\\left(\\sum_{k=0}^{N} a_k \\cdot y[n-k]\\right) &= DTFT\\left(\\sum_{k=0}^{M} b_k \\cdot x[n-k] \\right)\\\\\n",
    "\\sum_{k=0}^{N} a_k \\cdot Y\\left(e^{j\\hat{\\omega}}\\right)\\cdot e^{-j\\hat{\\omega}\\cdot k} &=\\sum_{k=0}^{M} b_k \\cdot X\\left(e^{j\\hat{\\omega}}\\right)\\cdot e^{-j\\hat{\\omega}\\cdot k}\\\\\n",
    "Y\\left(e^{j\\hat{\\omega}}\\right)\\cdot \\left(\\sum_{k=0}^{N} a_k \\cdot e^{-j\\hat{\\omega}\\cdot k}\\right) &= X\\left(e^{j\\hat{\\omega}}\\right)\\cdot \\left(\\sum_{k=0}^{M} b_k \\cdot e^{-j\\hat{\\omega}\\cdot k}\\right)\\\\\n",
    "H\\left(e^{j\\hat{\\omega}}\\right) = \\frac{Y\\left(e^{j\\hat{\\omega}}\\right)}{X\\left(e^{j\\hat{\\omega}}\\right)} &= \\frac{\\sum_{k=0}^{M} b_k \\cdot e^{-j\\hat{\\omega}\\cdot k}}{\\sum_{k=0}^{N} a_k \\cdot e^{-j\\hat{\\omega}\\cdot k}}\n",
    "\\end{align}"
   ]
  },
  {
   "cell_type": "markdown",
   "metadata": {
    "slideshow": {
     "slide_type": "skip"
    }
   },
   "source": [
    "## Eksempel: \n",
    "\n",
    "* Gitt høypassfilteret\n",
    "$$y[n] = 0.1\\cdot x[n]-0.1\\cdot x[n-1]-0.8\\cdot y[n-1]$$\n",
    "kan vi finne frekvensresponsen på følgende vis:\n",
    "\n",
    "\n",
    "\n",
    "\\begin{align}\n",
    "y[n] &= 0.1\\cdot x[n]-0.1\\cdot x[n-1]-0.8\\cdot y[n-1]\\\\\n",
    "y[n] + 0.8\\cdot y[n-1] &= 0.1\\cdot x[n] - 0.1\\cdot x[n-1] \\\\\n",
    "\\text{DTFT}(y[n] + 0.8\\cdot y[n-1]) &=\\text{DTFT}(0.1\\cdot x[n] - 0.1\\cdot x[n-1])\\\\\n",
    "Y\\left(e^{j\\hat{\\omega}}\\right) + 0.8\\cdot e^{-j\\hat{\\omega}\\cdot 1} \\cdot Y\\left(e^{j\\hat{\\omega}}\\right) &= 0.1\\cdot X\\left(e^{j\\hat{\\omega}}\\right) - 0.1\\cdot e^{-j\\hat{\\omega}\\cdot 1} \\cdot X\\left(e^{j\\hat{\\omega}}\\right) \\\\\n",
    "Y\\left(e^{j\\hat{\\omega}}\\right)\\cdot \\left(1+0.8\\cdot e^{-j\\hat{\\omega}} \\right) &= X\\left(e^{j\\hat{\\omega}}\\right)\\cdot \\left(0.1-0.1\\cdot e^{-j\\hat{\\omega}} \\right)\\\\\n",
    "\\frac{Y\\left(e^{j\\hat{\\omega}}\\right)}{X\\left(e^{j\\hat{\\omega}}\\right)} &= \\frac{0.1 - 0.1\\cdot e^{-j\\hat{\\omega}}}{1+0.8\\cdot e^{-j\\hat{\\omega}}} = H\\left(e^{j\\hat{\\omega}}\\right)\n",
    "\\end{align}"
   ]
  },
  {
   "cell_type": "markdown",
   "metadata": {
    "slideshow": {
     "slide_type": "skip"
    }
   },
   "source": [
    "# Z-transformasjon\n",
    "\n",
    "* Kartlegger filteregenskaper i \"z-planet\", som har 2 dimensjoner\n",
    "* Viktig for analyse og design av digitale filtre\n",
    "* Kan sammenlignes med Laplacetransformasjon for tidskontinuerlige LTI-system\n"
   ]
  },
  {
   "cell_type": "markdown",
   "metadata": {
    "slideshow": {
     "slide_type": "skip"
    }
   },
   "source": [
    "## Oppsummering Fouriertransformasjon *(tidskontinuerlig)*\n",
    "\n",
    "#### Formel\n",
    "\n",
    "$$F(j\\omega) = \\int_0^{\\infty}f(t)\\cdot e^{-j\\omega t} dt$$\n",
    "\n",
    "#### For LTI-system\n",
    "\n",
    "* Dersom $f(t)$ er impulsresponsen til et LTI-system, forteller dette hvordan systemet vil påvirke et inngangssignal $x(t) = e^{j\\omega \\cdot t}$ med vinkelfrekvens $\\omega$.\n",
    "    * Gjelder også sinusformede signal da  $\\cos(\\omega\\cdot t) = \\frac{1}{2} e^{j\\omega\\cdot t} + \\frac{1}{2} e^{-j \\omega \\cdot t}$."
   ]
  },
  {
   "cell_type": "markdown",
   "metadata": {
    "slideshow": {
     "slide_type": "skip"
    }
   },
   "source": [
    "# Laplacetransformasjon *(tidskontinuerlig)*\n",
    "\n",
    "#### Formel:\n",
    "\n",
    "\\begin{align}\n",
    "F(s) &= \\int_0^{\\infty}f(t)\\cdot e^{-s\\cdot t} dt\\\\\n",
    "&\\text{der}\\\\\n",
    "s &= \\sigma + j\\omega\n",
    "\\end{align}\n",
    "\n",
    "#### For LTI-system\n",
    "* Dersom $f(t)$ er impulsresponsen til et LTI-system, forteller dette hvordan systemet vil påvirke et inngangssignal $x(t) = e^{-s \\cdot t} = e^{-\\sigma \\cdot t} \\cdot e^{-j \\omega\\cdot t}$.\n",
    "* Refleksjoner:\n",
    "    * Dersom $\\sigma = 0$, reduseres den 2-dimensjonale laplacetrasformasjonen til fouriertransformasjon.\n",
    "    * Dersom $\\sigma > 0$, vil amplitudent til $x(t)$ synke over tid.\n",
    "    * Dersom $\\sigma < 0$, vil amplituden til $x(t)$ øke eksponentielt, og vi får \"unbounded input\".\n",
    "    \n",
    "<br>"
   ]
  },
  {
   "cell_type": "code",
   "execution_count": 3,
   "metadata": {
    "slideshow": {
     "slide_type": "skip"
    }
   },
   "outputs": [
    {
     "data": {
      "application/vnd.jupyter.widget-view+json": {
       "model_id": "59597199c16e4ce6afb115f1f5db38ea",
       "version_major": 2,
       "version_minor": 0
      },
      "text/plain": [
       "Canvas(toolbar=Toolbar(toolitems=[('Home', 'Reset original view', 'home', 'home'), ('Back', 'Back to previous …"
      ]
     },
     "metadata": {},
     "output_type": "display_data"
    }
   ],
   "source": [
    "# Angi punkt på s-planet\n",
    "s = -4 + 2j*pi*8\n",
    "# Regn ut e^(-st)\n",
    "t = np.linspace(0, 1, 501)\n",
    "x_t = exp(-s*t)\n",
    "\n",
    "plt.close(2); plt.figure(2)\n",
    "plt.subplot(2,1,1)\n",
    "plt.plot(t, np.real(x_t))\n",
    "plt.ylabel(r'Re($x(t)$)')\n",
    "plt.grid(True)\n",
    "plt.subplot(2,1,2)\n",
    "plt.plot(t, np.imag(x_t))\n",
    "plt.ylabel(r'Im($x(t)$)')\n",
    "plt.xlabel(r't (sekund)')\n",
    "plt.grid(True)"
   ]
  },
  {
   "cell_type": "markdown",
   "metadata": {
    "slideshow": {
     "slide_type": "skip"
    }
   },
   "source": [
    "## Hvorfor ikke bruke laplace for digitale filtre?"
   ]
  },
  {
   "cell_type": "markdown",
   "metadata": {
    "slideshow": {
     "slide_type": "skip"
    }
   },
   "source": [
    "* Frekvenser $|\\hat{\\omega}|>\\pi$ er vil ikke være gyldige.\n",
    "* Aliasing må tas i betraktning.\n",
    "    - Løses med å transformere til \"polarkoordinater\".\n",
    "    - Digital frekvens $\\hat{\\omega}$ gitt ved vinkel\n",
    "    - Demping gitt ved avstand til origo."
   ]
  },
  {
   "cell_type": "markdown",
   "metadata": {
    "slideshow": {
     "slide_type": "skip"
    }
   },
   "source": [
    "## Oppsummering DTFT\n",
    "#### Formel\n",
    "\n",
    "$$H\\left(e^{j\\hat{\\omega}}\\right) = \\sum_{n=0}^{\\infty}h[n]\\cdot e^{-j\\hat{\\omega}\\cdot n}$$\n",
    "\n",
    "#### For LTI-system\n",
    "\n",
    "* Dersom $h[n]$ er impulsresponsen til et LTI-system, forteller dette hvordan systemet vil påvirke et inngangssignal $x[n] = e^{-j\\omega \\cdot n}$ med vinkelfrekvens $\\hat{\\omega}$.\n",
    "    * Gjelder også sinusformede signal da  $\\cos(\\hat{\\omega}\\cdot n) = \\frac{1}{2} e^{j\\hat{\\omega}\\cdot n} + \\frac{1}{2} e^{-j \\hat{\\omega} \\cdot n}$."
   ]
  },
  {
   "cell_type": "markdown",
   "metadata": {
    "slideshow": {
     "slide_type": "slide"
    }
   },
   "source": [
    "# Z-transformasjon\n",
    "#### Notasjon:\n",
    "$$\\textbf{Z}(x[n]) = X(z)$$\n",
    "\n",
    "#### Formel:\n",
    "\\begin{align}\n",
    "H(z) &= \\sum_{n=0}^{\\infty} h[n]\\cdot z^{-n}\\\\\n",
    "& \\text{der}\\\\\n",
    "z &= r\\cdot e^{j\\hat{\\omega}}\n",
    "\\end{align}\n",
    "\n",
    "#### For LTI-system\n",
    "* Dersom $h[n]$ er impulsresponsen til et LTI-system, forteller dette hvordan systemet vil påvirke et inngangssignal $x[n] = z^{-n} = r^{-n} \\cdot e^{-j \\hat{\\omega}\\cdot n}$.\n",
    "* Refleksjoner:\n",
    "    * Dersom $|r| = 1$, reduseres den 2-dimensjonale Z-transformen til DTFT. \n",
    "        * Dette er grunnen til at notasjonen for DTFT er $H\\left(e^{j\\hat{\\omega}}\\right)$.\n",
    "    * Dersom $|r| > 1$, vil amplitudent til $x[n]$ synke over tid.\n",
    "    * Dersom $|r| < 1$, vil amplituden til $x[n]$ øke eksponentielt, og vi får \"unbounded input\".\n",
    "    \n",
    "<br>"
   ]
  },
  {
   "cell_type": "markdown",
   "metadata": {
    "slideshow": {
     "slide_type": "skip"
    }
   },
   "source": [
    "# S-plan og Z-plan\n",
    "<br>\n",
    "<img src=\"Figurer/14_Ztransform/Fig2_SandZ.png\" style=\"width: 80%; margin-left: 100px\" />"
   ]
  },
  {
   "cell_type": "code",
   "execution_count": 4,
   "metadata": {
    "slideshow": {
     "slide_type": "skip"
    }
   },
   "outputs": [
    {
     "data": {
      "application/vnd.jupyter.widget-view+json": {
       "model_id": "b6be6d77921a4999b2198f106f5950d8",
       "version_major": 2,
       "version_minor": 0
      },
      "text/plain": [
       "Canvas(toolbar=Toolbar(toolitems=[('Home', 'Reset original view', 'home', 'home'), ('Back', 'Back to previous …"
      ]
     },
     "metadata": {},
     "output_type": "display_data"
    }
   ],
   "source": [
    "# Angi punkt på z-planet i polarkoordinater\n",
    "#z = 0.9*exp(2j*pi/8) # Innenfor enhetssirkel\n",
    "#z = 1*exp(2j*pi/8)     # På enhetssirkel\n",
    "z = 1.1*exp(2j*pi/8) # Utenfor enhetssirkel\n",
    "\n",
    "# Regn ut z^(-n)\n",
    "n = np.arange(0, 32)\n",
    "x_n = z**-n\n",
    "\n",
    "plt.close(3); plt.figure(3)\n",
    "plt.subplot(2,1,1)\n",
    "plt.stem(n, np.real(x_n), markerfmt='.', basefmt='grey', use_line_collection=True)\n",
    "plt.ylabel(r'Re($x[n]$)')\n",
    "plt.grid(True)\n",
    "plt.subplot(2,1,2)\n",
    "plt.stem(n, np.imag(x_n), markerfmt='.', basefmt='grey', use_line_collection=True)\n",
    "plt.ylabel(r'Im($x[n]$)')\n",
    "plt.xlabel(r'n (samplenummer)')\n",
    "plt.grid(True)"
   ]
  },
  {
   "cell_type": "markdown",
   "metadata": {
    "slideshow": {
     "slide_type": "skip"
    }
   },
   "source": [
    "# LTI-filter i Z-domene\n",
    "\n",
    "<br>\n",
    "\n",
    "<img src=\"Figurer/14_Ztransform/Fig3_TF.png\" style=\"width: 80%; margin-left: 100px\" />"
   ]
  },
  {
   "cell_type": "markdown",
   "metadata": {
    "slideshow": {
     "slide_type": "slide"
    }
   },
   "source": [
    "# Transferfunksjon / overføringsfunksjon\n",
    "\n",
    "* Z-transformen av impulsresponen $h[n]$ til et LTI-system kalles systemets *transferfunksjon*\n",
    "* For ethvert kausalt LTI-system med filterkoeffisienter **a** og **b**, vil transferfunksjonen være:\n",
    "\\begin{align}\n",
    "H(z) = \\frac{Y(z)}{X(z)} &= \\frac{\\sum_{k=0}^{M} b_k \\cdot z^{-k}}{\\sum_{k=0}^{N} a_k \\cdot z^{-k}}\\\\\n",
    "&\\text{eller}\\\\\n",
    "&= \\frac{b_0 + b_1\\cdot z^{-1} + b_2 \\cdot z^{-2} + \\ldots + b_M \\cdot z^{-M}}{a_0 + a_1\\cdot z^{-1} + a_2 \\cdot z^{-2} + \\ldots + a_N \\cdot z^{-N}}\n",
    "\\end{align}\n",
    "* Teller og nevner er polynomer\n",
    "* *samme utledning som for DTFT av differanseligning*"
   ]
  },
  {
   "cell_type": "markdown",
   "metadata": {
    "slideshow": {
     "slide_type": "skip"
    }
   },
   "source": [
    "<img src=\"Figurer/14_Ztransform/PZ_lecture/Slide1.PNG\" style=\"width: 85%; margin-left: 50px\" />"
   ]
  },
  {
   "cell_type": "markdown",
   "metadata": {
    "slideshow": {
     "slide_type": "slide"
    }
   },
   "source": [
    "# Frekvensrespons\n",
    "\n",
    "* Hvordan et filter påvirker et inngangssignal som er en ren sinussekvens.\n",
    "\n",
    "\n",
    "<img src=\"Figurer/14_Ztransform/Fig7_DTFT.png\" style=\"width: 60%; margin-left: 200px\" />"
   ]
  },
  {
   "cell_type": "markdown",
   "metadata": {
    "slideshow": {
     "slide_type": "slide"
    }
   },
   "source": [
    "# Transferfunksjon\n",
    "\n",
    "* Hvordan et filter påvirker et inngangssignal på formen $z^{-n}$.\n",
    "\n",
    "\n",
    "<img src=\"Figurer/14_Ztransform/Fig8_TF.png\" style=\"width: 60%; margin-left: 200px\" />"
   ]
  },
  {
   "cell_type": "markdown",
   "metadata": {
    "slideshow": {
     "slide_type": "slide"
    }
   },
   "source": [
    "# Tidsforskyvning i Z-planet\n",
    "\n",
    "* Hver sample tidsforskyvning tilsvarer multiplikasjon med $z^{-1}$ i z-planet. \n",
    "$$\\textbf{Z}(x[n-D]) = z^{-D}\\cdot X(z)$$\n",
    "\n",
    "* I blokkskjemarepresentasjon av filter brukes derfor $z^{-1}$ for å symbolisere tidsforskyvning/delay.\n",
    "\n",
    "<br>\n",
    "\n",
    "<img src=\"Figurer/14_Ztransform/Fig4_Delay.png\" style=\"width: 70%; margin-left: 100px\" />"
   ]
  },
  {
   "cell_type": "markdown",
   "metadata": {
    "slideshow": {
     "slide_type": "skip"
    }
   },
   "source": [
    "## Regneeksempel 1\n",
    "\n",
    "* Finn transferfunksjonen $H(z)$ til filteret i vist i figuren:\n",
    "<br>\n",
    "\n",
    "<img src=\"Figurer/14_Ztransform/Fig5_ExFilt.png\" style=\"width: 70%; margin-left: 100px\" />"
   ]
  },
  {
   "cell_type": "markdown",
   "metadata": {
    "slideshow": {
     "slide_type": "slide"
    }
   },
   "source": [
    "# Visualisering av $H(z)$\n",
    "\n",
    "* $H(z)$ funksjon av et komplekst tall.\n",
    "    * \"Gain\" i transferfunksjonen av størst interesse\n",
    "    * Et \"Surface Plot\" av $|H(z)|$ vil kunne gi informasjon om forsterkningen av ulike typer signal.\n",
    "    * Amplituderesponsen vil kunne leses av ved å studere konturene langs enhetssirkelen."
   ]
  },
  {
   "cell_type": "code",
   "execution_count": 5,
   "metadata": {
    "scrolled": false,
    "slideshow": {
     "slide_type": "slide"
    }
   },
   "outputs": [
    {
     "data": {
      "application/vnd.jupyter.widget-view+json": {
       "model_id": "30a1635f5d8f494a92593bb31c58bbde",
       "version_major": 2,
       "version_minor": 0
      },
      "text/plain": [
       "Canvas(toolbar=Toolbar(toolitems=[('Home', 'Reset original view', 'home', 'home'), ('Back', 'Back to previous …"
      ]
     },
     "metadata": {},
     "output_type": "display_data"
    }
   ],
   "source": [
    "# Filter fra regneeksempel:\n",
    "b = [1, 1, 1, 1] \n",
    "a = [1, -0.6]\n",
    "plt.close(4); plt.figure(4, figsize=(12,8))\n",
    "tfPlot(b, a) # Ikke standardfunksjon, definert i kildekoden til forelesningen."
   ]
  },
  {
   "cell_type": "markdown",
   "metadata": {
    "slideshow": {
     "slide_type": "slide"
    }
   },
   "source": [
    "<img src=\"Figurer/14_Ztransform/PZ_lecture/Slide2.PNG\" style=\"width: 90%; margin-left: 50px\" />"
   ]
  },
  {
   "cell_type": "markdown",
   "metadata": {
    "slideshow": {
     "slide_type": "slide"
    }
   },
   "source": [
    "<img src=\"Figurer/14_Ztransform/PZ_lecture/Slide3.PNG\" style=\"width: 90%; margin-left: 50px\" />"
   ]
  },
  {
   "cell_type": "markdown",
   "metadata": {
    "slideshow": {
     "slide_type": "slide"
    }
   },
   "source": [
    "<img src=\"Figurer/14_Ztransform/PZ_lecture/Slide4.PNG\" style=\"width: 90%; margin-left: 50px\" />"
   ]
  },
  {
   "cell_type": "markdown",
   "metadata": {
    "slideshow": {
     "slide_type": "skip"
    }
   },
   "source": [
    "<img src=\"Figurer/14_Ztransform/PZ_lecture/Slide5.PNG\" style=\"width: 90%; margin-left: 50px\" />"
   ]
  },
  {
   "cell_type": "markdown",
   "metadata": {
    "slideshow": {
     "slide_type": "skip"
    }
   },
   "source": [
    "<img src=\"Figurer/14_Ztransform/PZ_lecture/Slide6.PNG\" style=\"width: 90%; margin-left: 50px\" />"
   ]
  },
  {
   "cell_type": "markdown",
   "metadata": {
    "slideshow": {
     "slide_type": "skip"
    }
   },
   "source": [
    "<img src=\"Figurer/14_Ztransform/PZ_lecture/Slide7.PNG\" style=\"width: 90%; margin-left: 50px\" />"
   ]
  },
  {
   "cell_type": "markdown",
   "metadata": {
    "slideshow": {
     "slide_type": "skip"
    }
   },
   "source": [
    "<img src=\"Figurer/14_Ztransform/PZ_lecture/Slide8.PNG\" style=\"width: 90%; margin-left: 50px\" />"
   ]
  },
  {
   "cell_type": "code",
   "execution_count": 6,
   "metadata": {
    "slideshow": {
     "slide_type": "skip"
    }
   },
   "outputs": [
    {
     "data": {
      "application/vnd.jupyter.widget-view+json": {
       "model_id": "7076883f761545a1b9d905044c35b264",
       "version_major": 2,
       "version_minor": 0
      },
      "text/plain": [
       "Canvas(toolbar=Toolbar(toolitems=[('Home', 'Reset original view', 'home', 'home'), ('Back', 'Back to previous …"
      ]
     },
     "metadata": {},
     "output_type": "display_data"
    }
   ],
   "source": [
    "b = [1, 0, 0, 0, 1]\n",
    "a = [1, 0, 0.49]\n",
    "visualizeTF(b, a, fig_num=5)"
   ]
  },
  {
   "cell_type": "markdown",
   "metadata": {
    "slideshow": {
     "slide_type": "skip"
    }
   },
   "source": [
    "<img src=\"Figurer/14_Ztransform/PZ_lecture/Slide9.PNG\" style=\"width: 90%; margin-left: 50px\" />"
   ]
  },
  {
   "cell_type": "code",
   "execution_count": 13,
   "metadata": {
    "slideshow": {
     "slide_type": "slide"
    }
   },
   "outputs": [
    {
     "data": {
      "application/vnd.jupyter.widget-view+json": {
       "model_id": "1f7f201d1ec54ca89f21dc4897eb33da",
       "version_major": 2,
       "version_minor": 0
      },
      "text/plain": [
       "Canvas(toolbar=Toolbar(toolitems=[('Home', 'Reset original view', 'home', 'home'), ('Back', 'Back to previous …"
      ]
     },
     "metadata": {},
     "output_type": "display_data"
    }
   ],
   "source": [
    "zeroes = np.array([-1,\n",
    "                   -1j,\n",
    "                   1j])\n",
    "\n",
    "poles = np.array([0.7*exp(1j*pi/3),\n",
    "                  0.7*exp(-1j*pi/3),\n",
    "                 0])\n",
    "\n",
    "b, a = zp2tf(zeroes, poles)\n",
    "visualizeTF(b, a, fig_num=6)"
   ]
  },
  {
   "cell_type": "markdown",
   "metadata": {
    "slideshow": {
     "slide_type": "slide"
    }
   },
   "source": [
    "<img src=\"Figurer/14_Ztransform/PZ_lecture/Slide10.PNG\" style=\"width: 90%; margin-left: 50px\" />"
   ]
  },
  {
   "cell_type": "markdown",
   "metadata": {
    "slideshow": {
     "slide_type": "slide"
    }
   },
   "source": [
    "<img src=\"Figurer/14_Ztransform/PZ_lecture/Slide11.PNG\" style=\"width: 90%; margin-left: 50px\" />"
   ]
  },
  {
   "cell_type": "markdown",
   "metadata": {
    "slideshow": {
     "slide_type": "skip"
    }
   },
   "source": [
    "## Kodeeksempel: Frihåndsdesign av filter"
   ]
  },
  {
   "cell_type": "code",
   "execution_count": 8,
   "metadata": {
    "slideshow": {
     "slide_type": "skip"
    }
   },
   "outputs": [
    {
     "data": {
      "application/vnd.jupyter.widget-view+json": {
       "model_id": "091a08a2e4b3432385f80b14cf1d8c1b",
       "version_major": 2,
       "version_minor": 0
      },
      "text/plain": [
       "Canvas(toolbar=Toolbar(toolitems=[('Home', 'Reset original view', 'home', 'home'), ('Back', 'Back to previous …"
      ]
     },
     "metadata": {},
     "output_type": "display_data"
    }
   ],
   "source": [
    "zeroes = np.array([exp(1j*pi/4),\n",
    "                  exp(-1j*pi/4)])\n",
    "\n",
    "poles = np.array([0.6*exp(3j*pi/4),\n",
    "                 0.6*exp(-3j*pi/4)])\n",
    "\n",
    "b, a = zp2tf(zeroes, poles)\n",
    "plt.close(6); plt.figure(6)\n",
    "pzPlot(b, a)"
   ]
  },
  {
   "cell_type": "markdown",
   "metadata": {
    "slideshow": {
     "slide_type": "skip"
    }
   },
   "source": [
    "## Regneeksempel 4:\n",
    "\n",
    "* Et filter har transferfunksjonen \n",
    "$$H(z) = K \\cdot \\frac{1 - z^{-1}+ z^{-2}}{1+0.7\\cdot z^{-1}+0.49\\cdot z^{-2}}$$\n",
    "der skaleringsfaktoren $K$ ikke er definert.\n",
    "Identifiser filterformen, og finn en skaleringsfaktor $K$, som fører til at $\\left| H\\left(e^{j\\hat{\\omega}}\\right)\\right| \\approx 1$ i passbåndet."
   ]
  },
  {
   "cell_type": "code",
   "execution_count": 14,
   "metadata": {
    "slideshow": {
     "slide_type": "skip"
    }
   },
   "outputs": [
    {
     "name": "stdout",
     "output_type": "stream",
     "text": [
      "[0.7 0.7]\n",
      "[ 0.66666667 -0.66666667]\n"
     ]
    }
   ],
   "source": [
    "poles = np.roots([1, 0.7, 0.49])\n",
    "print(np.abs(poles))\n",
    "print(np.angle(poles)/pi)"
   ]
  },
  {
   "cell_type": "code",
   "execution_count": 17,
   "metadata": {
    "scrolled": true,
    "slideshow": {
     "slide_type": "skip"
    }
   },
   "outputs": [
    {
     "data": {
      "application/vnd.jupyter.widget-view+json": {
       "model_id": "a55db9ad1cdc4587a2d17307707a70f1",
       "version_major": 2,
       "version_minor": 0
      },
      "text/plain": [
       "Canvas(toolbar=Toolbar(toolitems=[('Home', 'Reset original view', 'home', 'home'), ('Back', 'Back to previous …"
      ]
     },
     "metadata": {},
     "output_type": "display_data"
    }
   ],
   "source": [
    "b = np.array([1, -1, 1, -1])*0.25\n",
    "a = np.array([1, 0.7, 0.49])\n",
    "plt.close(7); plt.figure(7)\n",
    "Magnitude(b, a)"
   ]
  },
  {
   "cell_type": "markdown",
   "metadata": {
    "slideshow": {
     "slide_type": "skip"
    }
   },
   "source": [
    "## Kodeeksempel 2: Impulsrespons andreordens filter\n",
    "\n",
    "* Finn filterkoeffisienter til et filter med to poler i $z = 0.9\\cdot e^{\\pm j\\cdot \\frac{\\pi}{3}}$, og ett nullpunkt i $z = 0.45$. Vis deretter *impulsresponsen* til filteret i en figur."
   ]
  },
  {
   "cell_type": "code",
   "execution_count": 11,
   "metadata": {
    "slideshow": {
     "slide_type": "skip"
    }
   },
   "outputs": [
    {
     "data": {
      "application/vnd.jupyter.widget-view+json": {
       "model_id": "7d7df2e1aaf24fc48cdabd891a99df81",
       "version_major": 2,
       "version_minor": 0
      },
      "text/plain": [
       "Canvas(toolbar=Toolbar(toolitems=[('Home', 'Reset original view', 'home', 'home'), ('Back', 'Back to previous …"
      ]
     },
     "metadata": {},
     "output_type": "display_data"
    },
    {
     "data": {
      "text/plain": [
       "<StemContainer object of 3 artists>"
      ]
     },
     "execution_count": 11,
     "metadata": {},
     "output_type": "execute_result"
    }
   ],
   "source": [
    "zeroes = np.array([0.45])\n",
    "poles = np.array([0.9*exp(1j*pi/3),\n",
    "                  0.9*exp(-1j*pi/3)])\n",
    "\n",
    "b = np.poly(zeroes) \n",
    "a = np.poly(poles)\n",
    "\n",
    "dn = np.zeros(24)\n",
    "dn[0]=1\n",
    "\n",
    "hn = sig.lfilter(b, a, dn)\n",
    "\n",
    "plt.close(7); plt.figure(7)\n",
    "plt.stem(hn)"
   ]
  },
  {
   "cell_type": "markdown",
   "metadata": {
    "slideshow": {
     "slide_type": "skip"
    }
   },
   "source": [
    "# Konvergensområde (ROC)\n",
    "\n",
    "* Det området hvor z-transformen konvergerer mot en bestemt verdi kalles *Konvergensområde (ROC)*\n",
    "* Konvergensområdet til en Transferfunksjon $H(z)$ er gitt som området med radius større enn ytterste pol.\n",
    "    - Eksempel:\n",
    "    \\begin{align}\n",
    "    y[n] &= x[n] + 0.9 \\cdot y[n-1]\\\\\n",
    "    h[n] &= 0.9^{n} \\\\\n",
    "    Z(h[n]) &= \\frac{z}{z-0.9}, \\ \\ |z| > 0.9\n",
    "    \\end{align}\n",
    "    "
   ]
  },
  {
   "cell_type": "markdown",
   "metadata": {
    "slideshow": {
     "slide_type": "skip"
    }
   },
   "source": [
    "#### <img src=\"Figurer/14_Ztransform/PZ_lecture/Slide12.PNG\" style=\"width: 90%; margin-left: 50px\" />"
   ]
  },
  {
   "cell_type": "markdown",
   "metadata": {
    "slideshow": {
     "slide_type": "slide"
    }
   },
   "source": [
    "<img src=\"Figurer/14_Ztransform/PZ_lecture/Slide13.PNG\" style=\"width: 90%; margin-left: 50px\" />"
   ]
  },
  {
   "cell_type": "markdown",
   "metadata": {
    "slideshow": {
     "slide_type": "skip"
    }
   },
   "source": [
    "<img src=\"Figurer/14_Ztransform/PZ_lecture/Slide14.PNG\" style=\"width: 90%; margin-left: 50px\" />"
   ]
  },
  {
   "cell_type": "markdown",
   "metadata": {
    "slideshow": {
     "slide_type": "skip"
    }
   },
   "source": [
    "<img src=\"Figurer/14_Ztransform/PZ_lecture/Slide15.PNG\" style=\"width: 90%; margin-left: 50px\" />"
   ]
  },
  {
   "cell_type": "markdown",
   "metadata": {
    "slideshow": {
     "slide_type": "skip"
    }
   },
   "source": [
    "<img src=\"Figurer/14_Ztransform/PZ_lecture/Slide16.PNG\" style=\"width: 90%; margin-left: 50px\" />"
   ]
  },
  {
   "cell_type": "markdown",
   "metadata": {
    "slideshow": {
     "slide_type": "slide"
    }
   },
   "source": [
    "## Kodeeksempel 3: Impulsrespons IIR-filtre\n",
    "* Lag plot av følgende:\n",
    "    1. Impulsrespons for et filter med to poler i $z=0.9\\cdot e^{\\pm j\\cdot \\frac{\\pi}{8}}$\n",
    "    2. Impulsrespons for et filter med to poler i $z=1.0\\cdot e^{\\pm j\\cdot \\frac{\\pi}{8}}$\n",
    "    3. Impulsrespons for et filter med to poler i $z=1.1\\cdot e^{\\pm j\\cdot \\frac{\\pi}{8}}$"
   ]
  },
  {
   "cell_type": "code",
   "execution_count": 12,
   "metadata": {
    "slideshow": {
     "slide_type": "fragment"
    }
   },
   "outputs": [
    {
     "data": {
      "application/vnd.jupyter.widget-view+json": {
       "model_id": "820b006dde844f88924c4fd4ca26f9ff",
       "version_major": 2,
       "version_minor": 0
      },
      "text/plain": [
       "Canvas(toolbar=Toolbar(toolitems=[('Home', 'Reset original view', 'home', 'home'), ('Back', 'Back to previous …"
      ]
     },
     "metadata": {},
     "output_type": "display_data"
    }
   ],
   "source": [
    "#poles = 0.9*exp(1j*np.array([pi/8, -pi/8])) # Poler innenfor enhetssirkelen\n",
    "#poles = 1*exp(1j*np.array([pi/8, -pi/8]))     # Poler på enhetssirkelen\n",
    "poles = 1.1*exp(1j*np.array([pi/8, -pi/8])) # Poler utenfor enhetssirkelen\n",
    "\n",
    "b, a = zp2tf(poles=poles)\n",
    "\n",
    "xn = np.zeros(128)\n",
    "xn[0] = 1\n",
    "hn = sig.lfilter(b, a, xn)\n",
    "plt.close(8); plt.figure(8, figsize=(8,3))\n",
    "hn_plot = plt.stem(hn, markerfmt='.', basefmt='black',use_line_collection=True)\n",
    "hn_plot.baseline.set_linewidth(0.5)\n",
    "hn_plot.baseline.set_xdata([0, len(xn)])\n",
    "plt.xlim([-0.1, len(xn)])\n",
    "plt.xlabel('Samplenummer $n$')\n",
    "plt.ylabel(r'$h[n]$')\n",
    "plt.tight_layout(pad=0.4, w_pad=0.5, h_pad=1.0)"
   ]
  },
  {
   "cell_type": "markdown",
   "metadata": {
    "slideshow": {
     "slide_type": "slide"
    }
   },
   "source": [
    "<img src=\"Figurer/14_Ztransform/PZ_lecture/Slide17.PNG\" style=\"width: 90%; margin-left: 50px\" />"
   ]
  },
  {
   "cell_type": "markdown",
   "metadata": {
    "slideshow": {
     "slide_type": "slide"
    }
   },
   "source": [
    "# Spørsmål?"
   ]
  }
 ],
 "metadata": {
  "celltoolbar": "Slideshow",
  "kernelspec": {
   "display_name": "Python 3",
   "language": "python",
   "name": "python3"
  },
  "language_info": {
   "codemirror_mode": {
    "name": "ipython",
    "version": 3
   },
   "file_extension": ".py",
   "mimetype": "text/x-python",
   "name": "python",
   "nbconvert_exporter": "python",
   "pygments_lexer": "ipython3",
   "version": "3.8.5"
  }
 },
 "nbformat": 4,
 "nbformat_minor": 4
}
