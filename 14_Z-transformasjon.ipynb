{
 "cells": [
  {
   "cell_type": "code",
   "execution_count": 2,
   "metadata": {
    "slideshow": {
     "slide_type": "skip"
    }
   },
   "outputs": [],
   "source": [
    "# Generelle moduler og funksjonsbeskrivelser brukt i forelesningen\n",
    "from numpy import sin, cos, pi, exp\n",
    "import numpy as np\n",
    "import scipy.signal as sig\n",
    "import matplotlib.pyplot as plt\n",
    "from Kildekode._12_IIRFilt import *\n",
    "\n",
    "%matplotlib ipympl"
   ]
  },
  {
   "cell_type": "markdown",
   "metadata": {
    "slideshow": {
     "slide_type": "slide"
    }
   },
   "source": [
    "<img src=\"NTNU_Logo.png\" align=\"left\" style=\"width: 30%\">\n",
    "<br clear=\"all\" />\n",
    "<br></br>\n",
    "\n",
    "# Z-transformasjon\n",
    "\n",
    "* **Emne IELEA2302 - Signalbehandling**\n",
    "* **Uke 14, 2021**\n",
    "* **Relevant Pensum:**\n",
    "    * Kapittel 10.1-10.2 i læreboka DSP First\n",
    "* **Underviser: Kai Erik Hoff**"
   ]
  },
  {
   "cell_type": "markdown",
   "metadata": {
    "slideshow": {
     "slide_type": "slide"
    }
   },
   "source": [
    "## Tema:\n",
    "* Repetisjon IIR-filtre\n",
    "* Fra differanseligning til frekvensrespons\n",
    "* z-transformasjon\n",
    "    * Fourier og laplace (for kontekst)\n",
    "    * Z-transformasjon\n",
    "    * Z-planet\n",
    "* Transferfunksjon $H(z)$\n",
    "\n",
    "    "
   ]
  },
  {
   "cell_type": "markdown",
   "metadata": {
    "slideshow": {
     "slide_type": "slide"
    }
   },
   "source": [
    "## Repetisjon IIR filtre\n",
    "\n",
    "* **IIR** - **I**nfinite **I**mpulse **R**esponse\n",
    "* Fellesbetegnelse for filter som kalkulerer utgangsveriden $y[n]$ basert på en lineær kombinasjon av verdiene til inngangssignalet ved foregående sampletidspunkt $x[n-k], \\ \\ k\\in \\{0, 1, 2, \\ldots\\}$ ***og*** tidligere kalkulerte verdier til utgangssignalet $y[n-k], \\ \\ k \\in \\{1, 2, \\ldots\\}$.\n",
    "\n",
    "\n",
    "* **Differanseligning:**\n",
    "$$\\sum_{k=0}^{N} a_k \\cdot y[n-k] = \\sum_{k=0}^{M} b_k \\cdot x[n-k]$$\n",
    "* **Filteralgoritme:**\n",
    "$$y[n] = \\frac{1}{a_0}\\cdot \\left(\\sum_{k=0}^{M} b_k \\cdot x[n-k] - \\sum_{k=1}^{N}a_k\\cdot  y[n-k] \\right)$$"
   ]
  },
  {
   "cell_type": "markdown",
   "metadata": {
    "slideshow": {
     "slide_type": "slide"
    }
   },
   "source": [
    "## Repetisjon Rekursiv filterstruktur\n",
    "\n",
    "* IIR filtre omtales ofte som *rekursive* filtre ettersom utgangssignalet tilbakekobles som input.\n",
    "<img src=\"Figurer/12_IIR%20Filtre/Fig0_Recursion.png\" style=\"width: 35%; margin-left: 400px\" />\n",
    "\n",
    "* Impulsresponsen $h[n]$ for et slikt filter vil ha uendelig varighet.\n",
    "* Impulsrespons og filterkoeffisienter er ikke lengre synonyme.\n",
    "$$b_k \\neq h[n]\\big{|}_{n=k}$$"
   ]
  },
  {
   "cell_type": "markdown",
   "metadata": {
    "slideshow": {
     "slide_type": "slide"
    }
   },
   "source": [
    "## Repetisjon IIR filtre\n",
    "\n",
    "* Ved å lage et *rekursivt* filter, kan selv enkle førsteordens filtre produsere en langvarig impulsrespons.\n",
    "* Et IIR-filter med relativt lav filterorden kan, dersom vi velger filterkoeffisienter med omhu, oppfylle de samme kravene for amplitduerespons som et FIR filter med ***mye*** høyere filterorden.\n",
    "* Ulempen er at IIR filtre ***ikke*** har lineær faserespons i passbåndet. \n",
    "    * Konsekvensen av dette er *tidsforskyvningen* for hver av frekvenskomponentene til det filtrerte signalet gitt i antall sampler ikke vil være konstant.\n",
    "    * Dette har potensiale til å forårsake uønsket distorsjon av f.eks. et lydsignal."
   ]
  },
  {
   "cell_type": "markdown",
   "metadata": {
    "slideshow": {
     "slide_type": "slide"
    }
   },
   "source": [
    "## Impulsrespons førsteordens IIR-filter\n",
    "\n",
    "* Eksempel:\n",
    "$$y[n] = x[n] + 0.9\\cdot y[n-1]$$\n",
    "* Ettersom et IIR-filter tar i bruk tidligere utgangsverdier får vi en *geometrisk rekke*:\n",
    "|$$n$$|$$x[n]=\\delta[n]$$|$$y[n]=h[n]$$|\n",
    "|:-:|:-:|:-:|\n",
    "|0|1|$$y[0] = 1 + 0.9\\cdot 0 = 1$$|\n",
    "|1|0|$$y[1] = 0 + 0.9\\cdot 1 = 0.9$$|\n",
    "|2|0|$$y[2] = 0 + 0.9\\cdot 0.9 = 0.81$$|\n",
    "|3|0|$$y[3] = 0 + 0.9\\cdot 0.81 = 0.9^3$$|\n",
    "|4|0|$$y[3] = 0 + 0.9\\cdot 0.9^3 = 0.9^4$$|\n",
    "|$$\\ldots$$|$$\\ldots$$|$$\\ldots$$|\n",
    "\n",
    "$$h[n] = u[n] \\cdot 0.9^n$$"
   ]
  },
  {
   "cell_type": "markdown",
   "metadata": {
    "slideshow": {
     "slide_type": "slide"
    }
   },
   "source": [
    "## Repetisjon Regneeksempel 3: \n",
    "* Gitt høypassfilteret\n",
    "$$y[n] = x[n]-x[n-1]-0.8\\cdot y[n-1]$$\n",
    "Finn et uttrykk for frekvensresponsen, og korriger deretter filterkoeffisientene slik at $\\text{max}\\left(\\left|H\\left(e^{j\\hat{\\omega}}\\right)\\right|\\right) = 1$."
   ]
  },
  {
   "cell_type": "code",
   "execution_count": null,
   "metadata": {
    "slideshow": {
     "slide_type": "slide"
    }
   },
   "outputs": [],
   "source": [
    "# Frekvensresponsen til filteret i eksempel 3\n",
    "FreqRespDemo([0.1, -0.1], [1, 0.8], fig_num=1);"
   ]
  },
  {
   "cell_type": "markdown",
   "metadata": {
    "slideshow": {
     "slide_type": "slide"
    }
   },
   "source": [
    "# Tidsforskyvning i frekvensplanet\n",
    "\n",
    "* Vi vet at:\n",
    "<br>\n",
    "\n",
    "\n",
    "\\begin{align}\n",
    "DTFT(\\alpha\\cdot x[n-D]) &= \\alpha \\cdot  X\\left(e^{j\\hat{\\omega}}\\right) \\cdot e^{-j\\hat{\\omega}\\cdot D}\\\\\n",
    "&\\text{ettersom}\\\\\n",
    "x[n-D] &= x[n]*\\delta[n-D]\\\\\n",
    "&\\text{og}\\\\\n",
    "DTFT(\\delta[n-D]) &=e^{-j\\hat{\\omega}\\cdot D}\n",
    "\\end{align}\n",
    "\n",
    "* Dermed kan vi fouriertransformere begge sidene av differanseligningen til et filter."
   ]
  },
  {
   "cell_type": "markdown",
   "metadata": {
    "slideshow": {
     "slide_type": "slide"
    }
   },
   "source": [
    "# Alternativ metode: *DTFT av differanseligning*\n",
    "\n",
    "\n",
    "\n",
    "\\begin{align}\n",
    "DTFT\\left(\\sum_{k=0}^{N} a_k \\cdot y[n-k]\\right) &= DTFT\\left(\\sum_{k=0}^{M} b_k \\cdot x[n-k] \\right)\\\\\n",
    "\\sum_{k=0}^{N} a_k \\cdot Y\\left(e^{j\\hat{\\omega}}\\right)\\cdot e^{-j\\hat{\\omega}\\cdot k} &=\\sum_{k=0}^{M} b_k \\cdot X\\left(e^{j\\hat{\\omega}}\\right)\\cdot e^{-j\\hat{\\omega}\\cdot k}\\\\\n",
    "Y\\left(e^{j\\hat{\\omega}}\\right)\\cdot \\left(\\sum_{k=0}^{N} a_k \\cdot e^{-j\\hat{\\omega}\\cdot k}\\right) &= X\\left(e^{j\\hat{\\omega}}\\right)\\cdot \\left(\\sum_{k=0}^{M} b_k \\cdot e^{-j\\hat{\\omega}\\cdot k}\\right)\\\\\n",
    "H\\left(e^{j\\hat{\\omega}}\\right) = \\frac{Y\\left(e^{j\\hat{\\omega}}\\right)}{X\\left(e^{j\\hat{\\omega}}\\right)} &= \\frac{\\sum_{k=0}^{M} b_k \\cdot e^{-j\\hat{\\omega}\\cdot k}}{\\sum_{k=0}^{N} a_k \\cdot e^{-j\\hat{\\omega}\\cdot k}}\n",
    "\\end{align}"
   ]
  },
  {
   "cell_type": "markdown",
   "metadata": {
    "slideshow": {
     "slide_type": "slide"
    }
   },
   "source": [
    "## Regneeksempel 1: \n",
    "\n",
    "* Gitt høypassfilteret\n",
    "$$y[n] = x[n]-x[n-1]-0.8\\cdot y[n-1]$$\n",
    "Finn et uttrykk for frekvensresponsen  ved å fouriertransformere differanseligningen."
   ]
  },
  {
   "cell_type": "markdown",
   "metadata": {
    "slideshow": {
     "slide_type": "slide"
    }
   },
   "source": [
    "# Z-transformasjon\n",
    "\n",
    "* Kartlegger filteregenskaper i \"z-planet\", som har 2 dimensjoner\n",
    "* Viktig for analyse og design av digitale filtre\n",
    "* Kan sammenlignes med Laplacetransformasjon for tidskontinuerlige LTI-system\n"
   ]
  },
  {
   "cell_type": "markdown",
   "metadata": {
    "slideshow": {
     "slide_type": "slide"
    }
   },
   "source": [
    "## Oppsummering Fouriertransformasjon *(tidskontinuerlig)*\n",
    "\n",
    "#### Formel\n",
    "\n",
    "$$F(j\\omega) = \\int_0^{\\infty}f(t)\\cdot e^{-j\\omega} dt$$\n",
    "\n",
    "#### For LTI-system\n",
    "\n",
    "* Dersom $f(t)$ er impulsresponsen til et LTI-system, forteller dette hvordan systemet vil påvirke et inngangssignal $x(t) = e^{j\\omega \\cdot t}$ med vinkelfrekvens $\\omega$.\n",
    "    * Gjelder også sinusformede signal da  $\\cos(\\omega\\cdot t) = \\frac{1}{2} e^{j\\omega\\cdot t} + \\frac{1}{2} e^{-j \\omega \\cdot t}$."
   ]
  },
  {
   "cell_type": "markdown",
   "metadata": {
    "slideshow": {
     "slide_type": "slide"
    }
   },
   "source": [
    "# Laplacetransformasjon *(tidskontinuerlig)*\n",
    "\n",
    "#### Formel:\n",
    "\n",
    "\\begin{align}\n",
    "F(s) &= \\int_0^{\\infty}f(t)\\cdot e^{-s\\cdot t} dt\\\\\n",
    "&\\text{der}\\\\\n",
    "s &= \\sigma + j\\omega\n",
    "\\end{align}\n",
    "\n",
    "#### For LTI-system\n",
    "* Dersom $f(t)$ er impulsresponsen til et LTI-system, forteller dette hvordan systemet vil påvirke et inngangssignal $x(t) = e^{-s \\cdot t} = e^{-\\sigma \\cdot t} \\cdot e^{-j \\omega\\cdot t}$.\n",
    "* Refleksjoner:\n",
    "    * Dersom $\\sigma = 0$, reduseres den 2-dimensjonale laplacetrasformasjonen til fouriertransformasjon.\n",
    "    * Dersom $\\sigma > 0$, vil amplitudent til $x(t)$ synke over tid.\n",
    "    * Dersom $\\sigma < 0$, vil amplituden til $x(t)$ øke eksponentielt, og vi får \"unbounded input\".\n",
    "    \n",
    "<br>"
   ]
  },
  {
   "cell_type": "code",
   "execution_count": 21,
   "metadata": {
    "slideshow": {
     "slide_type": "slide"
    }
   },
   "outputs": [
    {
     "data": {
      "application/vnd.jupyter.widget-view+json": {
       "model_id": "7a9ef46dcf9243d7a251049b5fe859a0",
       "version_major": 2,
       "version_minor": 0
      },
      "text/plain": [
       "Canvas(toolbar=Toolbar(toolitems=[('Home', 'Reset original view', 'home', 'home'), ('Back', 'Back to previous …"
      ]
     },
     "metadata": {},
     "output_type": "display_data"
    }
   ],
   "source": [
    "# Angi punkt på s-planet\n",
    "s = -1 + 2j*pi*8\n",
    "# Regn ut e^(-st)\n",
    "t = np.linspace(0, 1, 501)\n",
    "x_t = exp(-s*t)\n",
    "\n",
    "plt.close(2); plt.figure(2)\n",
    "plt.subplot(2,1,1)\n",
    "plt.plot(t, np.real(x_t))\n",
    "plt.ylabel(r'Im($x(t)$)')\n",
    "plt.grid(True)\n",
    "plt.subplot(2,1,2)\n",
    "plt.plot(t, np.imag(x_t))\n",
    "plt.ylabel(r'Re($x(t)$)')\n",
    "plt.xlabel(r't (sekund)')\n",
    "plt.grid(True)"
   ]
  },
  {
   "cell_type": "markdown",
   "metadata": {
    "slideshow": {
     "slide_type": "slide"
    }
   },
   "source": [
    "## Hvorfor ikke bruke laplace for digitale filtre?"
   ]
  },
  {
   "cell_type": "markdown",
   "metadata": {
    "slideshow": {
     "slide_type": "fragment"
    }
   },
   "source": [
    "* Frekvenser $|\\hat{\\omega}|>\\pi$ er vil ikke være gyldige.\n",
    "* Aliasing må tas i betraktning.\n",
    "    - Løses med å transformere til \"polarkoordinater\".\n",
    "    - Digital frekvens $\\hat{\\omega}$ gitt ved vinkel\n",
    "    - Demping gitt ved avstand til origo."
   ]
  },
  {
   "cell_type": "markdown",
   "metadata": {
    "slideshow": {
     "slide_type": "slide"
    }
   },
   "source": [
    "## Oppsummering DTFT\n",
    "#### Formel\n",
    "\n",
    "$$F\\left(e^{j\\hat{\\omega}}\\right) = \\sum_{n=0}^{\\infty}f[n]\\cdot e^{-j\\hat{\\omega}\\cdot n}$$\n",
    "\n",
    "#### For LTI-system\n",
    "\n",
    "* Dersom $f[n]$ er impulsresponsen til et LTI-system, forteller dette hvordan systemet vil påvirke et inngangssignal $x[n] = e^{-j\\omega \\cdot n}$ med vinkelfrekvens $\\hat{\\omega}$.\n",
    "    * Gjelder også sinusformede signal da  $\\cos(\\hat{\\omega}\\cdot n) = \\frac{1}{2} e^{j\\hat{\\omega}\\cdot n} + \\frac{1}{2} e^{-j \\hat{\\omega} \\cdot n}$."
   ]
  },
  {
   "cell_type": "markdown",
   "metadata": {
    "slideshow": {
     "slide_type": "slide"
    }
   },
   "source": [
    "# Z-transformasjon\n",
    "#### Notasjon:\n",
    "$$\\textbf{Z}(x[n]) = X(z)$$\n",
    "\n",
    "#### Formel:\n",
    "\\begin{align}\n",
    "H(z) &= \\sum_{n=0}^{\\infty} h[n]\\cdot z^{-n}\\\\\n",
    "& \\text{der}\\\\\n",
    "z &= r\\cdot e^{j\\hat{\\omega}}\n",
    "\\end{align}\n",
    "\n",
    "#### For LTI-system\n",
    "* Dersom $h[n]$ er impulsresponsen til et LTI-system, forteller dette hvordan systemet vil påvirke et inngangssignal $x[n] = z^{-n} = r^{-n} \\cdot e^{-j \\hat{\\omega}\\cdot n}$.\n",
    "* Refleksjoner:\n",
    "    * Dersom $|r| = 1$, reduseres den 2-dimensjonale Z-transformen til DTFT. \n",
    "        * Dette er grunnen til at notasjonen for DTFT er $H\\left(e^{j\\hat{\\omega}}\\right)$.\n",
    "    * Dersom $|r| < 1$, vil amplitudent til $x[n]$ synke over tid.\n",
    "    * Dersom $|r| > 1$, vil amplituden til $x[n]$ øke eksponentielt, og vi får \"unbounded input\".\n",
    "    \n",
    "<br>"
   ]
  },
  {
   "cell_type": "markdown",
   "metadata": {
    "slideshow": {
     "slide_type": "slide"
    }
   },
   "source": [
    "# S-plan og Z-plan\n",
    "<br>\n",
    "<img src=\"Figurer/14_Ztransform/Fig2_SandZ.png\" style=\"width: 80%; margin-left: 100px\" />"
   ]
  },
  {
   "cell_type": "code",
   "execution_count": 24,
   "metadata": {
    "slideshow": {
     "slide_type": "slide"
    }
   },
   "outputs": [
    {
     "data": {
      "application/vnd.jupyter.widget-view+json": {
       "model_id": "4714f58b826b4fc9b4161a192c80cb6b",
       "version_major": 2,
       "version_minor": 0
      },
      "text/plain": [
       "Canvas(toolbar=Toolbar(toolitems=[('Home', 'Reset original view', 'home', 'home'), ('Back', 'Back to previous …"
      ]
     },
     "metadata": {},
     "output_type": "display_data"
    }
   ],
   "source": [
    "# Angi punkt på z-planet i polarkoordinater\n",
    "z = 1.2*exp(2j*pi/8)\n",
    "\n",
    "# Regn ut z^(-n)\n",
    "n = np.arange(0, 32)\n",
    "x_n = z**-n\n",
    "\n",
    "plt.close(2); plt.figure(2)\n",
    "plt.subplot(2,1,1)\n",
    "plt.stem(n, np.real(x_n), markerfmt='.', basefmt='grey', use_line_collection=True)\n",
    "plt.ylabel(r'Im($x[n]$)')\n",
    "plt.grid(True)\n",
    "plt.subplot(2,1,2)\n",
    "plt.stem(n, np.imag(x_n), markerfmt='.', basefmt='grey', use_line_collection=True)\n",
    "plt.ylabel(r'Re($x[n]$)')\n",
    "plt.xlabel(r'n (samplenummer)')\n",
    "plt.grid(True)"
   ]
  },
  {
   "cell_type": "markdown",
   "metadata": {
    "slideshow": {
     "slide_type": "slide"
    }
   },
   "source": [
    "# LTI-filter i Z-domene\n",
    "\n",
    "<br>\n",
    "\n",
    "<img src=\"Figurer/14_Ztransform/Fig3_TF.png\" style=\"width: 80%; margin-left: 100px\" />"
   ]
  },
  {
   "cell_type": "markdown",
   "metadata": {
    "slideshow": {
     "slide_type": "slide"
    }
   },
   "source": [
    "# Transferfunksjon / overføringsfunksjon\n",
    "\n",
    "* Z-transformen av impulsresponen $h[n]$ til et LTI-system kalles systemets *transferfunksjon*\n",
    "* For ethvert kausalt LTI-system med filterkoeffisienter **a** og **b**, vil transferfunksjonen være:\n",
    "\\begin{align}\n",
    "H(z) = \\frac{Y(z)}{X(z)} &= \\frac{\\sum_{k=0}^{M} b_k \\cdot z^{-k}}{\\sum_{k=0}^{N} a_k \\cdot z^{-k}}\\\\\n",
    "&\\text{eller}\\\\\n",
    "&= \\frac{b_0 + b_1\\cdot z^{-1} + b_2 \\cdot z^{-2} + \\ldots + b_M \\cdot z^{-M}}{a_0 + a_1\\cdot z^{-1} + a_2 \\cdot z^{-2} + \\ldots + a_N \\cdot z^{-N}}\n",
    "\\end{align}\n",
    "* Teller og nevner er polynomer\n",
    "* *samme utledning som for DTFT av differanseligning*"
   ]
  },
  {
   "cell_type": "markdown",
   "metadata": {
    "slideshow": {
     "slide_type": "slide"
    }
   },
   "source": [
    "# Tidsforskyvning i Z-planet\n",
    "\n",
    "* Hver sample tidsforskyvning tilsvarer multiplikasjon med $z^{-1}$ i z-planet. \n",
    "$$\\textbf{Z}(x[n-D]) = z^{-D}\\cdot X(z)$$\n",
    "\n",
    "* I blokkskjemarepresentasjon av filter brukes derfor $z^{-1}$ for å symbolisere tidsforskyvning/delay.\n",
    "\n",
    "<br>\n",
    "\n",
    "<img src=\"Figurer/14_Ztransform/Fig4_Delay.png\" style=\"width: 70%; margin-left: 100px\" />"
   ]
  },
  {
   "cell_type": "markdown",
   "metadata": {
    "slideshow": {
     "slide_type": "slide"
    }
   },
   "source": [
    "## Regneeksempel 2\n",
    "\n",
    "* Finn transferfunksjonen $H(z)$ til filteret i vist i figuren:\n",
    "<br>\n",
    "\n",
    "<img src=\"Figurer/14_Ztransform/Fig5_ExFilt.png\" style=\"width: 70%; margin-left: 100px\" />"
   ]
  },
  {
   "cell_type": "markdown",
   "metadata": {
    "slideshow": {
     "slide_type": "slide"
    }
   },
   "source": [
    "# Spørsmål?"
   ]
  }
 ],
 "metadata": {
  "celltoolbar": "Slideshow",
  "kernelspec": {
   "display_name": "Python 3",
   "language": "python",
   "name": "python3"
  },
  "language_info": {
   "codemirror_mode": {
    "name": "ipython",
    "version": 3
   },
   "file_extension": ".py",
   "mimetype": "text/x-python",
   "name": "python",
   "nbconvert_exporter": "python",
   "pygments_lexer": "ipython3",
   "version": "3.8.5"
  }
 },
 "nbformat": 4,
 "nbformat_minor": 4
}
